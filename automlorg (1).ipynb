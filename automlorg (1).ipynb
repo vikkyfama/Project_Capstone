{
  "cells": [
    {
      "cell_type": "markdown",
      "source": [
        "# Automated ML\n",
        "\n",
        "TODO: Import Dependencies. In the cell below, import all the dependencies that you will need to complete the project."
      ],
      "metadata": {}
    },
    {
      "cell_type": "code",
      "source": [
        "import azureml.core \n",
        "print(azureml.core.VERSION)"
      ],
      "outputs": [
        {
          "output_type": "stream",
          "name": "stdout",
          "text": [
            "1.20.0\n"
          ]
        }
      ],
      "execution_count": 1,
      "metadata": {
        "gather": {
          "logged": 1611416425958
        },
        "jupyter": {
          "outputs_hidden": false,
          "source_hidden": false
        },
        "nteract": {
          "transient": {
            "deleting": false
          }
        }
      }
    },
    {
      "cell_type": "code",
      "source": [
        "pip install --upgrade --upgrade-strategy eager azureml-sdk[automl,widgets,notebooks]"
      ],
      "outputs": [
        {
          "output_type": "stream",
          "name": "stdout",
          "text": [
            "Requirement already up-to-date: azureml-sdk[automl,notebooks,widgets] in /anaconda/envs/azureml_py36/lib/python3.6/site-packages (1.20.0)\n",
            "\u001b[33m  WARNING: azureml-sdk 1.20.0 does not provide the extra 'widgets'\u001b[0m\n",
            "Requirement already up-to-date: azureml-core~=1.20.0 in /anaconda/envs/azureml_py36/lib/python3.6/site-packages (from azureml-sdk[automl,notebooks,widgets]) (1.20.0)\n",
            "Requirement already up-to-date: azureml-pipeline~=1.20.0 in /anaconda/envs/azureml_py36/lib/python3.6/site-packages (from azureml-sdk[automl,notebooks,widgets]) (1.20.0)\n",
            "Requirement already up-to-date: azureml-train-automl-client~=1.20.0 in /anaconda/envs/azureml_py36/lib/python3.6/site-packages (from azureml-sdk[automl,notebooks,widgets]) (1.20.0)\n",
            "Requirement already up-to-date: azureml-dataset-runtime[fuse]~=1.20.0 in /anaconda/envs/azureml_py36/lib/python3.6/site-packages (from azureml-sdk[automl,notebooks,widgets]) (1.20.0)\n",
            "Requirement already up-to-date: azureml-train~=1.20.0 in /anaconda/envs/azureml_py36/lib/python3.6/site-packages (from azureml-sdk[automl,notebooks,widgets]) (1.20.0)\n",
            "Requirement already up-to-date: azureml-train-automl~=1.20.0; extra == \"automl\" in /anaconda/envs/azureml_py36/lib/python3.6/site-packages (from azureml-sdk[automl,notebooks,widgets]) (1.20.0)\n",
            "Requirement already up-to-date: azureml-widgets~=1.20.0; extra == \"notebooks\" in /anaconda/envs/azureml_py36/lib/python3.6/site-packages (from azureml-sdk[automl,notebooks,widgets]) (1.20.0)\n",
            "Requirement already up-to-date: azureml-contrib-notebook~=1.20.0; extra == \"notebooks\" in /anaconda/envs/azureml_py36/lib/python3.6/site-packages (from azureml-sdk[automl,notebooks,widgets]) (1.20.0)\n",
            "Requirement already up-to-date: cryptography!=1.9,!=2.0.*,!=2.1.*,!=2.2.* in /anaconda/envs/azureml_py36/lib/python3.6/site-packages (from azureml-core~=1.20.0->azureml-sdk[automl,notebooks,widgets]) (3.3.1)\n",
            "Requirement already up-to-date: urllib3>=1.23 in /anaconda/envs/azureml_py36/lib/python3.6/site-packages (from azureml-core~=1.20.0->azureml-sdk[automl,notebooks,widgets]) (1.26.2)\n",
            "Requirement already up-to-date: azure-mgmt-storage<16.0.0,>=1.5.0 in /anaconda/envs/azureml_py36/lib/python3.6/site-packages (from azureml-core~=1.20.0->azureml-sdk[automl,notebooks,widgets]) (11.2.0)\n",
            "Requirement already up-to-date: SecretStorage in /anaconda/envs/azureml_py36/lib/python3.6/site-packages (from azureml-core~=1.20.0->azureml-sdk[automl,notebooks,widgets]) (3.3.0)\n",
            "Requirement already up-to-date: azure-mgmt-keyvault<7.0.0,>=0.40.0 in /anaconda/envs/azureml_py36/lib/python3.6/site-packages (from azureml-core~=1.20.0->azureml-sdk[automl,notebooks,widgets]) (2.2.0)\n",
            "Requirement already up-to-date: msrest>=0.5.1 in /anaconda/envs/azureml_py36/lib/python3.6/site-packages (from azureml-core~=1.20.0->azureml-sdk[automl,notebooks,widgets]) (0.6.19)\n",
            "Requirement already up-to-date: azure-mgmt-authorization<1.0.0,>=0.40.0 in /anaconda/envs/azureml_py36/lib/python3.6/site-packages (from azureml-core~=1.20.0->azureml-sdk[automl,notebooks,widgets]) (0.61.0)\n",
            "Requirement already up-to-date: ndg-httpsclient in /anaconda/envs/azureml_py36/lib/python3.6/site-packages (from azureml-core~=1.20.0->azureml-sdk[automl,notebooks,widgets]) (0.5.1)\n",
            "Requirement already up-to-date: docker in /anaconda/envs/azureml_py36/lib/python3.6/site-packages (from azureml-core~=1.20.0->azureml-sdk[automl,notebooks,widgets]) (4.4.1)\n",
            "Requirement already up-to-date: ruamel.yaml>=0.15.35 in /anaconda/envs/azureml_py36/lib/python3.6/site-packages (from azureml-core~=1.20.0->azureml-sdk[automl,notebooks,widgets]) (0.16.12)\n",
            "Requirement already up-to-date: adal>=1.2.0 in /anaconda/envs/azureml_py36/lib/python3.6/site-packages (from azureml-core~=1.20.0->azureml-sdk[automl,notebooks,widgets]) (1.2.6)\n",
            "Requirement already up-to-date: contextlib2 in /anaconda/envs/azureml_py36/lib/python3.6/site-packages (from azureml-core~=1.20.0->azureml-sdk[automl,notebooks,widgets]) (0.6.0.post1)\n",
            "Requirement already up-to-date: jmespath in /anaconda/envs/azureml_py36/lib/python3.6/site-packages (from azureml-core~=1.20.0->azureml-sdk[automl,notebooks,widgets]) (0.10.0)\n",
            "Requirement already up-to-date: azure-graphrbac<1.0.0,>=0.40.0 in /anaconda/envs/azureml_py36/lib/python3.6/site-packages (from azureml-core~=1.20.0->azureml-sdk[automl,notebooks,widgets]) (0.61.1)\n",
            "Requirement already up-to-date: pytz in /anaconda/envs/azureml_py36/lib/python3.6/site-packages (from azureml-core~=1.20.0->azureml-sdk[automl,notebooks,widgets]) (2020.5)\n",
            "Requirement already up-to-date: python-dateutil>=2.7.3 in /anaconda/envs/azureml_py36/lib/python3.6/site-packages (from azureml-core~=1.20.0->azureml-sdk[automl,notebooks,widgets]) (2.8.1)\n",
            "Requirement already up-to-date: azure-mgmt-containerregistry>=2.0.0 in /anaconda/envs/azureml_py36/lib/python3.6/site-packages (from azureml-core~=1.20.0->azureml-sdk[automl,notebooks,widgets]) (2.8.0)\n",
            "Requirement already up-to-date: msrestazure>=0.4.33 in /anaconda/envs/azureml_py36/lib/python3.6/site-packages (from azureml-core~=1.20.0->azureml-sdk[automl,notebooks,widgets]) (0.6.4)\n",
            "Requirement already up-to-date: PyJWT<2.0.0 in /anaconda/envs/azureml_py36/lib/python3.6/site-packages (from azureml-core~=1.20.0->azureml-sdk[automl,notebooks,widgets]) (1.7.1)\n",
            "Requirement already up-to-date: pathspec in /anaconda/envs/azureml_py36/lib/python3.6/site-packages (from azureml-core~=1.20.0->azureml-sdk[automl,notebooks,widgets]) (0.8.1)\n",
            "Requirement already up-to-date: pyopenssl<20.0.0 in /anaconda/envs/azureml_py36/lib/python3.6/site-packages (from azureml-core~=1.20.0->azureml-sdk[automl,notebooks,widgets]) (19.1.0)\n",
            "Requirement already up-to-date: jsonpickle in /anaconda/envs/azureml_py36/lib/python3.6/site-packages (from azureml-core~=1.20.0->azureml-sdk[automl,notebooks,widgets]) (1.5.0)\n",
            "Requirement already up-to-date: azure-mgmt-resource<15.0.0,>=1.2.1 in /anaconda/envs/azureml_py36/lib/python3.6/site-packages (from azureml-core~=1.20.0->azureml-sdk[automl,notebooks,widgets]) (12.0.0)\n",
            "Requirement already up-to-date: backports.tempfile in /anaconda/envs/azureml_py36/lib/python3.6/site-packages (from azureml-core~=1.20.0->azureml-sdk[automl,notebooks,widgets]) (1.0)\n",
            "Requirement already up-to-date: requests>=2.19.1 in /anaconda/envs/azureml_py36/lib/python3.6/site-packages (from azureml-core~=1.20.0->azureml-sdk[automl,notebooks,widgets]) (2.25.1)\n",
            "Requirement already up-to-date: azure-common>=1.1.12 in /anaconda/envs/azureml_py36/lib/python3.6/site-packages (from azureml-core~=1.20.0->azureml-sdk[automl,notebooks,widgets]) (1.1.26)\n",
            "Requirement already up-to-date: azureml-pipeline-steps~=1.20.0 in /anaconda/envs/azureml_py36/lib/python3.6/site-packages (from azureml-pipeline~=1.20.0->azureml-sdk[automl,notebooks,widgets]) (1.20.0)\n",
            "Requirement already up-to-date: azureml-pipeline-core~=1.20.0 in /anaconda/envs/azureml_py36/lib/python3.6/site-packages (from azureml-pipeline~=1.20.0->azureml-sdk[automl,notebooks,widgets]) (1.20.0)\n",
            "Requirement already up-to-date: azureml-telemetry~=1.20.0 in /anaconda/envs/azureml_py36/lib/python3.6/site-packages (from azureml-train-automl-client~=1.20.0->azureml-sdk[automl,notebooks,widgets]) (1.20.0)\n",
            "Requirement already up-to-date: azureml-automl-core~=1.20.0 in /anaconda/envs/azureml_py36/lib/python3.6/site-packages (from azureml-train-automl-client~=1.20.0->azureml-sdk[automl,notebooks,widgets]) (1.20.0)\n",
            "Requirement already up-to-date: pyarrow<2.0.0,>=0.17.0 in /anaconda/envs/azureml_py36/lib/python3.6/site-packages (from azureml-dataset-runtime[fuse]~=1.20.0->azureml-sdk[automl,notebooks,widgets]) (1.0.1)\n",
            "Requirement already up-to-date: numpy!=1.19.3; sys_platform == \"linux\" in /anaconda/envs/azureml_py36/lib/python3.6/site-packages (from azureml-dataset-runtime[fuse]~=1.20.0->azureml-sdk[automl,notebooks,widgets]) (1.19.5)\n",
            "Requirement already up-to-date: azureml-dataprep<2.8.0a,>=2.7.0a in /anaconda/envs/azureml_py36/lib/python3.6/site-packages (from azureml-dataset-runtime[fuse]~=1.20.0->azureml-sdk[automl,notebooks,widgets]) (2.7.3)\n",
            "Requirement already up-to-date: fusepy<4.0.0,>=3.0.1; extra == \"fuse\" in /anaconda/envs/azureml_py36/lib/python3.6/site-packages (from azureml-dataset-runtime[fuse]~=1.20.0->azureml-sdk[automl,notebooks,widgets]) (3.0.1)\n"
          ]
        },
        {
          "output_type": "stream",
          "name": "stdout",
          "text": [
            "Requirement already up-to-date: azureml-train-core~=1.20.0 in /anaconda/envs/azureml_py36/lib/python3.6/site-packages (from azureml-train~=1.20.0->azureml-sdk[automl,notebooks,widgets]) (1.20.0)\n",
            "Requirement already up-to-date: azureml-automl-runtime~=1.20.0 in /anaconda/envs/azureml_py36/lib/python3.6/site-packages (from azureml-train-automl~=1.20.0; extra == \"automl\"->azureml-sdk[automl,notebooks,widgets]) (1.20.0)\n",
            "Requirement already up-to-date: azureml-train-automl-runtime~=1.20.0 in /anaconda/envs/azureml_py36/lib/python3.6/site-packages (from azureml-train-automl~=1.20.0; extra == \"automl\"->azureml-sdk[automl,notebooks,widgets]) (1.20.0.post1)\n",
            "Requirement already up-to-date: ipywidgets>=7.0.0 in /anaconda/envs/azureml_py36/lib/python3.6/site-packages (from azureml-widgets~=1.20.0; extra == \"notebooks\"->azureml-sdk[automl,notebooks,widgets]) (7.6.3)\n",
            "Requirement already up-to-date: ipykernel in /anaconda/envs/azureml_py36/lib/python3.6/site-packages (from azureml-contrib-notebook~=1.20.0; extra == \"notebooks\"->azureml-sdk[automl,notebooks,widgets]) (5.4.3)\n",
            "Requirement already up-to-date: nbconvert<6 in /anaconda/envs/azureml_py36/lib/python3.6/site-packages (from azureml-contrib-notebook~=1.20.0; extra == \"notebooks\"->azureml-sdk[automl,notebooks,widgets]) (5.6.1)\n",
            "Requirement already up-to-date: ipython in /anaconda/envs/azureml_py36/lib/python3.6/site-packages (from azureml-contrib-notebook~=1.20.0; extra == \"notebooks\"->azureml-sdk[automl,notebooks,widgets]) (7.16.1)\n",
            "Requirement already up-to-date: papermill<2 in /anaconda/envs/azureml_py36/lib/python3.6/site-packages (from azureml-contrib-notebook~=1.20.0; extra == \"notebooks\"->azureml-sdk[automl,notebooks,widgets]) (1.2.1)\n",
            "Requirement already up-to-date: six>=1.4.1 in /anaconda/envs/azureml_py36/lib/python3.6/site-packages (from cryptography!=1.9,!=2.0.*,!=2.1.*,!=2.2.*->azureml-core~=1.20.0->azureml-sdk[automl,notebooks,widgets]) (1.15.0)\n",
            "Requirement already up-to-date: cffi>=1.12 in /anaconda/envs/azureml_py36/lib/python3.6/site-packages (from cryptography!=1.9,!=2.0.*,!=2.1.*,!=2.2.*->azureml-core~=1.20.0->azureml-sdk[automl,notebooks,widgets]) (1.14.4)\n",
            "Requirement already up-to-date: jeepney>=0.6 in /anaconda/envs/azureml_py36/lib/python3.6/site-packages (from SecretStorage->azureml-core~=1.20.0->azureml-sdk[automl,notebooks,widgets]) (0.6.0)\n",
            "Requirement already up-to-date: requests-oauthlib>=0.5.0 in /anaconda/envs/azureml_py36/lib/python3.6/site-packages (from msrest>=0.5.1->azureml-core~=1.20.0->azureml-sdk[automl,notebooks,widgets]) (1.3.0)\n",
            "Requirement already up-to-date: certifi>=2017.4.17 in /anaconda/envs/azureml_py36/lib/python3.6/site-packages (from msrest>=0.5.1->azureml-core~=1.20.0->azureml-sdk[automl,notebooks,widgets]) (2020.12.5)\n",
            "Requirement already up-to-date: isodate>=0.6.0 in /anaconda/envs/azureml_py36/lib/python3.6/site-packages (from msrest>=0.5.1->azureml-core~=1.20.0->azureml-sdk[automl,notebooks,widgets]) (0.6.0)\n",
            "Requirement already up-to-date: pyasn1>=0.1.1 in /anaconda/envs/azureml_py36/lib/python3.6/site-packages (from ndg-httpsclient->azureml-core~=1.20.0->azureml-sdk[automl,notebooks,widgets]) (0.4.8)\n",
            "Requirement already up-to-date: websocket-client>=0.32.0 in /anaconda/envs/azureml_py36/lib/python3.6/site-packages (from docker->azureml-core~=1.20.0->azureml-sdk[automl,notebooks,widgets]) (0.57.0)\n",
            "Requirement already up-to-date: ruamel.yaml.clib>=0.1.2; platform_python_implementation == \"CPython\" and python_version < \"3.9\" in /anaconda/envs/azureml_py36/lib/python3.6/site-packages (from ruamel.yaml>=0.15.35->azureml-core~=1.20.0->azureml-sdk[automl,notebooks,widgets]) (0.2.2)\n",
            "Requirement already up-to-date: importlib-metadata; python_version < \"3.8\" in /anaconda/envs/azureml_py36/lib/python3.6/site-packages (from jsonpickle->azureml-core~=1.20.0->azureml-sdk[automl,notebooks,widgets]) (3.4.0)\n",
            "Requirement already up-to-date: backports.weakref in /anaconda/envs/azureml_py36/lib/python3.6/site-packages (from backports.tempfile->azureml-core~=1.20.0->azureml-sdk[automl,notebooks,widgets]) (1.0.post1)\n",
            "Requirement already up-to-date: idna<3,>=2.5 in /anaconda/envs/azureml_py36/lib/python3.6/site-packages (from requests>=2.19.1->azureml-core~=1.20.0->azureml-sdk[automl,notebooks,widgets]) (2.10)\n",
            "Requirement already up-to-date: chardet<5,>=3.0.2 in /anaconda/envs/azureml_py36/lib/python3.6/site-packages (from requests>=2.19.1->azureml-core~=1.20.0->azureml-sdk[automl,notebooks,widgets]) (4.0.0)\n",
            "Requirement already up-to-date: applicationinsights in /anaconda/envs/azureml_py36/lib/python3.6/site-packages (from azureml-telemetry~=1.20.0->azureml-train-automl-client~=1.20.0->azureml-sdk[automl,notebooks,widgets]) (0.11.9)\n",
            "Requirement already up-to-date: azureml-dataprep-native<28.0.0,>=27.0.0 in /anaconda/envs/azureml_py36/lib/python3.6/site-packages (from azureml-dataprep<2.8.0a,>=2.7.0a->azureml-dataset-runtime[fuse]~=1.20.0->azureml-sdk[automl,notebooks,widgets]) (27.0.0)\n",
            "Requirement already up-to-date: dotnetcore2<3.0.0,>=2.1.14 in /anaconda/envs/azureml_py36/lib/python3.6/site-packages (from azureml-dataprep<2.8.0a,>=2.7.0a->azureml-dataset-runtime[fuse]~=1.20.0->azureml-sdk[automl,notebooks,widgets]) (2.1.20)\n",
            "Requirement already up-to-date: azure-identity<1.5.0,>=1.2.0 in /anaconda/envs/azureml_py36/lib/python3.6/site-packages (from azureml-dataprep<2.8.0a,>=2.7.0a->azureml-dataset-runtime[fuse]~=1.20.0->azureml-sdk[automl,notebooks,widgets]) (1.4.1)\n",
            "Requirement already up-to-date: azureml-dataprep-rslex<1.6.0a,>=1.5.0dev0 in /anaconda/envs/azureml_py36/lib/python3.6/site-packages (from azureml-dataprep<2.8.0a,>=2.7.0a->azureml-dataset-runtime[fuse]~=1.20.0->azureml-sdk[automl,notebooks,widgets]) (1.5.0)\n",
            "Requirement already up-to-date: cloudpickle<2.0.0,>=1.1.0 in /anaconda/envs/azureml_py36/lib/python3.6/site-packages (from azureml-dataprep<2.8.0a,>=2.7.0a->azureml-dataset-runtime[fuse]~=1.20.0->azureml-sdk[automl,notebooks,widgets]) (1.6.0)\n",
            "Requirement already up-to-date: azureml-train-restclients-hyperdrive~=1.20.0 in /anaconda/envs/azureml_py36/lib/python3.6/site-packages (from azureml-train-core~=1.20.0->azureml-train~=1.20.0->azureml-sdk[automl,notebooks,widgets]) (1.20.0)\n",
            "Requirement already up-to-date: psutil<6.0.0,>=5.2.2 in /anaconda/envs/azureml_py36/lib/python3.6/site-packages (from azureml-automl-runtime~=1.20.0->azureml-train-automl~=1.20.0; extra == \"automl\"->azureml-sdk[automl,notebooks,widgets]) (5.8.0)\n",
            "Requirement already up-to-date: joblib==0.14.1 in /anaconda/envs/azureml_py36/lib/python3.6/site-packages (from azureml-automl-runtime~=1.20.0->azureml-train-automl~=1.20.0; extra == \"automl\"->azureml-sdk[automl,notebooks,widgets]) (0.14.1)\n",
            "Requirement already up-to-date: gensim<3.9.0 in /anaconda/envs/azureml_py36/lib/python3.6/site-packages (from azureml-automl-runtime~=1.20.0->azureml-train-automl~=1.20.0; extra == \"automl\"->azureml-sdk[automl,notebooks,widgets]) (3.8.3)\n",
            "Requirement already up-to-date: scipy<=1.5.2,>=1.0.0 in /anaconda/envs/azureml_py36/lib/python3.6/site-packages (from azureml-automl-runtime~=1.20.0->azureml-train-automl~=1.20.0; extra == \"automl\"->azureml-sdk[automl,notebooks,widgets]) (1.5.2)\n",
            "Requirement already up-to-date: botocore<=1.18.18 in /anaconda/envs/azureml_py36/lib/python3.6/site-packages (from azureml-automl-runtime~=1.20.0->azureml-train-automl~=1.20.0; extra == \"automl\"->azureml-sdk[automl,notebooks,widgets]) (1.18.18)\n",
            "Requirement already up-to-date: smart-open<=1.9.0 in /anaconda/envs/azureml_py36/lib/python3.6/site-packages (from azureml-automl-runtime~=1.20.0->azureml-train-automl~=1.20.0; extra == \"automl\"->azureml-sdk[automl,notebooks,widgets]) (1.9.0)\n",
            "Requirement already up-to-date: keras2onnx<=1.6.0,>=1.4.0 in /anaconda/envs/azureml_py36/lib/python3.6/site-packages (from azureml-automl-runtime~=1.20.0->azureml-train-automl~=1.20.0; extra == \"automl\"->azureml-sdk[automl,notebooks,widgets]) (1.6.0)\n",
            "Requirement already up-to-date: sklearn-pandas<=1.7.0,>=1.4.0 in /anaconda/envs/azureml_py36/lib/python3.6/site-packages (from azureml-automl-runtime~=1.20.0->azureml-train-automl~=1.20.0; extra == \"automl\"->azureml-sdk[automl,notebooks,widgets]) (1.7.0)\n",
            "Requirement already up-to-date: onnx<=1.7.0,>=1.5.0 in /anaconda/envs/azureml_py36/lib/python3.6/site-packages (from azureml-automl-runtime~=1.20.0->azureml-train-automl~=1.20.0; extra == \"automl\"->azureml-sdk[automl,notebooks,widgets]) (1.7.0)\n"
          ]
        },
        {
          "output_type": "stream",
          "name": "stdout",
          "text": [
            "Requirement already up-to-date: scikit-learn<0.23.0,>=0.19.0 in /anaconda/envs/azureml_py36/lib/python3.6/site-packages (from azureml-automl-runtime~=1.20.0->azureml-train-automl~=1.20.0; extra == \"automl\"->azureml-sdk[automl,notebooks,widgets]) (0.22.2.post1)\n",
            "Requirement already up-to-date: pmdarima==1.1.1 in /anaconda/envs/azureml_py36/lib/python3.6/site-packages (from azureml-automl-runtime~=1.20.0->azureml-train-automl~=1.20.0; extra == \"automl\"->azureml-sdk[automl,notebooks,widgets]) (1.1.1)\n",
            "Requirement already up-to-date: nimbusml<=1.8.0,>=1.7.1 in /anaconda/envs/azureml_py36/lib/python3.6/site-packages (from azureml-automl-runtime~=1.20.0->azureml-train-automl~=1.20.0; extra == \"automl\"->azureml-sdk[automl,notebooks,widgets]) (1.8.0)\n",
            "Requirement already up-to-date: pandas<1.0.0,>=0.21.0 in /anaconda/envs/azureml_py36/lib/python3.6/site-packages (from azureml-automl-runtime~=1.20.0->azureml-train-automl~=1.20.0; extra == \"automl\"->azureml-sdk[automl,notebooks,widgets]) (0.25.3)\n",
            "Requirement already up-to-date: dill<0.4.0,>=0.2.8 in /anaconda/envs/azureml_py36/lib/python3.6/site-packages (from azureml-automl-runtime~=1.20.0->azureml-train-automl~=1.20.0; extra == \"automl\"->azureml-sdk[automl,notebooks,widgets]) (0.3.3)\n",
            "Requirement already up-to-date: statsmodels<=0.10.2,>=0.9.0 in /anaconda/envs/azureml_py36/lib/python3.6/site-packages (from azureml-automl-runtime~=1.20.0->azureml-train-automl~=1.20.0; extra == \"automl\"->azureml-sdk[automl,notebooks,widgets]) (0.10.2)\n",
            "Requirement already up-to-date: boto3<=1.15.18 in /anaconda/envs/azureml_py36/lib/python3.6/site-packages (from azureml-automl-runtime~=1.20.0->azureml-train-automl~=1.20.0; extra == \"automl\"->azureml-sdk[automl,notebooks,widgets]) (1.15.18)\n",
            "Requirement already up-to-date: onnxruntime==1.3.0 in /anaconda/envs/azureml_py36/lib/python3.6/site-packages (from azureml-automl-runtime~=1.20.0->azureml-train-automl~=1.20.0; extra == \"automl\"->azureml-sdk[automl,notebooks,widgets]) (1.3.0)\n",
            "Requirement already up-to-date: py-cpuinfo==5.0.0 in /anaconda/envs/azureml_py36/lib/python3.6/site-packages (from azureml-automl-runtime~=1.20.0->azureml-train-automl~=1.20.0; extra == \"automl\"->azureml-sdk[automl,notebooks,widgets]) (5.0.0)\n",
            "Requirement already up-to-date: onnxconverter-common<=1.6.0,>=1.4.2 in /anaconda/envs/azureml_py36/lib/python3.6/site-packages (from azureml-automl-runtime~=1.20.0->azureml-train-automl~=1.20.0; extra == \"automl\"->azureml-sdk[automl,notebooks,widgets]) (1.6.0)\n",
            "Requirement already up-to-date: onnxmltools==1.4.1 in /anaconda/envs/azureml_py36/lib/python3.6/site-packages (from azureml-automl-runtime~=1.20.0->azureml-train-automl~=1.20.0; extra == \"automl\"->azureml-sdk[automl,notebooks,widgets]) (1.4.1)\n",
            "Requirement already up-to-date: lightgbm<=2.3.0,>=2.0.11 in /anaconda/envs/azureml_py36/lib/python3.6/site-packages (from azureml-automl-runtime~=1.20.0->azureml-train-automl~=1.20.0; extra == \"automl\"->azureml-sdk[automl,notebooks,widgets]) (2.3.0)\n",
            "Requirement already up-to-date: skl2onnx==1.4.9 in /anaconda/envs/azureml_py36/lib/python3.6/site-packages (from azureml-automl-runtime~=1.20.0->azureml-train-automl~=1.20.0; extra == \"automl\"->azureml-sdk[automl,notebooks,widgets]) (1.4.9)\n",
            "Requirement already up-to-date: jinja2<=2.11.2 in /anaconda/envs/azureml_py36/lib/python3.6/site-packages (from azureml-train-automl-runtime~=1.20.0->azureml-train-automl~=1.20.0; extra == \"automl\"->azureml-sdk[automl,notebooks,widgets]) (2.11.2)\n",
            "Requirement already up-to-date: azureml-defaults~=1.20.0 in /anaconda/envs/azureml_py36/lib/python3.6/site-packages (from azureml-train-automl-runtime~=1.20.0->azureml-train-automl~=1.20.0; extra == \"automl\"->azureml-sdk[automl,notebooks,widgets]) (1.20.0)\n",
            "Requirement already up-to-date: azureml-interpret~=1.20.0 in /anaconda/envs/azureml_py36/lib/python3.6/site-packages (from azureml-train-automl-runtime~=1.20.0->azureml-train-automl~=1.20.0; extra == \"automl\"->azureml-sdk[automl,notebooks,widgets]) (1.20.0)\n",
            "Requirement already up-to-date: azure-storage-queue~=12.1 in /anaconda/envs/azureml_py36/lib/python3.6/site-packages (from azureml-train-automl-runtime~=1.20.0->azureml-train-automl~=1.20.0; extra == \"automl\"->azureml-sdk[automl,notebooks,widgets]) (12.1.5)\n",
            "Requirement already up-to-date: widgetsnbextension~=3.5.0 in /anaconda/envs/azureml_py36/lib/python3.6/site-packages (from ipywidgets>=7.0.0->azureml-widgets~=1.20.0; extra == \"notebooks\"->azureml-sdk[automl,notebooks,widgets]) (3.5.1)\n",
            "Requirement already up-to-date: traitlets>=4.3.1 in /anaconda/envs/azureml_py36/lib/python3.6/site-packages (from ipywidgets>=7.0.0->azureml-widgets~=1.20.0; extra == \"notebooks\"->azureml-sdk[automl,notebooks,widgets]) (4.3.3)\n",
            "Requirement already up-to-date: nbformat>=4.2.0 in /anaconda/envs/azureml_py36/lib/python3.6/site-packages (from ipywidgets>=7.0.0->azureml-widgets~=1.20.0; extra == \"notebooks\"->azureml-sdk[automl,notebooks,widgets]) (5.1.2)\n",
            "Requirement already up-to-date: jupyterlab-widgets>=1.0.0; python_version >= \"3.6\" in /anaconda/envs/azureml_py36/lib/python3.6/site-packages (from ipywidgets>=7.0.0->azureml-widgets~=1.20.0; extra == \"notebooks\"->azureml-sdk[automl,notebooks,widgets]) (1.0.0)\n",
            "Requirement already up-to-date: tornado>=4.2 in /anaconda/envs/azureml_py36/lib/python3.6/site-packages (from ipykernel->azureml-contrib-notebook~=1.20.0; extra == \"notebooks\"->azureml-sdk[automl,notebooks,widgets]) (6.1)\n",
            "Requirement already up-to-date: jupyter-client in /anaconda/envs/azureml_py36/lib/python3.6/site-packages (from ipykernel->azureml-contrib-notebook~=1.20.0; extra == \"notebooks\"->azureml-sdk[automl,notebooks,widgets]) (6.1.11)\n",
            "Requirement already up-to-date: defusedxml in /anaconda/envs/azureml_py36/lib/python3.6/site-packages (from nbconvert<6->azureml-contrib-notebook~=1.20.0; extra == \"notebooks\"->azureml-sdk[automl,notebooks,widgets]) (0.6.0)\n",
            "Requirement already up-to-date: bleach in /anaconda/envs/azureml_py36/lib/python3.6/site-packages (from nbconvert<6->azureml-contrib-notebook~=1.20.0; extra == \"notebooks\"->azureml-sdk[automl,notebooks,widgets]) (3.2.2)\n",
            "Requirement already up-to-date: pandocfilters>=1.4.1 in /anaconda/envs/azureml_py36/lib/python3.6/site-packages (from nbconvert<6->azureml-contrib-notebook~=1.20.0; extra == \"notebooks\"->azureml-sdk[automl,notebooks,widgets]) (1.4.3)\n",
            "Requirement already up-to-date: testpath in /anaconda/envs/azureml_py36/lib/python3.6/site-packages (from nbconvert<6->azureml-contrib-notebook~=1.20.0; extra == \"notebooks\"->azureml-sdk[automl,notebooks,widgets]) (0.4.4)\n",
            "Requirement already up-to-date: entrypoints>=0.2.2 in /anaconda/envs/azureml_py36/lib/python3.6/site-packages (from nbconvert<6->azureml-contrib-notebook~=1.20.0; extra == \"notebooks\"->azureml-sdk[automl,notebooks,widgets]) (0.3)\n",
            "Requirement already up-to-date: mistune<2,>=0.8.1 in /anaconda/envs/azureml_py36/lib/python3.6/site-packages (from nbconvert<6->azureml-contrib-notebook~=1.20.0; extra == \"notebooks\"->azureml-sdk[automl,notebooks,widgets]) (0.8.4)\n",
            "Requirement already up-to-date: pygments in /anaconda/envs/azureml_py36/lib/python3.6/site-packages (from nbconvert<6->azureml-contrib-notebook~=1.20.0; extra == \"notebooks\"->azureml-sdk[automl,notebooks,widgets]) (2.7.4)\n",
            "Requirement already up-to-date: jupyter-core in /anaconda/envs/azureml_py36/lib/python3.6/site-packages (from nbconvert<6->azureml-contrib-notebook~=1.20.0; extra == \"notebooks\"->azureml-sdk[automl,notebooks,widgets]) (4.7.0)\n",
            "Requirement already up-to-date: backcall in /anaconda/envs/azureml_py36/lib/python3.6/site-packages (from ipython->azureml-contrib-notebook~=1.20.0; extra == \"notebooks\"->azureml-sdk[automl,notebooks,widgets]) (0.2.0)\n",
            "Requirement already up-to-date: decorator in /anaconda/envs/azureml_py36/lib/python3.6/site-packages (from ipython->azureml-contrib-notebook~=1.20.0; extra == \"notebooks\"->azureml-sdk[automl,notebooks,widgets]) (4.4.2)\n",
            "Requirement already up-to-date: pickleshare in /anaconda/envs/azureml_py36/lib/python3.6/site-packages (from ipython->azureml-contrib-notebook~=1.20.0; extra == \"notebooks\"->azureml-sdk[automl,notebooks,widgets]) (0.7.5)\n",
            "Requirement already up-to-date: jedi>=0.10 in /anaconda/envs/azureml_py36/lib/python3.6/site-packages (from ipython->azureml-contrib-notebook~=1.20.0; extra == \"notebooks\"->azureml-sdk[automl,notebooks,widgets]) (0.18.0)\n"
          ]
        },
        {
          "output_type": "stream",
          "name": "stdout",
          "text": [
            "Requirement already up-to-date: prompt-toolkit!=3.0.0,!=3.0.1,<3.1.0,>=2.0.0 in /anaconda/envs/azureml_py36/lib/python3.6/site-packages (from ipython->azureml-contrib-notebook~=1.20.0; extra == \"notebooks\"->azureml-sdk[automl,notebooks,widgets]) (3.0.13)\n",
            "Requirement already up-to-date: pexpect; sys_platform != \"win32\" in /anaconda/envs/azureml_py36/lib/python3.6/site-packages (from ipython->azureml-contrib-notebook~=1.20.0; extra == \"notebooks\"->azureml-sdk[automl,notebooks,widgets]) (4.8.0)\n",
            "Requirement already up-to-date: setuptools>=18.5 in /anaconda/envs/azureml_py36/lib/python3.6/site-packages (from ipython->azureml-contrib-notebook~=1.20.0; extra == \"notebooks\"->azureml-sdk[automl,notebooks,widgets]) (51.3.3)\n",
            "Requirement already up-to-date: tenacity in /anaconda/envs/azureml_py36/lib/python3.6/site-packages (from papermill<2->azureml-contrib-notebook~=1.20.0; extra == \"notebooks\"->azureml-sdk[automl,notebooks,widgets]) (6.3.1)\n",
            "Requirement already up-to-date: pyyaml in /anaconda/envs/azureml_py36/lib/python3.6/site-packages (from papermill<2->azureml-contrib-notebook~=1.20.0; extra == \"notebooks\"->azureml-sdk[automl,notebooks,widgets]) (5.4.1)\n",
            "Requirement already up-to-date: future in /anaconda/envs/azureml_py36/lib/python3.6/site-packages (from papermill<2->azureml-contrib-notebook~=1.20.0; extra == \"notebooks\"->azureml-sdk[automl,notebooks,widgets]) (0.18.2)\n",
            "Requirement already up-to-date: click in /anaconda/envs/azureml_py36/lib/python3.6/site-packages (from papermill<2->azureml-contrib-notebook~=1.20.0; extra == \"notebooks\"->azureml-sdk[automl,notebooks,widgets]) (7.1.2)\n",
            "Requirement already up-to-date: tqdm>=4.32.2 in /anaconda/envs/azureml_py36/lib/python3.6/site-packages (from papermill<2->azureml-contrib-notebook~=1.20.0; extra == \"notebooks\"->azureml-sdk[automl,notebooks,widgets]) (4.56.0)\n",
            "Requirement already up-to-date: ansiwrap in /anaconda/envs/azureml_py36/lib/python3.6/site-packages (from papermill<2->azureml-contrib-notebook~=1.20.0; extra == \"notebooks\"->azureml-sdk[automl,notebooks,widgets]) (0.8.4)\n",
            "Requirement already up-to-date: pycparser in /anaconda/envs/azureml_py36/lib/python3.6/site-packages (from cffi>=1.12->cryptography!=1.9,!=2.0.*,!=2.1.*,!=2.2.*->azureml-core~=1.20.0->azureml-sdk[automl,notebooks,widgets]) (2.20)\n",
            "Requirement already up-to-date: oauthlib>=3.0.0 in /anaconda/envs/azureml_py36/lib/python3.6/site-packages (from requests-oauthlib>=0.5.0->msrest>=0.5.1->azureml-core~=1.20.0->azureml-sdk[automl,notebooks,widgets]) (3.1.0)\n",
            "Requirement already up-to-date: typing-extensions>=3.6.4; python_version < \"3.8\" in /anaconda/envs/azureml_py36/lib/python3.6/site-packages (from importlib-metadata; python_version < \"3.8\"->jsonpickle->azureml-core~=1.20.0->azureml-sdk[automl,notebooks,widgets]) (3.7.4.3)\n",
            "Requirement already up-to-date: zipp>=0.5 in /anaconda/envs/azureml_py36/lib/python3.6/site-packages (from importlib-metadata; python_version < \"3.8\"->jsonpickle->azureml-core~=1.20.0->azureml-sdk[automl,notebooks,widgets]) (3.4.0)\n",
            "Requirement already up-to-date: distro>=1.2.0 in /anaconda/envs/azureml_py36/lib/python3.6/site-packages (from dotnetcore2<3.0.0,>=2.1.14->azureml-dataprep<2.8.0a,>=2.7.0a->azureml-dataset-runtime[fuse]~=1.20.0->azureml-sdk[automl,notebooks,widgets]) (1.5.0)\n",
            "Requirement already up-to-date: msal<2.0.0,>=1.3.0 in /anaconda/envs/azureml_py36/lib/python3.6/site-packages (from azure-identity<1.5.0,>=1.2.0->azureml-dataprep<2.8.0a,>=2.7.0a->azureml-dataset-runtime[fuse]~=1.20.0->azureml-sdk[automl,notebooks,widgets]) (1.8.0)\n",
            "Requirement already up-to-date: azure-core<2.0.0,>=1.0.0 in /anaconda/envs/azureml_py36/lib/python3.6/site-packages (from azure-identity<1.5.0,>=1.2.0->azureml-dataprep<2.8.0a,>=2.7.0a->azureml-dataset-runtime[fuse]~=1.20.0->azureml-sdk[automl,notebooks,widgets]) (1.10.0)\n",
            "Requirement already up-to-date: msal-extensions~=0.2.2 in /anaconda/envs/azureml_py36/lib/python3.6/site-packages (from azure-identity<1.5.0,>=1.2.0->azureml-dataprep<2.8.0a,>=2.7.0a->azureml-dataset-runtime[fuse]~=1.20.0->azureml-sdk[automl,notebooks,widgets]) (0.2.2)\n",
            "Requirement already up-to-date: boto>=2.32 in /anaconda/envs/azureml_py36/lib/python3.6/site-packages (from smart-open<=1.9.0->azureml-automl-runtime~=1.20.0->azureml-train-automl~=1.20.0; extra == \"automl\"->azureml-sdk[automl,notebooks,widgets]) (2.49.0)\n",
            "Requirement already up-to-date: protobuf in /anaconda/envs/azureml_py36/lib/python3.6/site-packages (from keras2onnx<=1.6.0,>=1.4.0->azureml-automl-runtime~=1.20.0->azureml-train-automl~=1.20.0; extra == \"automl\"->azureml-sdk[automl,notebooks,widgets]) (3.14.0)\n",
            "Requirement already up-to-date: fire in /anaconda/envs/azureml_py36/lib/python3.6/site-packages (from keras2onnx<=1.6.0,>=1.4.0->azureml-automl-runtime~=1.20.0->azureml-train-automl~=1.20.0; extra == \"automl\"->azureml-sdk[automl,notebooks,widgets]) (0.4.0)\n",
            "Requirement already up-to-date: Cython>=0.29 in /anaconda/envs/azureml_py36/lib/python3.6/site-packages (from pmdarima==1.1.1->azureml-automl-runtime~=1.20.0->azureml-train-automl~=1.20.0; extra == \"automl\"->azureml-sdk[automl,notebooks,widgets]) (0.29.21)\n",
            "Requirement already up-to-date: patsy>=0.4.0 in /anaconda/envs/azureml_py36/lib/python3.6/site-packages (from statsmodels<=0.10.2,>=0.9.0->azureml-automl-runtime~=1.20.0->azureml-train-automl~=1.20.0; extra == \"automl\"->azureml-sdk[automl,notebooks,widgets]) (0.5.1)\n",
            "Requirement already up-to-date: s3transfer<0.4.0,>=0.3.0 in /anaconda/envs/azureml_py36/lib/python3.6/site-packages (from boto3<=1.15.18->azureml-automl-runtime~=1.20.0->azureml-train-automl~=1.20.0; extra == \"automl\"->azureml-sdk[automl,notebooks,widgets]) (0.3.4)\n",
            "Requirement already up-to-date: MarkupSafe>=0.23 in /anaconda/envs/azureml_py36/lib/python3.6/site-packages (from jinja2<=2.11.2->azureml-train-automl-runtime~=1.20.0->azureml-train-automl~=1.20.0; extra == \"automl\"->azureml-sdk[automl,notebooks,widgets]) (1.1.1)\n",
            "Requirement already up-to-date: werkzeug<=1.0.1,>=0.16.1 in /anaconda/envs/azureml_py36/lib/python3.6/site-packages (from azureml-defaults~=1.20.0->azureml-train-automl-runtime~=1.20.0->azureml-train-automl~=1.20.0; extra == \"automl\"->azureml-sdk[automl,notebooks,widgets]) (1.0.1)\n",
            "Requirement already up-to-date: azureml-model-management-sdk==1.0.1b6.post1 in /anaconda/envs/azureml_py36/lib/python3.6/site-packages (from azureml-defaults~=1.20.0->azureml-train-automl-runtime~=1.20.0->azureml-train-automl~=1.20.0; extra == \"automl\"->azureml-sdk[automl,notebooks,widgets]) (1.0.1b6.post1)\n",
            "Requirement already up-to-date: gunicorn==19.9.0 in /anaconda/envs/azureml_py36/lib/python3.6/site-packages (from azureml-defaults~=1.20.0->azureml-train-automl-runtime~=1.20.0->azureml-train-automl~=1.20.0; extra == \"automl\"->azureml-sdk[automl,notebooks,widgets]) (19.9.0)\n",
            "Requirement already up-to-date: flask==1.0.3 in /anaconda/envs/azureml_py36/lib/python3.6/site-packages (from azureml-defaults~=1.20.0->azureml-train-automl-runtime~=1.20.0->azureml-train-automl~=1.20.0; extra == \"automl\"->azureml-sdk[automl,notebooks,widgets]) (1.0.3)\n",
            "Requirement already up-to-date: configparser==3.7.4 in /anaconda/envs/azureml_py36/lib/python3.6/site-packages (from azureml-defaults~=1.20.0->azureml-train-automl-runtime~=1.20.0->azureml-train-automl~=1.20.0; extra == \"automl\"->azureml-sdk[automl,notebooks,widgets]) (3.7.4)\n",
            "Requirement already up-to-date: json-logging-py==0.2 in /anaconda/envs/azureml_py36/lib/python3.6/site-packages (from azureml-defaults~=1.20.0->azureml-train-automl-runtime~=1.20.0->azureml-train-automl~=1.20.0; extra == \"automl\"->azureml-sdk[automl,notebooks,widgets]) (0.2)\n",
            "Requirement already up-to-date: interpret-community==0.15.* in /anaconda/envs/azureml_py36/lib/python3.6/site-packages (from azureml-interpret~=1.20.0->azureml-train-automl-runtime~=1.20.0->azureml-train-automl~=1.20.0; extra == \"automl\"->azureml-sdk[automl,notebooks,widgets]) (0.15.4)\n",
            "Requirement already up-to-date: notebook>=4.4.1 in /anaconda/envs/azureml_py36/lib/python3.6/site-packages (from widgetsnbextension~=3.5.0->ipywidgets>=7.0.0->azureml-widgets~=1.20.0; extra == \"notebooks\"->azureml-sdk[automl,notebooks,widgets]) (6.2.0)\n",
            "Requirement already up-to-date: ipython-genutils in /anaconda/envs/azureml_py36/lib/python3.6/site-packages (from traitlets>=4.3.1->ipywidgets>=7.0.0->azureml-widgets~=1.20.0; extra == \"notebooks\"->azureml-sdk[automl,notebooks,widgets]) (0.2.0)\n"
          ]
        },
        {
          "output_type": "stream",
          "name": "stdout",
          "text": [
            "Requirement already up-to-date: jsonschema!=2.5.0,>=2.4 in /anaconda/envs/azureml_py36/lib/python3.6/site-packages (from nbformat>=4.2.0->ipywidgets>=7.0.0->azureml-widgets~=1.20.0; extra == \"notebooks\"->azureml-sdk[automl,notebooks,widgets]) (3.2.0)\n",
            "Requirement already up-to-date: pyzmq>=13 in /anaconda/envs/azureml_py36/lib/python3.6/site-packages (from jupyter-client->ipykernel->azureml-contrib-notebook~=1.20.0; extra == \"notebooks\"->azureml-sdk[automl,notebooks,widgets]) (21.0.1)\n",
            "Requirement already up-to-date: webencodings in /anaconda/envs/azureml_py36/lib/python3.6/site-packages (from bleach->nbconvert<6->azureml-contrib-notebook~=1.20.0; extra == \"notebooks\"->azureml-sdk[automl,notebooks,widgets]) (0.5.1)\n",
            "Requirement already up-to-date: packaging in /anaconda/envs/azureml_py36/lib/python3.6/site-packages (from bleach->nbconvert<6->azureml-contrib-notebook~=1.20.0; extra == \"notebooks\"->azureml-sdk[automl,notebooks,widgets]) (20.8)\n",
            "Requirement already up-to-date: parso<0.9.0,>=0.8.0 in /anaconda/envs/azureml_py36/lib/python3.6/site-packages (from jedi>=0.10->ipython->azureml-contrib-notebook~=1.20.0; extra == \"notebooks\"->azureml-sdk[automl,notebooks,widgets]) (0.8.1)\n",
            "Requirement already up-to-date: wcwidth in /anaconda/envs/azureml_py36/lib/python3.6/site-packages (from prompt-toolkit!=3.0.0,!=3.0.1,<3.1.0,>=2.0.0->ipython->azureml-contrib-notebook~=1.20.0; extra == \"notebooks\"->azureml-sdk[automl,notebooks,widgets]) (0.2.5)\n",
            "Requirement already up-to-date: ptyprocess>=0.5 in /anaconda/envs/azureml_py36/lib/python3.6/site-packages (from pexpect; sys_platform != \"win32\"->ipython->azureml-contrib-notebook~=1.20.0; extra == \"notebooks\"->azureml-sdk[automl,notebooks,widgets]) (0.7.0)\n",
            "Requirement already up-to-date: textwrap3>=0.9.2 in /anaconda/envs/azureml_py36/lib/python3.6/site-packages (from ansiwrap->papermill<2->azureml-contrib-notebook~=1.20.0; extra == \"notebooks\"->azureml-sdk[automl,notebooks,widgets]) (0.9.2)\n",
            "Requirement already up-to-date: portalocker~=1.0; platform_system != \"Windows\" in /anaconda/envs/azureml_py36/lib/python3.6/site-packages (from msal-extensions~=0.2.2->azure-identity<1.5.0,>=1.2.0->azureml-dataprep<2.8.0a,>=2.7.0a->azureml-dataset-runtime[fuse]~=1.20.0->azureml-sdk[automl,notebooks,widgets]) (1.7.1)\n",
            "Requirement already up-to-date: termcolor in /anaconda/envs/azureml_py36/lib/python3.6/site-packages (from fire->keras2onnx<=1.6.0,>=1.4.0->azureml-automl-runtime~=1.20.0->azureml-train-automl~=1.20.0; extra == \"automl\"->azureml-sdk[automl,notebooks,widgets]) (1.1.0)\n",
            "Requirement already up-to-date: liac-arff>=2.1.1 in /anaconda/envs/azureml_py36/lib/python3.6/site-packages (from azureml-model-management-sdk==1.0.1b6.post1->azureml-defaults~=1.20.0->azureml-train-automl-runtime~=1.20.0->azureml-train-automl~=1.20.0; extra == \"automl\"->azureml-sdk[automl,notebooks,widgets]) (2.5.0)\n",
            "Requirement already up-to-date: itsdangerous>=0.24 in /anaconda/envs/azureml_py36/lib/python3.6/site-packages (from flask==1.0.3->azureml-defaults~=1.20.0->azureml-train-automl-runtime~=1.20.0->azureml-train-automl~=1.20.0; extra == \"automl\"->azureml-sdk[automl,notebooks,widgets]) (1.1.0)\n",
            "Requirement already up-to-date: shap<=0.34.0,>=0.20.0 in /anaconda/envs/azureml_py36/lib/python3.6/site-packages (from interpret-community==0.15.*->azureml-interpret~=1.20.0->azureml-train-automl-runtime~=1.20.0->azureml-train-automl~=1.20.0; extra == \"automl\"->azureml-sdk[automl,notebooks,widgets]) (0.34.0)\n",
            "Requirement already up-to-date: interpret-core[required]<=0.2.1,>=0.1.20 in /anaconda/envs/azureml_py36/lib/python3.6/site-packages (from interpret-community==0.15.*->azureml-interpret~=1.20.0->azureml-train-automl-runtime~=1.20.0->azureml-train-automl~=1.20.0; extra == \"automl\"->azureml-sdk[automl,notebooks,widgets]) (0.2.1)\n",
            "Requirement already up-to-date: Send2Trash>=1.5.0 in /anaconda/envs/azureml_py36/lib/python3.6/site-packages (from notebook>=4.4.1->widgetsnbextension~=3.5.0->ipywidgets>=7.0.0->azureml-widgets~=1.20.0; extra == \"notebooks\"->azureml-sdk[automl,notebooks,widgets]) (1.5.0)\n",
            "Requirement already up-to-date: prometheus-client in /anaconda/envs/azureml_py36/lib/python3.6/site-packages (from notebook>=4.4.1->widgetsnbextension~=3.5.0->ipywidgets>=7.0.0->azureml-widgets~=1.20.0; extra == \"notebooks\"->azureml-sdk[automl,notebooks,widgets]) (0.9.0)\n",
            "Requirement already up-to-date: argon2-cffi in /anaconda/envs/azureml_py36/lib/python3.6/site-packages (from notebook>=4.4.1->widgetsnbextension~=3.5.0->ipywidgets>=7.0.0->azureml-widgets~=1.20.0; extra == \"notebooks\"->azureml-sdk[automl,notebooks,widgets]) (20.1.0)\n",
            "Requirement already up-to-date: terminado>=0.8.3 in /anaconda/envs/azureml_py36/lib/python3.6/site-packages (from notebook>=4.4.1->widgetsnbextension~=3.5.0->ipywidgets>=7.0.0->azureml-widgets~=1.20.0; extra == \"notebooks\"->azureml-sdk[automl,notebooks,widgets]) (0.9.2)\n",
            "Requirement already up-to-date: attrs>=17.4.0 in /anaconda/envs/azureml_py36/lib/python3.6/site-packages (from jsonschema!=2.5.0,>=2.4->nbformat>=4.2.0->ipywidgets>=7.0.0->azureml-widgets~=1.20.0; extra == \"notebooks\"->azureml-sdk[automl,notebooks,widgets]) (20.3.0)\n",
            "Requirement already up-to-date: pyrsistent>=0.14.0 in /anaconda/envs/azureml_py36/lib/python3.6/site-packages (from jsonschema!=2.5.0,>=2.4->nbformat>=4.2.0->ipywidgets>=7.0.0->azureml-widgets~=1.20.0; extra == \"notebooks\"->azureml-sdk[automl,notebooks,widgets]) (0.17.3)\n",
            "Requirement already up-to-date: pyparsing>=2.0.2 in /anaconda/envs/azureml_py36/lib/python3.6/site-packages (from packaging->bleach->nbconvert<6->azureml-contrib-notebook~=1.20.0; extra == \"notebooks\"->azureml-sdk[automl,notebooks,widgets]) (2.4.7)\n",
            "Note: you may need to restart the kernel to use updated packages.\n"
          ]
        }
      ],
      "execution_count": 2,
      "metadata": {
        "gather": {
          "logged": 1611416452869
        },
        "jupyter": {
          "outputs_hidden": false,
          "source_hidden": false
        },
        "nteract": {
          "transient": {
            "deleting": false
          }
        }
      }
    },
    {
      "cell_type": "code",
      "source": [
        "import azureml.core \n",
        "print(azureml.core.VERSION)"
      ],
      "outputs": [
        {
          "output_type": "stream",
          "name": "stdout",
          "text": [
            "1.20.0\n"
          ]
        }
      ],
      "execution_count": 3,
      "metadata": {
        "gather": {
          "logged": 1611418051377
        },
        "jupyter": {
          "outputs_hidden": false,
          "source_hidden": false
        },
        "nteract": {
          "transient": {
            "deleting": false
          }
        }
      }
    },
    {
      "cell_type": "code",
      "source": [
        "from azureml.core.environment import Environment\n",
        "Environment(name=\"vaenv\")\n",
        "myenv = Environment(name=\"vaenv\")"
      ],
      "outputs": [],
      "execution_count": 4,
      "metadata": {
        "gather": {
          "logged": 1611418068103
        },
        "jupyter": {
          "outputs_hidden": false,
          "source_hidden": false
        },
        "nteract": {
          "transient": {
            "deleting": false
          }
        }
      }
    },
    {
      "cell_type": "code",
      "source": [
        "from azureml.core.conda_dependencies import CondaDependencies\n",
        "\n",
        "dependencies = CondaDependencies()\n",
        "dependencies.add_pip_package(\"scikit-learn\")\n",
        "dependencies.add_pip_package(\"numpy==1.15.4\")\n",
        "myenv.python.conda_dependencies=dependencies"
      ],
      "outputs": [],
      "execution_count": 5,
      "metadata": {
        "gather": {
          "logged": 1611418083573
        },
        "jupyter": {
          "outputs_hidden": false,
          "source_hidden": false
        },
        "nteract": {
          "transient": {
            "deleting": false
          }
        }
      }
    },
    {
      "cell_type": "code",
      "source": [
        "from azureml.core import Workspace, Experiment\n",
        "\n",
        "ws = Workspace.get(name='Toria_workspace',\n",
        "            subscription_id='784d8740-4c70-4d20-8f45-b2bfecf94029',\n",
        "            resource_group='myresourcegroup',)\n",
        "exp = Experiment(workspace=ws, name=\"Toria_workspace\")\n",
        "\n",
        "print('Workspace name: ' + ws.name, \n",
        "      'Azure region: ' + ws.location, \n",
        "      'Subscription id: ' + ws.subscription_id, \n",
        "      'Resource group: ' + ws.resource_group, sep = '\\n')\n",
        "\n",
        "run = exp.start_logging()"
      ],
      "outputs": [
        {
          "output_type": "stream",
          "name": "stdout",
          "text": [
            "Workspace name: Toria_workspace\n",
            "Azure region: eastus2\n",
            "Subscription id: 784d8740-4c70-4d20-8f45-b2bfecf94029\n",
            "Resource group: myresourcegroup\n"
          ]
        }
      ],
      "execution_count": 6,
      "metadata": {
        "gather": {
          "logged": 1611418102679
        },
        "jupyter": {
          "outputs_hidden": false,
          "source_hidden": false
        },
        "nteract": {
          "transient": {
            "deleting": false
          }
        }
      }
    },
    {
      "cell_type": "code",
      "source": [
        "from azureml.core.compute import ComputeTarget, AmlCompute\n",
        "\n",
        "# TODO: Create compute cluster\n",
        "# Use vm_size = \"Standard_D2_V2\" in your provisioning configuration.\n",
        "# max_nodes should be no greater than 4.\n",
        "compute_target_name = \"vpacompute\"\n",
        "compute_cluster = AmlCompute.provisioning_configuration(vm_size = \"Standard_D2_V2\", max_nodes = 4)\n",
        "my_target =  ComputeTarget.create(ws, compute_target_name, compute_cluster)\n",
        "### YOUR CODE HERE ###"
      ],
      "outputs": [],
      "execution_count": 7,
      "metadata": {
        "gather": {
          "logged": 1611418294869
        },
        "jupyter": {
          "outputs_hidden": false,
          "source_hidden": false
        },
        "nteract": {
          "transient": {
            "deleting": false
          }
        }
      }
    },
    {
      "cell_type": "code",
      "source": [
        "import logging\n",
        "import os\n",
        "import csv\n",
        "\n",
        "from matplotlib import pyplot as plt\n",
        "import numpy as np\n",
        "import pandas as pd\n",
        "from sklearn import datasets\n",
        "import pkg_resources\n",
        "\n",
        "import azureml.core\n",
        "from azureml.core.experiment import Experiment\n",
        "from azureml.core.workspace import Workspace\n",
        "from azureml.train.automl import AutoMLConfig\n",
        "from azureml.core.dataset import Dataset\n",
        "\n",
        "from azureml.pipeline.steps import AutoMLStep\n",
        "\n",
        "# Check core SDK version number\n",
        "print(\"SDK version:\", azureml.core.VERSION)"
      ],
      "outputs": [
        {
          "output_type": "stream",
          "name": "stdout",
          "text": [
            "SDK version: 1.20.0\n"
          ]
        }
      ],
      "execution_count": 8,
      "metadata": {
        "gather": {
          "logged": 1611418306287
        },
        "jupyter": {
          "outputs_hidden": false,
          "source_hidden": false
        },
        "nteract": {
          "transient": {
            "deleting": false
          }
        }
      }
    },
    {
      "cell_type": "code",
      "source": [
        "from azureml.data.dataset_factory import TabularDatasetFactory\n",
        "\n",
        "# Create TabularDataset using TabularDatasetFactory\n",
        "# Data is available at: \n",
        "dat = \"https://raw.githubusercontent.com/vikkyfama/Project_Capstone/toribranch/Personal_loans.csv\"\n",
        "ds = TabularDatasetFactory.from_delimited_files(dat)\n",
        "print(ds)"
      ],
      "outputs": [
        {
          "output_type": "stream",
          "name": "stdout",
          "text": [
            "TabularDataset\n",
            "{\n",
            "  \"source\": [\n",
            "    \"https://raw.githubusercontent.com/vikkyfama/Project_Capstone/toribranch/Personal_loans.csv\"\n",
            "  ],\n",
            "  \"definition\": [\n",
            "    \"GetFiles\",\n",
            "    \"ParseDelimited\",\n",
            "    \"DropColumns\",\n",
            "    \"SetColumnTypes\"\n",
            "  ]\n",
            "}\n"
          ]
        }
      ],
      "execution_count": 9,
      "metadata": {
        "gather": {
          "logged": 1611418383870
        },
        "jupyter": {
          "outputs_hidden": false,
          "source_hidden": false
        },
        "nteract": {
          "transient": {
            "deleting": false
          }
        }
      }
    },
    {
      "cell_type": "code",
      "source": [
        "import pandas as pd\n",
        "from scipy import sparse\n",
        "from sklearn.model_selection import train_test_split\n",
        "from sklearn import datasets\n",
        "from azureml.core.dataset import Dataset\n",
        "import numpy as np\n",
        "from traintest2 import clean_data\n",
        "#from azureml.data.dataset_factory import TabularDatasetFactory\n",
        "from sklearn import preprocessing\n",
        "\n",
        "\n",
        "x, y = clean_data(ds)\n",
        "x_train, x_test, y_train, y_test = train_test_split(x, y)\n"
      ],
      "outputs": [
        {
          "output_type": "stream",
          "name": "stdout",
          "text": [
            "Average Experience 20.1046\n",
            "Average Experience 20.1046\n"
          ]
        }
      ],
      "execution_count": 10,
      "metadata": {
        "gather": {
          "logged": 1611418406596
        },
        "jupyter": {
          "outputs_hidden": false,
          "source_hidden": false
        },
        "nteract": {
          "transient": {
            "deleting": false
          }
        }
      }
    },
    {
      "cell_type": "code",
      "source": [
        "import pandas as pd\n",
        "from scipy import sparse\n",
        "from sklearn.model_selection import train_test_split\n",
        "from sklearn import datasets\n",
        "from azureml.core.dataset import Dataset\n",
        "import numpy as np\n",
        "#from train import clean_data\n",
        "#from azureml.data.dataset_factory import TabularDatasetFactory\n",
        "from sklearn import preprocessing\n",
        "import os\n",
        "\n",
        "\n",
        "#x_train, x_test, y_train, y_test = train_test_split(P_loan, test_size = 0.3, random_state = 0)\n",
        "#x_train, x_test, y_train, y_test\n",
        "training_data = pd.concat([x_train, y_train], axis = 1)\n",
        "\n",
        "if not os.path.isdir('dataset'):\n",
        "    os.mkdir('dataset')\n",
        "\n",
        "\n",
        "training_data.to_csv('dataset/loan.csv')\n",
        "ds = ws.get_default_datastore()\n",
        "ds.upload(src_dir='./dataset', target_path='loandataset', overwrite=True, show_progress=True)\n",
        "\n",
        "training_data = Dataset.Tabular.from_delimited_files(path=ds.path('loandataset/loan.csv'))\n",
        "training_data"
      ],
      "outputs": [
        {
          "output_type": "stream",
          "name": "stdout",
          "text": [
            "Uploading an estimated of 1 files\n",
            "Uploading ./dataset/loan.csv\n",
            "Uploaded ./dataset/loan.csv, 1 files out of an estimated total of 1\n",
            "Uploaded 1 files\n"
          ]
        },
        {
          "output_type": "execute_result",
          "execution_count": 11,
          "data": {
            "text/plain": "{\n  \"source\": [\n    \"('workspaceblobstore', 'loandataset/loan.csv')\"\n  ],\n  \"definition\": [\n    \"GetDatastoreFiles\",\n    \"ParseDelimited\",\n    \"DropColumns\",\n    \"SetColumnTypes\"\n  ]\n}"
          },
          "metadata": {}
        }
      ],
      "execution_count": 11,
      "metadata": {
        "gather": {
          "logged": 1611418454284
        },
        "jupyter": {
          "outputs_hidden": false,
          "source_hidden": false
        },
        "nteract": {
          "transient": {
            "deleting": false
          }
        }
      }
    },
    {
      "cell_type": "code",
      "source": [
        "ws = Workspace.from_config()\n",
        "\n",
        "# choose a name for experiment\n",
        "experiment_name = 'People_loan_experiment'\n",
        "\n",
        "experiment=Experiment(ws, experiment_name)"
      ],
      "outputs": [],
      "execution_count": 12,
      "metadata": {
        "gather": {
          "logged": 1611418475345
        },
        "jupyter": {
          "outputs_hidden": false,
          "source_hidden": false
        },
        "nteract": {
          "transient": {
            "deleting": false
          }
        }
      }
    },
    {
      "cell_type": "markdown",
      "source": [
        "## Dataset\n",
        "\n",
        "### Overview\n",
        "TODO: In this markdown cell, give an overview of the dataset you are using. Also mention the task you will be performing.\n",
        "\n",
        "\n",
        "TODO: Get data. In the cell below, write code to access the data you will be using in this project. Remember that the dataset needs to be external."
      ],
      "metadata": {}
    },
    {
      "cell_type": "markdown",
      "source": [
        "## AutoML Configuration\n",
        "\n",
        "TODO: Explain why you chose the automl settings and cofiguration you used below."
      ],
      "metadata": {}
    },
    {
      "cell_type": "code",
      "source": [
        "# TODO: Put your automl settings here\n",
        "automl_settings = {\n",
        "     \"experiment_timeout_hours\" : 0.3,\n",
        "    \"enable_early_stopping\" : True,\n",
        "    \"iteration_timeout_minutes\": 5,\n",
        "    \"max_concurrent_iterations\": 4,\n",
        "    \"primary_metric\": 'AUC_weighted',\n",
        "    \"featurization\": 'auto',\n",
        "}\n",
        "\n",
        "# TODO: Put your automl config here\n",
        "automl_config = AutoMLConfig(\n",
        "    compute_target = 'vpacompute',\n",
        "    task=\"classification\",\n",
        "    training_data= training_data,\n",
        "    label_column_name= \"Personal Loan\",\n",
        "    n_cross_validations=5\n",
        ")"
      ],
      "outputs": [],
      "execution_count": 13,
      "metadata": {
        "gather": {
          "logged": 1611418490086
        },
        "jupyter": {
          "outputs_hidden": false,
          "source_hidden": false
        },
        "nteract": {
          "transient": {
            "deleting": false
          }
        }
      }
    },
    {
      "cell_type": "code",
      "source": [
        "# TODO: Submit your experiment\n",
        "#remote_run = experiment.submit(automl_config)\n",
        "remote_run = experiment.submit(automl_config, show_output = True)\n",
        "remote_run"
      ],
      "outputs": [
        {
          "output_type": "stream",
          "name": "stdout",
          "text": [
            "Running on remote.\n",
            "No run_configuration provided, running on vpacompute with default configuration\n",
            "Running on remote compute: vpacompute\n",
            "Parent Run ID: AutoML_36eac4de-496f-43d2-871e-5b4d9185349d\n",
            "\n",
            "Current status: FeaturesGeneration. Generating features for the dataset.\n",
            "Current status: DatasetCrossValidationSplit. Generating individually featurized CV splits.\n",
            "Current status: ModelSelection. Beginning model selection.\n",
            "\n",
            "****************************************************************************************************\n",
            "DATA GUARDRAILS: \n",
            "\n",
            "TYPE:         Class balancing detection\n",
            "STATUS:       ALERTED\n",
            "DESCRIPTION:  To decrease model bias, please cancel the current run and fix balancing problem.\n",
            "              Learn more about imbalanced data: https://aka.ms/AutomatedMLImbalancedData\n",
            "DETAILS:      Imbalanced data can lead to a falsely perceived positive effect of a model's accuracy because the input data has bias towards one class.\n",
            "+---------------------------------+---------------------------------+--------------------------------------+\n",
            "|Size of the smallest class       |Name/Label of the smallest class |Number of samples in the training data|\n",
            "+=================================+=================================+======================================+\n",
            "|367                              |1                                |3750                                  |\n",
            "+---------------------------------+---------------------------------+--------------------------------------+\n",
            "\n",
            "****************************************************************************************************\n",
            "\n",
            "TYPE:         Missing feature values imputation\n",
            "STATUS:       PASSED\n",
            "DESCRIPTION:  No feature missing values were detected in the training data.\n",
            "              Learn more about missing value imputation: https://aka.ms/AutomatedMLFeaturization\n",
            "\n",
            "****************************************************************************************************\n",
            "\n",
            "TYPE:         High cardinality feature detection\n",
            "STATUS:       PASSED\n",
            "DESCRIPTION:  Your inputs were analyzed, and no high cardinality features were detected.\n",
            "              Learn more about high cardinality feature handling: https://aka.ms/AutomatedMLFeaturization\n",
            "\n",
            "****************************************************************************************************\n",
            "\n",
            "****************************************************************************************************\n",
            "ITERATION: The iteration being evaluated.\n",
            "PIPELINE: A summary description of the pipeline being evaluated.\n",
            "DURATION: Time taken for the current iteration.\n",
            "METRIC: The result of computing score on the fitted pipeline.\n",
            "BEST: The best observed score thus far.\n",
            "****************************************************************************************************\n",
            "\n",
            " ITERATION   PIPELINE                                       DURATION      METRIC      BEST\n",
            "         0   MaxAbsScaler LightGBM                          0:00:45       0.9861    0.9861\n",
            "         1   MaxAbsScaler XGBoostClassifier                 0:00:43       0.9867    0.9867\n",
            "         2   MaxAbsScaler RandomForest                      0:00:45       0.9595    0.9867\n",
            "         3   MaxAbsScaler RandomForest                      0:00:47       0.9045    0.9867\n",
            "         4   MaxAbsScaler RandomForest                      0:00:46       0.9451    0.9867\n",
            "         5   MaxAbsScaler RandomForest                      0:00:52       0.8448    0.9867\n",
            "         6   SparseNormalizer XGBoostClassifier             0:00:43       0.9523    0.9867\n",
            "         7   MaxAbsScaler GradientBoosting                  0:00:46       0.9664    0.9867\n",
            "         8   MaxAbsScaler ExtremeRandomTrees                0:01:07       0.9021    0.9867\n",
            "         9   MaxAbsScaler LogisticRegression                0:00:53       0.9635    0.9867\n",
            "        10   StandardScalerWrapper RandomForest             0:00:43       0.9285    0.9867\n",
            "        11   SparseNormalizer XGBoostClassifier             0:00:56       0.9531    0.9867\n",
            "        12   MaxAbsScaler LightGBM                          0:01:00       0.9803    0.9867\n",
            "        13   StandardScalerWrapper LightGBM                 0:00:49       0.9088    0.9867\n",
            "        14   MaxAbsScaler LightGBM                          0:00:49       0.9499    0.9867\n",
            "        15   MaxAbsScaler LightGBM                          0:00:45       0.9845    0.9867\n",
            "        16   MaxAbsScaler RandomForest                      0:00:48       0.9656    0.9867\n",
            "        17   StandardScalerWrapper LightGBM                 0:00:47       0.9843    0.9867\n",
            "        18   StandardScalerWrapper XGBoostClassifier        0:00:42       0.9872    0.9872\n",
            "        19   StandardScalerWrapper ExtremeRandomTrees       0:00:49       0.9115    0.9872\n",
            "        20   SparseNormalizer XGBoostClassifier             0:00:40       0.9541    0.9872\n",
            "        21   StandardScalerWrapper LightGBM                 0:00:49       0.9021    0.9872\n",
            "        22   SparseNormalizer XGBoostClassifier             0:00:44       0.9299    0.9872\n",
            "        23   SparseNormalizer XGBoostClassifier             0:00:43       0.9627    0.9872\n",
            "        24   MaxAbsScaler LightGBM                          0:00:43       0.9765    0.9872\n",
            "        25   TruncatedSVDWrapper XGBoostClassifier          0:00:39       0.9021    0.9872\n",
            "        26   MaxAbsScaler LogisticRegression                0:00:49       0.9664    0.9872\n",
            "        27   MaxAbsScaler LogisticRegression                0:00:44       0.9683    0.9872\n",
            "        28   MaxAbsScaler LightGBM                          0:00:57       0.9819    0.9872\n",
            "        29   MaxAbsScaler ExtremeRandomTrees                0:00:52       0.8941    0.9872\n",
            "        30    VotingEnsemble                                0:01:27       0.9885    0.9885\n",
            "        31    StackEnsemble                                 0:01:32       0.9877    0.9885\n"
          ]
        },
        {
          "output_type": "execute_result",
          "execution_count": 14,
          "data": {
            "text/html": "<table style=\"width:100%\"><tr><th>Experiment</th><th>Id</th><th>Type</th><th>Status</th><th>Details Page</th><th>Docs Page</th></tr><tr><td>People_loan_experiment</td><td>AutoML_36eac4de-496f-43d2-871e-5b4d9185349d</td><td>automl</td><td>Completed</td><td><a href=\"https://ml.azure.com/experiments/People_loan_experiment/runs/AutoML_36eac4de-496f-43d2-871e-5b4d9185349d?wsid=/subscriptions/784d8740-4c70-4d20-8f45-b2bfecf94029/resourcegroups/myresourcegroup/workspaces/toria_workspace\" target=\"_blank\" rel=\"noopener\">Link to Azure Machine Learning studio</a></td><td><a href=\"https://docs.microsoft.com/en-us/python/api/overview/azure/ml/intro?view=azure-ml-py\" target=\"_blank\" rel=\"noopener\">Link to Documentation</a></td></tr></table>",
            "text/plain": "Run(Experiment: People_loan_experiment,\nId: AutoML_36eac4de-496f-43d2-871e-5b4d9185349d,\nType: automl,\nStatus: Completed)"
          },
          "metadata": {}
        }
      ],
      "execution_count": 14,
      "metadata": {
        "gather": {
          "logged": 1611421858148
        },
        "jupyter": {
          "outputs_hidden": false,
          "source_hidden": false
        },
        "nteract": {
          "transient": {
            "deleting": false
          }
        }
      }
    },
    {
      "cell_type": "markdown",
      "source": [
        "## Run Details\n",
        "\n",
        "OPTIONAL: Write about the different models trained and their performance. Why do you think some models did better than others?\n",
        "\n",
        "TODO: In the cell below, use the `RunDetails` widget to show the different experiments."
      ],
      "metadata": {}
    },
    {
      "cell_type": "code",
      "source": [
        "from azureml.widgets import RunDetails\n",
        "\n",
        "RunDetails(remote_run).show()"
      ],
      "outputs": [
        {
          "output_type": "display_data",
          "data": {
            "application/vnd.jupyter.widget-view+json": {
              "model_id": "e5bb5f90c58c460b98c354c4b5435820",
              "version_major": 2,
              "version_minor": 0
            },
            "text/plain": "_AutoMLWidget(widget_settings={'childWidgetDisplay': 'popup', 'send_telemetry': False, 'log_level': 'INFO', 's…"
          },
          "metadata": {}
        },
        {
          "output_type": "display_data",
          "data": {
            "application/aml.mini.widget.v1": "{\"status\": \"Completed\", \"workbench_run_details_uri\": \"https://ml.azure.com/experiments/People_loan_experiment/runs/AutoML_36eac4de-496f-43d2-871e-5b4d9185349d?wsid=/subscriptions/784d8740-4c70-4d20-8f45-b2bfecf94029/resourcegroups/myresourcegroup/workspaces/toria_workspace\", \"run_id\": \"AutoML_36eac4de-496f-43d2-871e-5b4d9185349d\", \"run_properties\": {\"run_id\": \"AutoML_36eac4de-496f-43d2-871e-5b4d9185349d\", \"created_utc\": \"2021-01-23T18:18:36.524244Z\", \"properties\": {\"num_iterations\": \"1000\", \"training_type\": \"TrainFull\", \"acquisition_function\": \"EI\", \"primary_metric\": \"accuracy\", \"train_split\": \"0\", \"acquisition_parameter\": \"0\", \"num_cross_validation\": \"5\", \"target\": \"vpacompute\", \"AMLSettingsJsonString\": \"{\\\"path\\\":null,\\\"name\\\":\\\"People_loan_experiment\\\",\\\"subscription_id\\\":\\\"784d8740-4c70-4d20-8f45-b2bfecf94029\\\",\\\"resource_group\\\":\\\"myresourcegroup\\\",\\\"workspace_name\\\":\\\"toria_workspace\\\",\\\"region\\\":\\\"eastus2\\\",\\\"compute_target\\\":\\\"vpacompute\\\",\\\"spark_service\\\":null,\\\"azure_service\\\":\\\"remote\\\",\\\"many_models\\\":false,\\\"pipeline_fetch_max_batch_size\\\":1,\\\"iterations\\\":1000,\\\"primary_metric\\\":\\\"accuracy\\\",\\\"task_type\\\":\\\"classification\\\",\\\"data_script\\\":null,\\\"validation_size\\\":0.0,\\\"n_cross_validations\\\":5,\\\"y_min\\\":null,\\\"y_max\\\":null,\\\"num_classes\\\":null,\\\"featurization\\\":\\\"auto\\\",\\\"_ignore_package_version_incompatibilities\\\":false,\\\"is_timeseries\\\":false,\\\"max_cores_per_iteration\\\":1,\\\"max_concurrent_iterations\\\":1,\\\"iteration_timeout_minutes\\\":null,\\\"mem_in_mb\\\":null,\\\"enforce_time_on_windows\\\":false,\\\"experiment_timeout_minutes\\\":8640,\\\"experiment_exit_score\\\":null,\\\"whitelist_models\\\":null,\\\"blacklist_algos\\\":[\\\"TensorFlowLinearClassifier\\\",\\\"TensorFlowDNN\\\"],\\\"supported_models\\\":[\\\"TensorFlowLinearClassifier\\\",\\\"LogisticRegression\\\",\\\"LinearSVM\\\",\\\"SGD\\\",\\\"XGBoostClassifier\\\",\\\"BernoulliNaiveBayes\\\",\\\"DecisionTree\\\",\\\"ExtremeRandomTrees\\\",\\\"MultinomialNaiveBayes\\\",\\\"GradientBoosting\\\",\\\"KNN\\\",\\\"AveragedPerceptronClassifier\\\",\\\"TensorFlowDNN\\\",\\\"RandomForest\\\",\\\"SVM\\\",\\\"LightGBM\\\"],\\\"auto_blacklist\\\":true,\\\"blacklist_samples_reached\\\":false,\\\"exclude_nan_labels\\\":true,\\\"verbosity\\\":20,\\\"_debug_log\\\":\\\"azureml_automl.log\\\",\\\"show_warnings\\\":false,\\\"model_explainability\\\":true,\\\"service_url\\\":null,\\\"sdk_url\\\":null,\\\"sdk_packages\\\":null,\\\"enable_onnx_compatible_models\\\":false,\\\"enable_split_onnx_featurizer_estimator_models\\\":false,\\\"vm_type\\\":\\\"STANDARD_DS3_V2\\\",\\\"telemetry_verbosity\\\":20,\\\"send_telemetry\\\":true,\\\"enable_dnn\\\":false,\\\"scenario\\\":\\\"SDK-1.13.0\\\",\\\"environment_label\\\":null,\\\"force_text_dnn\\\":false,\\\"enable_feature_sweeping\\\":true,\\\"enable_early_stopping\\\":true,\\\"early_stopping_n_iters\\\":10,\\\"metrics\\\":null,\\\"enable_ensembling\\\":true,\\\"enable_stack_ensembling\\\":true,\\\"ensemble_iterations\\\":15,\\\"enable_tf\\\":false,\\\"enable_subsampling\\\":null,\\\"subsample_seed\\\":null,\\\"enable_nimbusml\\\":false,\\\"enable_streaming\\\":false,\\\"force_streaming\\\":false,\\\"track_child_runs\\\":true,\\\"allowed_private_models\\\":[],\\\"label_column_name\\\":\\\"Personal Loan\\\",\\\"weight_column_name\\\":null,\\\"cv_split_column_names\\\":null,\\\"enable_local_managed\\\":false,\\\"_local_managed_run_id\\\":null,\\\"cost_mode\\\":1,\\\"lag_length\\\":0,\\\"metric_operation\\\":\\\"maximize\\\",\\\"preprocess\\\":true}\", \"DataPrepJsonString\": \"{\\\\\\\"training_data\\\\\\\": \\\\\\\"{\\\\\\\\\\\\\\\"blocks\\\\\\\\\\\\\\\": [{\\\\\\\\\\\\\\\"id\\\\\\\\\\\\\\\": \\\\\\\\\\\\\\\"8a6a0a30-4562-4c25-84d7-a8685548da99\\\\\\\\\\\\\\\", \\\\\\\\\\\\\\\"type\\\\\\\\\\\\\\\": \\\\\\\\\\\\\\\"Microsoft.DPrep.GetDatastoreFilesBlock\\\\\\\\\\\\\\\", \\\\\\\\\\\\\\\"arguments\\\\\\\\\\\\\\\": {\\\\\\\\\\\\\\\"datastores\\\\\\\\\\\\\\\": [{\\\\\\\\\\\\\\\"datastoreName\\\\\\\\\\\\\\\": \\\\\\\\\\\\\\\"workspaceblobstore\\\\\\\\\\\\\\\", \\\\\\\\\\\\\\\"path\\\\\\\\\\\\\\\": \\\\\\\\\\\\\\\"loandataset/loan.csv\\\\\\\\\\\\\\\", \\\\\\\\\\\\\\\"resourceGroup\\\\\\\\\\\\\\\": \\\\\\\\\\\\\\\"myresourcegroup\\\\\\\\\\\\\\\", \\\\\\\\\\\\\\\"subscription\\\\\\\\\\\\\\\": \\\\\\\\\\\\\\\"784d8740-4c70-4d20-8f45-b2bfecf94029\\\\\\\\\\\\\\\", \\\\\\\\\\\\\\\"workspaceName\\\\\\\\\\\\\\\": \\\\\\\\\\\\\\\"Toria_workspace\\\\\\\\\\\\\\\"}]}, \\\\\\\\\\\\\\\"localData\\\\\\\\\\\\\\\": {}, \\\\\\\\\\\\\\\"isEnabled\\\\\\\\\\\\\\\": true, \\\\\\\\\\\\\\\"name\\\\\\\\\\\\\\\": null, \\\\\\\\\\\\\\\"annotation\\\\\\\\\\\\\\\": null}, {\\\\\\\\\\\\\\\"id\\\\\\\\\\\\\\\": \\\\\\\\\\\\\\\"d20228cf-c1d6-472b-bcb7-cf6d9aaaea44\\\\\\\\\\\\\\\", \\\\\\\\\\\\\\\"type\\\\\\\\\\\\\\\": \\\\\\\\\\\\\\\"Microsoft.DPrep.ParseDelimitedBlock\\\\\\\\\\\\\\\", \\\\\\\\\\\\\\\"arguments\\\\\\\\\\\\\\\": {\\\\\\\\\\\\\\\"columnHeadersMode\\\\\\\\\\\\\\\": 3, \\\\\\\\\\\\\\\"fileEncoding\\\\\\\\\\\\\\\": 0, \\\\\\\\\\\\\\\"handleQuotedLineBreaks\\\\\\\\\\\\\\\": false, \\\\\\\\\\\\\\\"preview\\\\\\\\\\\\\\\": false, \\\\\\\\\\\\\\\"separator\\\\\\\\\\\\\\\": \\\\\\\\\\\\\\\",\\\\\\\\\\\\\\\", \\\\\\\\\\\\\\\"skipRows\\\\\\\\\\\\\\\": 0, \\\\\\\\\\\\\\\"skipRowsMode\\\\\\\\\\\\\\\": 0}, \\\\\\\\\\\\\\\"localData\\\\\\\\\\\\\\\": {}, \\\\\\\\\\\\\\\"isEnabled\\\\\\\\\\\\\\\": true, \\\\\\\\\\\\\\\"name\\\\\\\\\\\\\\\": null, \\\\\\\\\\\\\\\"annotation\\\\\\\\\\\\\\\": null}, {\\\\\\\\\\\\\\\"id\\\\\\\\\\\\\\\": \\\\\\\\\\\\\\\"52ee2053-9484-4c04-b024-122668d9d446\\\\\\\\\\\\\\\", \\\\\\\\\\\\\\\"type\\\\\\\\\\\\\\\": \\\\\\\\\\\\\\\"Microsoft.DPrep.DropColumnsBlock\\\\\\\\\\\\\\\", \\\\\\\\\\\\\\\"arguments\\\\\\\\\\\\\\\": {\\\\\\\\\\\\\\\"columns\\\\\\\\\\\\\\\": {\\\\\\\\\\\\\\\"type\\\\\\\\\\\\\\\": 0, \\\\\\\\\\\\\\\"details\\\\\\\\\\\\\\\": {\\\\\\\\\\\\\\\"selectedColumns\\\\\\\\\\\\\\\": [\\\\\\\\\\\\\\\"Path\\\\\\\\\\\\\\\"]}}}, \\\\\\\\\\\\\\\"localData\\\\\\\\\\\\\\\": {}, \\\\\\\\\\\\\\\"isEnabled\\\\\\\\\\\\\\\": true, \\\\\\\\\\\\\\\"name\\\\\\\\\\\\\\\": null, \\\\\\\\\\\\\\\"annotation\\\\\\\\\\\\\\\": null}, {\\\\\\\\\\\\\\\"id\\\\\\\\\\\\\\\": \\\\\\\\\\\\\\\"9ba5b2af-de51-465e-ae4b-efa6c6183d53\\\\\\\\\\\\\\\", \\\\\\\\\\\\\\\"type\\\\\\\\\\\\\\\": \\\\\\\\\\\\\\\"Microsoft.DPrep.SetColumnTypesBlock\\\\\\\\\\\\\\\", \\\\\\\\\\\\\\\"arguments\\\\\\\\\\\\\\\": {\\\\\\\\\\\\\\\"columnConversion\\\\\\\\\\\\\\\": [{\\\\\\\\\\\\\\\"column\\\\\\\\\\\\\\\": {\\\\\\\\\\\\\\\"type\\\\\\\\\\\\\\\": 2, \\\\\\\\\\\\\\\"details\\\\\\\\\\\\\\\": {\\\\\\\\\\\\\\\"selectedColumn\\\\\\\\\\\\\\\": \\\\\\\\\\\\\\\"Column1\\\\\\\\\\\\\\\"}}, \\\\\\\\\\\\\\\"typeProperty\\\\\\\\\\\\\\\": 2}, {\\\\\\\\\\\\\\\"column\\\\\\\\\\\\\\\": {\\\\\\\\\\\\\\\"type\\\\\\\\\\\\\\\": 2, \\\\\\\\\\\\\\\"details\\\\\\\\\\\\\\\": {\\\\\\\\\\\\\\\"selectedColumn\\\\\\\\\\\\\\\": \\\\\\\\\\\\\\\"Experience\\\\\\\\\\\\\\\"}}, \\\\\\\\\\\\\\\"typeProperty\\\\\\\\\\\\\\\": 3}, {\\\\\\\\\\\\\\\"column\\\\\\\\\\\\\\\": {\\\\\\\\\\\\\\\"type\\\\\\\\\\\\\\\": 2, \\\\\\\\\\\\\\\"details\\\\\\\\\\\\\\\": {\\\\\\\\\\\\\\\"selectedColumn\\\\\\\\\\\\\\\": \\\\\\\\\\\\\\\"Income\\\\\\\\\\\\\\\"}}, \\\\\\\\\\\\\\\"typeProperty\\\\\\\\\\\\\\\": 3}, {\\\\\\\\\\\\\\\"column\\\\\\\\\\\\\\\": {\\\\\\\\\\\\\\\"type\\\\\\\\\\\\\\\": 2, \\\\\\\\\\\\\\\"details\\\\\\\\\\\\\\\": {\\\\\\\\\\\\\\\"selectedColumn\\\\\\\\\\\\\\\": \\\\\\\\\\\\\\\"Family\\\\\\\\\\\\\\\"}}, \\\\\\\\\\\\\\\"typeProperty\\\\\\\\\\\\\\\": 2}, {\\\\\\\\\\\\\\\"column\\\\\\\\\\\\\\\": {\\\\\\\\\\\\\\\"type\\\\\\\\\\\\\\\": 2, \\\\\\\\\\\\\\\"details\\\\\\\\\\\\\\\": {\\\\\\\\\\\\\\\"selectedColumn\\\\\\\\\\\\\\\": \\\\\\\\\\\\\\\"CCAvg\\\\\\\\\\\\\\\"}}, \\\\\\\\\\\\\\\"typeProperty\\\\\\\\\\\\\\\": 3}, {\\\\\\\\\\\\\\\"column\\\\\\\\\\\\\\\": {\\\\\\\\\\\\\\\"type\\\\\\\\\\\\\\\": 2, \\\\\\\\\\\\\\\"details\\\\\\\\\\\\\\\": {\\\\\\\\\\\\\\\"selectedColumn\\\\\\\\\\\\\\\": \\\\\\\\\\\\\\\"Education\\\\\\\\\\\\\\\"}}, \\\\\\\\\\\\\\\"typeProperty\\\\\\\\\\\\\\\": 2}, {\\\\\\\\\\\\\\\"column\\\\\\\\\\\\\\\": {\\\\\\\\\\\\\\\"type\\\\\\\\\\\\\\\": 2, \\\\\\\\\\\\\\\"details\\\\\\\\\\\\\\\": {\\\\\\\\\\\\\\\"selectedColumn\\\\\\\\\\\\\\\": \\\\\\\\\\\\\\\"Mortgage\\\\\\\\\\\\\\\"}}, \\\\\\\\\\\\\\\"typeProperty\\\\\\\\\\\\\\\": 3}, {\\\\\\\\\\\\\\\"column\\\\\\\\\\\\\\\": {\\\\\\\\\\\\\\\"type\\\\\\\\\\\\\\\": 2, \\\\\\\\\\\\\\\"details\\\\\\\\\\\\\\\": {\\\\\\\\\\\\\\\"selectedColumn\\\\\\\\\\\\\\\": \\\\\\\\\\\\\\\"Securities Account\\\\\\\\\\\\\\\"}}, \\\\\\\\\\\\\\\"typeProperty\\\\\\\\\\\\\\\": 2}, {\\\\\\\\\\\\\\\"column\\\\\\\\\\\\\\\": {\\\\\\\\\\\\\\\"type\\\\\\\\\\\\\\\": 2, \\\\\\\\\\\\\\\"details\\\\\\\\\\\\\\\": {\\\\\\\\\\\\\\\"selectedColumn\\\\\\\\\\\\\\\": \\\\\\\\\\\\\\\"CD Account\\\\\\\\\\\\\\\"}}, \\\\\\\\\\\\\\\"typeProperty\\\\\\\\\\\\\\\": 2}, {\\\\\\\\\\\\\\\"column\\\\\\\\\\\\\\\": {\\\\\\\\\\\\\\\"type\\\\\\\\\\\\\\\": 2, \\\\\\\\\\\\\\\"details\\\\\\\\\\\\\\\": {\\\\\\\\\\\\\\\"selectedColumn\\\\\\\\\\\\\\\": \\\\\\\\\\\\\\\"Personal Loan\\\\\\\\\\\\\\\"}}, \\\\\\\\\\\\\\\"typeProperty\\\\\\\\\\\\\\\": 2}]}, \\\\\\\\\\\\\\\"localData\\\\\\\\\\\\\\\": {}, \\\\\\\\\\\\\\\"isEnabled\\\\\\\\\\\\\\\": true, \\\\\\\\\\\\\\\"name\\\\\\\\\\\\\\\": null, \\\\\\\\\\\\\\\"annotation\\\\\\\\\\\\\\\": null}], \\\\\\\\\\\\\\\"inspectors\\\\\\\\\\\\\\\": [], \\\\\\\\\\\\\\\"meta\\\\\\\\\\\\\\\": {\\\\\\\\\\\\\\\"savedDatasetId\\\\\\\\\\\\\\\": \\\\\\\\\\\\\\\"79036033-af9a-4d5a-8211-e5e27a5f8d78\\\\\\\\\\\\\\\", \\\\\\\\\\\\\\\"datasetType\\\\\\\\\\\\\\\": \\\\\\\\\\\\\\\"tabular\\\\\\\\\\\\\\\", \\\\\\\\\\\\\\\"subscriptionId\\\\\\\\\\\\\\\": \\\\\\\\\\\\\\\"784d8740-4c70-4d20-8f45-b2bfecf94029\\\\\\\\\\\\\\\", \\\\\\\\\\\\\\\"workspaceId\\\\\\\\\\\\\\\": \\\\\\\\\\\\\\\"55d46784-4d95-4e48-a295-f8417ee4bb2e\\\\\\\\\\\\\\\", \\\\\\\\\\\\\\\"workspaceLocation\\\\\\\\\\\\\\\": \\\\\\\\\\\\\\\"eastus2\\\\\\\\\\\\\\\"}}\\\\\\\", \\\\\\\"activities\\\\\\\": 0}\", \"EnableSubsampling\": null, \"runTemplate\": \"AutoML\", \"azureml.runsource\": \"automl\", \"display_task_type\": \"classification\", \"dependencies_versions\": \"{\\\"azureml-widgets\\\": \\\"1.20.0\\\", \\\"azureml-train\\\": \\\"1.20.0\\\", \\\"azureml-train-restclients-hyperdrive\\\": \\\"1.20.0\\\", \\\"azureml-train-core\\\": \\\"1.20.0\\\", \\\"azureml-train-automl\\\": \\\"1.20.0\\\", \\\"azureml-train-automl-runtime\\\": \\\"1.20.0.post1\\\", \\\"azureml-train-automl-client\\\": \\\"1.20.0\\\", \\\"azureml-tensorboard\\\": \\\"1.19.0\\\", \\\"azureml-telemetry\\\": \\\"1.20.0\\\", \\\"azureml-sdk\\\": \\\"1.20.0\\\", \\\"azureml-samples\\\": \\\"0+unknown\\\", \\\"azureml-pipeline\\\": \\\"1.20.0\\\", \\\"azureml-pipeline-steps\\\": \\\"1.20.0\\\", \\\"azureml-pipeline-core\\\": \\\"1.20.0\\\", \\\"azureml-opendatasets\\\": \\\"1.19.0\\\", \\\"azureml-model-management-sdk\\\": \\\"1.0.1b6.post1\\\", \\\"azureml-mlflow\\\": \\\"1.19.0\\\", \\\"azureml-interpret\\\": \\\"1.20.0\\\", \\\"azureml-explain-model\\\": \\\"1.19.0\\\", \\\"azureml-defaults\\\": \\\"1.20.0\\\", \\\"azureml-dataset-runtime\\\": \\\"1.20.0\\\", \\\"azureml-dataprep\\\": \\\"2.7.3\\\", \\\"azureml-dataprep-rslex\\\": \\\"1.5.0\\\", \\\"azureml-dataprep-native\\\": \\\"27.0.0\\\", \\\"azureml-datadrift\\\": \\\"1.19.0\\\", \\\"azureml-core\\\": \\\"1.20.0\\\", \\\"azureml-contrib-services\\\": \\\"1.19.0\\\", \\\"azureml-contrib-server\\\": \\\"1.19.0\\\", \\\"azureml-contrib-reinforcementlearning\\\": \\\"1.19.0\\\", \\\"azureml-contrib-pipeline-steps\\\": \\\"1.19.0\\\", \\\"azureml-contrib-notebook\\\": \\\"1.20.0\\\", \\\"azureml-contrib-interpret\\\": \\\"1.19.0\\\", \\\"azureml-contrib-gbdt\\\": \\\"1.19.0\\\", \\\"azureml-contrib-fairness\\\": \\\"1.19.0\\\", \\\"azureml-contrib-dataset\\\": \\\"1.19.0\\\", \\\"azureml-cli-common\\\": \\\"1.19.0\\\", \\\"azureml-automl-runtime\\\": \\\"1.20.0\\\", \\\"azureml-automl-core\\\": \\\"1.20.0\\\", \\\"azureml-accel-models\\\": \\\"1.19.0\\\"}\", \"_aml_system_scenario_identification\": \"Remote.Parent\", \"ClientType\": \"SDK\", \"environment_cpu_name\": \"AzureML-AutoML\", \"environment_cpu_label\": \"prod\", \"environment_gpu_name\": \"AzureML-AutoML-GPU\", \"environment_gpu_label\": \"prod\", \"root_attribution\": \"automl\", \"attribution\": \"AutoML\", \"Orchestrator\": \"AutoML\", \"CancelUri\": \"https://eastus2.experiments.azureml.net/jasmine/v1.0/subscriptions/784d8740-4c70-4d20-8f45-b2bfecf94029/resourceGroups/myresourcegroup/providers/Microsoft.MachineLearningServices/workspaces/toria_workspace/experimentids/3606ada3-13d4-4953-911f-5f502ee48165/cancel/AutoML_36eac4de-496f-43d2-871e-5b4d9185349d\", \"ClientSdkVersion\": \"1.20.0.post1\", \"snapshotId\": \"00000000-0000-0000-0000-000000000000\", \"SetupRunId\": \"AutoML_36eac4de-496f-43d2-871e-5b4d9185349d_setup\", \"SetupRunContainerId\": \"dcid.AutoML_36eac4de-496f-43d2-871e-5b4d9185349d_setup\", \"FeaturizationRunJsonPath\": \"featurizer_container.json\", \"FeaturizationRunId\": \"AutoML_36eac4de-496f-43d2-871e-5b4d9185349d_featurize\", \"ProblemInfoJsonString\": \"{\\\"dataset_num_categorical\\\": 0, \\\"is_sparse\\\": true, \\\"subsampling\\\": false, \\\"dataset_classes\\\": 2, \\\"dataset_features\\\": 14, \\\"dataset_samples\\\": 3750, \\\"single_frequency_class_detected\\\": false}\", \"ModelExplainRunId\": \"AutoML_36eac4de-496f-43d2-871e-5b4d9185349d_ModelExplain\"}, \"tags\": {\"model_explain_run\": \"best_run\", \"_aml_system_azureml.automlComponent\": \"AutoML\", \"pipeline_id\": \"\", \"score\": \"\", \"predicted_cost\": \"\", \"fit_time\": \"\", \"training_percent\": \"\", \"iteration\": \"\", \"run_preprocessor\": \"\", \"run_algorithm\": \"\", \"dynamic_whitelisting_iterations\": \"<25>;\", \"automl_best_child_run_id\": \"AutoML_36eac4de-496f-43d2-871e-5b4d9185349d_30\", \"model_explain_best_run_child_id\": \"AutoML_36eac4de-496f-43d2-871e-5b4d9185349d_30\"}, \"end_time_utc\": \"2021-01-23T18:58:10.476751Z\", \"status\": \"Completed\", \"log_files\": {}, \"log_groups\": [], \"run_duration\": \"0:39:33\"}, \"child_runs\": [{\"run_id\": \"AutoML_36eac4de-496f-43d2-871e-5b4d9185349d_0\", \"run_number\": 55, \"metric\": null, \"status\": \"Completed\", \"run_type\": \"azureml.scriptrun\", \"training_percent\": \"100\", \"start_time\": \"2021-01-23T18:23:11.425501Z\", \"end_time\": \"2021-01-23T18:23:56.808289Z\", \"created_time\": \"2021-01-23T18:22:58.81979Z\", \"created_time_dt\": \"2021-01-23T18:22:58.81979Z\", \"duration\": \"0:00:57\", \"iteration\": \"0\", \"goal\": \"accuracy_max\", \"run_name\": \"MaxAbsScaler, LightGBM\", \"run_properties\": \"copy=True\", \"primary_metric\": 0.98613333, \"best_metric\": 0.98613333}, {\"run_id\": \"AutoML_36eac4de-496f-43d2-871e-5b4d9185349d_1\", \"run_number\": 56, \"metric\": null, \"status\": \"Completed\", \"run_type\": \"azureml.scriptrun\", \"training_percent\": \"100\", \"start_time\": \"2021-01-23T18:24:11.944783Z\", \"end_time\": \"2021-01-23T18:24:55.124483Z\", \"created_time\": \"2021-01-23T18:23:58.157671Z\", \"created_time_dt\": \"2021-01-23T18:23:58.157671Z\", \"duration\": \"0:00:56\", \"iteration\": \"1\", \"goal\": \"accuracy_max\", \"run_name\": \"MaxAbsScaler, XGBoostClassifier\", \"run_properties\": \"copy=True\", \"primary_metric\": 0.98666667, \"best_metric\": 0.98666667}, {\"run_id\": \"AutoML_36eac4de-496f-43d2-871e-5b4d9185349d_2\", \"run_number\": 57, \"metric\": null, \"status\": \"Completed\", \"run_type\": \"azureml.scriptrun\", \"training_percent\": \"100\", \"start_time\": \"2021-01-23T18:25:07.884988Z\", \"end_time\": \"2021-01-23T18:25:53.132501Z\", \"created_time\": \"2021-01-23T18:24:56.379162Z\", \"created_time_dt\": \"2021-01-23T18:24:56.379162Z\", \"duration\": \"0:00:56\", \"iteration\": \"2\", \"goal\": \"accuracy_max\", \"run_name\": \"MaxAbsScaler, RandomForest\", \"run_properties\": \"copy=True\", \"primary_metric\": 0.95946667, \"best_metric\": 0.98666667}, {\"run_id\": \"AutoML_36eac4de-496f-43d2-871e-5b4d9185349d_3\", \"run_number\": 58, \"metric\": null, \"status\": \"Completed\", \"run_type\": \"azureml.scriptrun\", \"training_percent\": \"100\", \"start_time\": \"2021-01-23T18:26:06.478566Z\", \"end_time\": \"2021-01-23T18:26:53.941751Z\", \"created_time\": \"2021-01-23T18:25:55.410447Z\", \"created_time_dt\": \"2021-01-23T18:25:55.410447Z\", \"duration\": \"0:00:58\", \"iteration\": \"3\", \"goal\": \"accuracy_max\", \"run_name\": \"MaxAbsScaler, RandomForest\", \"run_properties\": \"copy=True\", \"primary_metric\": 0.90453333, \"best_metric\": 0.98666667}, {\"run_id\": \"AutoML_36eac4de-496f-43d2-871e-5b4d9185349d_4\", \"run_number\": 59, \"metric\": null, \"status\": \"Completed\", \"run_type\": \"azureml.scriptrun\", \"training_percent\": \"100\", \"start_time\": \"2021-01-23T18:27:11.50409Z\", \"end_time\": \"2021-01-23T18:27:57.313381Z\", \"created_time\": \"2021-01-23T18:26:56.180337Z\", \"created_time_dt\": \"2021-01-23T18:26:56.180337Z\", \"duration\": \"0:01:01\", \"iteration\": \"4\", \"goal\": \"accuracy_max\", \"run_name\": \"MaxAbsScaler, RandomForest\", \"run_properties\": \"copy=True\", \"primary_metric\": 0.94506667, \"best_metric\": 0.98666667}, {\"run_id\": \"AutoML_36eac4de-496f-43d2-871e-5b4d9185349d_5\", \"run_number\": 60, \"metric\": null, \"status\": \"Completed\", \"run_type\": \"azureml.scriptrun\", \"training_percent\": \"100\", \"start_time\": \"2021-01-23T18:28:14.306102Z\", \"end_time\": \"2021-01-23T18:29:06.6677Z\", \"created_time\": \"2021-01-23T18:27:59.689069Z\", \"created_time_dt\": \"2021-01-23T18:27:59.689069Z\", \"duration\": \"0:01:06\", \"iteration\": \"5\", \"goal\": \"accuracy_max\", \"run_name\": \"MaxAbsScaler, RandomForest\", \"run_properties\": \"copy=True\", \"primary_metric\": 0.8448, \"best_metric\": 0.98666667}, {\"run_id\": \"AutoML_36eac4de-496f-43d2-871e-5b4d9185349d_6\", \"run_number\": 61, \"metric\": null, \"status\": \"Completed\", \"run_type\": \"azureml.scriptrun\", \"training_percent\": \"100\", \"start_time\": \"2021-01-23T18:29:21.796807Z\", \"end_time\": \"2021-01-23T18:30:04.592078Z\", \"created_time\": \"2021-01-23T18:29:08.66839Z\", \"created_time_dt\": \"2021-01-23T18:29:08.66839Z\", \"duration\": \"0:00:55\", \"iteration\": \"6\", \"goal\": \"accuracy_max\", \"run_name\": \"SparseNormalizer, XGBoostClassifier\", \"run_properties\": \"<azureml.automl.runtime.shared.model_wrappers.SparseNormalizer object at 0x7f8c62796fd0\", \"primary_metric\": 0.95226667, \"best_metric\": 0.98666667}, {\"run_id\": \"AutoML_36eac4de-496f-43d2-871e-5b4d9185349d_7\", \"run_number\": 62, \"metric\": null, \"status\": \"Completed\", \"run_type\": \"azureml.scriptrun\", \"training_percent\": \"100\", \"start_time\": \"2021-01-23T18:30:20.979005Z\", \"end_time\": \"2021-01-23T18:31:06.863389Z\", \"created_time\": \"2021-01-23T18:30:06.547762Z\", \"created_time_dt\": \"2021-01-23T18:30:06.547762Z\", \"duration\": \"0:01:00\", \"iteration\": \"7\", \"goal\": \"accuracy_max\", \"run_name\": \"MaxAbsScaler, GradientBoosting\", \"run_properties\": \"copy=True\", \"primary_metric\": 0.9664, \"best_metric\": 0.98666667}, {\"run_id\": \"AutoML_36eac4de-496f-43d2-871e-5b4d9185349d_8\", \"run_number\": 63, \"metric\": null, \"status\": \"Completed\", \"run_type\": \"azureml.scriptrun\", \"training_percent\": \"100\", \"start_time\": \"2021-01-23T18:31:20.6213Z\", \"end_time\": \"2021-01-23T18:32:27.46802Z\", \"created_time\": \"2021-01-23T18:31:08.973887Z\", \"created_time_dt\": \"2021-01-23T18:31:08.973887Z\", \"duration\": \"0:01:18\", \"iteration\": \"8\", \"goal\": \"accuracy_max\", \"run_name\": \"MaxAbsScaler, ExtremeRandomTrees\", \"run_properties\": \"copy=True\", \"primary_metric\": 0.90213333, \"best_metric\": 0.98666667}, {\"run_id\": \"AutoML_36eac4de-496f-43d2-871e-5b4d9185349d_9\", \"run_number\": 64, \"metric\": null, \"status\": \"Completed\", \"run_type\": \"azureml.scriptrun\", \"training_percent\": \"100\", \"start_time\": \"2021-01-23T18:32:47.221933Z\", \"end_time\": \"2021-01-23T18:33:40.120153Z\", \"created_time\": \"2021-01-23T18:32:29.230331Z\", \"created_time_dt\": \"2021-01-23T18:32:29.230331Z\", \"duration\": \"0:01:10\", \"iteration\": \"9\", \"goal\": \"accuracy_max\", \"run_name\": \"MaxAbsScaler, LogisticRegression\", \"run_properties\": \"copy=True\", \"primary_metric\": 0.96346667, \"best_metric\": 0.98666667}, {\"run_id\": \"AutoML_36eac4de-496f-43d2-871e-5b4d9185349d_10\", \"run_number\": 65, \"metric\": null, \"status\": \"Completed\", \"run_type\": \"azureml.scriptrun\", \"training_percent\": \"100\", \"start_time\": \"2021-01-23T18:33:59.930759Z\", \"end_time\": \"2021-01-23T18:34:42.453332Z\", \"created_time\": \"2021-01-23T18:33:46.604299Z\", \"created_time_dt\": \"2021-01-23T18:33:46.604299Z\", \"duration\": \"0:00:55\", \"iteration\": \"10\", \"goal\": \"accuracy_max\", \"run_name\": \"StandardScalerWrapper, RandomForest\", \"run_properties\": \"<azureml.automl.runtime.shared.model_wrappers.StandardScalerWrapper object at 0x7f68c9bae278\", \"primary_metric\": 0.92853333, \"best_metric\": 0.98666667}, {\"run_id\": \"AutoML_36eac4de-496f-43d2-871e-5b4d9185349d_11\", \"run_number\": 66, \"metric\": null, \"status\": \"Completed\", \"run_type\": \"azureml.scriptrun\", \"training_percent\": \"100\", \"start_time\": \"2021-01-23T18:35:01.413533Z\", \"end_time\": \"2021-01-23T18:35:56.987529Z\", \"created_time\": \"2021-01-23T18:34:46.480517Z\", \"created_time_dt\": \"2021-01-23T18:34:46.480517Z\", \"duration\": \"0:01:10\", \"iteration\": \"11\", \"goal\": \"accuracy_max\", \"run_name\": \"SparseNormalizer, XGBoostClassifier\", \"run_properties\": \"<azureml.automl.runtime.shared.model_wrappers.SparseNormalizer object at 0x7fa9d65dccc0\", \"primary_metric\": 0.95306667, \"best_metric\": 0.98666667}, {\"run_id\": \"AutoML_36eac4de-496f-43d2-871e-5b4d9185349d_12\", \"run_number\": 67, \"metric\": null, \"status\": \"Completed\", \"run_type\": \"azureml.scriptrun\", \"training_percent\": \"100\", \"start_time\": \"2021-01-23T18:36:11.662801Z\", \"end_time\": \"2021-01-23T18:37:11.830668Z\", \"created_time\": \"2021-01-23T18:35:58.626544Z\", \"created_time_dt\": \"2021-01-23T18:35:58.626544Z\", \"duration\": \"0:01:13\", \"iteration\": \"12\", \"goal\": \"accuracy_max\", \"run_name\": \"MaxAbsScaler, LightGBM\", \"run_properties\": \"copy=True\", \"primary_metric\": 0.98026667, \"best_metric\": 0.98666667}, {\"run_id\": \"AutoML_36eac4de-496f-43d2-871e-5b4d9185349d_13\", \"run_number\": 68, \"metric\": null, \"status\": \"Completed\", \"run_type\": \"azureml.scriptrun\", \"training_percent\": \"100\", \"start_time\": \"2021-01-23T18:37:24.809789Z\", \"end_time\": \"2021-01-23T18:38:13.534688Z\", \"created_time\": \"2021-01-23T18:37:13.724912Z\", \"created_time_dt\": \"2021-01-23T18:37:13.724912Z\", \"duration\": \"0:00:59\", \"iteration\": \"13\", \"goal\": \"accuracy_max\", \"run_name\": \"StandardScalerWrapper, LightGBM\", \"run_properties\": \"<azureml.automl.runtime.shared.model_wrappers.StandardScalerWrapper object at 0x7f666ed74b70\", \"primary_metric\": 0.9088, \"best_metric\": 0.98666667}, {\"run_id\": \"AutoML_36eac4de-496f-43d2-871e-5b4d9185349d_14\", \"run_number\": 69, \"metric\": null, \"status\": \"Completed\", \"run_type\": \"azureml.scriptrun\", \"training_percent\": \"100\", \"start_time\": \"2021-01-23T18:38:30.365835Z\", \"end_time\": \"2021-01-23T18:39:19.247251Z\", \"created_time\": \"2021-01-23T18:38:15.392053Z\", \"created_time_dt\": \"2021-01-23T18:38:15.392053Z\", \"duration\": \"0:01:03\", \"iteration\": \"14\", \"goal\": \"accuracy_max\", \"run_name\": \"MaxAbsScaler, LightGBM\", \"run_properties\": \"copy=True\", \"primary_metric\": 0.94986667, \"best_metric\": 0.98666667}, {\"run_id\": \"AutoML_36eac4de-496f-43d2-871e-5b4d9185349d_15\", \"run_number\": 70, \"metric\": null, \"status\": \"Completed\", \"run_type\": \"azureml.scriptrun\", \"training_percent\": \"100\", \"start_time\": \"2021-01-23T18:39:32.141798Z\", \"end_time\": \"2021-01-23T18:40:16.721337Z\", \"created_time\": \"2021-01-23T18:39:21.269381Z\", \"created_time_dt\": \"2021-01-23T18:39:21.269381Z\", \"duration\": \"0:00:55\", \"iteration\": \"15\", \"goal\": \"accuracy_max\", \"run_name\": \"MaxAbsScaler, LightGBM\", \"run_properties\": \"copy=True\", \"primary_metric\": 0.98453333, \"best_metric\": 0.98666667}, {\"run_id\": \"AutoML_36eac4de-496f-43d2-871e-5b4d9185349d_16\", \"run_number\": 71, \"metric\": null, \"status\": \"Completed\", \"run_type\": \"azureml.scriptrun\", \"training_percent\": \"100\", \"start_time\": \"2021-01-23T18:40:29.849678Z\", \"end_time\": \"2021-01-23T18:41:17.363124Z\", \"created_time\": \"2021-01-23T18:40:18.295959Z\", \"created_time_dt\": \"2021-01-23T18:40:18.295959Z\", \"duration\": \"0:00:59\", \"iteration\": \"16\", \"goal\": \"accuracy_max\", \"run_name\": \"MaxAbsScaler, RandomForest\", \"run_properties\": \"copy=True\", \"primary_metric\": 0.9656, \"best_metric\": 0.98666667}, {\"run_id\": \"AutoML_36eac4de-496f-43d2-871e-5b4d9185349d_17\", \"run_number\": 72, \"metric\": null, \"status\": \"Completed\", \"run_type\": \"azureml.scriptrun\", \"training_percent\": \"100\", \"start_time\": \"2021-01-23T18:41:29.912955Z\", \"end_time\": \"2021-01-23T18:42:16.640235Z\", \"created_time\": \"2021-01-23T18:41:18.996361Z\", \"created_time_dt\": \"2021-01-23T18:41:18.996361Z\", \"duration\": \"0:00:57\", \"iteration\": \"17\", \"goal\": \"accuracy_max\", \"run_name\": \"StandardScalerWrapper, LightGBM\", \"run_properties\": \"<azureml.automl.runtime.shared.model_wrappers.StandardScalerWrapper object at 0x7f8a77c36dd8\", \"primary_metric\": 0.98426667, \"best_metric\": 0.98666667}, {\"run_id\": \"AutoML_36eac4de-496f-43d2-871e-5b4d9185349d_18\", \"run_number\": 73, \"metric\": null, \"status\": \"Completed\", \"run_type\": \"azureml.scriptrun\", \"training_percent\": \"100\", \"start_time\": \"2021-01-23T18:42:28.989524Z\", \"end_time\": \"2021-01-23T18:43:10.674634Z\", \"created_time\": \"2021-01-23T18:42:18.402589Z\", \"created_time_dt\": \"2021-01-23T18:42:18.402589Z\", \"duration\": \"0:00:52\", \"iteration\": \"18\", \"goal\": \"accuracy_max\", \"run_name\": \"StandardScalerWrapper, XGBoostClassifier\", \"run_properties\": \"<azureml.automl.runtime.shared.model_wrappers.StandardScalerWrapper object at 0x7fe904979400\", \"primary_metric\": 0.9872, \"best_metric\": 0.9872}, {\"run_id\": \"AutoML_36eac4de-496f-43d2-871e-5b4d9185349d_19\", \"run_number\": 74, \"metric\": null, \"status\": \"Completed\", \"run_type\": \"azureml.scriptrun\", \"training_percent\": \"100\", \"start_time\": \"2021-01-23T18:43:25.813823Z\", \"end_time\": \"2021-01-23T18:44:15.051325Z\", \"created_time\": \"2021-01-23T18:43:12.266559Z\", \"created_time_dt\": \"2021-01-23T18:43:12.266559Z\", \"duration\": \"0:01:02\", \"iteration\": \"19\", \"goal\": \"accuracy_max\", \"run_name\": \"StandardScalerWrapper, ExtremeRandomTrees\", \"run_properties\": \"<azureml.automl.runtime.shared.model_wrappers.StandardScalerWrapper object at 0x7f3631ad85c0\", \"primary_metric\": 0.91146667, \"best_metric\": 0.9872}, {\"run_id\": \"AutoML_36eac4de-496f-43d2-871e-5b4d9185349d_20\", \"run_number\": 75, \"metric\": null, \"status\": \"Completed\", \"run_type\": \"azureml.scriptrun\", \"training_percent\": \"100\", \"start_time\": \"2021-01-23T18:44:35.008507Z\", \"end_time\": \"2021-01-23T18:45:14.868737Z\", \"created_time\": \"2021-01-23T18:44:20.132936Z\", \"created_time_dt\": \"2021-01-23T18:44:20.132936Z\", \"duration\": \"0:00:54\", \"iteration\": \"20\", \"goal\": \"accuracy_max\", \"run_name\": \"SparseNormalizer, XGBoostClassifier\", \"run_properties\": \"<azureml.automl.runtime.shared.model_wrappers.SparseNormalizer object at 0x7f13b8438208\", \"primary_metric\": 0.95413333, \"best_metric\": 0.9872}, {\"run_id\": \"AutoML_36eac4de-496f-43d2-871e-5b4d9185349d_21\", \"run_number\": 76, \"metric\": null, \"status\": \"Completed\", \"run_type\": \"azureml.scriptrun\", \"training_percent\": \"100\", \"start_time\": \"2021-01-23T18:45:29.920785Z\", \"end_time\": \"2021-01-23T18:46:19.385282Z\", \"created_time\": \"2021-01-23T18:45:16.453594Z\", \"created_time_dt\": \"2021-01-23T18:45:16.453594Z\", \"duration\": \"0:01:02\", \"iteration\": \"21\", \"goal\": \"accuracy_max\", \"run_name\": \"StandardScalerWrapper, LightGBM\", \"run_properties\": \"<azureml.automl.runtime.shared.model_wrappers.StandardScalerWrapper object at 0x7f53b0062940\", \"primary_metric\": 0.90213333, \"best_metric\": 0.9872}, {\"run_id\": \"AutoML_36eac4de-496f-43d2-871e-5b4d9185349d_22\", \"run_number\": 77, \"metric\": null, \"status\": \"Completed\", \"run_type\": \"azureml.scriptrun\", \"training_percent\": \"100\", \"start_time\": \"2021-01-23T18:46:31.739284Z\", \"end_time\": \"2021-01-23T18:47:16.060095Z\", \"created_time\": \"2021-01-23T18:46:21.519833Z\", \"created_time_dt\": \"2021-01-23T18:46:21.519833Z\", \"duration\": \"0:00:54\", \"iteration\": \"22\", \"goal\": \"accuracy_max\", \"run_name\": \"SparseNormalizer, XGBoostClassifier\", \"run_properties\": \"<azureml.automl.runtime.shared.model_wrappers.SparseNormalizer object at 0x7f590151df60\", \"primary_metric\": 0.92986667, \"best_metric\": 0.9872}, {\"run_id\": \"AutoML_36eac4de-496f-43d2-871e-5b4d9185349d_23\", \"run_number\": 78, \"metric\": null, \"status\": \"Completed\", \"run_type\": \"azureml.scriptrun\", \"training_percent\": \"100\", \"start_time\": \"2021-01-23T18:47:32.023815Z\", \"end_time\": \"2021-01-23T18:48:15.165988Z\", \"created_time\": \"2021-01-23T18:47:17.900734Z\", \"created_time_dt\": \"2021-01-23T18:47:17.900734Z\", \"duration\": \"0:00:57\", \"iteration\": \"23\", \"goal\": \"accuracy_max\", \"run_name\": \"SparseNormalizer, XGBoostClassifier\", \"run_properties\": \"<azureml.automl.runtime.shared.model_wrappers.SparseNormalizer object at 0x7f43b34fbdd8\", \"primary_metric\": 0.96266667, \"best_metric\": 0.9872}, {\"run_id\": \"AutoML_36eac4de-496f-43d2-871e-5b4d9185349d_24\", \"run_number\": 79, \"metric\": null, \"status\": \"Completed\", \"run_type\": \"azureml.scriptrun\", \"training_percent\": \"100\", \"start_time\": \"2021-01-23T18:48:30.294119Z\", \"end_time\": \"2021-01-23T18:49:12.805328Z\", \"created_time\": \"2021-01-23T18:48:17.072718Z\", \"created_time_dt\": \"2021-01-23T18:48:17.072718Z\", \"duration\": \"0:00:55\", \"iteration\": \"24\", \"goal\": \"accuracy_max\", \"run_name\": \"MaxAbsScaler, LightGBM\", \"run_properties\": \"copy=True\", \"primary_metric\": 0.97653333, \"best_metric\": 0.9872}, {\"run_id\": \"AutoML_36eac4de-496f-43d2-871e-5b4d9185349d_25\", \"run_number\": 80, \"metric\": null, \"status\": \"Completed\", \"run_type\": \"azureml.scriptrun\", \"training_percent\": \"100\", \"start_time\": \"2021-01-23T18:49:27.55267Z\", \"end_time\": \"2021-01-23T18:50:06.402112Z\", \"created_time\": \"2021-01-23T18:49:15.747892Z\", \"created_time_dt\": \"2021-01-23T18:49:15.747892Z\", \"duration\": \"0:00:50\", \"iteration\": \"25\", \"goal\": \"accuracy_max\", \"run_name\": \"TruncatedSVDWrapper, XGBoostClassifier\", \"run_properties\": \"n_components=0.45526315789473687, random_state=None\", \"primary_metric\": 0.90213333, \"best_metric\": 0.9872}, {\"run_id\": \"AutoML_36eac4de-496f-43d2-871e-5b4d9185349d_26\", \"run_number\": 81, \"metric\": null, \"status\": \"Completed\", \"run_type\": \"azureml.scriptrun\", \"training_percent\": \"100\", \"start_time\": \"2021-01-23T18:50:23.481131Z\", \"end_time\": \"2021-01-23T18:51:12.211922Z\", \"created_time\": \"2021-01-23T18:50:08.18373Z\", \"created_time_dt\": \"2021-01-23T18:50:08.18373Z\", \"duration\": \"0:01:04\", \"iteration\": \"26\", \"goal\": \"accuracy_max\", \"run_name\": \"MaxAbsScaler, LogisticRegression\", \"run_properties\": \"copy=True\", \"primary_metric\": 0.9664, \"best_metric\": 0.9872}, {\"run_id\": \"AutoML_36eac4de-496f-43d2-871e-5b4d9185349d_27\", \"run_number\": 82, \"metric\": null, \"status\": \"Completed\", \"run_type\": \"azureml.scriptrun\", \"training_percent\": \"100\", \"start_time\": \"2021-01-23T18:51:26.075828Z\", \"end_time\": \"2021-01-23T18:52:10.530558Z\", \"created_time\": \"2021-01-23T18:51:14.630671Z\", \"created_time_dt\": \"2021-01-23T18:51:14.630671Z\", \"duration\": \"0:00:55\", \"iteration\": \"27\", \"goal\": \"accuracy_max\", \"run_name\": \"MaxAbsScaler, LogisticRegression\", \"run_properties\": \"copy=True\", \"primary_metric\": 0.96826667, \"best_metric\": 0.9872}, {\"run_id\": \"AutoML_36eac4de-496f-43d2-871e-5b4d9185349d_28\", \"run_number\": 83, \"metric\": null, \"status\": \"Completed\", \"run_type\": \"azureml.scriptrun\", \"training_percent\": \"100\", \"start_time\": \"2021-01-23T18:52:24.675467Z\", \"end_time\": \"2021-01-23T18:53:21.851739Z\", \"created_time\": \"2021-01-23T18:52:12.42451Z\", \"created_time_dt\": \"2021-01-23T18:52:12.42451Z\", \"duration\": \"0:01:09\", \"iteration\": \"28\", \"goal\": \"accuracy_max\", \"run_name\": \"MaxAbsScaler, LightGBM\", \"run_properties\": \"copy=True\", \"primary_metric\": 0.98186667, \"best_metric\": 0.9872}, {\"run_id\": \"AutoML_36eac4de-496f-43d2-871e-5b4d9185349d_29\", \"run_number\": 84, \"metric\": null, \"status\": \"Completed\", \"run_type\": \"azureml.scriptrun\", \"training_percent\": \"100\", \"start_time\": \"2021-01-23T18:53:42.996508Z\", \"end_time\": \"2021-01-23T18:54:34.755191Z\", \"created_time\": \"2021-01-23T18:53:25.355862Z\", \"created_time_dt\": \"2021-01-23T18:53:25.355862Z\", \"duration\": \"0:01:09\", \"iteration\": \"29\", \"goal\": \"accuracy_max\", \"run_name\": \"MaxAbsScaler, ExtremeRandomTrees\", \"run_properties\": \"copy=True\", \"primary_metric\": 0.89413333, \"best_metric\": 0.9872}, {\"run_id\": \"AutoML_36eac4de-496f-43d2-871e-5b4d9185349d_30\", \"run_number\": 85, \"metric\": null, \"status\": \"Completed\", \"run_type\": \"azureml.scriptrun\", \"training_percent\": \"100\", \"start_time\": \"2021-01-23T18:54:51.805451Z\", \"end_time\": \"2021-01-23T18:56:18.374792Z\", \"created_time\": \"2021-01-23T18:54:36.829244Z\", \"created_time_dt\": \"2021-01-23T18:54:36.829244Z\", \"duration\": \"0:01:41\", \"iteration\": \"30\", \"goal\": \"accuracy_max\", \"run_name\": \"VotingEnsemble\", \"run_properties\": \"classification_labels=None,\\n                              estimators=[('18',\\n                                           Pipeline(memory=None,\\n                                                    steps=[('standardscalerwrapper',\\n                                                            <azureml.automl.runtime.shared.model_wrappers.StandardScalerWrapper object at 0x7f2fb4216eb8>\", \"primary_metric\": 0.98853333, \"best_metric\": 0.98853333}, {\"run_id\": \"AutoML_36eac4de-496f-43d2-871e-5b4d9185349d_31\", \"run_number\": 86, \"metric\": null, \"status\": \"Completed\", \"run_type\": \"azureml.scriptrun\", \"training_percent\": \"100\", \"start_time\": \"2021-01-23T18:56:32.691278Z\", \"end_time\": \"2021-01-23T18:58:04.261079Z\", \"created_time\": \"2021-01-23T18:56:19.109077Z\", \"created_time_dt\": \"2021-01-23T18:56:19.109077Z\", \"duration\": \"0:01:45\", \"iteration\": \"31\", \"goal\": \"accuracy_max\", \"run_name\": \"StackEnsemble\", \"run_properties\": \"base_learners=[('18',\\n                                        Pipeline(memory=None,\\n                                                 steps=[('standardscalerwrapper',\\n                                                         <azureml.automl.runtime.shared.model_wrappers.StandardScalerWrapper object at 0x7f758030ceb8>\", \"primary_metric\": 0.98773333, \"best_metric\": 0.98853333}], \"children_metrics\": {\"categories\": [0], \"series\": {\"precision_score_weighted\": [{\"categories\": [\"0\", \"1\", \"2\", \"3\", \"4\", \"5\", \"6\", \"7\", \"8\", \"9\", \"10\", \"11\", \"12\", \"13\", \"14\", \"15\", \"16\", \"17\", \"18\", \"19\", \"20\", \"21\", \"22\", \"23\", \"24\", \"25\", \"26\", \"27\", \"28\", \"29\", \"30\", \"31\"], \"mode\": \"markers\", \"name\": \"precision_score_weighted\", \"stepped\": false, \"type\": \"scatter\", \"data\": [0.9860534792982275, 0.9865915108048109, 0.9600283210538656, 0.851406585946321, 0.9624833191892563, 0.9353348920059703, 0.9500100808164659, 0.966690764325244, 0.8139203555555555, 0.961888366743626, 0.9329932686212283, 0.9517260260522692, 0.980107383900463, 0.856469520476668, 0.9523348344560134, 0.9844151801355328, 0.9662174722902034, 0.9841887607099851, 0.9871060948699407, 0.8599013260273972, 0.9554529767558945, 0.8139203555555555, 0.9269462770431727, 0.9618492263694144, 0.9764749301487349, 0.8139203555555555, 0.9652831963115334, 0.9674694661179813, 0.9817394512426301, 0.937884358388138, 0.9885786748792025, 0.9876307740623865]}, {\"categories\": [\"0\", \"1\", \"2\", \"3\", \"4\", \"5\", \"6\", \"7\", \"8\", \"9\", \"10\", \"11\", \"12\", \"13\", \"14\", \"15\", \"16\", \"17\", \"18\", \"19\", \"20\", \"21\", \"22\", \"23\", \"24\", \"25\", \"26\", \"27\", \"28\", \"29\", \"30\", \"31\"], \"mode\": \"lines\", \"name\": \"precision_score_weighted_max\", \"stepped\": true, \"type\": \"scatter\", \"data\": [0.9860534792982275, 0.9865915108048109, 0.9865915108048109, 0.9865915108048109, 0.9865915108048109, 0.9865915108048109, 0.9865915108048109, 0.9865915108048109, 0.9865915108048109, 0.9865915108048109, 0.9865915108048109, 0.9865915108048109, 0.9865915108048109, 0.9865915108048109, 0.9865915108048109, 0.9865915108048109, 0.9865915108048109, 0.9865915108048109, 0.9871060948699407, 0.9871060948699407, 0.9871060948699407, 0.9871060948699407, 0.9871060948699407, 0.9871060948699407, 0.9871060948699407, 0.9871060948699407, 0.9871060948699407, 0.9871060948699407, 0.9871060948699407, 0.9871060948699407, 0.9885786748792025, 0.9885786748792025]}], \"log_loss\": [{\"categories\": [\"0\", \"1\", \"2\", \"3\", \"4\", \"5\", \"6\", \"7\", \"8\", \"9\", \"10\", \"11\", \"12\", \"13\", \"14\", \"15\", \"16\", \"17\", \"18\", \"19\", \"20\", \"21\", \"22\", \"23\", \"24\", \"25\", \"26\", \"27\", \"28\", \"29\", \"30\", \"31\"], \"mode\": \"markers\", \"name\": \"log_loss\", \"stepped\": false, \"type\": \"scatter\", \"data\": [0.04494164389288739, 0.04136556309701158, 0.1309314348376588, 0.18767728394729116, 0.20423174051555568, 0.4076834379572872, 0.15525478911432025, 0.11104909768402302, 0.18937592426212374, 0.10908081719620173, 0.1503147086195991, 0.1543724754289147, 0.07385365575075864, 0.18654943185109443, 0.1408674087364999, 0.05074351205409948, 0.07998192345542222, 0.058493911586134484, 0.0361464162106375, 0.1711434552026287, 0.13100364930510758, 0.206989584182229, 0.18055716306309028, 0.10355092983329883, 0.08809797460533983, 0.32059833628459194, 0.10225949574367457, 0.10196146820605659, 0.06187528200337662, 0.6167676022457226, 0.07912269405812, 0.044898075099167815]}, {\"categories\": [\"0\", \"1\", \"2\", \"3\", \"4\", \"5\", \"6\", \"7\", \"8\", \"9\", \"10\", \"11\", \"12\", \"13\", \"14\", \"15\", \"16\", \"17\", \"18\", \"19\", \"20\", \"21\", \"22\", \"23\", \"24\", \"25\", \"26\", \"27\", \"28\", \"29\", \"30\", \"31\"], \"mode\": \"lines\", \"name\": \"log_loss_min\", \"stepped\": true, \"type\": \"scatter\", \"data\": [0.04494164389288739, 0.04136556309701158, 0.04136556309701158, 0.04136556309701158, 0.04136556309701158, 0.04136556309701158, 0.04136556309701158, 0.04136556309701158, 0.04136556309701158, 0.04136556309701158, 0.04136556309701158, 0.04136556309701158, 0.04136556309701158, 0.04136556309701158, 0.04136556309701158, 0.04136556309701158, 0.04136556309701158, 0.04136556309701158, 0.0361464162106375, 0.0361464162106375, 0.0361464162106375, 0.0361464162106375, 0.0361464162106375, 0.0361464162106375, 0.0361464162106375, 0.0361464162106375, 0.0361464162106375, 0.0361464162106375, 0.0361464162106375, 0.0361464162106375, 0.0361464162106375, 0.0361464162106375]}], \"precision_score_macro\": [{\"categories\": [\"0\", \"1\", \"2\", \"3\", \"4\", \"5\", \"6\", \"7\", \"8\", \"9\", \"10\", \"11\", \"12\", \"13\", \"14\", \"15\", \"16\", \"17\", \"18\", \"19\", \"20\", \"21\", \"22\", \"23\", \"24\", \"25\", \"26\", \"27\", \"28\", \"29\", \"30\", \"31\"], \"mode\": \"markers\", \"name\": \"precision_score_macro\", \"stepped\": false, \"type\": \"scatter\", \"data\": [0.9787618108881379, 0.9787541184336103, 0.9641195962113912, 0.6521727989520618, 0.8253178245816247, 0.6923588054389607, 0.9146642582299724, 0.969057334956352, 0.4510666666666666, 0.9270454864387089, 0.9571824518025901, 0.931040703440356, 0.9736331481922285, 0.6465540573205726, 0.9711115076797988, 0.9737373317740234, 0.971116056096526, 0.9777526177285194, 0.9793721691881233, 0.6553975212002608, 0.9667101151433318, 0.4510666666666666, 0.9047886444585531, 0.9420272663004466, 0.9719031357369158, 0.4510666666666666, 0.923213491701693, 0.9228667959971061, 0.9706428647011007, 0.7341769676938432, 0.9881450324895293, 0.9797601272756197]}, {\"categories\": [\"0\", \"1\", \"2\", \"3\", \"4\", \"5\", \"6\", \"7\", \"8\", \"9\", \"10\", \"11\", \"12\", \"13\", \"14\", \"15\", \"16\", \"17\", \"18\", \"19\", \"20\", \"21\", \"22\", \"23\", \"24\", \"25\", \"26\", \"27\", \"28\", \"29\", \"30\", \"31\"], \"mode\": \"lines\", \"name\": \"precision_score_macro_max\", \"stepped\": true, \"type\": \"scatter\", \"data\": [0.9787618108881379, 0.9787618108881379, 0.9787618108881379, 0.9787618108881379, 0.9787618108881379, 0.9787618108881379, 0.9787618108881379, 0.9787618108881379, 0.9787618108881379, 0.9787618108881379, 0.9787618108881379, 0.9787618108881379, 0.9787618108881379, 0.9787618108881379, 0.9787618108881379, 0.9787618108881379, 0.9787618108881379, 0.9787618108881379, 0.9793721691881233, 0.9793721691881233, 0.9793721691881233, 0.9793721691881233, 0.9793721691881233, 0.9793721691881233, 0.9793721691881233, 0.9793721691881233, 0.9793721691881233, 0.9793721691881233, 0.9793721691881233, 0.9793721691881233, 0.9881450324895293, 0.9881450324895293]}], \"average_precision_score_micro\": [{\"categories\": [\"0\", \"1\", \"2\", \"3\", \"4\", \"5\", \"6\", \"7\", \"8\", \"9\", \"10\", \"11\", \"12\", \"13\", \"14\", \"15\", \"16\", \"17\", \"18\", \"19\", \"20\", \"21\", \"22\", \"23\", \"24\", \"25\", \"26\", \"27\", \"28\", \"29\", \"30\", \"31\"], \"mode\": \"markers\", \"name\": \"average_precision_score_micro\", \"stepped\": false, \"type\": \"scatter\", \"data\": [0.9992516171653669, 0.9989627675051119, 0.9926197672172398, 0.9842421344851864, 0.9887841223284889, 0.9500688012533116, 0.989407699975354, 0.99414837834984, 0.9854556016969767, 0.9923225358180717, 0.9905335142548637, 0.9903967957875672, 0.9972821654673913, 0.9880524927860123, 0.9932015785046235, 0.9983592393915396, 0.997356675181115, 0.9983144698824973, 0.9992410016320017, 0.9873184262788207, 0.9891044448317998, 0.9890159458502612, 0.9814302018311967, 0.9932196840571489, 0.994667129720316, 0.8628536888888888, 0.9927786733102509, 0.9928425354783419, 0.9973100216184925, 0.9562543815255143, 0.9986196845452502, 0.9988062023236417]}, {\"categories\": [\"0\", \"1\", \"2\", \"3\", \"4\", \"5\", \"6\", \"7\", \"8\", \"9\", \"10\", \"11\", \"12\", \"13\", \"14\", \"15\", \"16\", \"17\", \"18\", \"19\", \"20\", \"21\", \"22\", \"23\", \"24\", \"25\", \"26\", \"27\", \"28\", \"29\", \"30\", \"31\"], \"mode\": \"lines\", \"name\": \"average_precision_score_micro_max\", \"stepped\": true, \"type\": \"scatter\", \"data\": [0.9992516171653669, 0.9992516171653669, 0.9992516171653669, 0.9992516171653669, 0.9992516171653669, 0.9992516171653669, 0.9992516171653669, 0.9992516171653669, 0.9992516171653669, 0.9992516171653669, 0.9992516171653669, 0.9992516171653669, 0.9992516171653669, 0.9992516171653669, 0.9992516171653669, 0.9992516171653669, 0.9992516171653669, 0.9992516171653669, 0.9992516171653669, 0.9992516171653669, 0.9992516171653669, 0.9992516171653669, 0.9992516171653669, 0.9992516171653669, 0.9992516171653669, 0.9992516171653669, 0.9992516171653669, 0.9992516171653669, 0.9992516171653669, 0.9992516171653669, 0.9992516171653669, 0.9992516171653669]}], \"recall_score_weighted\": [{\"categories\": [\"0\", \"1\", \"2\", \"3\", \"4\", \"5\", \"6\", \"7\", \"8\", \"9\", \"10\", \"11\", \"12\", \"13\", \"14\", \"15\", \"16\", \"17\", \"18\", \"19\", \"20\", \"21\", \"22\", \"23\", \"24\", \"25\", \"26\", \"27\", \"28\", \"29\", \"30\", \"31\"], \"mode\": \"markers\", \"name\": \"recall_score_weighted\", \"stepped\": false, \"type\": \"scatter\", \"data\": [0.9861333333333333, 0.9866666666666667, 0.9594666666666667, 0.9045333333333334, 0.9450666666666667, 0.8448, 0.9522666666666668, 0.9663999999999999, 0.9021333333333332, 0.9634666666666666, 0.9285333333333334, 0.9530666666666667, 0.9802666666666667, 0.9088, 0.9498666666666666, 0.9845333333333333, 0.9656, 0.9842666666666666, 0.9872, 0.9114666666666666, 0.9541333333333334, 0.9021333333333332, 0.9298666666666666, 0.9626666666666667, 0.9765333333333335, 0.9021333333333332, 0.9663999999999999, 0.9682666666666666, 0.9818666666666667, 0.8941333333333332, 0.9885333333333334, 0.9877333333333332]}, {\"categories\": [\"0\", \"1\", \"2\", \"3\", \"4\", \"5\", \"6\", \"7\", \"8\", \"9\", \"10\", \"11\", \"12\", \"13\", \"14\", \"15\", \"16\", \"17\", \"18\", \"19\", \"20\", \"21\", \"22\", \"23\", \"24\", \"25\", \"26\", \"27\", \"28\", \"29\", \"30\", \"31\"], \"mode\": \"lines\", \"name\": \"recall_score_weighted_max\", \"stepped\": true, \"type\": \"scatter\", \"data\": [0.9861333333333333, 0.9866666666666667, 0.9866666666666667, 0.9866666666666667, 0.9866666666666667, 0.9866666666666667, 0.9866666666666667, 0.9866666666666667, 0.9866666666666667, 0.9866666666666667, 0.9866666666666667, 0.9866666666666667, 0.9866666666666667, 0.9866666666666667, 0.9866666666666667, 0.9866666666666667, 0.9866666666666667, 0.9866666666666667, 0.9872, 0.9872, 0.9872, 0.9872, 0.9872, 0.9872, 0.9872, 0.9872, 0.9872, 0.9872, 0.9872, 0.9872, 0.9885333333333334, 0.9885333333333334]}], \"AUC_micro\": [{\"categories\": [\"0\", \"1\", \"2\", \"3\", \"4\", \"5\", \"6\", \"7\", \"8\", \"9\", \"10\", \"11\", \"12\", \"13\", \"14\", \"15\", \"16\", \"17\", \"18\", \"19\", \"20\", \"21\", \"22\", \"23\", \"24\", \"25\", \"26\", \"27\", \"28\", \"29\", \"30\", \"31\"], \"mode\": \"markers\", \"name\": \"AUC_micro\", \"stepped\": false, \"type\": \"scatter\", \"data\": [0.9992398222222223, 0.9989425777777777, 0.9923751111111111, 0.9834545777777777, 0.9883804444444444, 0.9464014222222221, 0.9894577777777778, 0.993967288888889, 0.9850847999999999, 0.9924576, 0.9901432888888889, 0.9902773333333332, 0.9972142222222222, 0.9874947555555554, 0.9929724444444444, 0.9983210666666666, 0.9973016888888889, 0.9982776888888889, 0.9992284444444444, 0.9868408888888889, 0.9898844444444445, 0.9884888888888888, 0.9814428444444443, 0.9932003555555555, 0.9947264, 0.9021333333333332, 0.992896, 0.9929496888888888, 0.9973297777777776, 0.9565002666666667, 0.998589511111111, 0.9987804444444445]}, {\"categories\": [\"0\", \"1\", \"2\", \"3\", \"4\", \"5\", \"6\", \"7\", \"8\", \"9\", \"10\", \"11\", \"12\", \"13\", \"14\", \"15\", \"16\", \"17\", \"18\", \"19\", \"20\", \"21\", \"22\", \"23\", \"24\", \"25\", \"26\", \"27\", \"28\", \"29\", \"30\", \"31\"], \"mode\": \"lines\", \"name\": \"AUC_micro_max\", \"stepped\": true, \"type\": \"scatter\", \"data\": [0.9992398222222223, 0.9992398222222223, 0.9992398222222223, 0.9992398222222223, 0.9992398222222223, 0.9992398222222223, 0.9992398222222223, 0.9992398222222223, 0.9992398222222223, 0.9992398222222223, 0.9992398222222223, 0.9992398222222223, 0.9992398222222223, 0.9992398222222223, 0.9992398222222223, 0.9992398222222223, 0.9992398222222223, 0.9992398222222223, 0.9992398222222223, 0.9992398222222223, 0.9992398222222223, 0.9992398222222223, 0.9992398222222223, 0.9992398222222223, 0.9992398222222223, 0.9992398222222223, 0.9992398222222223, 0.9992398222222223, 0.9992398222222223, 0.9992398222222223, 0.9992398222222223, 0.9992398222222223]}], \"f1_score_macro\": [{\"categories\": [\"0\", \"1\", \"2\", \"3\", \"4\", \"5\", \"6\", \"7\", \"8\", \"9\", \"10\", \"11\", \"12\", \"13\", \"14\", \"15\", \"16\", \"17\", \"18\", \"19\", \"20\", \"21\", \"22\", \"23\", \"24\", \"25\", \"26\", \"27\", \"28\", \"29\", \"30\", \"31\"], \"mode\": \"markers\", \"name\": \"f1_score_macro\", \"stepped\": false, \"type\": \"scatter\", \"data\": [0.9586914088767677, 0.9600295725260345, 0.8598555308000331, 0.4996816200150961, 0.87332924294466, 0.7291201021197649, 0.842069603922528, 0.8888246481121926, 0.4742634753588999, 0.8863423085154395, 0.6914073656678159, 0.8409004953833765, 0.9404105822663535, 0.5371394146291907, 0.8139212179027838, 0.9541764683603843, 0.8847226727351097, 0.9532650208021037, 0.9621441884274736, 0.5559373882422571, 0.8367973641649697, 0.4742634753588999, 0.7195502328564031, 0.880341578687811, 0.9275355372623775, 0.4742634753588999, 0.8988894160711631, 0.9064157389975904, 0.9460709421933124, 0.7811416008250764, 0.9655432129183599, 0.9635115053584219]}, {\"categories\": [\"0\", \"1\", \"2\", \"3\", \"4\", \"5\", \"6\", \"7\", \"8\", \"9\", \"10\", \"11\", \"12\", \"13\", \"14\", \"15\", \"16\", \"17\", \"18\", \"19\", \"20\", \"21\", \"22\", \"23\", \"24\", \"25\", \"26\", \"27\", \"28\", \"29\", \"30\", \"31\"], \"mode\": \"lines\", \"name\": \"f1_score_macro_max\", \"stepped\": true, \"type\": \"scatter\", \"data\": [0.9586914088767677, 0.9600295725260345, 0.9600295725260345, 0.9600295725260345, 0.9600295725260345, 0.9600295725260345, 0.9600295725260345, 0.9600295725260345, 0.9600295725260345, 0.9600295725260345, 0.9600295725260345, 0.9600295725260345, 0.9600295725260345, 0.9600295725260345, 0.9600295725260345, 0.9600295725260345, 0.9600295725260345, 0.9600295725260345, 0.9621441884274736, 0.9621441884274736, 0.9621441884274736, 0.9621441884274736, 0.9621441884274736, 0.9621441884274736, 0.9621441884274736, 0.9621441884274736, 0.9621441884274736, 0.9621441884274736, 0.9621441884274736, 0.9621441884274736, 0.9655432129183599, 0.9655432129183599]}], \"precision_score_micro\": [{\"categories\": [\"0\", \"1\", \"2\", \"3\", \"4\", \"5\", \"6\", \"7\", \"8\", \"9\", \"10\", \"11\", \"12\", \"13\", \"14\", \"15\", \"16\", \"17\", \"18\", \"19\", \"20\", \"21\", \"22\", \"23\", \"24\", \"25\", \"26\", \"27\", \"28\", \"29\", \"30\", \"31\"], \"mode\": \"markers\", \"name\": \"precision_score_micro\", \"stepped\": false, \"type\": \"scatter\", \"data\": [0.9861333333333333, 0.9866666666666667, 0.9594666666666667, 0.9045333333333334, 0.9450666666666667, 0.8448, 0.9522666666666668, 0.9663999999999999, 0.9021333333333332, 0.9634666666666666, 0.9285333333333334, 0.9530666666666667, 0.9802666666666667, 0.9088, 0.9498666666666666, 0.9845333333333333, 0.9656, 0.9842666666666666, 0.9872, 0.9114666666666666, 0.9541333333333334, 0.9021333333333332, 0.9298666666666666, 0.9626666666666667, 0.9765333333333335, 0.9021333333333332, 0.9663999999999999, 0.9682666666666666, 0.9818666666666667, 0.8941333333333332, 0.9885333333333334, 0.9877333333333332]}, {\"categories\": [\"0\", \"1\", \"2\", \"3\", \"4\", \"5\", \"6\", \"7\", \"8\", \"9\", \"10\", \"11\", \"12\", \"13\", \"14\", \"15\", \"16\", \"17\", \"18\", \"19\", \"20\", \"21\", \"22\", \"23\", \"24\", \"25\", \"26\", \"27\", \"28\", \"29\", \"30\", \"31\"], \"mode\": \"lines\", \"name\": \"precision_score_micro_max\", \"stepped\": true, \"type\": \"scatter\", \"data\": [0.9861333333333333, 0.9866666666666667, 0.9866666666666667, 0.9866666666666667, 0.9866666666666667, 0.9866666666666667, 0.9866666666666667, 0.9866666666666667, 0.9866666666666667, 0.9866666666666667, 0.9866666666666667, 0.9866666666666667, 0.9866666666666667, 0.9866666666666667, 0.9866666666666667, 0.9866666666666667, 0.9866666666666667, 0.9866666666666667, 0.9872, 0.9872, 0.9872, 0.9872, 0.9872, 0.9872, 0.9872, 0.9872, 0.9872, 0.9872, 0.9872, 0.9872, 0.9885333333333334, 0.9885333333333334]}], \"norm_macro_recall\": [{\"categories\": [\"0\", \"1\", \"2\", \"3\", \"4\", \"5\", \"6\", \"7\", \"8\", \"9\", \"10\", \"11\", \"12\", \"13\", \"14\", \"15\", \"16\", \"17\", \"18\", \"19\", \"20\", \"21\", \"22\", \"23\", \"24\", \"25\", \"26\", \"27\", \"28\", \"29\", \"30\", \"31\"], \"mode\": \"markers\", \"name\": \"norm_macro_recall\", \"stepped\": false, \"type\": \"scatter\", \"data\": [0.8824213780372213, 0.8872024294982719, 0.6014337408866128, 0.02755656108597284, 0.907833468656704, 0.7899332206363663, 0.5930213710526129, 0.6733658599454853, 0.0, 0.710005443988976, 0.27183923672725674, 0.5777841351003845, 0.826238512939345, 0.07252854201759314, 0.4910448286978168, 0.8740845380417097, 0.6622996869469182, 0.8647288882458511, 0.8935427694767262, 0.1, 0.5445833878212673, 0.0, 0.3253924405579359, 0.6768743374961086, 0.7862013157918846, 0.0, 0.7574584448759847, 0.78499061240397, 0.8507143542821074, 0.7870633792857242, 0.8917056474179464, 0.8978212010197133]}, {\"categories\": [\"0\", \"1\", \"2\", \"3\", \"4\", \"5\", \"6\", \"7\", \"8\", \"9\", \"10\", \"11\", \"12\", \"13\", \"14\", \"15\", \"16\", \"17\", \"18\", \"19\", \"20\", \"21\", \"22\", \"23\", \"24\", \"25\", \"26\", \"27\", \"28\", \"29\", \"30\", \"31\"], \"mode\": \"lines\", \"name\": \"norm_macro_recall_max\", \"stepped\": true, \"type\": \"scatter\", \"data\": [0.8824213780372213, 0.8872024294982719, 0.8872024294982719, 0.8872024294982719, 0.907833468656704, 0.907833468656704, 0.907833468656704, 0.907833468656704, 0.907833468656704, 0.907833468656704, 0.907833468656704, 0.907833468656704, 0.907833468656704, 0.907833468656704, 0.907833468656704, 0.907833468656704, 0.907833468656704, 0.907833468656704, 0.907833468656704, 0.907833468656704, 0.907833468656704, 0.907833468656704, 0.907833468656704, 0.907833468656704, 0.907833468656704, 0.907833468656704, 0.907833468656704, 0.907833468656704, 0.907833468656704, 0.907833468656704, 0.907833468656704, 0.907833468656704]}], \"recall_score_macro\": [{\"categories\": [\"0\", \"1\", \"2\", \"3\", \"4\", \"5\", \"6\", \"7\", \"8\", \"9\", \"10\", \"11\", \"12\", \"13\", \"14\", \"15\", \"16\", \"17\", \"18\", \"19\", \"20\", \"21\", \"22\", \"23\", \"24\", \"25\", \"26\", \"27\", \"28\", \"29\", \"30\", \"31\"], \"mode\": \"markers\", \"name\": \"recall_score_macro\", \"stepped\": false, \"type\": \"scatter\", \"data\": [0.9412106890186107, 0.9436012147491359, 0.8007168704433063, 0.5137782805429865, 0.953916734328352, 0.8949666103181831, 0.7965106855263064, 0.8366829299727426, 0.5, 0.855002721994488, 0.6359196183636284, 0.7888920675501921, 0.9131192564696725, 0.5362642710087966, 0.7455224143489083, 0.937042269020855, 0.8311498434734592, 0.9323644441229255, 0.9467713847383632, 0.55, 0.7722916939106337, 0.5, 0.6626962202789679, 0.8384371687480543, 0.8931006578959423, 0.5, 0.8787292224379923, 0.8924953062019849, 0.9253571771410538, 0.8935316896428622, 0.9458528237089734, 0.9489106005098566]}, {\"categories\": [\"0\", \"1\", \"2\", \"3\", \"4\", \"5\", \"6\", \"7\", \"8\", \"9\", \"10\", \"11\", \"12\", \"13\", \"14\", \"15\", \"16\", \"17\", \"18\", \"19\", \"20\", \"21\", \"22\", \"23\", \"24\", \"25\", \"26\", \"27\", \"28\", \"29\", \"30\", \"31\"], \"mode\": \"lines\", \"name\": \"recall_score_macro_max\", \"stepped\": true, \"type\": \"scatter\", \"data\": [0.9412106890186107, 0.9436012147491359, 0.9436012147491359, 0.9436012147491359, 0.953916734328352, 0.953916734328352, 0.953916734328352, 0.953916734328352, 0.953916734328352, 0.953916734328352, 0.953916734328352, 0.953916734328352, 0.953916734328352, 0.953916734328352, 0.953916734328352, 0.953916734328352, 0.953916734328352, 0.953916734328352, 0.953916734328352, 0.953916734328352, 0.953916734328352, 0.953916734328352, 0.953916734328352, 0.953916734328352, 0.953916734328352, 0.953916734328352, 0.953916734328352, 0.953916734328352, 0.953916734328352, 0.953916734328352, 0.953916734328352, 0.953916734328352]}], \"AUC_macro\": [{\"categories\": [\"0\", \"1\", \"2\", \"3\", \"4\", \"5\", \"6\", \"7\", \"8\", \"9\", \"10\", \"11\", \"12\", \"13\", \"14\", \"15\", \"16\", \"17\", \"18\", \"19\", \"20\", \"21\", \"22\", \"23\", \"24\", \"25\", \"26\", \"27\", \"28\", \"29\", \"30\", \"31\"], \"mode\": \"markers\", \"name\": \"AUC_macro\", \"stepped\": false, \"type\": \"scatter\", \"data\": [0.9976129486626789, 0.9967595945713217, 0.9822812853756376, 0.9613513707021489, 0.9901884817407227, 0.9605615382067164, 0.9641222529821694, 0.982911610164425, 0.9702221931808793, 0.9716681513072125, 0.9888411494141736, 0.9685665947327442, 0.9917349093950097, 0.9832754783411664, 0.9911717329712063, 0.9944019447513867, 0.9930876876931449, 0.9951314037273968, 0.99785123806864, 0.9774350017384503, 0.9687971084216022, 0.9895046741991657, 0.9360685152047481, 0.9771350308129566, 0.980174161649078, 0.5, 0.9719963076752636, 0.9719872667721097, 0.9902001813082091, 0.949484799277071, 0.995762964831721, 0.9960009500054279]}, {\"categories\": [\"0\", \"1\", \"2\", \"3\", \"4\", \"5\", \"6\", \"7\", \"8\", \"9\", \"10\", \"11\", \"12\", \"13\", \"14\", \"15\", \"16\", \"17\", \"18\", \"19\", \"20\", \"21\", \"22\", \"23\", \"24\", \"25\", \"26\", \"27\", \"28\", \"29\", \"30\", \"31\"], \"mode\": \"lines\", \"name\": \"AUC_macro_max\", \"stepped\": true, \"type\": \"scatter\", \"data\": [0.9976129486626789, 0.9976129486626789, 0.9976129486626789, 0.9976129486626789, 0.9976129486626789, 0.9976129486626789, 0.9976129486626789, 0.9976129486626789, 0.9976129486626789, 0.9976129486626789, 0.9976129486626789, 0.9976129486626789, 0.9976129486626789, 0.9976129486626789, 0.9976129486626789, 0.9976129486626789, 0.9976129486626789, 0.9976129486626789, 0.99785123806864, 0.99785123806864, 0.99785123806864, 0.99785123806864, 0.99785123806864, 0.99785123806864, 0.99785123806864, 0.99785123806864, 0.99785123806864, 0.99785123806864, 0.99785123806864, 0.99785123806864, 0.99785123806864, 0.99785123806864]}], \"f1_score_weighted\": [{\"categories\": [\"0\", \"1\", \"2\", \"3\", \"4\", \"5\", \"6\", \"7\", \"8\", \"9\", \"10\", \"11\", \"12\", \"13\", \"14\", \"15\", \"16\", \"17\", \"18\", \"19\", \"20\", \"21\", \"22\", \"23\", \"24\", \"25\", \"26\", \"27\", \"28\", \"29\", \"30\", \"31\"], \"mode\": \"markers\", \"name\": \"f1_score_weighted\", \"stepped\": false, \"type\": \"scatter\", \"data\": [0.9858158827397174, 0.9863825904632559, 0.9550142820102854, 0.8611631359703065, 0.9498900166401594, 0.8709298429598344, 0.9482180325064358, 0.9635719937669471, 0.8557397159488668, 0.9616534586176415, 0.9090419349516752, 0.948296583663946, 0.9795497291552342, 0.8704249564074296, 0.9417880004926118, 0.9842096011704198, 0.9624567659086456, 0.9838366963905448, 0.9869518625529325, 0.8748768239859874, 0.9478177576562723, 0.8557397159488668, 0.9148701689817846, 0.9601021361621671, 0.9754230798631424, 0.8557397159488668, 0.9653745084111911, 0.9675813681650004, 0.9813732783964344, 0.9077332217168097, 0.9882472311599699, 0.9875070650054628]}, {\"categories\": [\"0\", \"1\", \"2\", \"3\", \"4\", \"5\", \"6\", \"7\", \"8\", \"9\", \"10\", \"11\", \"12\", \"13\", \"14\", \"15\", \"16\", \"17\", \"18\", \"19\", \"20\", \"21\", \"22\", \"23\", \"24\", \"25\", \"26\", \"27\", \"28\", \"29\", \"30\", \"31\"], \"mode\": \"lines\", \"name\": \"f1_score_weighted_max\", \"stepped\": true, \"type\": \"scatter\", \"data\": [0.9858158827397174, 0.9863825904632559, 0.9863825904632559, 0.9863825904632559, 0.9863825904632559, 0.9863825904632559, 0.9863825904632559, 0.9863825904632559, 0.9863825904632559, 0.9863825904632559, 0.9863825904632559, 0.9863825904632559, 0.9863825904632559, 0.9863825904632559, 0.9863825904632559, 0.9863825904632559, 0.9863825904632559, 0.9863825904632559, 0.9869518625529325, 0.9869518625529325, 0.9869518625529325, 0.9869518625529325, 0.9869518625529325, 0.9869518625529325, 0.9869518625529325, 0.9869518625529325, 0.9869518625529325, 0.9869518625529325, 0.9869518625529325, 0.9869518625529325, 0.9882472311599699, 0.9882472311599699]}], \"average_precision_score_macro\": [{\"categories\": [\"0\", \"1\", \"2\", \"3\", \"4\", \"5\", \"6\", \"7\", \"8\", \"9\", \"10\", \"11\", \"12\", \"13\", \"14\", \"15\", \"16\", \"17\", \"18\", \"19\", \"20\", \"21\", \"22\", \"23\", \"24\", \"25\", \"26\", \"27\", \"28\", \"29\", \"30\", \"31\"], \"mode\": \"markers\", \"name\": \"average_precision_score_macro\", \"stepped\": false, \"type\": \"scatter\", \"data\": [0.9912116955080542, 0.9892693853634995, 0.9442486260710508, 0.8937183621523899, 0.9651886182523362, 0.8832785381998516, 0.9109318426860439, 0.9585155491131552, 0.9417808820768666, 0.9421029254348102, 0.9637387788342732, 0.922974750451608, 0.9774891671057716, 0.9500579227929554, 0.9723413653838684, 0.9846845170939605, 0.9740562740580725, 0.985219851576247, 0.9918221878641541, 0.946597282213262, 0.9270344926366212, 0.9622965074937675, 0.8517426791545105, 0.94316264637659, 0.9632212755725099, 0.5, 0.9455419161772308, 0.9461127676255481, 0.9796455087881893, 0.8868082454544671, 0.9881471395967438, 0.988577198363813]}, {\"categories\": [\"0\", \"1\", \"2\", \"3\", \"4\", \"5\", \"6\", \"7\", \"8\", \"9\", \"10\", \"11\", \"12\", \"13\", \"14\", \"15\", \"16\", \"17\", \"18\", \"19\", \"20\", \"21\", \"22\", \"23\", \"24\", \"25\", \"26\", \"27\", \"28\", \"29\", \"30\", \"31\"], \"mode\": \"lines\", \"name\": \"average_precision_score_macro_max\", \"stepped\": true, \"type\": \"scatter\", \"data\": [0.9912116955080542, 0.9912116955080542, 0.9912116955080542, 0.9912116955080542, 0.9912116955080542, 0.9912116955080542, 0.9912116955080542, 0.9912116955080542, 0.9912116955080542, 0.9912116955080542, 0.9912116955080542, 0.9912116955080542, 0.9912116955080542, 0.9912116955080542, 0.9912116955080542, 0.9912116955080542, 0.9912116955080542, 0.9912116955080542, 0.9918221878641541, 0.9918221878641541, 0.9918221878641541, 0.9918221878641541, 0.9918221878641541, 0.9918221878641541, 0.9918221878641541, 0.9918221878641541, 0.9918221878641541, 0.9918221878641541, 0.9918221878641541, 0.9918221878641541, 0.9918221878641541, 0.9918221878641541]}], \"recall_score_micro\": [{\"categories\": [\"0\", \"1\", \"2\", \"3\", \"4\", \"5\", \"6\", \"7\", \"8\", \"9\", \"10\", \"11\", \"12\", \"13\", \"14\", \"15\", \"16\", \"17\", \"18\", \"19\", \"20\", \"21\", \"22\", \"23\", \"24\", \"25\", \"26\", \"27\", \"28\", \"29\", \"30\", \"31\"], \"mode\": \"markers\", \"name\": \"recall_score_micro\", \"stepped\": false, \"type\": \"scatter\", \"data\": [0.9861333333333333, 0.9866666666666667, 0.9594666666666667, 0.9045333333333334, 0.9450666666666667, 0.8448, 0.9522666666666668, 0.9663999999999999, 0.9021333333333332, 0.9634666666666666, 0.9285333333333334, 0.9530666666666667, 0.9802666666666667, 0.9088, 0.9498666666666666, 0.9845333333333333, 0.9656, 0.9842666666666666, 0.9872, 0.9114666666666666, 0.9541333333333334, 0.9021333333333332, 0.9298666666666666, 0.9626666666666667, 0.9765333333333335, 0.9021333333333332, 0.9663999999999999, 0.9682666666666666, 0.9818666666666667, 0.8941333333333332, 0.9885333333333334, 0.9877333333333332]}, {\"categories\": [\"0\", \"1\", \"2\", \"3\", \"4\", \"5\", \"6\", \"7\", \"8\", \"9\", \"10\", \"11\", \"12\", \"13\", \"14\", \"15\", \"16\", \"17\", \"18\", \"19\", \"20\", \"21\", \"22\", \"23\", \"24\", \"25\", \"26\", \"27\", \"28\", \"29\", \"30\", \"31\"], \"mode\": \"lines\", \"name\": \"recall_score_micro_max\", \"stepped\": true, \"type\": \"scatter\", \"data\": [0.9861333333333333, 0.9866666666666667, 0.9866666666666667, 0.9866666666666667, 0.9866666666666667, 0.9866666666666667, 0.9866666666666667, 0.9866666666666667, 0.9866666666666667, 0.9866666666666667, 0.9866666666666667, 0.9866666666666667, 0.9866666666666667, 0.9866666666666667, 0.9866666666666667, 0.9866666666666667, 0.9866666666666667, 0.9866666666666667, 0.9872, 0.9872, 0.9872, 0.9872, 0.9872, 0.9872, 0.9872, 0.9872, 0.9872, 0.9872, 0.9872, 0.9872, 0.9885333333333334, 0.9885333333333334]}], \"f1_score_micro\": [{\"categories\": [\"0\", \"1\", \"2\", \"3\", \"4\", \"5\", \"6\", \"7\", \"8\", \"9\", \"10\", \"11\", \"12\", \"13\", \"14\", \"15\", \"16\", \"17\", \"18\", \"19\", \"20\", \"21\", \"22\", \"23\", \"24\", \"25\", \"26\", \"27\", \"28\", \"29\", \"30\", \"31\"], \"mode\": \"markers\", \"name\": \"f1_score_micro\", \"stepped\": false, \"type\": \"scatter\", \"data\": [0.9861333333333333, 0.9866666666666667, 0.9594666666666667, 0.9045333333333334, 0.9450666666666667, 0.8448, 0.9522666666666668, 0.9663999999999999, 0.9021333333333332, 0.9634666666666666, 0.9285333333333334, 0.9530666666666667, 0.9802666666666667, 0.9088, 0.9498666666666666, 0.9845333333333333, 0.9656, 0.9842666666666666, 0.9872, 0.9114666666666666, 0.9541333333333334, 0.9021333333333332, 0.9298666666666666, 0.9626666666666667, 0.9765333333333335, 0.9021333333333332, 0.9663999999999999, 0.9682666666666666, 0.9818666666666667, 0.8941333333333332, 0.9885333333333334, 0.9877333333333332]}, {\"categories\": [\"0\", \"1\", \"2\", \"3\", \"4\", \"5\", \"6\", \"7\", \"8\", \"9\", \"10\", \"11\", \"12\", \"13\", \"14\", \"15\", \"16\", \"17\", \"18\", \"19\", \"20\", \"21\", \"22\", \"23\", \"24\", \"25\", \"26\", \"27\", \"28\", \"29\", \"30\", \"31\"], \"mode\": \"lines\", \"name\": \"f1_score_micro_max\", \"stepped\": true, \"type\": \"scatter\", \"data\": [0.9861333333333333, 0.9866666666666667, 0.9866666666666667, 0.9866666666666667, 0.9866666666666667, 0.9866666666666667, 0.9866666666666667, 0.9866666666666667, 0.9866666666666667, 0.9866666666666667, 0.9866666666666667, 0.9866666666666667, 0.9866666666666667, 0.9866666666666667, 0.9866666666666667, 0.9866666666666667, 0.9866666666666667, 0.9866666666666667, 0.9872, 0.9872, 0.9872, 0.9872, 0.9872, 0.9872, 0.9872, 0.9872, 0.9872, 0.9872, 0.9872, 0.9872, 0.9885333333333334, 0.9885333333333334]}], \"matthews_correlation\": [{\"categories\": [\"0\", \"1\", \"2\", \"3\", \"4\", \"5\", \"6\", \"7\", \"8\", \"9\", \"10\", \"11\", \"12\", \"13\", \"14\", \"15\", \"16\", \"17\", \"18\", \"19\", \"20\", \"21\", \"22\", \"23\", \"24\", \"25\", \"26\", \"27\", \"28\", \"29\", \"30\", \"31\"], \"mode\": \"markers\", \"name\": \"matthews_correlation\", \"stepped\": false, \"type\": \"scatter\", \"data\": [0.9189469160234303, 0.9214463696369111, 0.7461340175195674, 0.0905591741417533, 0.7678744698303956, 0.5509953338587584, 0.7002906210577473, 0.7943038623555259, 0.0, 0.7783656994048369, 0.49345421491650904, 0.7043556118140866, 0.88439596476913, 0.15993126096684424, 0.6786886857687635, 0.9098246996094668, 0.7887879567115339, 0.9086998545647488, 0.9254127402663539, 0.1913290558143606, 0.711608865360511, 0.0, 0.5112262882470764, 0.772532918338402, 0.8610528002873782, 0.0, 0.8003282259819254, 0.8143881770475165, 0.8944839389834585, 0.606649118241631, 0.9328395326419743, 0.9280184794659692]}, {\"categories\": [\"0\", \"1\", \"2\", \"3\", \"4\", \"5\", \"6\", \"7\", \"8\", \"9\", \"10\", \"11\", \"12\", \"13\", \"14\", \"15\", \"16\", \"17\", \"18\", \"19\", \"20\", \"21\", \"22\", \"23\", \"24\", \"25\", \"26\", \"27\", \"28\", \"29\", \"30\", \"31\"], \"mode\": \"lines\", \"name\": \"matthews_correlation_max\", \"stepped\": true, \"type\": \"scatter\", \"data\": [0.9189469160234303, 0.9214463696369111, 0.9214463696369111, 0.9214463696369111, 0.9214463696369111, 0.9214463696369111, 0.9214463696369111, 0.9214463696369111, 0.9214463696369111, 0.9214463696369111, 0.9214463696369111, 0.9214463696369111, 0.9214463696369111, 0.9214463696369111, 0.9214463696369111, 0.9214463696369111, 0.9214463696369111, 0.9214463696369111, 0.9254127402663539, 0.9254127402663539, 0.9254127402663539, 0.9254127402663539, 0.9254127402663539, 0.9254127402663539, 0.9254127402663539, 0.9254127402663539, 0.9254127402663539, 0.9254127402663539, 0.9254127402663539, 0.9254127402663539, 0.9328395326419743, 0.9328395326419743]}], \"average_precision_score_weighted\": [{\"categories\": [\"0\", \"1\", \"2\", \"3\", \"4\", \"5\", \"6\", \"7\", \"8\", \"9\", \"10\", \"11\", \"12\", \"13\", \"14\", \"15\", \"16\", \"17\", \"18\", \"19\", \"20\", \"21\", \"22\", \"23\", \"24\", \"25\", \"26\", \"27\", \"28\", \"29\", \"30\", \"31\"], \"mode\": \"markers\", \"name\": \"average_precision_score_weighted\", \"stepped\": false, \"type\": \"scatter\", \"data\": [0.99809632090755, 0.9976441662386062, 0.987684518281525, 0.9753289811556364, 0.9923289486036208, 0.973088015558152, 0.9788993052657396, 0.9903190530419435, 0.9854636817963607, 0.9856043882084853, 0.9919754069547864, 0.9817460214996101, 0.9948649510150898, 0.9887561493799375, 0.993814608608685, 0.9965550596933201, 0.9943489890470124, 0.9967198324750779, 0.9982537391291235, 0.9874350731781675, 0.9817247705587958, 0.9917704170546402, 0.9642438656512109, 0.9866121434418776, 0.9907300705359858, 0.8235740444444446, 0.9863515373776064, 0.9864783932253747, 0.9950564762274308, 0.9723594219406289, 0.997347908273628, 0.9974572968537672]}, {\"categories\": [\"0\", \"1\", \"2\", \"3\", \"4\", \"5\", \"6\", \"7\", \"8\", \"9\", \"10\", \"11\", \"12\", \"13\", \"14\", \"15\", \"16\", \"17\", \"18\", \"19\", \"20\", \"21\", \"22\", \"23\", \"24\", \"25\", \"26\", \"27\", \"28\", \"29\", \"30\", \"31\"], \"mode\": \"lines\", \"name\": \"average_precision_score_weighted_max\", \"stepped\": true, \"type\": \"scatter\", \"data\": [0.99809632090755, 0.99809632090755, 0.99809632090755, 0.99809632090755, 0.99809632090755, 0.99809632090755, 0.99809632090755, 0.99809632090755, 0.99809632090755, 0.99809632090755, 0.99809632090755, 0.99809632090755, 0.99809632090755, 0.99809632090755, 0.99809632090755, 0.99809632090755, 0.99809632090755, 0.99809632090755, 0.9982537391291235, 0.9982537391291235, 0.9982537391291235, 0.9982537391291235, 0.9982537391291235, 0.9982537391291235, 0.9982537391291235, 0.9982537391291235, 0.9982537391291235, 0.9982537391291235, 0.9982537391291235, 0.9982537391291235, 0.9982537391291235, 0.9982537391291235]}], \"accuracy\": [{\"categories\": [\"0\", \"1\", \"2\", \"3\", \"4\", \"5\", \"6\", \"7\", \"8\", \"9\", \"10\", \"11\", \"12\", \"13\", \"14\", \"15\", \"16\", \"17\", \"18\", \"19\", \"20\", \"21\", \"22\", \"23\", \"24\", \"25\", \"26\", \"27\", \"28\", \"29\", \"30\", \"31\"], \"mode\": \"markers\", \"name\": \"accuracy\", \"stepped\": false, \"type\": \"scatter\", \"data\": [0.9861333333333333, 0.9866666666666667, 0.9594666666666667, 0.9045333333333334, 0.9450666666666667, 0.8448, 0.9522666666666668, 0.9663999999999999, 0.9021333333333332, 0.9634666666666666, 0.9285333333333334, 0.9530666666666667, 0.9802666666666667, 0.9088, 0.9498666666666666, 0.9845333333333333, 0.9656, 0.9842666666666666, 0.9872, 0.9114666666666666, 0.9541333333333334, 0.9021333333333332, 0.9298666666666666, 0.9626666666666667, 0.9765333333333335, 0.9021333333333332, 0.9663999999999999, 0.9682666666666666, 0.9818666666666667, 0.8941333333333332, 0.9885333333333334, 0.9877333333333332]}, {\"categories\": [\"0\", \"1\", \"2\", \"3\", \"4\", \"5\", \"6\", \"7\", \"8\", \"9\", \"10\", \"11\", \"12\", \"13\", \"14\", \"15\", \"16\", \"17\", \"18\", \"19\", \"20\", \"21\", \"22\", \"23\", \"24\", \"25\", \"26\", \"27\", \"28\", \"29\", \"30\", \"31\"], \"mode\": \"lines\", \"name\": \"accuracy_max\", \"stepped\": true, \"type\": \"scatter\", \"data\": [0.9861333333333333, 0.9866666666666667, 0.9866666666666667, 0.9866666666666667, 0.9866666666666667, 0.9866666666666667, 0.9866666666666667, 0.9866666666666667, 0.9866666666666667, 0.9866666666666667, 0.9866666666666667, 0.9866666666666667, 0.9866666666666667, 0.9866666666666667, 0.9866666666666667, 0.9866666666666667, 0.9866666666666667, 0.9866666666666667, 0.9872, 0.9872, 0.9872, 0.9872, 0.9872, 0.9872, 0.9872, 0.9872, 0.9872, 0.9872, 0.9872, 0.9872, 0.9885333333333334, 0.9885333333333334]}], \"balanced_accuracy\": [{\"categories\": [\"0\", \"1\", \"2\", \"3\", \"4\", \"5\", \"6\", \"7\", \"8\", \"9\", \"10\", \"11\", \"12\", \"13\", \"14\", \"15\", \"16\", \"17\", \"18\", \"19\", \"20\", \"21\", \"22\", \"23\", \"24\", \"25\", \"26\", \"27\", \"28\", \"29\", \"30\", \"31\"], \"mode\": \"markers\", \"name\": \"balanced_accuracy\", \"stepped\": false, \"type\": \"scatter\", \"data\": [0.9412106890186107, 0.9436012147491359, 0.8007168704433063, 0.5137782805429865, 0.953916734328352, 0.8949666103181831, 0.7965106855263064, 0.8366829299727426, 0.5, 0.855002721994488, 0.6359196183636284, 0.7888920675501921, 0.9131192564696725, 0.5362642710087966, 0.7455224143489083, 0.937042269020855, 0.8311498434734592, 0.9323644441229255, 0.9467713847383632, 0.55, 0.7722916939106337, 0.5, 0.6626962202789679, 0.8384371687480543, 0.8931006578959423, 0.5, 0.8787292224379923, 0.8924953062019849, 0.9253571771410538, 0.8935316896428622, 0.9458528237089734, 0.9489106005098566]}, {\"categories\": [\"0\", \"1\", \"2\", \"3\", \"4\", \"5\", \"6\", \"7\", \"8\", \"9\", \"10\", \"11\", \"12\", \"13\", \"14\", \"15\", \"16\", \"17\", \"18\", \"19\", \"20\", \"21\", \"22\", \"23\", \"24\", \"25\", \"26\", \"27\", \"28\", \"29\", \"30\", \"31\"], \"mode\": \"lines\", \"name\": \"balanced_accuracy_max\", \"stepped\": true, \"type\": \"scatter\", \"data\": [0.9412106890186107, 0.9436012147491359, 0.9436012147491359, 0.9436012147491359, 0.953916734328352, 0.953916734328352, 0.953916734328352, 0.953916734328352, 0.953916734328352, 0.953916734328352, 0.953916734328352, 0.953916734328352, 0.953916734328352, 0.953916734328352, 0.953916734328352, 0.953916734328352, 0.953916734328352, 0.953916734328352, 0.953916734328352, 0.953916734328352, 0.953916734328352, 0.953916734328352, 0.953916734328352, 0.953916734328352, 0.953916734328352, 0.953916734328352, 0.953916734328352, 0.953916734328352, 0.953916734328352, 0.953916734328352, 0.953916734328352, 0.953916734328352]}], \"weighted_accuracy\": [{\"categories\": [\"0\", \"1\", \"2\", \"3\", \"4\", \"5\", \"6\", \"7\", \"8\", \"9\", \"10\", \"11\", \"12\", \"13\", \"14\", \"15\", \"16\", \"17\", \"18\", \"19\", \"20\", \"21\", \"22\", \"23\", \"24\", \"25\", \"26\", \"27\", \"28\", \"29\", \"30\", \"31\"], \"mode\": \"markers\", \"name\": \"weighted_accuracy\", \"stepped\": false, \"type\": \"scatter\", \"data\": [0.9957443231912644, 0.995824256230164, 0.9933389774383204, 0.9884880285314372, 0.9431285108597105, 0.8336158108862884, 0.9856851438438652, 0.9941559259702156, 0.9882394126709062, 0.986767433695851, 0.9911609470074195, 0.9883660599728463, 0.9947518037095966, 0.9887567454389601, 0.9937084081853846, 0.9947648096714913, 0.9943266805476096, 0.9954960303809228, 0.9958694784208835, 0.9892998607474155, 0.9933951239013906, 0.9882394126709062, 0.9871518572948588, 0.9895114908471075, 0.9945665635605909, 0.9882394126709062, 0.9853021694374, 0.9847284743684831, 0.9941648279007621, 0.8941616928695906, 0.997600900699936, 0.9959478965135471]}, {\"categories\": [\"0\", \"1\", \"2\", \"3\", \"4\", \"5\", \"6\", \"7\", \"8\", \"9\", \"10\", \"11\", \"12\", \"13\", \"14\", \"15\", \"16\", \"17\", \"18\", \"19\", \"20\", \"21\", \"22\", \"23\", \"24\", \"25\", \"26\", \"27\", \"28\", \"29\", \"30\", \"31\"], \"mode\": \"lines\", \"name\": \"weighted_accuracy_max\", \"stepped\": true, \"type\": \"scatter\", \"data\": [0.9957443231912644, 0.995824256230164, 0.995824256230164, 0.995824256230164, 0.995824256230164, 0.995824256230164, 0.995824256230164, 0.995824256230164, 0.995824256230164, 0.995824256230164, 0.995824256230164, 0.995824256230164, 0.995824256230164, 0.995824256230164, 0.995824256230164, 0.995824256230164, 0.995824256230164, 0.995824256230164, 0.9958694784208835, 0.9958694784208835, 0.9958694784208835, 0.9958694784208835, 0.9958694784208835, 0.9958694784208835, 0.9958694784208835, 0.9958694784208835, 0.9958694784208835, 0.9958694784208835, 0.9958694784208835, 0.9958694784208835, 0.997600900699936, 0.997600900699936]}], \"AUC_weighted\": [{\"categories\": [\"0\", \"1\", \"2\", \"3\", \"4\", \"5\", \"6\", \"7\", \"8\", \"9\", \"10\", \"11\", \"12\", \"13\", \"14\", \"15\", \"16\", \"17\", \"18\", \"19\", \"20\", \"21\", \"22\", \"23\", \"24\", \"25\", \"26\", \"27\", \"28\", \"29\", \"30\", \"31\"], \"mode\": \"markers\", \"name\": \"AUC_weighted\", \"stepped\": false, \"type\": \"scatter\", \"data\": [0.997612948662679, 0.9967595945713217, 0.9822812853756376, 0.9613513707021489, 0.9901884817407225, 0.9605615382067164, 0.9641222529821694, 0.982911610164425, 0.9702221931808795, 0.9716681513072125, 0.9888411494141736, 0.9685665947327442, 0.9917349093950097, 0.9832754783411664, 0.9911717329712063, 0.9944019447513869, 0.9930876876931449, 0.9951314037273968, 0.99785123806864, 0.9774350017384501, 0.9687971084216022, 0.9895046741991654, 0.9360685152047481, 0.9771350308129566, 0.980174161649078, 0.5, 0.9719963076752638, 0.9719872667721094, 0.9902001813082091, 0.9494847992770712, 0.995762964831721, 0.9960009500054277]}, {\"categories\": [\"0\", \"1\", \"2\", \"3\", \"4\", \"5\", \"6\", \"7\", \"8\", \"9\", \"10\", \"11\", \"12\", \"13\", \"14\", \"15\", \"16\", \"17\", \"18\", \"19\", \"20\", \"21\", \"22\", \"23\", \"24\", \"25\", \"26\", \"27\", \"28\", \"29\", \"30\", \"31\"], \"mode\": \"lines\", \"name\": \"AUC_weighted_max\", \"stepped\": true, \"type\": \"scatter\", \"data\": [0.997612948662679, 0.997612948662679, 0.997612948662679, 0.997612948662679, 0.997612948662679, 0.997612948662679, 0.997612948662679, 0.997612948662679, 0.997612948662679, 0.997612948662679, 0.997612948662679, 0.997612948662679, 0.997612948662679, 0.997612948662679, 0.997612948662679, 0.997612948662679, 0.997612948662679, 0.997612948662679, 0.99785123806864, 0.99785123806864, 0.99785123806864, 0.99785123806864, 0.99785123806864, 0.99785123806864, 0.99785123806864, 0.99785123806864, 0.99785123806864, 0.99785123806864, 0.99785123806864, 0.99785123806864, 0.99785123806864, 0.99785123806864]}]}, \"metricName\": null, \"primaryMetricName\": \"accuracy\", \"showLegend\": false}, \"run_metrics\": [{\"name\": \"experiment_status\", \"run_id\": \"AutoML_36eac4de-496f-43d2-871e-5b4d9185349d\", \"categories\": [0, 1, 2, 3, 4, 5, 6, 7, 8, 9, 10, 11, 12, 13, 14], \"series\": [{\"data\": [\"DatasetEvaluation\", \"FeaturesGeneration\", \"DatasetFeaturization\", \"DatasetFeaturizationCompleted\", \"DatasetBalancing\", \"DatasetCrossValidationSplit\", \"ModelSelection\", \"BestRunExplainModel\", \"ModelExplanationDataSetSetup\", \"PickSurrogateModel\", \"EngineeredFeatureExplanations\", \"EngineeredFeatureExplanations\", \"RawFeaturesExplanations\", \"RawFeaturesExplanations\", \"BestRunExplainModel\"]}]}, {\"name\": \"experiment_status_description\", \"run_id\": \"AutoML_36eac4de-496f-43d2-871e-5b4d9185349d\", \"categories\": [0, 1, 2, 3, 4, 5, 6, 7, 8, 9, 10, 11, 12, 13, 14], \"series\": [{\"data\": [\"Gathering dataset statistics.\", \"Generating features for the dataset.\", \"Beginning to fit featurizers and featurize the dataset.\", \"Completed fit featurizers and featurizing the dataset.\", \"Performing class balancing sweeping\", \"Generating individually featurized CV splits.\", \"Beginning model selection.\", \"Best run model explanations started\", \"Model explanations data setup completed\", \"Choosing LightGBM as the surrogate model for explanations\", \"Computation of engineered features started\", \"Computation of engineered features completed\", \"Computation of raw features started\", \"Computation of raw features completed\", \"Best run model explanations completed\"]}]}, {\"name\": \"balanced_accuracy\", \"run_id\": \"AutoML_36eac4de-496f-43d2-871e-5b4d9185349d\", \"categories\": [0], \"series\": [{\"data\": [0.9458528237089734]}]}, {\"name\": \"precision_score_macro\", \"run_id\": \"AutoML_36eac4de-496f-43d2-871e-5b4d9185349d\", \"categories\": [0], \"series\": [{\"data\": [0.9881450324895293]}]}, {\"name\": \"recall_score_micro\", \"run_id\": \"AutoML_36eac4de-496f-43d2-871e-5b4d9185349d\", \"categories\": [0], \"series\": [{\"data\": [0.9885333333333334]}]}, {\"name\": \"norm_macro_recall\", \"run_id\": \"AutoML_36eac4de-496f-43d2-871e-5b4d9185349d\", \"categories\": [0], \"series\": [{\"data\": [0.8917056474179464]}]}, {\"name\": \"precision_score_weighted\", \"run_id\": \"AutoML_36eac4de-496f-43d2-871e-5b4d9185349d\", \"categories\": [0], \"series\": [{\"data\": [0.9885786748792025]}]}, {\"name\": \"f1_score_macro\", \"run_id\": \"AutoML_36eac4de-496f-43d2-871e-5b4d9185349d\", \"categories\": [0], \"series\": [{\"data\": [0.9655432129183599]}]}, {\"name\": \"average_precision_score_weighted\", \"run_id\": \"AutoML_36eac4de-496f-43d2-871e-5b4d9185349d\", \"categories\": [0], \"series\": [{\"data\": [0.997347908273628]}]}, {\"name\": \"matthews_correlation\", \"run_id\": \"AutoML_36eac4de-496f-43d2-871e-5b4d9185349d\", \"categories\": [0], \"series\": [{\"data\": [0.9328395326419743]}]}, {\"name\": \"average_precision_score_micro\", \"run_id\": \"AutoML_36eac4de-496f-43d2-871e-5b4d9185349d\", \"categories\": [0], \"series\": [{\"data\": [0.9986196845452502]}]}, {\"name\": \"f1_score_weighted\", \"run_id\": \"AutoML_36eac4de-496f-43d2-871e-5b4d9185349d\", \"categories\": [0], \"series\": [{\"data\": [0.9882472311599699]}]}, {\"name\": \"accuracy\", \"run_id\": \"AutoML_36eac4de-496f-43d2-871e-5b4d9185349d\", \"categories\": [0], \"series\": [{\"data\": [0.9885333333333334]}]}, {\"name\": \"AUC_macro\", \"run_id\": \"AutoML_36eac4de-496f-43d2-871e-5b4d9185349d\", \"categories\": [0], \"series\": [{\"data\": [0.995762964831721]}]}, {\"name\": \"log_loss\", \"run_id\": \"AutoML_36eac4de-496f-43d2-871e-5b4d9185349d\", \"categories\": [0], \"series\": [{\"data\": [0.07912269405812]}]}, {\"name\": \"AUC_weighted\", \"run_id\": \"AutoML_36eac4de-496f-43d2-871e-5b4d9185349d\", \"categories\": [0], \"series\": [{\"data\": [0.995762964831721]}]}, {\"name\": \"average_precision_score_macro\", \"run_id\": \"AutoML_36eac4de-496f-43d2-871e-5b4d9185349d\", \"categories\": [0], \"series\": [{\"data\": [0.9881471395967438]}]}, {\"name\": \"weighted_accuracy\", \"run_id\": \"AutoML_36eac4de-496f-43d2-871e-5b4d9185349d\", \"categories\": [0], \"series\": [{\"data\": [0.997600900699936]}]}, {\"name\": \"recall_score_weighted\", \"run_id\": \"AutoML_36eac4de-496f-43d2-871e-5b4d9185349d\", \"categories\": [0], \"series\": [{\"data\": [0.9885333333333334]}]}, {\"name\": \"f1_score_micro\", \"run_id\": \"AutoML_36eac4de-496f-43d2-871e-5b4d9185349d\", \"categories\": [0], \"series\": [{\"data\": [0.9885333333333334]}]}, {\"name\": \"precision_score_micro\", \"run_id\": \"AutoML_36eac4de-496f-43d2-871e-5b4d9185349d\", \"categories\": [0], \"series\": [{\"data\": [0.9885333333333334]}]}, {\"name\": \"AUC_micro\", \"run_id\": \"AutoML_36eac4de-496f-43d2-871e-5b4d9185349d\", \"categories\": [0], \"series\": [{\"data\": [0.998589511111111]}]}, {\"name\": \"recall_score_macro\", \"run_id\": \"AutoML_36eac4de-496f-43d2-871e-5b4d9185349d\", \"categories\": [0], \"series\": [{\"data\": [0.9458528237089734]}]}], \"run_logs\": \"\\nRun is completed.\", \"graph\": {}, \"widget_settings\": {\"childWidgetDisplay\": \"popup\", \"send_telemetry\": false, \"log_level\": \"INFO\", \"sdk_version\": \"1.20.0\"}, \"loading\": false}"
          },
          "metadata": {}
        },
        {
          "output_type": "display_data",
          "data": {
            "application/vnd.jupyter.widget-view+json": {
              "model_id": "",
              "version_major": 2,
              "version_minor": 0
            },
            "text/plain": "_UserRunWidget(widget_settings={'childWidgetDisplay': 'popup', 'send_telemetry': False, 'log_level': 'INFO', '…"
          },
          "metadata": {}
        },
        {
          "output_type": "display_data",
          "data": {
            "application/aml.mini.widget.v1": "{\"loading\": true}"
          },
          "metadata": {}
        },
        {
          "output_type": "display_data",
          "data": {
            "application/vnd.jupyter.widget-view+json": {
              "model_id": "5c0fee61983b4f3cb3ff7a33537a6afa",
              "version_major": 2,
              "version_minor": 0
            },
            "text/plain": "_UserRunWidget(widget_settings={'childWidgetDisplay': 'popup', 'send_telemetry': False, 'log_level': 'INFO', '…"
          },
          "metadata": {}
        },
        {
          "output_type": "display_data",
          "data": {
            "application/aml.mini.widget.v1": "{\"loading\": true}"
          },
          "metadata": {}
        }
      ],
      "execution_count": 188,
      "metadata": {
        "gather": {
          "logged": 1598431121770
        },
        "jupyter": {
          "outputs_hidden": false,
          "source_hidden": false
        },
        "nteract": {
          "transient": {
            "deleting": false
          }
        }
      }
    },
    {
      "cell_type": "markdown",
      "source": [
        "## Best Model\n",
        "\n",
        "TODO: In the cell below, get the best model from the automl experiments and display all the properties of the model.\n",
        "\n"
      ],
      "metadata": {}
    },
    {
      "cell_type": "code",
      "source": [
        "from azureml.core.environment import Environment\n",
        "from azureml.core.conda_dependencies import CondaDependencies\n",
        "\n",
        "# to install required packages\n",
        "env = Environment('vfenv')\n",
        "cd = CondaDependencies.create(pip_packages=['azureml-sdk','azureml-dataset-runtime[pandas,fuse]', 'azureml-defaults'], conda_packages = ['scikit-learn==0.22.1', 'scikit-learn'])\n",
        "#azureml-sdk\", \"azureml-dataprep[fuse,pandas]\", \"azureml-defaults>=1.0.45\n",
        "env.python.conda_dependencies = cd\n",
        "#cd.add_conda_package(\"scikit-learn\")\n",
        "# Register environment to re-use later\n",
        "env.register(workspace = ws)"
      ],
      "outputs": [
        {
          "output_type": "execute_result",
          "execution_count": 247,
          "data": {
            "text/plain": "{\n    \"databricks\": {\n        \"eggLibraries\": [],\n        \"jarLibraries\": [],\n        \"mavenLibraries\": [],\n        \"pypiLibraries\": [],\n        \"rcranLibraries\": []\n    },\n    \"docker\": {\n        \"arguments\": [],\n        \"baseDockerfile\": null,\n        \"baseImage\": \"mcr.microsoft.com/azureml/intelmpi2018.3-ubuntu16.04:20210104.v1\",\n        \"baseImageRegistry\": {\n            \"address\": null,\n            \"password\": null,\n            \"registryIdentity\": null,\n            \"username\": null\n        },\n        \"enabled\": false,\n        \"platform\": {\n            \"architecture\": \"amd64\",\n            \"os\": \"Linux\"\n        },\n        \"sharedVolumes\": true,\n        \"shmSize\": null\n    },\n    \"environmentVariables\": {\n        \"EXAMPLE_ENV_VAR\": \"EXAMPLE_VALUE\"\n    },\n    \"inferencingStackVersion\": null,\n    \"name\": \"vfenv\",\n    \"python\": {\n        \"baseCondaEnvironment\": null,\n        \"condaDependencies\": {\n            \"channels\": [\n                \"anaconda\",\n                \"conda-forge\"\n            ],\n            \"dependencies\": [\n                \"python=3.6.2\",\n                {\n                    \"pip\": [\n                        \"azureml-sdk~=1.20.0\",\n                        \"azureml-dataset-runtime[pandas,fuse]~=1.20.0\",\n                        \"azureml-defaults~=1.20.0\"\n                    ]\n                },\n                \"scikit-learn==0.22.1\",\n                \"scikit-learn\"\n            ],\n            \"name\": \"azureml_cbb7c564e28cb7a13cffdc8c4f3bd2d7\"\n        },\n        \"condaDependenciesFile\": null,\n        \"interpreterPath\": \"python\",\n        \"userManagedDependencies\": false\n    },\n    \"r\": null,\n    \"spark\": {\n        \"packages\": [],\n        \"precachePackages\": true,\n        \"repositories\": []\n    },\n    \"version\": \"3\"\n}"
          },
          "metadata": {}
        }
      ],
      "execution_count": 247,
      "metadata": {
        "gather": {
          "logged": 1611525290461
        }
      }
    },
    {
      "cell_type": "code",
      "source": [
        "best_run, best_model = remote_run.get_output()\n",
        "#print(best_model)\n",
        "#best_run, best_model = remote_run.get_output()\n",
        "#best_run, best_model\n",
        "#best_run_id\n",
        "\n",
        "from azureml.automl.core.shared import constants\n",
        "best_run.download_file(constants.CONDA_ENV_FILE_PATH, 'env.yml')\n",
        "#num_file_downloaded = best_model_output.download('.', show_progress=True)\n",
        "\n",
        "\n",
        "#best_run = remote_run.get_output()\n",
        "#best_run"
      ],
      "outputs": [],
      "execution_count": 251,
      "metadata": {
        "gather": {
          "logged": 1611525581388
        },
        "jupyter": {
          "outputs_hidden": false,
          "source_hidden": false
        },
        "nteract": {
          "transient": {
            "deleting": false
          }
        }
      }
    },
    {
      "cell_type": "code",
      "source": [
        "#TODO: Save the best model\n",
        "import joblib\n",
        "joblib.dump(best_model,'best_aut_model.joblib')\n",
        "\n",
        "#print(filename)\n",
        "\n",
        "#import joblib\n",
        "#joblib.dump(value=fmodel, filename='model.pkl')"
      ],
      "outputs": [
        {
          "output_type": "execute_result",
          "execution_count": 262,
          "data": {
            "text/plain": "['best_aut_model.joblib']",
            "text/html": "['best_aut_model.joblib']"
          },
          "metadata": {}
        }
      ],
      "execution_count": 262,
      "metadata": {
        "gather": {
          "logged": 1611526838332
        },
        "jupyter": {
          "outputs_hidden": false,
          "source_hidden": false
        },
        "nteract": {
          "transient": {
            "deleting": false
          }
        }
      }
    },
    {
      "cell_type": "markdown",
      "source": [
        "## Model Deployment\n",
        "\n",
        "Remember you have to deploy only one of the two models you trained.. Perform the steps in the rest of this notebook only if you wish to deploy this model.\n",
        "\n",
        "TODO: In the cell below, register the model, create an inference config and deploy the model as a web service."
      ],
      "metadata": {}
    },
    {
      "cell_type": "code",
      "source": [],
      "outputs": [],
      "execution_count": null,
      "metadata": {
        "gather": {
          "logged": 1611445909895
        }
      }
    },
    {
      "cell_type": "code",
      "source": [],
      "outputs": [],
      "execution_count": null,
      "metadata": {
        "gather": {
          "logged": 1611445914204
        }
      }
    },
    {
      "cell_type": "code",
      "source": [
        "from azureml.core.model import Model\n",
        "\n",
        "#model = best_model.register_model(model_name = 'best_aut_model', model_path = './outputs/')\n",
        "\n",
        "#from azureml.core.model import Model\n",
        "\n",
        "model = Model.register(model_path=\"best_aut_model.joblib\",\n",
        "                       model_name=\"best_aut_model\",\n",
        "                       tags={\"data\": \"loans\",  \"method\" : \"sklearn\"},\n",
        "                       description=\"Predict loans with sklearn\",\n",
        "                       workspace=ws)\n",
        "print(model)"
      ],
      "outputs": [
        {
          "output_type": "stream",
          "name": "stdout",
          "text": [
            "Registering model best_aut_model\n",
            "Model(workspace=Workspace.create(name='toria_workspace', subscription_id='784d8740-4c70-4d20-8f45-b2bfecf94029', resource_group='myresourcegroup'), name=best_aut_model, id=best_aut_model:12, version=12, tags={'data': 'loans', 'method': 'sklearn'}, properties={})\n"
          ]
        }
      ],
      "execution_count": 282,
      "metadata": {
        "gather": {
          "logged": 1611528485684
        }
      }
    },
    {
      "cell_type": "code",
      "source": [
        "Model.get_model_path('best_aut_model.joblib')"
      ],
      "outputs": [
        {
          "output_type": "execute_result",
          "execution_count": 285,
          "data": {
            "text/plain": "'best_aut_model.joblib'"
          },
          "metadata": {}
        }
      ],
      "execution_count": 285,
      "metadata": {
        "collapsed": true,
        "jupyter": {
          "source_hidden": false,
          "outputs_hidden": false
        },
        "nteract": {
          "transient": {
            "deleting": false
          }
        },
        "gather": {
          "logged": 1611528575209
        }
      }
    },
    {
      "cell_type": "markdown",
      "source": [
        "TODO: In the cell below, send a request to the web service you deployed to test it."
      ],
      "metadata": {
        "collapsed": true,
        "gather": {
          "logged": 1598431657736
        },
        "jupyter": {
          "outputs_hidden": false,
          "source_hidden": false
        },
        "nteract": {
          "transient": {
            "deleting": false
          }
        }
      }
    },
    {
      "cell_type": "code",
      "source": [
        "import sklearn\n",
        "\n",
        "from azureml.core.environment import Environment\n",
        "\n",
        "#environment = Environment(\"LocalDeploy\")\n",
        "env.python.conda_dependencies.add_pip_package(\"inference-schema[numpy-support]\")\n",
        "env.python.conda_dependencies.add_pip_package(\"joblib\")\n",
        "env.python.conda_dependencies.add_pip_package(\"scikit-learn=={}\".format(sklearn.__version__))\n",
        "env.python.conda_dependencies.add_pip_package(\"sklearn\")\n",
        "env.python.conda_dependencies.add_pip_package(\"azureml-defaults\")"
      ],
      "outputs": [],
      "execution_count": 286,
      "metadata": {
        "gather": {
          "logged": 1611529167176
        }
      }
    },
    {
      "cell_type": "code",
      "source": [
        "import json\n",
        "import logging\n",
        "import os\n",
        "import pickle\n",
        "import numpy as np\n",
        "import pandas as pd\n",
        "import joblib\n",
        "from sklearn.externals import joblib\n",
        "from azureml.core.model import Model\n",
        "\n",
        "#model_path = os.path.join(os.getenv('AZUREML_MODEL_DIR'), 'sklearn_regression_model.pkl')\n",
        "#model_path = os.path.join(os.getenv('AZUREML_MODEL_DIR'), 'best_aut_model.pkl')\n",
        "#print(model_path)\n",
        "print(os.path.join(os.getenv('AZUREML_MODEL_DIR'), 'best_aut_model.joblib'))\n"
      ],
      "outputs": [
        {
          "output_type": "error",
          "ename": "TypeError",
          "evalue": "expected str, bytes or os.PathLike object, not NoneType",
          "traceback": [
            "\u001b[0;31m---------------------------------------------------------------------------\u001b[0m",
            "\u001b[0;31mTypeError\u001b[0m                                 Traceback (most recent call last)",
            "\u001b[0;32m<ipython-input-268-9a83224dbbdb>\u001b[0m in \u001b[0;36m<module>\u001b[0;34m\u001b[0m\n\u001b[1;32m     12\u001b[0m \u001b[0;31m#model_path = os.path.join(os.getenv('AZUREML_MODEL_DIR'), 'best_aut_model.pkl')\u001b[0m\u001b[0;34m\u001b[0m\u001b[0;34m\u001b[0m\u001b[0;34m\u001b[0m\u001b[0m\n\u001b[1;32m     13\u001b[0m \u001b[0;31m#print(model_path)\u001b[0m\u001b[0;34m\u001b[0m\u001b[0;34m\u001b[0m\u001b[0;34m\u001b[0m\u001b[0m\n\u001b[0;32m---> 14\u001b[0;31m \u001b[0mprint\u001b[0m\u001b[0;34m(\u001b[0m\u001b[0mos\u001b[0m\u001b[0;34m.\u001b[0m\u001b[0mpath\u001b[0m\u001b[0;34m.\u001b[0m\u001b[0mjoin\u001b[0m\u001b[0;34m(\u001b[0m\u001b[0mos\u001b[0m\u001b[0;34m.\u001b[0m\u001b[0mgetenv\u001b[0m\u001b[0;34m(\u001b[0m\u001b[0;34m'AZUREML_MODEL_DIR'\u001b[0m\u001b[0;34m)\u001b[0m\u001b[0;34m,\u001b[0m \u001b[0;34m'best_aut_model.joblib'\u001b[0m\u001b[0;34m)\u001b[0m\u001b[0;34m)\u001b[0m\u001b[0;34m\u001b[0m\u001b[0;34m\u001b[0m\u001b[0m\n\u001b[0m",
            "\u001b[0;32m/anaconda/envs/azureml_py36/lib/python3.6/posixpath.py\u001b[0m in \u001b[0;36mjoin\u001b[0;34m(a, *p)\u001b[0m\n\u001b[1;32m     78\u001b[0m     \u001b[0mwill\u001b[0m \u001b[0mbe\u001b[0m \u001b[0mdiscarded\u001b[0m\u001b[0;34m.\u001b[0m  \u001b[0mAn\u001b[0m \u001b[0mempty\u001b[0m \u001b[0mlast\u001b[0m \u001b[0mpart\u001b[0m \u001b[0mwill\u001b[0m \u001b[0mresult\u001b[0m \u001b[0;32min\u001b[0m \u001b[0ma\u001b[0m \u001b[0mpath\u001b[0m \u001b[0mthat\u001b[0m\u001b[0;34m\u001b[0m\u001b[0;34m\u001b[0m\u001b[0m\n\u001b[1;32m     79\u001b[0m     ends with a separator.\"\"\"\n\u001b[0;32m---> 80\u001b[0;31m     \u001b[0ma\u001b[0m \u001b[0;34m=\u001b[0m \u001b[0mos\u001b[0m\u001b[0;34m.\u001b[0m\u001b[0mfspath\u001b[0m\u001b[0;34m(\u001b[0m\u001b[0ma\u001b[0m\u001b[0;34m)\u001b[0m\u001b[0;34m\u001b[0m\u001b[0;34m\u001b[0m\u001b[0m\n\u001b[0m\u001b[1;32m     81\u001b[0m     \u001b[0msep\u001b[0m \u001b[0;34m=\u001b[0m \u001b[0m_get_sep\u001b[0m\u001b[0;34m(\u001b[0m\u001b[0ma\u001b[0m\u001b[0;34m)\u001b[0m\u001b[0;34m\u001b[0m\u001b[0;34m\u001b[0m\u001b[0m\n\u001b[1;32m     82\u001b[0m     \u001b[0mpath\u001b[0m \u001b[0;34m=\u001b[0m \u001b[0ma\u001b[0m\u001b[0;34m\u001b[0m\u001b[0;34m\u001b[0m\u001b[0m\n",
            "\u001b[0;31mTypeError\u001b[0m: expected str, bytes or os.PathLike object, not NoneType"
          ]
        }
      ],
      "execution_count": 268,
      "metadata": {
        "gather": {
          "logged": 1611446378865
        }
      }
    },
    {
      "cell_type": "code",
      "source": [
        "%%writefile score.py\n",
        "import json\n",
        "import logging\n",
        "import os\n",
        "import pickle\n",
        "import numpy as np\n",
        "import pandas as pd\n",
        "import joblib\n",
        "\n",
        "#import azureml.automl.core\n",
        "#from azureml.automl.core.shared import logging_utilities, log_server\n",
        "# azureml.telemetry import INSTRUMENTATION_KEY\n",
        "\n",
        "from inference_schema.schema_decorators import input_schema, output_schema\n",
        "from inference_schema.parameter_types.numpy_parameter_type import NumpyParameterType\n",
        "from inference_schema.parameter_types.pandas_parameter_type import PandasParameterType\n",
        "\n",
        "\n",
        "input_sample = pd.DataFrame({\"Column1\": pd.Series([0], dtype=\"int64\"), \"Experience\": pd.Series([0.0], dtype=\"float64\"), \"Income\": pd.Series([0.0], dtype=\"float64\"), \"Family\": pd.Series([0], dtype=\"int64\"), \"CCAvg\": pd.Series([0.0], dtype=\"float64\"), \"Education\": pd.Series([0], dtype=\"int64\"), \"Mortgage\": pd.Series([0.0], dtype=\"float64\"), \"Securities Account\": pd.Series([0], dtype=\"int64\"), \"CD Account\": pd.Series([0], dtype=\"int64\")})\n",
        "output_sample = np.array([0])\n",
        "\n",
        "\n",
        "\n",
        "def init():\n",
        "    global model\n",
        "    # This name is model.id of model that we want to deploy deserialize the model file back\n",
        "    # into a sklearn model\n",
        "    model_path = os.path.join(os.getenv('AZUREML_MODEL_DIR'), 'best_aut_model.joblib')\n",
        "    print(model_path)\n",
        "    model = joblib.load(model_path)\n",
        "\n",
        "\n",
        "@input_schema('data', PandasParameterType(input_sample))\n",
        "@output_schema(NumpyParameterType(output_sample))\n",
        "def run(data):\n",
        "    try:\n",
        "        result = model.predict(data)\n",
        "        return json.dumps({\"result\": result.tolist()})\n",
        "    except Exception as e:\n",
        "        result = str(e)\n",
        "        return json.dumps({\"error\": result})"
      ],
      "outputs": [
        {
          "output_type": "stream",
          "name": "stdout",
          "text": [
            "Overwriting score.py\n"
          ]
        }
      ],
      "execution_count": 294,
      "metadata": {
        "gather": {
          "logged": 1598432707604
        },
        "jupyter": {
          "outputs_hidden": false,
          "source_hidden": false
        },
        "nteract": {
          "transient": {
            "deleting": false
          }
        }
      }
    },
    {
      "cell_type": "code",
      "source": [
        "from azureml.core.model import InferenceConfig\n",
        "\n",
        "inference_config = InferenceConfig(entry_script=\"score.py\",\n",
        "                                   environment=env)"
      ],
      "outputs": [],
      "execution_count": 295,
      "metadata": {
        "gather": {
          "logged": 1611529580830
        }
      }
    },
    {
      "cell_type": "code",
      "source": [
        "  conda update -n base -c defaults conda"
      ],
      "outputs": [],
      "execution_count": null,
      "metadata": {}
    },
    {
      "cell_type": "code",
      "source": [
        "conda --version"
      ],
      "outputs": [
        {
          "output_type": "stream",
          "name": "stdout",
          "text": [
            "conda 4.9.2\r\n",
            "\n",
            "Note: you may need to restart the kernel to use updated packages.\n"
          ]
        }
      ],
      "execution_count": 179,
      "metadata": {
        "gather": {
          "logged": 1611446478790
        }
      }
    },
    {
      "cell_type": "code",
      "source": [
        "from azureml.core.webservice import LocalWebservice\n",
        "\n",
        "\n",
        "# This is optional, if not provided Docker will choose a random unused port.\n",
        "deployment_config = LocalWebservice.deploy_configuration()\n",
        "\n",
        "local_service = Model.deploy(ws, \"test\", [model], inference_config, deployment_config)\n",
        "\n",
        "local_service.wait_for_deployment()"
      ],
      "outputs": [
        {
          "output_type": "stream",
          "name": "stdout",
          "text": [
            "Downloading model best_aut_model:12 to /tmp/azureml_cbzkgali/best_aut_model/12\n",
            "Generating Docker build context.\n",
            "Package creation Succeeded\n",
            "Logging into Docker registry 55d467844d954e48a295f8417ee4bb2e.azurecr.io\n",
            "Logging into Docker registry 55d467844d954e48a295f8417ee4bb2e.azurecr.io\n",
            "Building Docker image from Dockerfile...\n",
            "Step 1/5 : FROM 55d467844d954e48a295f8417ee4bb2e.azurecr.io/azureml/azureml_bc114ea9f5df669fc4f12004a5eebf90\n",
            " ---> 5533bdd81aab\n",
            "Step 2/5 : COPY azureml-app /var/azureml-app\n",
            " ---> 7968ea419b01\n",
            "Step 3/5 : RUN mkdir -p '/var/azureml-app' && echo eyJhY2NvdW50Q29udGV4dCI6eyJzdWJzY3JpcHRpb25JZCI6Ijc4NGQ4NzQwLTRjNzAtNGQyMC04ZjQ1LWIyYmZlY2Y5NDAyOSIsInJlc291cmNlR3JvdXBOYW1lIjoibXlyZXNvdXJjZWdyb3VwIiwiYWNjb3VudE5hbWUiOiJ0b3JpYV93b3Jrc3BhY2UiLCJ3b3Jrc3BhY2VJZCI6IjU1ZDQ2Nzg0LTRkOTUtNGU0OC1hMjk1LWY4NDE3ZWU0YmIyZSJ9LCJtb2RlbHMiOnt9LCJtb2RlbHNJbmZvIjp7fX0= | base64 --decode > /var/azureml-app/model_config_map.json\n",
            " ---> Running in 212b6bea9cdd\n",
            " ---> 021e9446fe02\n",
            "Step 4/5 : RUN mv '/var/azureml-app/tmpw8abu2g6.py' /var/azureml-app/main.py\n",
            " ---> Running in ae1b652a22ab\n",
            " ---> 13adefa6045a\n",
            "Step 5/5 : CMD [\"runsvdir\",\"/var/runit\"]\n",
            " ---> Running in 0c183142b46f\n",
            " ---> a53182f1dbf1\n",
            "Successfully built a53182f1dbf1\n",
            "Successfully tagged test:latest\n",
            "Container (name:beautiful_robinson, id:f35bdf35fe100d5171cf9e7c614197ceaf9124b8646687d2e65bda6c07b67b43) cannot be killed.\n",
            "Container has been successfully cleaned up.\n",
            "Image sha256:cfa5d69e8a685895fc15b68fa0234d2725521d9366d7d1c24fa23a0ff5305460 successfully removed.\n",
            "Starting Docker container...\n",
            "Docker container running.\n",
            "Checking container health...\n",
            "\n",
            "Container Logs:\n",
            "2021-01-24T23:07:01,188671079+00:00 - gunicorn/run \n",
            "2021-01-24T23:07:01,196736271+00:00 - iot-server/run \n",
            "2021-01-24T23:07:01,197264977+00:00 - rsyslog/run \n",
            "2021-01-24T23:07:01,197648481+00:00 - nginx/run \n",
            "/usr/sbin/nginx: /azureml-envs/azureml_8806dc458e8c3bdcd487a7a45fb0f90a/lib/libcrypto.so.1.0.0: no version information available (required by /usr/sbin/nginx)\n",
            "/usr/sbin/nginx: /azureml-envs/azureml_8806dc458e8c3bdcd487a7a45fb0f90a/lib/libcrypto.so.1.0.0: no version information available (required by /usr/sbin/nginx)\n",
            "/usr/sbin/nginx: /azureml-envs/azureml_8806dc458e8c3bdcd487a7a45fb0f90a/lib/libssl.so.1.0.0: no version information available (required by /usr/sbin/nginx)\n",
            "/usr/sbin/nginx: /azureml-envs/azureml_8806dc458e8c3bdcd487a7a45fb0f90a/lib/libssl.so.1.0.0: no version information available (required by /usr/sbin/nginx)\n",
            "/usr/sbin/nginx: /azureml-envs/azureml_8806dc458e8c3bdcd487a7a45fb0f90a/lib/libssl.so.1.0.0: no version information available (required by /usr/sbin/nginx)\n",
            "EdgeHubConnectionString and IOTEDGE_IOTHUBHOSTNAME are not set. Exiting...\n",
            "2021-01-24T23:07:01,264257737+00:00 - iot-server/finish 1 0\n",
            "2021-01-24T23:07:01,265417951+00:00 - Exit code 1 is normal. Not restarting iot-server.\n",
            "Starting gunicorn 19.9.0\n",
            "Listening at: http://127.0.0.1:31311 (12)\n",
            "Using worker: sync\n",
            "worker timeout is set to 300\n",
            "Booting worker with pid: 41\n",
            "SPARK_HOME not set. Skipping PySpark Initialization.\n",
            "Initializing logger\n",
            "2021-01-24 23:07:01,828 | root | INFO | Starting up app insights client\n",
            "2021-01-24 23:07:01,828 | root | INFO | Starting up request id generator\n",
            "2021-01-24 23:07:01,828 | root | INFO | Starting up app insight hooks\n",
            "2021-01-24 23:07:01,828 | root | INFO | Invoking user's init function\n",
            "azureml-models/best_aut_model/12/best_aut_model.joblib\n",
            "2021-01-24 23:07:02,088 | root | ERROR | User's init function failed\n",
            "2021-01-24 23:07:02,089 | root | ERROR | Encountered Exception Traceback (most recent call last):\n",
            "  File \"/var/azureml-server/aml_blueprint.py\", line 176, in register\n",
            "    main.init()\n",
            "  File \"/var/azureml-app/score.py\", line 29, in init\n",
            "    model = joblib.load(model_path)\n",
            "  File \"/azureml-envs/azureml_8806dc458e8c3bdcd487a7a45fb0f90a/lib/python3.6/site-packages/joblib/numpy_pickle.py\", line 585, in load\n",
            "    obj = _unpickle(fobj, filename, mmap_mode)\n",
            "  File \"/azureml-envs/azureml_8806dc458e8c3bdcd487a7a45fb0f90a/lib/python3.6/site-packages/joblib/numpy_pickle.py\", line 504, in _unpickle\n",
            "    obj = unpickler.load()\n",
            "  File \"/azureml-envs/azureml_8806dc458e8c3bdcd487a7a45fb0f90a/lib/python3.6/pickle.py\", line 1050, in load\n",
            "    dispatch[key[0]](self)\n",
            "  File \"/azureml-envs/azureml_8806dc458e8c3bdcd487a7a45fb0f90a/lib/python3.6/pickle.py\", line 1338, in load_global\n",
            "    klass = self.find_class(module, name)\n",
            "  File \"/azureml-envs/azureml_8806dc458e8c3bdcd487a7a45fb0f90a/lib/python3.6/pickle.py\", line 1388, in find_class\n",
            "    __import__(module, level=0)\n",
            "ModuleNotFoundError: No module named 'azureml.automl.runtime'\n",
            "\n",
            "Worker exiting (pid: 41)\n",
            "Shutting down: Master\n",
            "Reason: Worker failed to boot.\n",
            "2021-01-24T23:07:02,742701025+00:00 - gunicorn/finish 3 0\n",
            "2021-01-24T23:07:02,743797038+00:00 - Exit code 3 is not normal. Killing image.\n",
            "\n"
          ]
        },
        {
          "output_type": "stream",
          "name": "stderr",
          "text": [
            "ERROR:azureml._model_management._util:Error: Container has crashed. Did your init method fail?\n",
            "\n"
          ]
        },
        {
          "output_type": "error",
          "ename": "WebserviceException",
          "evalue": "WebserviceException:\n\tMessage: Error: Container has crashed. Did your init method fail?\n\tInnerException None\n\tErrorResponse \n{\n    \"error\": {\n        \"message\": \"Error: Container has crashed. Did your init method fail?\"\n    }\n}",
          "traceback": [
            "\u001b[0;31m---------------------------------------------------------------------------\u001b[0m",
            "\u001b[0;31mWebserviceException\u001b[0m                       Traceback (most recent call last)",
            "\u001b[0;32m<ipython-input-296-54a011f29086>\u001b[0m in \u001b[0;36m<module>\u001b[0;34m\u001b[0m\n\u001b[1;32m      7\u001b[0m \u001b[0mlocal_service\u001b[0m \u001b[0;34m=\u001b[0m \u001b[0mModel\u001b[0m\u001b[0;34m.\u001b[0m\u001b[0mdeploy\u001b[0m\u001b[0;34m(\u001b[0m\u001b[0mws\u001b[0m\u001b[0;34m,\u001b[0m \u001b[0;34m\"test\"\u001b[0m\u001b[0;34m,\u001b[0m \u001b[0;34m[\u001b[0m\u001b[0mmodel\u001b[0m\u001b[0;34m]\u001b[0m\u001b[0;34m,\u001b[0m \u001b[0minference_config\u001b[0m\u001b[0;34m,\u001b[0m \u001b[0mdeployment_config\u001b[0m\u001b[0;34m)\u001b[0m\u001b[0;34m\u001b[0m\u001b[0;34m\u001b[0m\u001b[0m\n\u001b[1;32m      8\u001b[0m \u001b[0;34m\u001b[0m\u001b[0m\n\u001b[0;32m----> 9\u001b[0;31m \u001b[0mlocal_service\u001b[0m\u001b[0;34m.\u001b[0m\u001b[0mwait_for_deployment\u001b[0m\u001b[0;34m(\u001b[0m\u001b[0;34m)\u001b[0m\u001b[0;34m\u001b[0m\u001b[0;34m\u001b[0m\u001b[0m\n\u001b[0m",
            "\u001b[0;32m/anaconda/envs/azureml_py36/lib/python3.6/site-packages/azureml/core/webservice/local.py\u001b[0m in \u001b[0;36mdecorated\u001b[0;34m(self, *args, **kwargs)\u001b[0m\n\u001b[1;32m     70\u001b[0m                 raise WebserviceException('Cannot call {}() when service is {}.'.format(func.__name__, self.state),\n\u001b[1;32m     71\u001b[0m                                           logger=module_logger)\n\u001b[0;32m---> 72\u001b[0;31m             \u001b[0;32mreturn\u001b[0m \u001b[0mfunc\u001b[0m\u001b[0;34m(\u001b[0m\u001b[0mself\u001b[0m\u001b[0;34m,\u001b[0m \u001b[0;34m*\u001b[0m\u001b[0margs\u001b[0m\u001b[0;34m,\u001b[0m \u001b[0;34m**\u001b[0m\u001b[0mkwargs\u001b[0m\u001b[0;34m)\u001b[0m\u001b[0;34m\u001b[0m\u001b[0;34m\u001b[0m\u001b[0m\n\u001b[0m\u001b[1;32m     73\u001b[0m         \u001b[0;32mreturn\u001b[0m \u001b[0mdecorated\u001b[0m\u001b[0;34m\u001b[0m\u001b[0;34m\u001b[0m\u001b[0m\n\u001b[1;32m     74\u001b[0m     \u001b[0;32mreturn\u001b[0m \u001b[0mdecorator\u001b[0m\u001b[0;34m\u001b[0m\u001b[0;34m\u001b[0m\u001b[0m\n",
            "\u001b[0;32m/anaconda/envs/azureml_py36/lib/python3.6/site-packages/azureml/core/webservice/local.py\u001b[0m in \u001b[0;36mwait_for_deployment\u001b[0;34m(self, show_output)\u001b[0m\n\u001b[1;32m    609\u001b[0m                                    \u001b[0mself\u001b[0m\u001b[0;34m.\u001b[0m\u001b[0m_container\u001b[0m\u001b[0;34m,\u001b[0m\u001b[0;34m\u001b[0m\u001b[0;34m\u001b[0m\u001b[0m\n\u001b[1;32m    610\u001b[0m                                    \u001b[0mhealth_url\u001b[0m\u001b[0;34m=\u001b[0m\u001b[0mself\u001b[0m\u001b[0;34m.\u001b[0m\u001b[0m_get_health_url\u001b[0m\u001b[0;34m(\u001b[0m\u001b[0;34m)\u001b[0m\u001b[0;34m,\u001b[0m\u001b[0;34m\u001b[0m\u001b[0;34m\u001b[0m\u001b[0m\n\u001b[0;32m--> 611\u001b[0;31m                                    cleanup_if_failed=False)\n\u001b[0m\u001b[1;32m    612\u001b[0m \u001b[0;34m\u001b[0m\u001b[0m\n\u001b[1;32m    613\u001b[0m             \u001b[0mself\u001b[0m\u001b[0;34m.\u001b[0m\u001b[0mstate\u001b[0m \u001b[0;34m=\u001b[0m \u001b[0mLocalWebservice\u001b[0m\u001b[0;34m.\u001b[0m\u001b[0mSTATE_RUNNING\u001b[0m\u001b[0;34m\u001b[0m\u001b[0;34m\u001b[0m\u001b[0m\n",
            "\u001b[0;32m/anaconda/envs/azureml_py36/lib/python3.6/site-packages/azureml/_model_management/_util.py\u001b[0m in \u001b[0;36mcontainer_health_check\u001b[0;34m(docker_port, container, health_url, cleanup_if_failed)\u001b[0m\n\u001b[1;32m    741\u001b[0m             \u001b[0;31m# The container has started and crashed.\u001b[0m\u001b[0;34m\u001b[0m\u001b[0;34m\u001b[0m\u001b[0;34m\u001b[0m\u001b[0m\n\u001b[1;32m    742\u001b[0m             _raise_for_container_failure(container, cleanup_if_failed,\n\u001b[0;32m--> 743\u001b[0;31m                                          'Error: Container has crashed. Did your init method fail?')\n\u001b[0m\u001b[1;32m    744\u001b[0m \u001b[0;34m\u001b[0m\u001b[0m\n\u001b[1;32m    745\u001b[0m         \u001b[0;31m# The container hasn't crashed, so try to ping the health endpoint.\u001b[0m\u001b[0;34m\u001b[0m\u001b[0;34m\u001b[0m\u001b[0;34m\u001b[0m\u001b[0m\n",
            "\u001b[0;32m/anaconda/envs/azureml_py36/lib/python3.6/site-packages/azureml/_model_management/_util.py\u001b[0m in \u001b[0;36m_raise_for_container_failure\u001b[0;34m(container, cleanup, message)\u001b[0m\n\u001b[1;32m   1259\u001b[0m         \u001b[0mcleanup_container\u001b[0m\u001b[0;34m(\u001b[0m\u001b[0mcontainer\u001b[0m\u001b[0;34m)\u001b[0m\u001b[0;34m\u001b[0m\u001b[0;34m\u001b[0m\u001b[0m\n\u001b[1;32m   1260\u001b[0m \u001b[0;34m\u001b[0m\u001b[0m\n\u001b[0;32m-> 1261\u001b[0;31m     \u001b[0;32mraise\u001b[0m \u001b[0mWebserviceException\u001b[0m\u001b[0;34m(\u001b[0m\u001b[0mmessage\u001b[0m\u001b[0;34m,\u001b[0m \u001b[0mlogger\u001b[0m\u001b[0;34m=\u001b[0m\u001b[0mmodule_logger\u001b[0m\u001b[0;34m)\u001b[0m\u001b[0;34m\u001b[0m\u001b[0;34m\u001b[0m\u001b[0m\n\u001b[0m\u001b[1;32m   1262\u001b[0m \u001b[0;34m\u001b[0m\u001b[0m\n\u001b[1;32m   1263\u001b[0m \u001b[0;34m\u001b[0m\u001b[0m\n",
            "\u001b[0;31mWebserviceException\u001b[0m: WebserviceException:\n\tMessage: Error: Container has crashed. Did your init method fail?\n\tInnerException None\n\tErrorResponse \n{\n    \"error\": {\n        \"message\": \"Error: Container has crashed. Did your init method fail?\"\n    }\n}"
          ]
        }
      ],
      "execution_count": 296,
      "metadata": {}
    },
    {
      "cell_type": "markdown",
      "source": [
        "TODO: In the cell below, print the logs of the web service and delete the service"
      ],
      "metadata": {
        "collapsed": true,
        "gather": {
          "logged": 1598432765711
        },
        "jupyter": {
          "outputs_hidden": false,
          "source_hidden": false
        },
        "nteract": {
          "transient": {
            "deleting": false
          }
        }
      }
    },
    {
      "cell_type": "code",
      "source": [
        "from azureml.core.webservice import AciWebservice\n",
        "\n",
        "aciconfig = AciWebservice.deploy_configuration(cpu_cores=1, \n",
        "                                               memory_gb=1,\n",
        "                                               tags={\"data\": \"loans\",  \"method\" : \"sklearn\"},\n",
        "                                               description='Predict loans with sklearn'\n",
        "                                               )"
      ],
      "outputs": [],
      "execution_count": null,
      "metadata": {}
    },
    {
      "cell_type": "code",
      "source": [
        "\n",
        "#%%time\n",
        "#import uuid\n",
        "from azureml.core.webservice import Webservice\n",
        "from azureml.core.model import InferenceConfig\n",
        "from azureml.core.environment import Environment\n",
        "from azureml.core import Workspace\n",
        "from azureml.core.model import Model\n",
        "\n",
        "ws = Workspace.from_config()\n",
        "model = Model(ws, 'best_automl_model.pkl')\n",
        "\n",
        "\n",
        "myEnv = Environment.get(workspace=ws, name=\"vfenv\", version=\"1\")\n",
        "inference_config = InferenceConfig(entry_script=\"score.py\", environment=myEnv)\n",
        "\n",
        "service_name = 'bestvikrun' #+ str(uuid.uuid4())[:4]\n",
        "service = Model.deploy(workspace=ws, \n",
        "                       name=service_name, \n",
        "                       models=[model], \n",
        "                       inference_config=inference_config, \n",
        "                       deployment_config=aciconfig)\n",
        "\n",
        "service.wait_for_deployment(show_output=True)"
      ],
      "outputs": [],
      "execution_count": null,
      "metadata": {
        "jupyter": {
          "outputs_hidden": false,
          "source_hidden": false
        },
        "nteract": {
          "transient": {
            "deleting": false
          }
        }
      }
    },
    {
      "cell_type": "code",
      "source": [],
      "outputs": [],
      "execution_count": null,
      "metadata": {}
    }
  ],
  "metadata": {
    "kernel_info": {
      "name": "python3-azureml"
    },
    "kernelspec": {
      "name": "python3-azureml",
      "language": "python",
      "display_name": "Python 3.6 - AzureML"
    },
    "language_info": {
      "name": "python",
      "version": "3.6.9",
      "mimetype": "text/x-python",
      "codemirror_mode": {
        "name": "ipython",
        "version": 3
      },
      "pygments_lexer": "ipython3",
      "nbconvert_exporter": "python",
      "file_extension": ".py"
    },
    "nteract": {
      "version": "nteract-front-end@1.0.0"
    }
  },
  "nbformat": 4,
  "nbformat_minor": 2
}