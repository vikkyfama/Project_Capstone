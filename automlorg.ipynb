{
  "cells": [
    {
      "cell_type": "markdown",
      "source": [
        "# Automated ML\n",
        "\n",
        "TODO: Import Dependencies. In the cell below, import all the dependencies that you will need to complete the project."
      ],
      "metadata": {}
    },
    {
      "cell_type": "code",
      "source": [
        "import azureml.core \n",
        "print(azureml.core.VERSION)"
      ],
      "outputs": [
        {
          "output_type": "stream",
          "name": "stdout",
          "text": [
            "1.20.0\n"
          ]
        }
      ],
      "execution_count": 2,
      "metadata": {
        "collapsed": true,
        "gather": {
          "logged": 1611246545543
        },
        "jupyter": {
          "outputs_hidden": false,
          "source_hidden": false
        },
        "nteract": {
          "transient": {
            "deleting": false
          }
        }
      }
    },
    {
      "cell_type": "code",
      "source": [
        "from azureml.core.environment import Environment\n",
        "Environment(name=\"vaenv\")\n",
        "myenv = Environment(name=\"vaenv\")"
      ],
      "outputs": [],
      "execution_count": 3,
      "metadata": {
        "collapsed": true,
        "gather": {
          "logged": 1611246554379
        },
        "jupyter": {
          "outputs_hidden": false,
          "source_hidden": false
        },
        "nteract": {
          "transient": {
            "deleting": false
          }
        }
      }
    },
    {
      "cell_type": "code",
      "source": [
        "from azureml.core.conda_dependencies import CondaDependencies\n",
        "\n",
        "dependencies = CondaDependencies()\n",
        "dependencies.add_pip_package(\"scikit-learn\")\n",
        "dependencies.add_pip_package(\"numpy==1.15.4\")\n",
        "myenv.python.conda_dependencies=dependencies"
      ],
      "outputs": [],
      "execution_count": 4,
      "metadata": {
        "collapsed": true,
        "gather": {
          "logged": 1611246558529
        },
        "jupyter": {
          "outputs_hidden": false,
          "source_hidden": false
        },
        "nteract": {
          "transient": {
            "deleting": false
          }
        }
      }
    },
    {
      "cell_type": "code",
      "source": [
        "from azureml.core import Workspace, Experiment\n",
        "\n",
        "ws = Workspace.get(name='Toria_workspace',\n",
        "            subscription_id='784d8740-4c70-4d20-8f45-b2bfecf94029',\n",
        "            resource_group='udacityprojects',)\n",
        "exp = Experiment(workspace=ws, name=\"Toria_workspace\")\n",
        "\n",
        "print('Workspace name: ' + ws.name, \n",
        "      'Azure region: ' + ws.location, \n",
        "      'Subscription id: ' + ws.subscription_id, \n",
        "      'Resource group: ' + ws.resource_group, sep = '\\n')\n",
        "\n",
        "run = exp.start_logging()"
      ],
      "outputs": [
        {
          "output_type": "stream",
          "name": "stdout",
          "text": [
            "Workspace name: Toria_workspace\n",
            "Azure region: eastus\n",
            "Subscription id: 784d8740-4c70-4d20-8f45-b2bfecf94029\n",
            "Resource group: udacityprojects\n"
          ]
        }
      ],
      "execution_count": 5,
      "metadata": {
        "gather": {
          "logged": 1611246607570
        },
        "jupyter": {
          "outputs_hidden": false,
          "source_hidden": false
        },
        "nteract": {
          "transient": {
            "deleting": false
          }
        }
      }
    },
    {
      "cell_type": "code",
      "source": [
        "from azureml.core.compute import ComputeTarget, AmlCompute\n",
        "\n",
        "# TODO: Create compute cluster\n",
        "# Use vm_size = \"Standard_D2_V2\" in your provisioning configuration.\n",
        "# max_nodes should be no greater than 4.\n",
        "compute_target_name = \"vacompute\"\n",
        "compute_cluster = AmlCompute.provisioning_configuration(vm_size = \"Standard_D2_V2\", max_nodes = 4)\n",
        "my_target =  ComputeTarget.create(ws, compute_target_name, compute_cluster)\n",
        "### YOUR CODE HERE ###"
      ],
      "outputs": [],
      "execution_count": 6,
      "metadata": {
        "collapsed": true,
        "gather": {
          "logged": 1611246627598
        },
        "jupyter": {
          "outputs_hidden": false,
          "source_hidden": false
        },
        "nteract": {
          "transient": {
            "deleting": false
          }
        }
      }
    },
    {
      "cell_type": "code",
      "source": [
        "import logging\n",
        "import os\n",
        "import csv\n",
        "\n",
        "from matplotlib import pyplot as plt\n",
        "import numpy as np\n",
        "import pandas as pd\n",
        "from sklearn import datasets\n",
        "import pkg_resources\n",
        "\n",
        "import azureml.core\n",
        "from azureml.core.experiment import Experiment\n",
        "from azureml.core.workspace import Workspace\n",
        "from azureml.train.automl import AutoMLConfig\n",
        "from azureml.core.dataset import Dataset\n",
        "\n",
        "from azureml.pipeline.steps import AutoMLStep\n",
        "\n",
        "# Check core SDK version number\n",
        "print(\"SDK version:\", azureml.core.VERSION)"
      ],
      "outputs": [
        {
          "output_type": "stream",
          "name": "stdout",
          "text": [
            "SDK version: 1.20.0\n"
          ]
        }
      ],
      "execution_count": 7,
      "metadata": {
        "collapsed": true,
        "gather": {
          "logged": 1611246653391
        },
        "jupyter": {
          "outputs_hidden": false,
          "source_hidden": false
        },
        "nteract": {
          "transient": {
            "deleting": false
          }
        }
      }
    },
    {
      "cell_type": "code",
      "source": [
        "from azureml.data.dataset_factory import TabularDatasetFactory\n",
        "\n",
        "# Create TabularDataset using TabularDatasetFactory\n",
        "# Data is available at: \n",
        "dat = \"https://raw.githubusercontent.com/vikkyfama/Project_Capstone/toribranch/Personal_loans.csv\"\n",
        "ds = TabularDatasetFactory.from_delimited_files(dat)\n",
        "print(ds)"
      ],
      "outputs": [
        {
          "output_type": "stream",
          "name": "stdout",
          "text": [
            "TabularDataset\n",
            "{\n",
            "  \"source\": [\n",
            "    \"https://raw.githubusercontent.com/vikkyfama/Project_Capstone/toribranch/Personal_loans.csv\"\n",
            "  ],\n",
            "  \"definition\": [\n",
            "    \"GetFiles\",\n",
            "    \"ParseDelimited\",\n",
            "    \"DropColumns\",\n",
            "    \"SetColumnTypes\"\n",
            "  ]\n",
            "}\n"
          ]
        }
      ],
      "execution_count": 8,
      "metadata": {
        "collapsed": true,
        "gather": {
          "logged": 1611246990262
        },
        "jupyter": {
          "outputs_hidden": false,
          "source_hidden": false
        },
        "nteract": {
          "transient": {
            "deleting": false
          }
        }
      }
    },
    {
      "cell_type": "code",
      "source": [
        "import pandas as pd\n",
        "from scipy import sparse\n",
        "from sklearn.model_selection import train_test_split\n",
        "from sklearn import datasets\n",
        "from azureml.core.dataset import Dataset\n",
        "import numpy as np\n",
        "from traintest2 import clean_data\n",
        "#from azureml.data.dataset_factory import TabularDatasetFactory\n",
        "from sklearn import preprocessing\n",
        "\n",
        "\n",
        "x, y = clean_data(ds)\n",
        "x_train, x_test, y_train, y_test = train_test_split(x, y)\n"
      ],
      "outputs": [
        {
          "output_type": "stream",
          "name": "stdout",
          "text": [
            "Average Experience 20.1046\n"
          ]
        }
      ],
      "execution_count": 12,
      "metadata": {
        "collapsed": true,
        "gather": {
          "logged": 1611247609487
        },
        "jupyter": {
          "outputs_hidden": false,
          "source_hidden": false
        },
        "nteract": {
          "transient": {
            "deleting": false
          }
        }
      }
    },
    {
      "cell_type": "code",
      "source": [
        "import pandas as pd\n",
        "from scipy import sparse\n",
        "from sklearn.model_selection import train_test_split\n",
        "from sklearn import datasets\n",
        "from azureml.core.dataset import Dataset\n",
        "import numpy as np\n",
        "#from train import clean_data\n",
        "#from azureml.data.dataset_factory import TabularDatasetFactory\n",
        "from sklearn import preprocessing\n",
        "import os\n",
        "\n",
        "\n",
        "#x_train, x_test, y_train, y_test = train_test_split(P_loan, test_size = 0.3, random_state = 0)\n",
        "#x_train, x_test, y_train, y_test\n",
        "training_data = pd.concat([x_train, y_train], axis = 1)\n",
        "\n",
        "if not os.path.isdir('dataset'):\n",
        "    os.mkdir('dataset')\n",
        "\n",
        "\n",
        "training_data.to_csv('dataset/loan.csv')\n",
        "ds = ws.get_default_datastore()\n",
        "ds.upload(src_dir='./dataset', target_path='loandataset', overwrite=True, show_progress=True)\n",
        "\n",
        "training_data = Dataset.Tabular.from_delimited_files(path=ds.path('loandataset/loan.csv'))\n",
        "training_data"
      ],
      "outputs": [
        {
          "output_type": "stream",
          "name": "stdout",
          "text": [
            "Uploading an estimated of 1 files\n",
            "Uploading ./dataset/loan.csv\n",
            "Uploaded ./dataset/loan.csv, 1 files out of an estimated total of 1\n",
            "Uploaded 1 files\n"
          ]
        },
        {
          "output_type": "execute_result",
          "execution_count": 13,
          "data": {
            "text/plain": "{\n  \"source\": [\n    \"('workspaceblobstore', 'loandataset/loan.csv')\"\n  ],\n  \"definition\": [\n    \"GetDatastoreFiles\",\n    \"ParseDelimited\",\n    \"DropColumns\",\n    \"SetColumnTypes\"\n  ]\n}"
          },
          "metadata": {}
        }
      ],
      "execution_count": 13,
      "metadata": {
        "collapsed": true,
        "gather": {
          "logged": 1611247623830
        },
        "jupyter": {
          "outputs_hidden": false,
          "source_hidden": false
        },
        "nteract": {
          "transient": {
            "deleting": false
          }
        }
      }
    },
    {
      "cell_type": "code",
      "source": [
        "ws = Workspace.from_config()\n",
        "\n",
        "# choose a name for experiment\n",
        "experiment_name = 'People_loan_experiment'\n",
        "\n",
        "experiment=Experiment(ws, experiment_name)"
      ],
      "outputs": [],
      "execution_count": 14,
      "metadata": {
        "collapsed": true,
        "gather": {
          "logged": 1611247880887
        },
        "jupyter": {
          "outputs_hidden": false,
          "source_hidden": false
        },
        "nteract": {
          "transient": {
            "deleting": false
          }
        }
      }
    },
    {
      "cell_type": "markdown",
      "source": [
        "## Dataset\n",
        "\n",
        "### Overview\n",
        "TODO: In this markdown cell, give an overview of the dataset you are using. Also mention the task you will be performing.\n",
        "\n",
        "\n",
        "TODO: Get data. In the cell below, write code to access the data you will be using in this project. Remember that the dataset needs to be external."
      ],
      "metadata": {}
    },
    {
      "cell_type": "markdown",
      "source": [
        "## AutoML Configuration\n",
        "\n",
        "TODO: Explain why you chose the automl settings and cofiguration you used below."
      ],
      "metadata": {}
    },
    {
      "cell_type": "code",
      "source": [
        "# TODO: Put your automl settings here\n",
        "automl_settings = {\n",
        "     \"experiment_timeout_hours\" : 0.3,\n",
        "    \"enable_early_stopping\" : True,\n",
        "    \"iteration_timeout_minutes\": 5,\n",
        "    \"max_concurrent_iterations\": 4,\n",
        "    \"primary_metric\": 'AUC_weighted',\n",
        "    \"featurization\": 'auto',\n",
        "}\n",
        "\n",
        "# TODO: Put your automl config here\n",
        "automl_config = AutoMLConfig(\n",
        "    compute_target = 'vacompute',\n",
        "    task=\"classification\",\n",
        "    training_data= training_data,\n",
        "    label_column_name= \"Personal Loan\",\n",
        "    n_cross_validations=5\n",
        ")"
      ],
      "outputs": [],
      "execution_count": 15,
      "metadata": {
        "gather": {
          "logged": 1611247900672
        },
        "jupyter": {
          "outputs_hidden": false,
          "source_hidden": false
        },
        "nteract": {
          "transient": {
            "deleting": false
          }
        }
      }
    },
    {
      "cell_type": "code",
      "source": [
        "# TODO: Submit your experiment\n",
        "#remote_run = experiment.submit(automl_config)\n",
        "remote_run = experiment.submit(automl_config, show_output = True)\n",
        "remote_run"
      ],
      "outputs": [
        {
          "output_type": "stream",
          "name": "stdout",
          "text": [
            "Running on remote.\n",
            "No run_configuration provided, running on vacompute with default configuration\n",
            "Running on remote compute: vacompute\n",
            "Parent Run ID: AutoML_5f2a6661-d257-4a23-a2bb-fe58030d4ae4\n",
            "\n",
            "Current status: FeaturesGeneration. Generating features for the dataset.\n",
            "Current status: DatasetBalancing. Performing class balancing sweeping\n",
            "Current status: DatasetCrossValidationSplit. Generating individually featurized CV splits.\n",
            "Current status: ModelSelection. Beginning model selection.\n",
            "\n",
            "****************************************************************************************************\n",
            "DATA GUARDRAILS: \n",
            "\n",
            "TYPE:         Class balancing detection\n",
            "STATUS:       ALERTED\n",
            "DESCRIPTION:  To decrease model bias, please cancel the current run and fix balancing problem.\n",
            "              Learn more about imbalanced data: https://aka.ms/AutomatedMLImbalancedData\n",
            "DETAILS:      Imbalanced data can lead to a falsely perceived positive effect of a model's accuracy because the input data has bias towards one class.\n",
            "+---------------------------------+---------------------------------+--------------------------------------+\n",
            "|Size of the smallest class       |Name/Label of the smallest class |Number of samples in the training data|\n",
            "+=================================+=================================+======================================+\n",
            "|359                              |1                                |3750                                  |\n",
            "+---------------------------------+---------------------------------+--------------------------------------+\n",
            "\n",
            "****************************************************************************************************\n",
            "\n",
            "TYPE:         Missing feature values imputation\n",
            "STATUS:       PASSED\n",
            "DESCRIPTION:  No feature missing values were detected in the training data.\n",
            "              Learn more about missing value imputation: https://aka.ms/AutomatedMLFeaturization\n",
            "\n",
            "****************************************************************************************************\n",
            "\n",
            "TYPE:         High cardinality feature detection\n",
            "STATUS:       PASSED\n",
            "DESCRIPTION:  Your inputs were analyzed, and no high cardinality features were detected.\n",
            "              Learn more about high cardinality feature handling: https://aka.ms/AutomatedMLFeaturization\n",
            "\n",
            "****************************************************************************************************\n",
            "\n",
            "****************************************************************************************************\n",
            "ITERATION: The iteration being evaluated.\n",
            "PIPELINE: A summary description of the pipeline being evaluated.\n",
            "DURATION: Time taken for the current iteration.\n",
            "METRIC: The result of computing score on the fitted pipeline.\n",
            "BEST: The best observed score thus far.\n",
            "****************************************************************************************************\n",
            "\n",
            " ITERATION   PIPELINE                                       DURATION      METRIC      BEST\n",
            "         0   MaxAbsScaler LightGBM                          0:00:57       0.9883    0.9883\n",
            "         1   MaxAbsScaler XGBoostClassifier                 0:01:02       0.9888    0.9888\n",
            "         2   MaxAbsScaler RandomForest                      0:00:58       0.9565    0.9888\n",
            "         3   MaxAbsScaler RandomForest                      0:01:06       0.9219    0.9888\n",
            "         4   MaxAbsScaler RandomForest                      0:01:04       0.9523    0.9888\n",
            "         5   MaxAbsScaler RandomForest                      0:01:10       0.8597    0.9888\n",
            "         6   SparseNormalizer XGBoostClassifier             0:01:16       0.9576    0.9888\n",
            "         7   MaxAbsScaler GradientBoosting                  0:01:09       0.9669    0.9888\n",
            "         8   MaxAbsScaler ExtremeRandomTrees                0:01:28       0.9043    0.9888\n",
            "         9   SparseNormalizer XGBoostClassifier             0:01:24       0.9691    0.9888\n",
            "        10   StandardScalerWrapper LightGBM                 0:01:04       0.9467    0.9888\n",
            "        11   MaxAbsScaler LogisticRegression                0:01:16       0.9712    0.9888\n",
            "        12   StandardScalerWrapper LightGBM                 0:01:17       0.9043    0.9888\n",
            "        13   SparseNormalizer XGBoostClassifier             0:01:08       0.9544    0.9888\n",
            "        14   StandardScalerWrapper LightGBM                 0:01:29       0.9187    0.9888\n",
            "        15   StandardScalerWrapper LightGBM                 0:04:12       0.9043    0.9888\n",
            "        16   StandardScalerWrapper LogisticRegression       0:05:44       0.9600    0.9888\n",
            "        17   SparseNormalizer XGBoostClassifier             0:06:31       0.9397    0.9888\n",
            "        18   StandardScalerWrapper XGBoostClassifier        0:05:23       0.9653    0.9888\n",
            "        19   SparseNormalizer XGBoostClassifier             0:06:19       0.9469    0.9888\n",
            "        20   SparseNormalizer XGBoostClassifier             0:05:23       0.9677    0.9888\n",
            "        21   StandardScalerWrapper LogisticRegression       0:06:20       0.9360    0.9888\n",
            "        22   SparseNormalizer XGBoostClassifier             0:05:19       0.9352    0.9888\n"
          ]
        }
      ],
      "execution_count": 16,
      "metadata": {
        "gather": {
          "logged": 1610937659583
        },
        "jupyter": {
          "outputs_hidden": false,
          "source_hidden": false
        },
        "nteract": {
          "transient": {
            "deleting": false
          }
        }
      }
    },
    {
      "cell_type": "markdown",
      "source": [
        "## Run Details\n",
        "\n",
        "OPTIONAL: Write about the different models trained and their performance. Why do you think some models did better than others?\n",
        "\n",
        "TODO: In the cell below, use the `RunDetails` widget to show the different experiments."
      ],
      "metadata": {}
    },
    {
      "cell_type": "code",
      "source": [
        "from azureml.widgets import RunDetails\n",
        "\n",
        "RunDetails(remote_run).show()"
      ],
      "outputs": [
        {
          "output_type": "display_data",
          "data": {
            "application/vnd.jupyter.widget-view+json": {
              "model_id": "bf4b52bc3a5e478793204b31f10a084d",
              "version_major": 2,
              "version_minor": 0
            },
            "text/plain": "_AutoMLWidget(widget_settings={'childWidgetDisplay': 'popup', 'send_telemetry': False, 'log_level': 'INFO', 's…"
          },
          "metadata": {}
        },
        {
          "output_type": "display_data",
          "data": {
            "application/aml.mini.widget.v1": "{\"status\": \"Completed\", \"workbench_run_details_uri\": \"https://ml.azure.com/experiments/People_loan_experiment/runs/AutoML_5f2a6661-d257-4a23-a2bb-fe58030d4ae4?wsid=/subscriptions/784d8740-4c70-4d20-8f45-b2bfecf94029/resourcegroups/udacityprojects/workspaces/toria_workspace\", \"run_id\": \"AutoML_5f2a6661-d257-4a23-a2bb-fe58030d4ae4\", \"run_properties\": {\"run_id\": \"AutoML_5f2a6661-d257-4a23-a2bb-fe58030d4ae4\", \"created_utc\": \"2021-01-21T16:51:56.959204Z\", \"properties\": {\"num_iterations\": \"1000\", \"training_type\": \"TrainFull\", \"acquisition_function\": \"EI\", \"primary_metric\": \"accuracy\", \"train_split\": \"0\", \"acquisition_parameter\": \"0\", \"num_cross_validation\": \"5\", \"target\": \"vacompute\", \"AMLSettingsJsonString\": \"{\\\"path\\\":null,\\\"name\\\":\\\"People_loan_experiment\\\",\\\"subscription_id\\\":\\\"784d8740-4c70-4d20-8f45-b2bfecf94029\\\",\\\"resource_group\\\":\\\"udacityprojects\\\",\\\"workspace_name\\\":\\\"toria_workspace\\\",\\\"region\\\":\\\"eastus\\\",\\\"compute_target\\\":\\\"vacompute\\\",\\\"spark_service\\\":null,\\\"azure_service\\\":\\\"remote\\\",\\\"many_models\\\":false,\\\"pipeline_fetch_max_batch_size\\\":1,\\\"iterations\\\":1000,\\\"primary_metric\\\":\\\"accuracy\\\",\\\"task_type\\\":\\\"classification\\\",\\\"data_script\\\":null,\\\"validation_size\\\":0.0,\\\"n_cross_validations\\\":5,\\\"y_min\\\":null,\\\"y_max\\\":null,\\\"num_classes\\\":null,\\\"featurization\\\":\\\"auto\\\",\\\"_ignore_package_version_incompatibilities\\\":false,\\\"is_timeseries\\\":false,\\\"max_cores_per_iteration\\\":1,\\\"max_concurrent_iterations\\\":1,\\\"iteration_timeout_minutes\\\":null,\\\"mem_in_mb\\\":null,\\\"enforce_time_on_windows\\\":false,\\\"experiment_timeout_minutes\\\":8640,\\\"experiment_exit_score\\\":null,\\\"whitelist_models\\\":null,\\\"blacklist_algos\\\":[\\\"TensorFlowLinearClassifier\\\",\\\"TensorFlowDNN\\\"],\\\"supported_models\\\":[\\\"LogisticRegression\\\",\\\"SGD\\\",\\\"XGBoostClassifier\\\",\\\"SVM\\\",\\\"LightGBM\\\",\\\"KNN\\\",\\\"DecisionTree\\\",\\\"GradientBoosting\\\",\\\"AveragedPerceptronClassifier\\\",\\\"BernoulliNaiveBayes\\\",\\\"TensorFlowDNN\\\",\\\"TensorFlowLinearClassifier\\\",\\\"ExtremeRandomTrees\\\",\\\"RandomForest\\\",\\\"LinearSVM\\\",\\\"MultinomialNaiveBayes\\\"],\\\"auto_blacklist\\\":true,\\\"blacklist_samples_reached\\\":false,\\\"exclude_nan_labels\\\":true,\\\"verbosity\\\":20,\\\"_debug_log\\\":\\\"azureml_automl.log\\\",\\\"show_warnings\\\":false,\\\"model_explainability\\\":true,\\\"service_url\\\":null,\\\"sdk_url\\\":null,\\\"sdk_packages\\\":null,\\\"enable_onnx_compatible_models\\\":false,\\\"enable_split_onnx_featurizer_estimator_models\\\":false,\\\"vm_type\\\":\\\"STANDARD_DS2_V2\\\",\\\"telemetry_verbosity\\\":20,\\\"send_telemetry\\\":true,\\\"enable_dnn\\\":false,\\\"scenario\\\":\\\"SDK-1.13.0\\\",\\\"environment_label\\\":null,\\\"force_text_dnn\\\":false,\\\"enable_feature_sweeping\\\":true,\\\"enable_early_stopping\\\":true,\\\"early_stopping_n_iters\\\":10,\\\"metrics\\\":null,\\\"enable_ensembling\\\":true,\\\"enable_stack_ensembling\\\":true,\\\"ensemble_iterations\\\":15,\\\"enable_tf\\\":false,\\\"enable_subsampling\\\":null,\\\"subsample_seed\\\":null,\\\"enable_nimbusml\\\":false,\\\"enable_streaming\\\":false,\\\"force_streaming\\\":false,\\\"track_child_runs\\\":true,\\\"allowed_private_models\\\":[],\\\"label_column_name\\\":\\\"Personal Loan\\\",\\\"weight_column_name\\\":null,\\\"cv_split_column_names\\\":null,\\\"enable_local_managed\\\":false,\\\"_local_managed_run_id\\\":null,\\\"cost_mode\\\":1,\\\"lag_length\\\":0,\\\"metric_operation\\\":\\\"maximize\\\",\\\"preprocess\\\":true}\", \"DataPrepJsonString\": \"{\\\\\\\"training_data\\\\\\\": \\\\\\\"{\\\\\\\\\\\\\\\"blocks\\\\\\\\\\\\\\\": [{\\\\\\\\\\\\\\\"id\\\\\\\\\\\\\\\": \\\\\\\\\\\\\\\"35fd43c6-61b6-410d-aae3-271271f1edb8\\\\\\\\\\\\\\\", \\\\\\\\\\\\\\\"type\\\\\\\\\\\\\\\": \\\\\\\\\\\\\\\"Microsoft.DPrep.GetDatastoreFilesBlock\\\\\\\\\\\\\\\", \\\\\\\\\\\\\\\"arguments\\\\\\\\\\\\\\\": {\\\\\\\\\\\\\\\"datastores\\\\\\\\\\\\\\\": [{\\\\\\\\\\\\\\\"datastoreName\\\\\\\\\\\\\\\": \\\\\\\\\\\\\\\"workspaceblobstore\\\\\\\\\\\\\\\", \\\\\\\\\\\\\\\"path\\\\\\\\\\\\\\\": \\\\\\\\\\\\\\\"loandataset/loan.csv\\\\\\\\\\\\\\\", \\\\\\\\\\\\\\\"resourceGroup\\\\\\\\\\\\\\\": \\\\\\\\\\\\\\\"udacityprojects\\\\\\\\\\\\\\\", \\\\\\\\\\\\\\\"subscription\\\\\\\\\\\\\\\": \\\\\\\\\\\\\\\"784d8740-4c70-4d20-8f45-b2bfecf94029\\\\\\\\\\\\\\\", \\\\\\\\\\\\\\\"workspaceName\\\\\\\\\\\\\\\": \\\\\\\\\\\\\\\"Toria_workspace\\\\\\\\\\\\\\\"}]}, \\\\\\\\\\\\\\\"localData\\\\\\\\\\\\\\\": {}, \\\\\\\\\\\\\\\"isEnabled\\\\\\\\\\\\\\\": true, \\\\\\\\\\\\\\\"name\\\\\\\\\\\\\\\": null, \\\\\\\\\\\\\\\"annotation\\\\\\\\\\\\\\\": null}, {\\\\\\\\\\\\\\\"id\\\\\\\\\\\\\\\": \\\\\\\\\\\\\\\"5e7b6a60-1d79-4565-8033-1a392936f8fd\\\\\\\\\\\\\\\", \\\\\\\\\\\\\\\"type\\\\\\\\\\\\\\\": \\\\\\\\\\\\\\\"Microsoft.DPrep.ParseDelimitedBlock\\\\\\\\\\\\\\\", \\\\\\\\\\\\\\\"arguments\\\\\\\\\\\\\\\": {\\\\\\\\\\\\\\\"columnHeadersMode\\\\\\\\\\\\\\\": 3, \\\\\\\\\\\\\\\"fileEncoding\\\\\\\\\\\\\\\": 0, \\\\\\\\\\\\\\\"handleQuotedLineBreaks\\\\\\\\\\\\\\\": false, \\\\\\\\\\\\\\\"preview\\\\\\\\\\\\\\\": false, \\\\\\\\\\\\\\\"separator\\\\\\\\\\\\\\\": \\\\\\\\\\\\\\\",\\\\\\\\\\\\\\\", \\\\\\\\\\\\\\\"skipRows\\\\\\\\\\\\\\\": 0, \\\\\\\\\\\\\\\"skipRowsMode\\\\\\\\\\\\\\\": 0}, \\\\\\\\\\\\\\\"localData\\\\\\\\\\\\\\\": {}, \\\\\\\\\\\\\\\"isEnabled\\\\\\\\\\\\\\\": true, \\\\\\\\\\\\\\\"name\\\\\\\\\\\\\\\": null, \\\\\\\\\\\\\\\"annotation\\\\\\\\\\\\\\\": null}, {\\\\\\\\\\\\\\\"id\\\\\\\\\\\\\\\": \\\\\\\\\\\\\\\"350556b2-fef6-4f57-9bc2-fb4c029321ae\\\\\\\\\\\\\\\", \\\\\\\\\\\\\\\"type\\\\\\\\\\\\\\\": \\\\\\\\\\\\\\\"Microsoft.DPrep.DropColumnsBlock\\\\\\\\\\\\\\\", \\\\\\\\\\\\\\\"arguments\\\\\\\\\\\\\\\": {\\\\\\\\\\\\\\\"columns\\\\\\\\\\\\\\\": {\\\\\\\\\\\\\\\"type\\\\\\\\\\\\\\\": 0, \\\\\\\\\\\\\\\"details\\\\\\\\\\\\\\\": {\\\\\\\\\\\\\\\"selectedColumns\\\\\\\\\\\\\\\": [\\\\\\\\\\\\\\\"Path\\\\\\\\\\\\\\\"]}}}, \\\\\\\\\\\\\\\"localData\\\\\\\\\\\\\\\": {}, \\\\\\\\\\\\\\\"isEnabled\\\\\\\\\\\\\\\": true, \\\\\\\\\\\\\\\"name\\\\\\\\\\\\\\\": null, \\\\\\\\\\\\\\\"annotation\\\\\\\\\\\\\\\": null}, {\\\\\\\\\\\\\\\"id\\\\\\\\\\\\\\\": \\\\\\\\\\\\\\\"26d709af-7a7e-49b7-af75-1ba40cf7bcca\\\\\\\\\\\\\\\", \\\\\\\\\\\\\\\"type\\\\\\\\\\\\\\\": \\\\\\\\\\\\\\\"Microsoft.DPrep.SetColumnTypesBlock\\\\\\\\\\\\\\\", \\\\\\\\\\\\\\\"arguments\\\\\\\\\\\\\\\": {\\\\\\\\\\\\\\\"columnConversion\\\\\\\\\\\\\\\": [{\\\\\\\\\\\\\\\"column\\\\\\\\\\\\\\\": {\\\\\\\\\\\\\\\"type\\\\\\\\\\\\\\\": 2, \\\\\\\\\\\\\\\"details\\\\\\\\\\\\\\\": {\\\\\\\\\\\\\\\"selectedColumn\\\\\\\\\\\\\\\": \\\\\\\\\\\\\\\"Column1\\\\\\\\\\\\\\\"}}, \\\\\\\\\\\\\\\"typeProperty\\\\\\\\\\\\\\\": 2}, {\\\\\\\\\\\\\\\"column\\\\\\\\\\\\\\\": {\\\\\\\\\\\\\\\"type\\\\\\\\\\\\\\\": 2, \\\\\\\\\\\\\\\"details\\\\\\\\\\\\\\\": {\\\\\\\\\\\\\\\"selectedColumn\\\\\\\\\\\\\\\": \\\\\\\\\\\\\\\"Experience\\\\\\\\\\\\\\\"}}, \\\\\\\\\\\\\\\"typeProperty\\\\\\\\\\\\\\\": 3}, {\\\\\\\\\\\\\\\"column\\\\\\\\\\\\\\\": {\\\\\\\\\\\\\\\"type\\\\\\\\\\\\\\\": 2, \\\\\\\\\\\\\\\"details\\\\\\\\\\\\\\\": {\\\\\\\\\\\\\\\"selectedColumn\\\\\\\\\\\\\\\": \\\\\\\\\\\\\\\"Income\\\\\\\\\\\\\\\"}}, \\\\\\\\\\\\\\\"typeProperty\\\\\\\\\\\\\\\": 3}, {\\\\\\\\\\\\\\\"column\\\\\\\\\\\\\\\": {\\\\\\\\\\\\\\\"type\\\\\\\\\\\\\\\": 2, \\\\\\\\\\\\\\\"details\\\\\\\\\\\\\\\": {\\\\\\\\\\\\\\\"selectedColumn\\\\\\\\\\\\\\\": \\\\\\\\\\\\\\\"Family\\\\\\\\\\\\\\\"}}, \\\\\\\\\\\\\\\"typeProperty\\\\\\\\\\\\\\\": 2}, {\\\\\\\\\\\\\\\"column\\\\\\\\\\\\\\\": {\\\\\\\\\\\\\\\"type\\\\\\\\\\\\\\\": 2, \\\\\\\\\\\\\\\"details\\\\\\\\\\\\\\\": {\\\\\\\\\\\\\\\"selectedColumn\\\\\\\\\\\\\\\": \\\\\\\\\\\\\\\"CCAvg\\\\\\\\\\\\\\\"}}, \\\\\\\\\\\\\\\"typeProperty\\\\\\\\\\\\\\\": 3}, {\\\\\\\\\\\\\\\"column\\\\\\\\\\\\\\\": {\\\\\\\\\\\\\\\"type\\\\\\\\\\\\\\\": 2, \\\\\\\\\\\\\\\"details\\\\\\\\\\\\\\\": {\\\\\\\\\\\\\\\"selectedColumn\\\\\\\\\\\\\\\": \\\\\\\\\\\\\\\"Education\\\\\\\\\\\\\\\"}}, \\\\\\\\\\\\\\\"typeProperty\\\\\\\\\\\\\\\": 2}, {\\\\\\\\\\\\\\\"column\\\\\\\\\\\\\\\": {\\\\\\\\\\\\\\\"type\\\\\\\\\\\\\\\": 2, \\\\\\\\\\\\\\\"details\\\\\\\\\\\\\\\": {\\\\\\\\\\\\\\\"selectedColumn\\\\\\\\\\\\\\\": \\\\\\\\\\\\\\\"Mortgage\\\\\\\\\\\\\\\"}}, \\\\\\\\\\\\\\\"typeProperty\\\\\\\\\\\\\\\": 3}, {\\\\\\\\\\\\\\\"column\\\\\\\\\\\\\\\": {\\\\\\\\\\\\\\\"type\\\\\\\\\\\\\\\": 2, \\\\\\\\\\\\\\\"details\\\\\\\\\\\\\\\": {\\\\\\\\\\\\\\\"selectedColumn\\\\\\\\\\\\\\\": \\\\\\\\\\\\\\\"Securities Account\\\\\\\\\\\\\\\"}}, \\\\\\\\\\\\\\\"typeProperty\\\\\\\\\\\\\\\": 2}, {\\\\\\\\\\\\\\\"column\\\\\\\\\\\\\\\": {\\\\\\\\\\\\\\\"type\\\\\\\\\\\\\\\": 2, \\\\\\\\\\\\\\\"details\\\\\\\\\\\\\\\": {\\\\\\\\\\\\\\\"selectedColumn\\\\\\\\\\\\\\\": \\\\\\\\\\\\\\\"CD Account\\\\\\\\\\\\\\\"}}, \\\\\\\\\\\\\\\"typeProperty\\\\\\\\\\\\\\\": 2}, {\\\\\\\\\\\\\\\"column\\\\\\\\\\\\\\\": {\\\\\\\\\\\\\\\"type\\\\\\\\\\\\\\\": 2, \\\\\\\\\\\\\\\"details\\\\\\\\\\\\\\\": {\\\\\\\\\\\\\\\"selectedColumn\\\\\\\\\\\\\\\": \\\\\\\\\\\\\\\"Personal Loan\\\\\\\\\\\\\\\"}}, \\\\\\\\\\\\\\\"typeProperty\\\\\\\\\\\\\\\": 2}]}, \\\\\\\\\\\\\\\"localData\\\\\\\\\\\\\\\": {}, \\\\\\\\\\\\\\\"isEnabled\\\\\\\\\\\\\\\": true, \\\\\\\\\\\\\\\"name\\\\\\\\\\\\\\\": null, \\\\\\\\\\\\\\\"annotation\\\\\\\\\\\\\\\": null}], \\\\\\\\\\\\\\\"inspectors\\\\\\\\\\\\\\\": [], \\\\\\\\\\\\\\\"meta\\\\\\\\\\\\\\\": {\\\\\\\\\\\\\\\"savedDatasetId\\\\\\\\\\\\\\\": \\\\\\\\\\\\\\\"4ba18f9e-33c9-4f67-82ad-71d3ef539e4d\\\\\\\\\\\\\\\", \\\\\\\\\\\\\\\"datasetType\\\\\\\\\\\\\\\": \\\\\\\\\\\\\\\"tabular\\\\\\\\\\\\\\\", \\\\\\\\\\\\\\\"subscriptionId\\\\\\\\\\\\\\\": \\\\\\\\\\\\\\\"784d8740-4c70-4d20-8f45-b2bfecf94029\\\\\\\\\\\\\\\", \\\\\\\\\\\\\\\"workspaceId\\\\\\\\\\\\\\\": \\\\\\\\\\\\\\\"19ae6d3d-824e-4474-b2a0-b61ef254ce10\\\\\\\\\\\\\\\", \\\\\\\\\\\\\\\"workspaceLocation\\\\\\\\\\\\\\\": \\\\\\\\\\\\\\\"eastus\\\\\\\\\\\\\\\"}}\\\\\\\", \\\\\\\"activities\\\\\\\": 0}\", \"EnableSubsampling\": null, \"runTemplate\": \"AutoML\", \"azureml.runsource\": \"automl\", \"display_task_type\": \"classification\", \"dependencies_versions\": \"{\\\"azureml-widgets\\\": \\\"1.19.0\\\", \\\"azureml-train\\\": \\\"1.20.0\\\", \\\"azureml-train-restclients-hyperdrive\\\": \\\"1.20.0\\\", \\\"azureml-train-core\\\": \\\"1.20.0\\\", \\\"azureml-train-automl\\\": \\\"1.20.0\\\", \\\"azureml-train-automl-runtime\\\": \\\"1.20.0.post1\\\", \\\"azureml-train-automl-client\\\": \\\"1.20.0\\\", \\\"azureml-tensorboard\\\": \\\"1.19.0\\\", \\\"azureml-telemetry\\\": \\\"1.20.0\\\", \\\"azureml-sdk\\\": \\\"1.20.0\\\", \\\"azureml-samples\\\": \\\"0+unknown\\\", \\\"azureml-pipeline\\\": \\\"1.20.0\\\", \\\"azureml-pipeline-steps\\\": \\\"1.20.0\\\", \\\"azureml-pipeline-core\\\": \\\"1.20.0\\\", \\\"azureml-opendatasets\\\": \\\"1.19.0\\\", \\\"azureml-model-management-sdk\\\": \\\"1.0.1b6.post1\\\", \\\"azureml-mlflow\\\": \\\"1.19.0\\\", \\\"azureml-interpret\\\": \\\"1.20.0\\\", \\\"azureml-explain-model\\\": \\\"1.19.0\\\", \\\"azureml-defaults\\\": \\\"1.20.0\\\", \\\"azureml-dataset-runtime\\\": \\\"1.20.0\\\", \\\"azureml-dataprep\\\": \\\"2.7.3\\\", \\\"azureml-dataprep-rslex\\\": \\\"1.5.0\\\", \\\"azureml-dataprep-native\\\": \\\"27.0.0\\\", \\\"azureml-datadrift\\\": \\\"1.19.0\\\", \\\"azureml-core\\\": \\\"1.20.0\\\", \\\"azureml-contrib-services\\\": \\\"1.19.0\\\", \\\"azureml-contrib-server\\\": \\\"1.19.0\\\", \\\"azureml-contrib-reinforcementlearning\\\": \\\"1.19.0\\\", \\\"azureml-contrib-pipeline-steps\\\": \\\"1.19.0\\\", \\\"azureml-contrib-notebook\\\": \\\"1.19.0\\\", \\\"azureml-contrib-interpret\\\": \\\"1.19.0\\\", \\\"azureml-contrib-gbdt\\\": \\\"1.19.0\\\", \\\"azureml-contrib-fairness\\\": \\\"1.19.0\\\", \\\"azureml-contrib-dataset\\\": \\\"1.19.0\\\", \\\"azureml-cli-common\\\": \\\"1.19.0\\\", \\\"azureml-automl-runtime\\\": \\\"1.20.0\\\", \\\"azureml-automl-core\\\": \\\"1.20.0\\\", \\\"azureml-accel-models\\\": \\\"1.19.0\\\"}\", \"_aml_system_scenario_identification\": \"Remote.Parent\", \"ClientType\": \"SDK\", \"environment_cpu_name\": \"AzureML-AutoML\", \"environment_cpu_label\": \"prod\", \"environment_gpu_name\": \"AzureML-AutoML-GPU\", \"environment_gpu_label\": \"prod\", \"root_attribution\": \"automl\", \"attribution\": \"AutoML\", \"Orchestrator\": \"AutoML\", \"CancelUri\": \"https://eastus.experiments.azureml.net/jasmine/v1.0/subscriptions/784d8740-4c70-4d20-8f45-b2bfecf94029/resourceGroups/udacityprojects/providers/Microsoft.MachineLearningServices/workspaces/toria_workspace/experimentids/cf8bb81d-bc2c-4931-accc-0233d3c9c072/cancel/AutoML_5f2a6661-d257-4a23-a2bb-fe58030d4ae4\", \"ClientSdkVersion\": \"1.20.0\", \"snapshotId\": \"00000000-0000-0000-0000-000000000000\", \"SetupRunId\": \"AutoML_5f2a6661-d257-4a23-a2bb-fe58030d4ae4_setup\", \"SetupRunContainerId\": \"dcid.AutoML_5f2a6661-d257-4a23-a2bb-fe58030d4ae4_setup\", \"FeaturizationRunJsonPath\": \"featurizer_container.json\", \"FeaturizationRunId\": \"AutoML_5f2a6661-d257-4a23-a2bb-fe58030d4ae4_featurize\", \"ProblemInfoJsonString\": \"{\\\"dataset_num_categorical\\\": 0, \\\"is_sparse\\\": true, \\\"subsampling\\\": false, \\\"dataset_classes\\\": 2, \\\"dataset_features\\\": 14, \\\"dataset_samples\\\": 3750, \\\"single_frequency_class_detected\\\": false}\", \"ModelExplainRunId\": \"AutoML_5f2a6661-d257-4a23-a2bb-fe58030d4ae4_ModelExplain\"}, \"tags\": {\"model_explain_run\": \"best_run\", \"_aml_system_azureml.automlComponent\": \"AutoML\", \"pipeline_id\": \"\", \"score\": \"\", \"predicted_cost\": \"\", \"fit_time\": \"\", \"training_percent\": \"\", \"iteration\": \"\", \"run_preprocessor\": \"\", \"run_algorithm\": \"\", \"dynamic_whitelisting_iterations\": \"<25>;\", \"automl_best_child_run_id\": \"AutoML_5f2a6661-d257-4a23-a2bb-fe58030d4ae4_30\", \"model_explain_best_run_child_id\": \"AutoML_5f2a6661-d257-4a23-a2bb-fe58030d4ae4_30\"}, \"end_time_utc\": \"2021-01-21T19:06:32.201602Z\", \"status\": \"Completed\", \"log_files\": {}, \"log_groups\": [], \"run_duration\": \"2:14:35\"}, \"child_runs\": [{\"run_id\": \"AutoML_5f2a6661-d257-4a23-a2bb-fe58030d4ae4_0\", \"run_number\": 5, \"metric\": null, \"status\": \"Completed\", \"run_type\": \"azureml.scriptrun\", \"training_percent\": \"100\", \"start_time\": \"2021-01-21T16:56:37.656979Z\", \"end_time\": \"2021-01-21T16:57:34.649771Z\", \"created_time\": \"2021-01-21T16:56:23.969752Z\", \"created_time_dt\": \"2021-01-21T16:56:23.969752Z\", \"duration\": \"0:01:10\", \"iteration\": \"0\", \"goal\": \"accuracy_max\", \"run_name\": \"MaxAbsScaler, LightGBM\", \"run_properties\": \"copy=True\", \"primary_metric\": 0.98826667, \"best_metric\": 0.98826667}, {\"run_id\": \"AutoML_5f2a6661-d257-4a23-a2bb-fe58030d4ae4_1\", \"run_number\": 6, \"metric\": null, \"status\": \"Completed\", \"run_type\": \"azureml.scriptrun\", \"training_percent\": \"100\", \"start_time\": \"2021-01-21T16:57:53.107459Z\", \"end_time\": \"2021-01-21T16:58:54.804805Z\", \"created_time\": \"2021-01-21T16:57:35.652147Z\", \"created_time_dt\": \"2021-01-21T16:57:35.652147Z\", \"duration\": \"0:01:19\", \"iteration\": \"1\", \"goal\": \"accuracy_max\", \"run_name\": \"MaxAbsScaler, XGBoostClassifier\", \"run_properties\": \"copy=True\", \"primary_metric\": 0.9888, \"best_metric\": 0.9888}, {\"run_id\": \"AutoML_5f2a6661-d257-4a23-a2bb-fe58030d4ae4_2\", \"run_number\": 7, \"metric\": null, \"status\": \"Completed\", \"run_type\": \"azureml.scriptrun\", \"training_percent\": \"100\", \"start_time\": \"2021-01-21T16:59:10.612305Z\", \"end_time\": \"2021-01-21T17:00:08.248468Z\", \"created_time\": \"2021-01-21T16:58:56.252843Z\", \"created_time_dt\": \"2021-01-21T16:58:56.252843Z\", \"duration\": \"0:01:11\", \"iteration\": \"2\", \"goal\": \"accuracy_max\", \"run_name\": \"MaxAbsScaler, RandomForest\", \"run_properties\": \"copy=True\", \"primary_metric\": 0.95653333, \"best_metric\": 0.9888}, {\"run_id\": \"AutoML_5f2a6661-d257-4a23-a2bb-fe58030d4ae4_3\", \"run_number\": 8, \"metric\": null, \"status\": \"Completed\", \"run_type\": \"azureml.scriptrun\", \"training_percent\": \"100\", \"start_time\": \"2021-01-21T17:00:38.44783Z\", \"end_time\": \"2021-01-21T17:01:44.380479Z\", \"created_time\": \"2021-01-21T17:00:12.832484Z\", \"created_time_dt\": \"2021-01-21T17:00:12.832484Z\", \"duration\": \"0:01:31\", \"iteration\": \"3\", \"goal\": \"accuracy_max\", \"run_name\": \"MaxAbsScaler, RandomForest\", \"run_properties\": \"copy=True\", \"primary_metric\": 0.92186667, \"best_metric\": 0.9888}, {\"run_id\": \"AutoML_5f2a6661-d257-4a23-a2bb-fe58030d4ae4_4\", \"run_number\": 9, \"metric\": null, \"status\": \"Completed\", \"run_type\": \"azureml.scriptrun\", \"training_percent\": \"100\", \"start_time\": \"2021-01-21T17:02:06.632623Z\", \"end_time\": \"2021-01-21T17:03:10.38628Z\", \"created_time\": \"2021-01-21T17:01:47.06048Z\", \"created_time_dt\": \"2021-01-21T17:01:47.06048Z\", \"duration\": \"0:01:23\", \"iteration\": \"4\", \"goal\": \"accuracy_max\", \"run_name\": \"MaxAbsScaler, RandomForest\", \"run_properties\": \"copy=True\", \"primary_metric\": 0.95226667, \"best_metric\": 0.9888}, {\"run_id\": \"AutoML_5f2a6661-d257-4a23-a2bb-fe58030d4ae4_5\", \"run_number\": 10, \"metric\": null, \"status\": \"Completed\", \"run_type\": \"azureml.scriptrun\", \"training_percent\": \"100\", \"start_time\": \"2021-01-21T17:03:28.888543Z\", \"end_time\": \"2021-01-21T17:04:39.064528Z\", \"created_time\": \"2021-01-21T17:03:12.517986Z\", \"created_time_dt\": \"2021-01-21T17:03:12.517986Z\", \"duration\": \"0:01:26\", \"iteration\": \"5\", \"goal\": \"accuracy_max\", \"run_name\": \"MaxAbsScaler, RandomForest\", \"run_properties\": \"copy=True\", \"primary_metric\": 0.85973333, \"best_metric\": 0.9888}, {\"run_id\": \"AutoML_5f2a6661-d257-4a23-a2bb-fe58030d4ae4_6\", \"run_number\": 11, \"metric\": null, \"status\": \"Completed\", \"run_type\": \"azureml.scriptrun\", \"training_percent\": \"100\", \"start_time\": \"2021-01-21T17:04:56.285193Z\", \"end_time\": \"2021-01-21T17:06:12.37833Z\", \"created_time\": \"2021-01-21T17:04:41.020288Z\", \"created_time_dt\": \"2021-01-21T17:04:41.020288Z\", \"duration\": \"0:01:31\", \"iteration\": \"6\", \"goal\": \"accuracy_max\", \"run_name\": \"SparseNormalizer, XGBoostClassifier\", \"run_properties\": \"<azureml.automl.runtime.shared.model_wrappers.SparseNormalizer object at 0x7f1ef5902828\", \"primary_metric\": 0.9576, \"best_metric\": 0.9888}, {\"run_id\": \"AutoML_5f2a6661-d257-4a23-a2bb-fe58030d4ae4_7\", \"run_number\": 12, \"metric\": null, \"status\": \"Completed\", \"run_type\": \"azureml.scriptrun\", \"training_percent\": \"100\", \"start_time\": \"2021-01-21T17:06:34.307628Z\", \"end_time\": \"2021-01-21T17:07:43.742402Z\", \"created_time\": \"2021-01-21T17:06:14.461801Z\", \"created_time_dt\": \"2021-01-21T17:06:14.461801Z\", \"duration\": \"0:01:29\", \"iteration\": \"7\", \"goal\": \"accuracy_max\", \"run_name\": \"MaxAbsScaler, GradientBoosting\", \"run_properties\": \"copy=True\", \"primary_metric\": 0.96693333, \"best_metric\": 0.9888}, {\"run_id\": \"AutoML_5f2a6661-d257-4a23-a2bb-fe58030d4ae4_8\", \"run_number\": 13, \"metric\": null, \"status\": \"Completed\", \"run_type\": \"azureml.scriptrun\", \"training_percent\": \"100\", \"start_time\": \"2021-01-21T17:08:04.703349Z\", \"end_time\": \"2021-01-21T17:09:33.103357Z\", \"created_time\": \"2021-01-21T17:07:45.445334Z\", \"created_time_dt\": \"2021-01-21T17:07:45.445334Z\", \"duration\": \"0:01:47\", \"iteration\": \"8\", \"goal\": \"accuracy_max\", \"run_name\": \"MaxAbsScaler, ExtremeRandomTrees\", \"run_properties\": \"copy=True\", \"primary_metric\": 0.90426667, \"best_metric\": 0.9888}, {\"run_id\": \"AutoML_5f2a6661-d257-4a23-a2bb-fe58030d4ae4_9\", \"run_number\": 14, \"metric\": null, \"status\": \"Completed\", \"run_type\": \"azureml.scriptrun\", \"training_percent\": \"100\", \"start_time\": \"2021-01-21T17:09:54.243203Z\", \"end_time\": \"2021-01-21T17:11:18.296517Z\", \"created_time\": \"2021-01-21T17:09:35.02772Z\", \"created_time_dt\": \"2021-01-21T17:09:35.02772Z\", \"duration\": \"0:01:43\", \"iteration\": \"9\", \"goal\": \"accuracy_max\", \"run_name\": \"SparseNormalizer, XGBoostClassifier\", \"run_properties\": \"<azureml.automl.runtime.shared.model_wrappers.SparseNormalizer object at 0x7ff59ba2a1d0\", \"primary_metric\": 0.96906667, \"best_metric\": 0.9888}, {\"run_id\": \"AutoML_5f2a6661-d257-4a23-a2bb-fe58030d4ae4_10\", \"run_number\": 15, \"metric\": null, \"status\": \"Completed\", \"run_type\": \"azureml.scriptrun\", \"training_percent\": \"100\", \"start_time\": \"2021-01-21T17:11:42.861197Z\", \"end_time\": \"2021-01-21T17:12:47.242146Z\", \"created_time\": \"2021-01-21T17:11:21.878987Z\", \"created_time_dt\": \"2021-01-21T17:11:21.878987Z\", \"duration\": \"0:01:25\", \"iteration\": \"10\", \"goal\": \"accuracy_max\", \"run_name\": \"StandardScalerWrapper, LightGBM\", \"run_properties\": \"<azureml.automl.runtime.shared.model_wrappers.StandardScalerWrapper object at 0x7fdd030bbac8\", \"primary_metric\": 0.94666667, \"best_metric\": 0.9888}, {\"run_id\": \"AutoML_5f2a6661-d257-4a23-a2bb-fe58030d4ae4_11\", \"run_number\": 16, \"metric\": null, \"status\": \"Completed\", \"run_type\": \"azureml.scriptrun\", \"training_percent\": \"100\", \"start_time\": \"2021-01-21T17:13:12.419323Z\", \"end_time\": \"2021-01-21T17:14:27.977407Z\", \"created_time\": \"2021-01-21T17:12:50.042962Z\", \"created_time_dt\": \"2021-01-21T17:12:50.042962Z\", \"duration\": \"0:01:37\", \"iteration\": \"11\", \"goal\": \"accuracy_max\", \"run_name\": \"MaxAbsScaler, LogisticRegression\", \"run_properties\": \"copy=True\", \"primary_metric\": 0.9712, \"best_metric\": 0.9888}, {\"run_id\": \"AutoML_5f2a6661-d257-4a23-a2bb-fe58030d4ae4_12\", \"run_number\": 17, \"metric\": null, \"status\": \"Completed\", \"run_type\": \"azureml.scriptrun\", \"training_percent\": \"100\", \"start_time\": \"2021-01-21T17:14:43.581561Z\", \"end_time\": \"2021-01-21T17:16:00.980718Z\", \"created_time\": \"2021-01-21T17:14:30.062333Z\", \"created_time_dt\": \"2021-01-21T17:14:30.062333Z\", \"duration\": \"0:01:30\", \"iteration\": \"12\", \"goal\": \"accuracy_max\", \"run_name\": \"StandardScalerWrapper, LightGBM\", \"run_properties\": \"<azureml.automl.runtime.shared.model_wrappers.StandardScalerWrapper object at 0x7fb81a1cc9b0\", \"primary_metric\": 0.90426667, \"best_metric\": 0.9888}, {\"run_id\": \"AutoML_5f2a6661-d257-4a23-a2bb-fe58030d4ae4_13\", \"run_number\": 18, \"metric\": null, \"status\": \"Completed\", \"run_type\": \"azureml.scriptrun\", \"training_percent\": \"100\", \"start_time\": \"2021-01-21T17:16:30.254383Z\", \"end_time\": \"2021-01-21T17:17:38.353614Z\", \"created_time\": \"2021-01-21T17:16:07.576922Z\", \"created_time_dt\": \"2021-01-21T17:16:07.576922Z\", \"duration\": \"0:01:30\", \"iteration\": \"13\", \"goal\": \"accuracy_max\", \"run_name\": \"SparseNormalizer, XGBoostClassifier\", \"run_properties\": \"<azureml.automl.runtime.shared.model_wrappers.SparseNormalizer object at 0x7fa19811c6a0\", \"primary_metric\": 0.9544, \"best_metric\": 0.9888}, {\"run_id\": \"AutoML_5f2a6661-d257-4a23-a2bb-fe58030d4ae4_14\", \"run_number\": 19, \"metric\": null, \"status\": \"Completed\", \"run_type\": \"azureml.scriptrun\", \"training_percent\": \"100\", \"start_time\": \"2021-01-21T17:17:59.691537Z\", \"end_time\": \"2021-01-21T17:19:28.915229Z\", \"created_time\": \"2021-01-21T17:17:40.98991Z\", \"created_time_dt\": \"2021-01-21T17:17:40.98991Z\", \"duration\": \"0:01:47\", \"iteration\": \"14\", \"goal\": \"accuracy_max\", \"run_name\": \"StandardScalerWrapper, LightGBM\", \"run_properties\": \"<azureml.automl.runtime.shared.model_wrappers.StandardScalerWrapper object at 0x7fc468244d68\", \"primary_metric\": 0.91866667, \"best_metric\": 0.9888}, {\"run_id\": \"AutoML_5f2a6661-d257-4a23-a2bb-fe58030d4ae4_15\", \"run_number\": 20, \"metric\": null, \"status\": \"Completed\", \"run_type\": \"azureml.scriptrun\", \"training_percent\": \"100\", \"start_time\": \"2021-01-21T17:19:54.869404Z\", \"end_time\": \"2021-01-21T17:24:07.161522Z\", \"created_time\": \"2021-01-21T17:19:32.066491Z\", \"created_time_dt\": \"2021-01-21T17:19:32.066491Z\", \"duration\": \"0:04:35\", \"iteration\": \"15\", \"goal\": \"accuracy_max\", \"run_name\": \"StandardScalerWrapper, LightGBM\", \"run_properties\": \"<azureml.automl.runtime.shared.model_wrappers.StandardScalerWrapper object at 0x7f9033049f98\", \"primary_metric\": 0.90426667, \"best_metric\": 0.9888}, {\"run_id\": \"AutoML_5f2a6661-d257-4a23-a2bb-fe58030d4ae4_16\", \"run_number\": 21, \"metric\": null, \"status\": \"Completed\", \"run_type\": \"azureml.scriptrun\", \"training_percent\": \"100\", \"start_time\": \"2021-01-21T17:24:46.351712Z\", \"end_time\": \"2021-01-21T17:30:30.831589Z\", \"created_time\": \"2021-01-21T17:24:09.143268Z\", \"created_time_dt\": \"2021-01-21T17:24:09.143268Z\", \"duration\": \"0:06:21\", \"iteration\": \"16\", \"goal\": \"accuracy_max\", \"run_name\": \"StandardScalerWrapper, LogisticRegression\", \"run_properties\": \"<azureml.automl.runtime.shared.model_wrappers.StandardScalerWrapper object at 0x7facc1514780\", \"primary_metric\": 0.96, \"best_metric\": 0.9888}, {\"run_id\": \"AutoML_5f2a6661-d257-4a23-a2bb-fe58030d4ae4_17\", \"run_number\": 22, \"metric\": null, \"status\": \"Completed\", \"run_type\": \"azureml.scriptrun\", \"training_percent\": \"100\", \"start_time\": \"2021-01-21T17:30:56.675643Z\", \"end_time\": \"2021-01-21T17:37:28.108295Z\", \"created_time\": \"2021-01-21T17:30:34.463867Z\", \"created_time_dt\": \"2021-01-21T17:30:34.463867Z\", \"duration\": \"0:06:53\", \"iteration\": \"17\", \"goal\": \"accuracy_max\", \"run_name\": \"SparseNormalizer, XGBoostClassifier\", \"run_properties\": \"<azureml.automl.runtime.shared.model_wrappers.SparseNormalizer object at 0x7f8741ca93c8\", \"primary_metric\": 0.93973333, \"best_metric\": 0.9888}, {\"run_id\": \"AutoML_5f2a6661-d257-4a23-a2bb-fe58030d4ae4_18\", \"run_number\": 23, \"metric\": null, \"status\": \"Completed\", \"run_type\": \"azureml.scriptrun\", \"training_percent\": \"100\", \"start_time\": \"2021-01-21T17:37:54.011528Z\", \"end_time\": \"2021-01-21T17:43:17.041426Z\", \"created_time\": \"2021-01-21T17:37:33.344594Z\", \"created_time_dt\": \"2021-01-21T17:37:33.344594Z\", \"duration\": \"0:05:43\", \"iteration\": \"18\", \"goal\": \"accuracy_max\", \"run_name\": \"StandardScalerWrapper, XGBoostClassifier\", \"run_properties\": \"<azureml.automl.runtime.shared.model_wrappers.StandardScalerWrapper object at 0x7fbb2e9c0080\", \"primary_metric\": 0.96533333, \"best_metric\": 0.9888}, {\"run_id\": \"AutoML_5f2a6661-d257-4a23-a2bb-fe58030d4ae4_19\", \"run_number\": 24, \"metric\": null, \"status\": \"Completed\", \"run_type\": \"azureml.scriptrun\", \"training_percent\": \"100\", \"start_time\": \"2021-01-21T17:43:34.952108Z\", \"end_time\": \"2021-01-21T17:49:53.673497Z\", \"created_time\": \"2021-01-21T17:43:20.586318Z\", \"created_time_dt\": \"2021-01-21T17:43:20.586318Z\", \"duration\": \"0:06:33\", \"iteration\": \"19\", \"goal\": \"accuracy_max\", \"run_name\": \"SparseNormalizer, XGBoostClassifier\", \"run_properties\": \"<azureml.automl.runtime.shared.model_wrappers.SparseNormalizer object at 0x7f77ee703da0\", \"primary_metric\": 0.94693333, \"best_metric\": 0.9888}, {\"run_id\": \"AutoML_5f2a6661-d257-4a23-a2bb-fe58030d4ae4_20\", \"run_number\": 25, \"metric\": null, \"status\": \"Completed\", \"run_type\": \"azureml.scriptrun\", \"training_percent\": \"100\", \"start_time\": \"2021-01-21T17:50:16.595645Z\", \"end_time\": \"2021-01-21T17:55:39.510402Z\", \"created_time\": \"2021-01-21T17:49:58.390849Z\", \"created_time_dt\": \"2021-01-21T17:49:58.390849Z\", \"duration\": \"0:05:41\", \"iteration\": \"20\", \"goal\": \"accuracy_max\", \"run_name\": \"SparseNormalizer, XGBoostClassifier\", \"run_properties\": \"<azureml.automl.runtime.shared.model_wrappers.SparseNormalizer object at 0x7f0da8e93eb8\", \"primary_metric\": 0.96773333, \"best_metric\": 0.9888}, {\"run_id\": \"AutoML_5f2a6661-d257-4a23-a2bb-fe58030d4ae4_21\", \"run_number\": 26, \"metric\": null, \"status\": \"Completed\", \"run_type\": \"azureml.scriptrun\", \"training_percent\": \"100\", \"start_time\": \"2021-01-21T17:55:59.45328Z\", \"end_time\": \"2021-01-21T18:02:19.765102Z\", \"created_time\": \"2021-01-21T17:55:41.687372Z\", \"created_time_dt\": \"2021-01-21T17:55:41.687372Z\", \"duration\": \"0:06:38\", \"iteration\": \"21\", \"goal\": \"accuracy_max\", \"run_name\": \"StandardScalerWrapper, LogisticRegression\", \"run_properties\": \"<azureml.automl.runtime.shared.model_wrappers.StandardScalerWrapper object at 0x7ff31aa20cf8\", \"primary_metric\": 0.936, \"best_metric\": 0.9888}, {\"run_id\": \"AutoML_5f2a6661-d257-4a23-a2bb-fe58030d4ae4_22\", \"run_number\": 27, \"metric\": null, \"status\": \"Completed\", \"run_type\": \"azureml.scriptrun\", \"training_percent\": \"100\", \"start_time\": \"2021-01-21T18:02:40.012351Z\", \"end_time\": \"2021-01-21T18:07:59.359183Z\", \"created_time\": \"2021-01-21T18:02:24.803758Z\", \"created_time_dt\": \"2021-01-21T18:02:24.803758Z\", \"duration\": \"0:05:34\", \"iteration\": \"22\", \"goal\": \"accuracy_max\", \"run_name\": \"SparseNormalizer, XGBoostClassifier\", \"run_properties\": \"<azureml.automl.runtime.shared.model_wrappers.SparseNormalizer object at 0x7f46dcb44390\", \"primary_metric\": 0.9352, \"best_metric\": 0.9888}, {\"run_id\": \"AutoML_5f2a6661-d257-4a23-a2bb-fe58030d4ae4_23\", \"run_number\": 28, \"metric\": null, \"status\": \"Completed\", \"run_type\": \"azureml.scriptrun\", \"training_percent\": \"100\", \"start_time\": \"2021-01-21T18:08:17.661877Z\", \"end_time\": \"2021-01-21T18:14:41.750721Z\", \"created_time\": \"2021-01-21T18:08:02.492944Z\", \"created_time_dt\": \"2021-01-21T18:08:02.492944Z\", \"duration\": \"0:06:39\", \"iteration\": \"23\", \"goal\": \"accuracy_max\", \"run_name\": \"SparseNormalizer, XGBoostClassifier\", \"run_properties\": \"<azureml.automl.runtime.shared.model_wrappers.SparseNormalizer object at 0x7f5f6c118a90\", \"primary_metric\": 0.96826667, \"best_metric\": 0.9888}, {\"run_id\": \"AutoML_5f2a6661-d257-4a23-a2bb-fe58030d4ae4_24\", \"run_number\": 29, \"metric\": null, \"status\": \"Completed\", \"run_type\": \"azureml.scriptrun\", \"training_percent\": \"100\", \"start_time\": \"2021-01-21T18:15:01.461407Z\", \"end_time\": \"2021-01-21T18:20:28.981214Z\", \"created_time\": \"2021-01-21T18:14:46.086225Z\", \"created_time_dt\": \"2021-01-21T18:14:46.086225Z\", \"duration\": \"0:05:42\", \"iteration\": \"24\", \"goal\": \"accuracy_max\", \"run_name\": \"StandardScalerWrapper, XGBoostClassifier\", \"run_properties\": \"<azureml.automl.runtime.shared.model_wrappers.StandardScalerWrapper object at 0x7f521335cef0\", \"primary_metric\": 0.97653333, \"best_metric\": 0.9888}, {\"run_id\": \"AutoML_5f2a6661-d257-4a23-a2bb-fe58030d4ae4_25\", \"run_number\": 30, \"metric\": null, \"status\": \"Completed\", \"run_type\": \"azureml.scriptrun\", \"training_percent\": \"100\", \"start_time\": \"2021-01-21T18:20:54.644345Z\", \"end_time\": \"2021-01-21T18:27:26.399071Z\", \"created_time\": \"2021-01-21T18:20:31.892868Z\", \"created_time_dt\": \"2021-01-21T18:20:31.892868Z\", \"duration\": \"0:06:54\", \"iteration\": \"25\", \"goal\": \"accuracy_max\", \"run_name\": \"SparseNormalizer, XGBoostClassifier\", \"run_properties\": \"<azureml.automl.runtime.shared.model_wrappers.SparseNormalizer object at 0x7f169bf5c390\", \"primary_metric\": 0.968, \"best_metric\": 0.9888}, {\"run_id\": \"AutoML_5f2a6661-d257-4a23-a2bb-fe58030d4ae4_26\", \"run_number\": 31, \"metric\": null, \"status\": \"Completed\", \"run_type\": \"azureml.scriptrun\", \"training_percent\": \"100\", \"start_time\": \"2021-01-21T18:27:55.99809Z\", \"end_time\": \"2021-01-21T18:33:20.807845Z\", \"created_time\": \"2021-01-21T18:27:31.967643Z\", \"created_time_dt\": \"2021-01-21T18:27:31.967643Z\", \"duration\": \"0:05:48\", \"iteration\": \"26\", \"goal\": \"accuracy_max\", \"run_name\": \"SparseNormalizer, XGBoostClassifier\", \"run_properties\": \"<azureml.automl.runtime.shared.model_wrappers.SparseNormalizer object at 0x7f32b3612c18\", \"primary_metric\": 0.96853333, \"best_metric\": 0.9888}, {\"run_id\": \"AutoML_5f2a6661-d257-4a23-a2bb-fe58030d4ae4_27\", \"run_number\": 32, \"metric\": null, \"status\": \"Completed\", \"run_type\": \"azureml.scriptrun\", \"training_percent\": \"100\", \"start_time\": \"2021-01-21T18:33:40.377283Z\", \"end_time\": \"2021-01-21T18:39:58.347382Z\", \"created_time\": \"2021-01-21T18:33:22.880101Z\", \"created_time_dt\": \"2021-01-21T18:33:22.880101Z\", \"duration\": \"0:06:35\", \"iteration\": \"27\", \"goal\": \"accuracy_max\", \"run_name\": \"MaxAbsScaler, LogisticRegression\", \"run_properties\": \"copy=True\", \"primary_metric\": 0.9648, \"best_metric\": 0.9888}, {\"run_id\": \"AutoML_5f2a6661-d257-4a23-a2bb-fe58030d4ae4_28\", \"run_number\": 33, \"metric\": null, \"status\": \"Completed\", \"run_type\": \"azureml.scriptrun\", \"training_percent\": \"100\", \"start_time\": \"2021-01-21T18:40:21.904395Z\", \"end_time\": \"2021-01-21T18:46:12.109881Z\", \"created_time\": \"2021-01-21T18:40:00.046756Z\", \"created_time_dt\": \"2021-01-21T18:40:00.046756Z\", \"duration\": \"0:06:12\", \"iteration\": \"28\", \"goal\": \"accuracy_max\", \"run_name\": \"StandardScalerWrapper, LogisticRegression\", \"run_properties\": \"<azureml.automl.runtime.shared.model_wrappers.StandardScalerWrapper object at 0x7f6e340fe240\", \"primary_metric\": 0.93733333, \"best_metric\": 0.9888}, {\"run_id\": \"AutoML_5f2a6661-d257-4a23-a2bb-fe58030d4ae4_29\", \"run_number\": 34, \"metric\": null, \"status\": \"Completed\", \"run_type\": \"azureml.scriptrun\", \"training_percent\": \"100\", \"start_time\": \"2021-01-21T18:46:33.899457Z\", \"end_time\": \"2021-01-21T18:53:06.145849Z\", \"created_time\": \"2021-01-21T18:46:17.338861Z\", \"created_time_dt\": \"2021-01-21T18:46:17.338861Z\", \"duration\": \"0:06:48\", \"iteration\": \"29\", \"goal\": \"accuracy_max\", \"run_name\": \"MaxAbsScaler, ExtremeRandomTrees\", \"run_properties\": \"copy=True\", \"primary_metric\": 0.90426667, \"best_metric\": 0.9888}, {\"run_id\": \"AutoML_5f2a6661-d257-4a23-a2bb-fe58030d4ae4_30\", \"run_number\": 35, \"metric\": null, \"status\": \"Completed\", \"run_type\": \"azureml.scriptrun\", \"training_percent\": \"100\", \"start_time\": \"2021-01-21T18:53:30.367611Z\", \"end_time\": \"2021-01-21T18:59:19.257995Z\", \"created_time\": \"2021-01-21T18:53:07.896122Z\", \"created_time_dt\": \"2021-01-21T18:53:07.896122Z\", \"duration\": \"0:06:11\", \"iteration\": \"30\", \"goal\": \"accuracy_max\", \"run_name\": \"VotingEnsemble\", \"run_properties\": \"classification_labels=None,\\n                              estimators=[('1',\\n                                           Pipeline(memory=None,\\n                                                    steps=[('maxabsscaler',\\n                                                            MaxAbsScaler(copy=True\", \"primary_metric\": 0.9896, \"best_metric\": 0.9896}, {\"run_id\": \"AutoML_5f2a6661-d257-4a23-a2bb-fe58030d4ae4_31\", \"run_number\": 36, \"metric\": null, \"status\": \"Completed\", \"run_type\": \"azureml.scriptrun\", \"training_percent\": \"100\", \"start_time\": \"2021-01-21T18:59:33.726367Z\", \"end_time\": \"2021-01-21T19:06:15.937226Z\", \"created_time\": \"2021-01-21T18:59:20.288595Z\", \"created_time_dt\": \"2021-01-21T18:59:20.288595Z\", \"duration\": \"0:06:55\", \"iteration\": \"31\", \"goal\": \"accuracy_max\", \"run_name\": \"StackEnsemble\", \"run_properties\": \"base_learners=[('1',\\n                                        Pipeline(memory=None,\\n                                                 steps=[('maxabsscaler',\\n                                                         MaxAbsScaler(copy=True\", \"primary_metric\": 0.988, \"best_metric\": 0.9896}], \"children_metrics\": {\"categories\": [0], \"series\": {\"recall_score_micro\": [{\"categories\": [\"0\", \"1\", \"2\", \"3\", \"4\", \"5\", \"6\", \"7\", \"8\", \"9\", \"10\", \"11\", \"12\", \"13\", \"14\", \"15\", \"16\", \"17\", \"18\", \"19\", \"20\", \"21\", \"22\", \"23\", \"24\", \"25\", \"26\", \"27\", \"28\", \"29\", \"30\", \"31\"], \"mode\": \"markers\", \"name\": \"recall_score_micro\", \"stepped\": false, \"type\": \"scatter\", \"data\": [0.9882666666666667, 0.9888, 0.9565333333333333, 0.9218666666666667, 0.9522666666666668, 0.8597333333333333, 0.9576, 0.9669333333333334, 0.9042666666666668, 0.9690666666666667, 0.9466666666666667, 0.9712, 0.9042666666666668, 0.9544, 0.9186666666666667, 0.9042666666666668, 0.96, 0.9397333333333334, 0.9653333333333333, 0.9469333333333333, 0.9677333333333333, 0.9360000000000002, 0.9352, 0.9682666666666666, 0.9765333333333335, 0.968, 0.9685333333333332, 0.9648, 0.9373333333333335, 0.9042666666666668, 0.9895999999999999, 0.9880000000000001]}, {\"categories\": [\"0\", \"1\", \"2\", \"3\", \"4\", \"5\", \"6\", \"7\", \"8\", \"9\", \"10\", \"11\", \"12\", \"13\", \"14\", \"15\", \"16\", \"17\", \"18\", \"19\", \"20\", \"21\", \"22\", \"23\", \"24\", \"25\", \"26\", \"27\", \"28\", \"29\", \"30\", \"31\"], \"mode\": \"lines\", \"name\": \"recall_score_micro_max\", \"stepped\": true, \"type\": \"scatter\", \"data\": [0.9882666666666667, 0.9888, 0.9888, 0.9888, 0.9888, 0.9888, 0.9888, 0.9888, 0.9888, 0.9888, 0.9888, 0.9888, 0.9888, 0.9888, 0.9888, 0.9888, 0.9888, 0.9888, 0.9888, 0.9888, 0.9888, 0.9888, 0.9888, 0.9888, 0.9888, 0.9888, 0.9888, 0.9888, 0.9888, 0.9888, 0.9895999999999999, 0.9895999999999999]}], \"matthews_correlation\": [{\"categories\": [\"0\", \"1\", \"2\", \"3\", \"4\", \"5\", \"6\", \"7\", \"8\", \"9\", \"10\", \"11\", \"12\", \"13\", \"14\", \"15\", \"16\", \"17\", \"18\", \"19\", \"20\", \"21\", \"22\", \"23\", \"24\", \"25\", \"26\", \"27\", \"28\", \"29\", \"30\", \"31\"], \"mode\": \"markers\", \"name\": \"matthews_correlation\", \"stepped\": false, \"type\": \"scatter\", \"data\": [0.9306020060187308, 0.9338921897637888, 0.716044505562199, 0.3553605147618639, 0.7822034014763112, 0.5573559940260979, 0.7318275962624468, 0.7891443334460403, 0.0, 0.8069801991982672, 0.6440121869938151, 0.8255572121071705, 0.0, 0.7012900634365635, 0.359836458345735, 0.0, 0.746629789091864, 0.5870050395887623, 0.7818745575997752, 0.6439384735175087, 0.799398088032074, 0.7218767185462582, 0.5472412585133246, 0.8037649093803856, 0.861496463053119, 0.7993665941690069, 0.803217404642214, 0.7799304731824256, 0.7258387074046124, 0.0, 0.938123702601863, 0.9288272341513908]}, {\"categories\": [\"0\", \"1\", \"2\", \"3\", \"4\", \"5\", \"6\", \"7\", \"8\", \"9\", \"10\", \"11\", \"12\", \"13\", \"14\", \"15\", \"16\", \"17\", \"18\", \"19\", \"20\", \"21\", \"22\", \"23\", \"24\", \"25\", \"26\", \"27\", \"28\", \"29\", \"30\", \"31\"], \"mode\": \"lines\", \"name\": \"matthews_correlation_max\", \"stepped\": true, \"type\": \"scatter\", \"data\": [0.9306020060187308, 0.9338921897637888, 0.9338921897637888, 0.9338921897637888, 0.9338921897637888, 0.9338921897637888, 0.9338921897637888, 0.9338921897637888, 0.9338921897637888, 0.9338921897637888, 0.9338921897637888, 0.9338921897637888, 0.9338921897637888, 0.9338921897637888, 0.9338921897637888, 0.9338921897637888, 0.9338921897637888, 0.9338921897637888, 0.9338921897637888, 0.9338921897637888, 0.9338921897637888, 0.9338921897637888, 0.9338921897637888, 0.9338921897637888, 0.9338921897637888, 0.9338921897637888, 0.9338921897637888, 0.9338921897637888, 0.9338921897637888, 0.9338921897637888, 0.938123702601863, 0.938123702601863]}], \"f1_score_macro\": [{\"categories\": [\"0\", \"1\", \"2\", \"3\", \"4\", \"5\", \"6\", \"7\", \"8\", \"9\", \"10\", \"11\", \"12\", \"13\", \"14\", \"15\", \"16\", \"17\", \"18\", \"19\", \"20\", \"21\", \"22\", \"23\", \"24\", \"25\", \"26\", \"27\", \"28\", \"29\", \"30\", \"31\"], \"mode\": \"markers\", \"name\": \"f1_score_macro\", \"stepped\": false, \"type\": \"scatter\", \"data\": [0.9646470068016978, 0.9663638838965749, 0.8379584394079066, 0.624233145002972, 0.8829882200171317, 0.7387531285156126, 0.8599187015699407, 0.8838067357010699, 0.47485264003701044, 0.8985158131218279, 0.7920635312527222, 0.9121428712210712, 0.47485264003701044, 0.837550383180082, 0.6041562697139027, 0.47485264003701044, 0.8659968827966384, 0.7704791178069414, 0.8796441777626034, 0.8010461862478842, 0.8942021906455746, 0.8492762227032374, 0.7385412085888842, 0.8993629054242561, 0.9303314298783747, 0.8945713034968531, 0.8975111845387211, 0.8870723372299819, 0.8516548076514721, 0.47485264003701044, 0.9685640921918178, 0.9639978088406688]}, {\"categories\": [\"0\", \"1\", \"2\", \"3\", \"4\", \"5\", \"6\", \"7\", \"8\", \"9\", \"10\", \"11\", \"12\", \"13\", \"14\", \"15\", \"16\", \"17\", \"18\", \"19\", \"20\", \"21\", \"22\", \"23\", \"24\", \"25\", \"26\", \"27\", \"28\", \"29\", \"30\", \"31\"], \"mode\": \"lines\", \"name\": \"f1_score_macro_max\", \"stepped\": true, \"type\": \"scatter\", \"data\": [0.9646470068016978, 0.9663638838965749, 0.9663638838965749, 0.9663638838965749, 0.9663638838965749, 0.9663638838965749, 0.9663638838965749, 0.9663638838965749, 0.9663638838965749, 0.9663638838965749, 0.9663638838965749, 0.9663638838965749, 0.9663638838965749, 0.9663638838965749, 0.9663638838965749, 0.9663638838965749, 0.9663638838965749, 0.9663638838965749, 0.9663638838965749, 0.9663638838965749, 0.9663638838965749, 0.9663638838965749, 0.9663638838965749, 0.9663638838965749, 0.9663638838965749, 0.9663638838965749, 0.9663638838965749, 0.9663638838965749, 0.9663638838965749, 0.9663638838965749, 0.9685640921918178, 0.9685640921918178]}], \"AUC_weighted\": [{\"categories\": [\"0\", \"1\", \"2\", \"3\", \"4\", \"5\", \"6\", \"7\", \"8\", \"9\", \"10\", \"11\", \"12\", \"13\", \"14\", \"15\", \"16\", \"17\", \"18\", \"19\", \"20\", \"21\", \"22\", \"23\", \"24\", \"25\", \"26\", \"27\", \"28\", \"29\", \"30\", \"31\"], \"mode\": \"markers\", \"name\": \"AUC_weighted\", \"stepped\": false, \"type\": \"scatter\", \"data\": [0.9975619041662505, 0.9963192377654441, 0.9855000340450152, 0.9682125795052071, 0.9907815395203159, 0.9660433273647303, 0.9752331127565099, 0.9855097617677437, 0.9753361193728803, 0.9847643521158096, 0.9784831355478509, 0.9777611621979629, 0.9909126157351894, 0.9717109745805491, 0.9768576017722566, 0.9469569090827763, 0.9757708735685566, 0.9525016132751972, 0.9932236368589539, 0.9617925020657513, 0.982428132549259, 0.9774527287197126, 0.9489275928450873, 0.9836107376733612, 0.991444608656475, 0.9823117720875034, 0.9838099806519885, 0.9775068316606289, 0.977401513091986, 0.967004909025389, 0.9954960238676757, 0.9954099627686904]}, {\"categories\": [\"0\", \"1\", \"2\", \"3\", \"4\", \"5\", \"6\", \"7\", \"8\", \"9\", \"10\", \"11\", \"12\", \"13\", \"14\", \"15\", \"16\", \"17\", \"18\", \"19\", \"20\", \"21\", \"22\", \"23\", \"24\", \"25\", \"26\", \"27\", \"28\", \"29\", \"30\", \"31\"], \"mode\": \"lines\", \"name\": \"AUC_weighted_max\", \"stepped\": true, \"type\": \"scatter\", \"data\": [0.9975619041662505, 0.9975619041662505, 0.9975619041662505, 0.9975619041662505, 0.9975619041662505, 0.9975619041662505, 0.9975619041662505, 0.9975619041662505, 0.9975619041662505, 0.9975619041662505, 0.9975619041662505, 0.9975619041662505, 0.9975619041662505, 0.9975619041662505, 0.9975619041662505, 0.9975619041662505, 0.9975619041662505, 0.9975619041662505, 0.9975619041662505, 0.9975619041662505, 0.9975619041662505, 0.9975619041662505, 0.9975619041662505, 0.9975619041662505, 0.9975619041662505, 0.9975619041662505, 0.9975619041662505, 0.9975619041662505, 0.9975619041662505, 0.9975619041662505, 0.9975619041662505, 0.9975619041662505]}], \"recall_score_macro\": [{\"categories\": [\"0\", \"1\", \"2\", \"3\", \"4\", \"5\", \"6\", \"7\", \"8\", \"9\", \"10\", \"11\", \"12\", \"13\", \"14\", \"15\", \"16\", \"17\", \"18\", \"19\", \"20\", \"21\", \"22\", \"23\", \"24\", \"25\", \"26\", \"27\", \"28\", \"29\", \"30\", \"31\"], \"mode\": \"markers\", \"name\": \"recall_score_macro\", \"stepped\": false, \"type\": \"scatter\", \"data\": [0.9506834250573698, 0.9523829918209847, 0.7753476555085264, 0.5940453069859567, 0.9557305259247958, 0.894958804778922, 0.8160828669381572, 0.8330311395018904, 0.5, 0.854858809524119, 0.7232665299432078, 0.8984969686037154, 0.5, 0.7796185248261605, 0.5731997127812145, 0.5, 0.8197678595722883, 0.7105767250671493, 0.8207546253705675, 0.7378403742117613, 0.8492865442917974, 0.9350013574772227, 0.6761846962177429, 0.8679327122472034, 0.9244833624237213, 0.8512326742856914, 0.8585242898328369, 0.8553049444722356, 0.9357438645148116, 0.5, 0.9539452998092951, 0.9550585128031568]}, {\"categories\": [\"0\", \"1\", \"2\", \"3\", \"4\", \"5\", \"6\", \"7\", \"8\", \"9\", \"10\", \"11\", \"12\", \"13\", \"14\", \"15\", \"16\", \"17\", \"18\", \"19\", \"20\", \"21\", \"22\", \"23\", \"24\", \"25\", \"26\", \"27\", \"28\", \"29\", \"30\", \"31\"], \"mode\": \"lines\", \"name\": \"recall_score_macro_max\", \"stepped\": true, \"type\": \"scatter\", \"data\": [0.9506834250573698, 0.9523829918209847, 0.9523829918209847, 0.9523829918209847, 0.9557305259247958, 0.9557305259247958, 0.9557305259247958, 0.9557305259247958, 0.9557305259247958, 0.9557305259247958, 0.9557305259247958, 0.9557305259247958, 0.9557305259247958, 0.9557305259247958, 0.9557305259247958, 0.9557305259247958, 0.9557305259247958, 0.9557305259247958, 0.9557305259247958, 0.9557305259247958, 0.9557305259247958, 0.9557305259247958, 0.9557305259247958, 0.9557305259247958, 0.9557305259247958, 0.9557305259247958, 0.9557305259247958, 0.9557305259247958, 0.9557305259247958, 0.9557305259247958, 0.9557305259247958, 0.9557305259247958]}], \"average_precision_score_weighted\": [{\"categories\": [\"0\", \"1\", \"2\", \"3\", \"4\", \"5\", \"6\", \"7\", \"8\", \"9\", \"10\", \"11\", \"12\", \"13\", \"14\", \"15\", \"16\", \"17\", \"18\", \"19\", \"20\", \"21\", \"22\", \"23\", \"24\", \"25\", \"26\", \"27\", \"28\", \"29\", \"30\", \"31\"], \"mode\": \"markers\", \"name\": \"average_precision_score_weighted\", \"stepped\": false, \"type\": \"scatter\", \"data\": [0.9982260733074844, 0.9978056405817712, 0.9913971340450672, 0.9804471981716765, 0.9928670541517477, 0.9773448238722418, 0.9838571298094637, 0.9919536178560524, 0.9873864898840582, 0.9907701199689747, 0.9871397780686042, 0.9888478824725795, 0.9925879659355358, 0.9833511726435606, 0.9850487572684357, 0.9699820774232014, 0.9865311020775209, 0.9729100788561983, 0.9955244751826224, 0.9779013595177496, 0.9900343775485286, 0.9874172498093454, 0.9720017769258915, 0.9892638296294217, 0.9933380993200405, 0.9893701818707873, 0.990466368609167, 0.9879572256884064, 0.9873884085653428, 0.984713121120846, 0.9974436712895167, 0.9974758140799542]}, {\"categories\": [\"0\", \"1\", \"2\", \"3\", \"4\", \"5\", \"6\", \"7\", \"8\", \"9\", \"10\", \"11\", \"12\", \"13\", \"14\", \"15\", \"16\", \"17\", \"18\", \"19\", \"20\", \"21\", \"22\", \"23\", \"24\", \"25\", \"26\", \"27\", \"28\", \"29\", \"30\", \"31\"], \"mode\": \"lines\", \"name\": \"average_precision_score_weighted_max\", \"stepped\": true, \"type\": \"scatter\", \"data\": [0.9982260733074844, 0.9982260733074844, 0.9982260733074844, 0.9982260733074844, 0.9982260733074844, 0.9982260733074844, 0.9982260733074844, 0.9982260733074844, 0.9982260733074844, 0.9982260733074844, 0.9982260733074844, 0.9982260733074844, 0.9982260733074844, 0.9982260733074844, 0.9982260733074844, 0.9982260733074844, 0.9982260733074844, 0.9982260733074844, 0.9982260733074844, 0.9982260733074844, 0.9982260733074844, 0.9982260733074844, 0.9982260733074844, 0.9982260733074844, 0.9982260733074844, 0.9982260733074844, 0.9982260733074844, 0.9982260733074844, 0.9982260733074844, 0.9982260733074844, 0.9982260733074844, 0.9982260733074844]}], \"weighted_accuracy\": [{\"categories\": [\"0\", \"1\", \"2\", \"3\", \"4\", \"5\", \"6\", \"7\", \"8\", \"9\", \"10\", \"11\", \"12\", \"13\", \"14\", \"15\", \"16\", \"17\", \"18\", \"19\", \"20\", \"21\", \"22\", \"23\", \"24\", \"25\", \"26\", \"27\", \"28\", \"29\", \"30\", \"31\"], \"mode\": \"markers\", \"name\": \"weighted_accuracy\", \"stepped\": false, \"type\": \"scatter\", \"data\": [0.9960269793380851, 0.9963461476319198, 0.9941601101134763, 0.9908102150873015, 0.9514374717279622, 0.8521193720033701, 0.9872214497571875, 0.9945974242428332, 0.9887913841241425, 0.9927585243429974, 0.9932436486985301, 0.9862680673711315, 0.9887913841241425, 0.9905515206590338, 0.9905277064577028, 0.9887913841241425, 0.9893662140022663, 0.9875083336998717, 0.9954367224325436, 0.9904286609496195, 0.9923217073467929, 0.9359997047658176, 0.9892878600767865, 0.9890106289023872, 0.9873782083736561, 0.9921248120279083, 0.9911566548073012, 0.9875885911174876, 0.9374657285376523, 0.9887913841241425, 0.996966489237382, 0.99470445193492]}, {\"categories\": [\"0\", \"1\", \"2\", \"3\", \"4\", \"5\", \"6\", \"7\", \"8\", \"9\", \"10\", \"11\", \"12\", \"13\", \"14\", \"15\", \"16\", \"17\", \"18\", \"19\", \"20\", \"21\", \"22\", \"23\", \"24\", \"25\", \"26\", \"27\", \"28\", \"29\", \"30\", \"31\"], \"mode\": \"lines\", \"name\": \"weighted_accuracy_max\", \"stepped\": true, \"type\": \"scatter\", \"data\": [0.9960269793380851, 0.9963461476319198, 0.9963461476319198, 0.9963461476319198, 0.9963461476319198, 0.9963461476319198, 0.9963461476319198, 0.9963461476319198, 0.9963461476319198, 0.9963461476319198, 0.9963461476319198, 0.9963461476319198, 0.9963461476319198, 0.9963461476319198, 0.9963461476319198, 0.9963461476319198, 0.9963461476319198, 0.9963461476319198, 0.9963461476319198, 0.9963461476319198, 0.9963461476319198, 0.9963461476319198, 0.9963461476319198, 0.9963461476319198, 0.9963461476319198, 0.9963461476319198, 0.9963461476319198, 0.9963461476319198, 0.9963461476319198, 0.9963461476319198, 0.996966489237382, 0.996966489237382]}], \"precision_score_micro\": [{\"categories\": [\"0\", \"1\", \"2\", \"3\", \"4\", \"5\", \"6\", \"7\", \"8\", \"9\", \"10\", \"11\", \"12\", \"13\", \"14\", \"15\", \"16\", \"17\", \"18\", \"19\", \"20\", \"21\", \"22\", \"23\", \"24\", \"25\", \"26\", \"27\", \"28\", \"29\", \"30\", \"31\"], \"mode\": \"markers\", \"name\": \"precision_score_micro\", \"stepped\": false, \"type\": \"scatter\", \"data\": [0.9882666666666667, 0.9888, 0.9565333333333333, 0.9218666666666667, 0.9522666666666668, 0.8597333333333333, 0.9576, 0.9669333333333334, 0.9042666666666668, 0.9690666666666667, 0.9466666666666667, 0.9712, 0.9042666666666668, 0.9544, 0.9186666666666667, 0.9042666666666668, 0.96, 0.9397333333333334, 0.9653333333333333, 0.9469333333333333, 0.9677333333333333, 0.9360000000000002, 0.9352, 0.9682666666666666, 0.9765333333333335, 0.968, 0.9685333333333332, 0.9648, 0.9373333333333335, 0.9042666666666668, 0.9895999999999999, 0.9880000000000001]}, {\"categories\": [\"0\", \"1\", \"2\", \"3\", \"4\", \"5\", \"6\", \"7\", \"8\", \"9\", \"10\", \"11\", \"12\", \"13\", \"14\", \"15\", \"16\", \"17\", \"18\", \"19\", \"20\", \"21\", \"22\", \"23\", \"24\", \"25\", \"26\", \"27\", \"28\", \"29\", \"30\", \"31\"], \"mode\": \"lines\", \"name\": \"precision_score_micro_max\", \"stepped\": true, \"type\": \"scatter\", \"data\": [0.9882666666666667, 0.9888, 0.9888, 0.9888, 0.9888, 0.9888, 0.9888, 0.9888, 0.9888, 0.9888, 0.9888, 0.9888, 0.9888, 0.9888, 0.9888, 0.9888, 0.9888, 0.9888, 0.9888, 0.9888, 0.9888, 0.9888, 0.9888, 0.9888, 0.9888, 0.9888, 0.9888, 0.9888, 0.9888, 0.9888, 0.9895999999999999, 0.9895999999999999]}], \"f1_score_weighted\": [{\"categories\": [\"0\", \"1\", \"2\", \"3\", \"4\", \"5\", \"6\", \"7\", \"8\", \"9\", \"10\", \"11\", \"12\", \"13\", \"14\", \"15\", \"16\", \"17\", \"18\", \"19\", \"20\", \"21\", \"22\", \"23\", \"24\", \"25\", \"26\", \"27\", \"28\", \"29\", \"30\", \"31\"], \"mode\": \"markers\", \"name\": \"f1_score_weighted\", \"stepped\": false, \"type\": \"scatter\", \"data\": [0.9880399892920563, 0.9885866661010889, 0.950271446004335, 0.8940094009173947, 0.955860755249842, 0.8827096433247436, 0.9545221501136562, 0.9634887859122457, 0.8588280532593127, 0.9670823046934061, 0.9371514694191567, 0.9706850769932893, 0.8588280532593127, 0.9492984380627825, 0.8900050184985961, 0.8588280532593127, 0.9569701773325268, 0.9300593223930171, 0.9618659150840599, 0.9390307336800593, 0.9655726732460431, 0.9418455992389104, 0.9219427293996848, 0.966821499641067, 0.9763379348380872, 0.9659304788154313, 0.9667510851781609, 0.9630885235122696, 0.9429597625771116, 0.8588280532593127, 0.9893942975796175, 0.9878354036150295]}, {\"categories\": [\"0\", \"1\", \"2\", \"3\", \"4\", \"5\", \"6\", \"7\", \"8\", \"9\", \"10\", \"11\", \"12\", \"13\", \"14\", \"15\", \"16\", \"17\", \"18\", \"19\", \"20\", \"21\", \"22\", \"23\", \"24\", \"25\", \"26\", \"27\", \"28\", \"29\", \"30\", \"31\"], \"mode\": \"lines\", \"name\": \"f1_score_weighted_max\", \"stepped\": true, \"type\": \"scatter\", \"data\": [0.9880399892920563, 0.9885866661010889, 0.9885866661010889, 0.9885866661010889, 0.9885866661010889, 0.9885866661010889, 0.9885866661010889, 0.9885866661010889, 0.9885866661010889, 0.9885866661010889, 0.9885866661010889, 0.9885866661010889, 0.9885866661010889, 0.9885866661010889, 0.9885866661010889, 0.9885866661010889, 0.9885866661010889, 0.9885866661010889, 0.9885866661010889, 0.9885866661010889, 0.9885866661010889, 0.9885866661010889, 0.9885866661010889, 0.9885866661010889, 0.9885866661010889, 0.9885866661010889, 0.9885866661010889, 0.9885866661010889, 0.9885866661010889, 0.9885866661010889, 0.9893942975796175, 0.9893942975796175]}], \"recall_score_weighted\": [{\"categories\": [\"0\", \"1\", \"2\", \"3\", \"4\", \"5\", \"6\", \"7\", \"8\", \"9\", \"10\", \"11\", \"12\", \"13\", \"14\", \"15\", \"16\", \"17\", \"18\", \"19\", \"20\", \"21\", \"22\", \"23\", \"24\", \"25\", \"26\", \"27\", \"28\", \"29\", \"30\", \"31\"], \"mode\": \"markers\", \"name\": \"recall_score_weighted\", \"stepped\": false, \"type\": \"scatter\", \"data\": [0.9882666666666667, 0.9888, 0.9565333333333333, 0.9218666666666667, 0.9522666666666668, 0.8597333333333333, 0.9576, 0.9669333333333334, 0.9042666666666668, 0.9690666666666667, 0.9466666666666667, 0.9712, 0.9042666666666668, 0.9544, 0.9186666666666667, 0.9042666666666668, 0.96, 0.9397333333333334, 0.9653333333333333, 0.9469333333333333, 0.9677333333333333, 0.9360000000000002, 0.9352, 0.9682666666666666, 0.9765333333333335, 0.968, 0.9685333333333332, 0.9648, 0.9373333333333335, 0.9042666666666668, 0.9895999999999999, 0.9880000000000001]}, {\"categories\": [\"0\", \"1\", \"2\", \"3\", \"4\", \"5\", \"6\", \"7\", \"8\", \"9\", \"10\", \"11\", \"12\", \"13\", \"14\", \"15\", \"16\", \"17\", \"18\", \"19\", \"20\", \"21\", \"22\", \"23\", \"24\", \"25\", \"26\", \"27\", \"28\", \"29\", \"30\", \"31\"], \"mode\": \"lines\", \"name\": \"recall_score_weighted_max\", \"stepped\": true, \"type\": \"scatter\", \"data\": [0.9882666666666667, 0.9888, 0.9888, 0.9888, 0.9888, 0.9888, 0.9888, 0.9888, 0.9888, 0.9888, 0.9888, 0.9888, 0.9888, 0.9888, 0.9888, 0.9888, 0.9888, 0.9888, 0.9888, 0.9888, 0.9888, 0.9888, 0.9888, 0.9888, 0.9888, 0.9888, 0.9888, 0.9888, 0.9888, 0.9888, 0.9895999999999999, 0.9895999999999999]}], \"precision_score_macro\": [{\"categories\": [\"0\", \"1\", \"2\", \"3\", \"4\", \"5\", \"6\", \"7\", \"8\", \"9\", \"10\", \"11\", \"12\", \"13\", \"14\", \"15\", \"16\", \"17\", \"18\", \"19\", \"20\", \"21\", \"22\", \"23\", \"24\", \"25\", \"26\", \"27\", \"28\", \"29\", \"30\", \"31\"], \"mode\": \"markers\", \"name\": \"precision_score_macro\", \"stepped\": false, \"type\": \"scatter\", \"data\": [0.9808074456481497, 0.9822920738324032, 0.9708871059801757, 0.8603386683784233, 0.8357125987323389, 0.6968716872701747, 0.9237801439871456, 0.9717225068905971, 0.4521333333333334, 0.958879302712436, 0.9669667597579444, 0.9278688563967311, 0.4521333333333334, 0.9401590514765985, 0.9587345414132162, 0.4521333333333334, 0.9367918825557385, 0.9100509587601179, 0.9770664542120449, 0.936580777210291, 0.9576701659979117, 0.7995785627737007, 0.925682297182649, 0.9392121744708877, 0.9375450488017032, 0.9551167527971097, 0.9502890591931618, 0.9284066051275326, 0.8024166632440416, 0.4521333333333334, 0.9848433487475294, 0.9743374192950742]}, {\"categories\": [\"0\", \"1\", \"2\", \"3\", \"4\", \"5\", \"6\", \"7\", \"8\", \"9\", \"10\", \"11\", \"12\", \"13\", \"14\", \"15\", \"16\", \"17\", \"18\", \"19\", \"20\", \"21\", \"22\", \"23\", \"24\", \"25\", \"26\", \"27\", \"28\", \"29\", \"30\", \"31\"], \"mode\": \"lines\", \"name\": \"precision_score_macro_max\", \"stepped\": true, \"type\": \"scatter\", \"data\": [0.9808074456481497, 0.9822920738324032, 0.9822920738324032, 0.9822920738324032, 0.9822920738324032, 0.9822920738324032, 0.9822920738324032, 0.9822920738324032, 0.9822920738324032, 0.9822920738324032, 0.9822920738324032, 0.9822920738324032, 0.9822920738324032, 0.9822920738324032, 0.9822920738324032, 0.9822920738324032, 0.9822920738324032, 0.9822920738324032, 0.9822920738324032, 0.9822920738324032, 0.9822920738324032, 0.9822920738324032, 0.9822920738324032, 0.9822920738324032, 0.9822920738324032, 0.9822920738324032, 0.9822920738324032, 0.9822920738324032, 0.9822920738324032, 0.9822920738324032, 0.9848433487475294, 0.9848433487475294]}], \"precision_score_weighted\": [{\"categories\": [\"0\", \"1\", \"2\", \"3\", \"4\", \"5\", \"6\", \"7\", \"8\", \"9\", \"10\", \"11\", \"12\", \"13\", \"14\", \"15\", \"16\", \"17\", \"18\", \"19\", \"20\", \"21\", \"22\", \"23\", \"24\", \"25\", \"26\", \"27\", \"28\", \"29\", \"30\", \"31\"], \"mode\": \"markers\", \"name\": \"precision_score_weighted\", \"stepped\": false, \"type\": \"scatter\", \"data\": [0.9882464505594812, 0.9887666958912626, 0.9580839924788634, 0.9083628207774463, 0.9651570549010937, 0.9364171086542216, 0.9556605407144886, 0.9674287831301245, 0.8177731555555555, 0.9685259436507602, 0.9490408298473788, 0.9706335397267847, 0.8177731555555555, 0.9532511343280202, 0.9254026259430337, 0.8177731555555555, 0.9592429197960083, 0.9368876067543962, 0.9662644294490264, 0.9458679587952068, 0.9671433793871838, 0.9559799222123807, 0.934011441740078, 0.9670760216387395, 0.9764370561352349, 0.9673600842830028, 0.9677424278177517, 0.9634493442393985, 0.9565714446354441, 0.8177731555555555, 0.9895262965323658, 0.9879391206503645]}, {\"categories\": [\"0\", \"1\", \"2\", \"3\", \"4\", \"5\", \"6\", \"7\", \"8\", \"9\", \"10\", \"11\", \"12\", \"13\", \"14\", \"15\", \"16\", \"17\", \"18\", \"19\", \"20\", \"21\", \"22\", \"23\", \"24\", \"25\", \"26\", \"27\", \"28\", \"29\", \"30\", \"31\"], \"mode\": \"lines\", \"name\": \"precision_score_weighted_max\", \"stepped\": true, \"type\": \"scatter\", \"data\": [0.9882464505594812, 0.9887666958912626, 0.9887666958912626, 0.9887666958912626, 0.9887666958912626, 0.9887666958912626, 0.9887666958912626, 0.9887666958912626, 0.9887666958912626, 0.9887666958912626, 0.9887666958912626, 0.9887666958912626, 0.9887666958912626, 0.9887666958912626, 0.9887666958912626, 0.9887666958912626, 0.9887666958912626, 0.9887666958912626, 0.9887666958912626, 0.9887666958912626, 0.9887666958912626, 0.9887666958912626, 0.9887666958912626, 0.9887666958912626, 0.9887666958912626, 0.9887666958912626, 0.9887666958912626, 0.9887666958912626, 0.9887666958912626, 0.9887666958912626, 0.9895262965323658, 0.9895262965323658]}], \"norm_macro_recall\": [{\"categories\": [\"0\", \"1\", \"2\", \"3\", \"4\", \"5\", \"6\", \"7\", \"8\", \"9\", \"10\", \"11\", \"12\", \"13\", \"14\", \"15\", \"16\", \"17\", \"18\", \"19\", \"20\", \"21\", \"22\", \"23\", \"24\", \"25\", \"26\", \"27\", \"28\", \"29\", \"30\", \"31\"], \"mode\": \"markers\", \"name\": \"norm_macro_recall\", \"stepped\": false, \"type\": \"scatter\", \"data\": [0.9013668501147396, 0.9047659836419694, 0.5506953110170528, 0.18809061397191326, 0.9114610518495919, 0.789917609557844, 0.6321657338763147, 0.6660622790037811, 0.0, 0.7097176190482379, 0.44653305988641545, 0.7969939372074308, 0.0, 0.5592370496523209, 0.1463994255624291, 0.0, 0.6395357191445765, 0.4211534501342985, 0.6415092507411352, 0.47568074842352265, 0.698573088583595, 0.8700027149544454, 0.3523693924354859, 0.7358654244944067, 0.8489667248474426, 0.7024653485713827, 0.7170485796656737, 0.7106098889444713, 0.8714877290296232, 0.0, 0.9078905996185901, 0.9101170256063135]}, {\"categories\": [\"0\", \"1\", \"2\", \"3\", \"4\", \"5\", \"6\", \"7\", \"8\", \"9\", \"10\", \"11\", \"12\", \"13\", \"14\", \"15\", \"16\", \"17\", \"18\", \"19\", \"20\", \"21\", \"22\", \"23\", \"24\", \"25\", \"26\", \"27\", \"28\", \"29\", \"30\", \"31\"], \"mode\": \"lines\", \"name\": \"norm_macro_recall_max\", \"stepped\": true, \"type\": \"scatter\", \"data\": [0.9013668501147396, 0.9047659836419694, 0.9047659836419694, 0.9047659836419694, 0.9114610518495919, 0.9114610518495919, 0.9114610518495919, 0.9114610518495919, 0.9114610518495919, 0.9114610518495919, 0.9114610518495919, 0.9114610518495919, 0.9114610518495919, 0.9114610518495919, 0.9114610518495919, 0.9114610518495919, 0.9114610518495919, 0.9114610518495919, 0.9114610518495919, 0.9114610518495919, 0.9114610518495919, 0.9114610518495919, 0.9114610518495919, 0.9114610518495919, 0.9114610518495919, 0.9114610518495919, 0.9114610518495919, 0.9114610518495919, 0.9114610518495919, 0.9114610518495919, 0.9114610518495919, 0.9114610518495919]}], \"average_precision_score_macro\": [{\"categories\": [\"0\", \"1\", \"2\", \"3\", \"4\", \"5\", \"6\", \"7\", \"8\", \"9\", \"10\", \"11\", \"12\", \"13\", \"14\", \"15\", \"16\", \"17\", \"18\", \"19\", \"20\", \"21\", \"22\", \"23\", \"24\", \"25\", \"26\", \"27\", \"28\", \"29\", \"30\", \"31\"], \"mode\": \"markers\", \"name\": \"average_precision_score_macro\", \"stepped\": false, \"type\": \"scatter\", \"data\": [0.991694373679606, 0.9898543517366747, 0.960290790247708, 0.9116974008071208, 0.966244464261368, 0.8950577150528716, 0.926087211588688, 0.9636713357444273, 0.9446472726382378, 0.9579384624368771, 0.9417008352116575, 0.9508715081590744, 0.9643456048760521, 0.9253332446230831, 0.9314848293356549, 0.8696861241986789, 0.9395046775284396, 0.8826053876705569, 0.9789417634017645, 0.9012681352579293, 0.9554599142388339, 0.9434462452155625, 0.8773192199374213, 0.95079548436586, 0.9681686433937827, 0.9516926844339473, 0.9569952224435949, 0.9463983614147324, 0.9433206754254331, 0.9348977223452127, 0.9882266606184498, 0.9883427299114824]}, {\"categories\": [\"0\", \"1\", \"2\", \"3\", \"4\", \"5\", \"6\", \"7\", \"8\", \"9\", \"10\", \"11\", \"12\", \"13\", \"14\", \"15\", \"16\", \"17\", \"18\", \"19\", \"20\", \"21\", \"22\", \"23\", \"24\", \"25\", \"26\", \"27\", \"28\", \"29\", \"30\", \"31\"], \"mode\": \"lines\", \"name\": \"average_precision_score_macro_max\", \"stepped\": true, \"type\": \"scatter\", \"data\": [0.991694373679606, 0.991694373679606, 0.991694373679606, 0.991694373679606, 0.991694373679606, 0.991694373679606, 0.991694373679606, 0.991694373679606, 0.991694373679606, 0.991694373679606, 0.991694373679606, 0.991694373679606, 0.991694373679606, 0.991694373679606, 0.991694373679606, 0.991694373679606, 0.991694373679606, 0.991694373679606, 0.991694373679606, 0.991694373679606, 0.991694373679606, 0.991694373679606, 0.991694373679606, 0.991694373679606, 0.991694373679606, 0.991694373679606, 0.991694373679606, 0.991694373679606, 0.991694373679606, 0.991694373679606, 0.991694373679606, 0.991694373679606]}], \"average_precision_score_micro\": [{\"categories\": [\"0\", \"1\", \"2\", \"3\", \"4\", \"5\", \"6\", \"7\", \"8\", \"9\", \"10\", \"11\", \"12\", \"13\", \"14\", \"15\", \"16\", \"17\", \"18\", \"19\", \"20\", \"21\", \"22\", \"23\", \"24\", \"25\", \"26\", \"27\", \"28\", \"29\", \"30\", \"31\"], \"mode\": \"markers\", \"name\": \"average_precision_score_micro\", \"stepped\": false, \"type\": \"scatter\", \"data\": [0.9992680789446557, 0.9989931967467728, 0.9935427554756833, 0.98671373277486, 0.9911092913900301, 0.9568881300961101, 0.9925627957242924, 0.9950753067650314, 0.9871122749222649, 0.9954952109083239, 0.9900553247395389, 0.9945733446125207, 0.9897233505513425, 0.9914065217438359, 0.9880713473784832, 0.9820120483326834, 0.9933952595308906, 0.9860502206949515, 0.9967671495301547, 0.9887195234050615, 0.9949659222224374, 0.9829321524062943, 0.9855842053726427, 0.9953376583486456, 0.9973587837255156, 0.9948514546413305, 0.9955927504270526, 0.9941022025898579, 0.9830470728015136, 0.9856953337659125, 0.998888613424079, 0.9988781186099918]}, {\"categories\": [\"0\", \"1\", \"2\", \"3\", \"4\", \"5\", \"6\", \"7\", \"8\", \"9\", \"10\", \"11\", \"12\", \"13\", \"14\", \"15\", \"16\", \"17\", \"18\", \"19\", \"20\", \"21\", \"22\", \"23\", \"24\", \"25\", \"26\", \"27\", \"28\", \"29\", \"30\", \"31\"], \"mode\": \"lines\", \"name\": \"average_precision_score_micro_max\", \"stepped\": true, \"type\": \"scatter\", \"data\": [0.9992680789446557, 0.9992680789446557, 0.9992680789446557, 0.9992680789446557, 0.9992680789446557, 0.9992680789446557, 0.9992680789446557, 0.9992680789446557, 0.9992680789446557, 0.9992680789446557, 0.9992680789446557, 0.9992680789446557, 0.9992680789446557, 0.9992680789446557, 0.9992680789446557, 0.9992680789446557, 0.9992680789446557, 0.9992680789446557, 0.9992680789446557, 0.9992680789446557, 0.9992680789446557, 0.9992680789446557, 0.9992680789446557, 0.9992680789446557, 0.9992680789446557, 0.9992680789446557, 0.9992680789446557, 0.9992680789446557, 0.9992680789446557, 0.9992680789446557, 0.9992680789446557, 0.9992680789446557]}], \"log_loss\": [{\"categories\": [\"0\", \"1\", \"2\", \"3\", \"4\", \"5\", \"6\", \"7\", \"8\", \"9\", \"10\", \"11\", \"12\", \"13\", \"14\", \"15\", \"16\", \"17\", \"18\", \"19\", \"20\", \"21\", \"22\", \"23\", \"24\", \"25\", \"26\", \"27\", \"28\", \"29\", \"30\", \"31\"], \"mode\": \"markers\", \"name\": \"log_loss\", \"stepped\": false, \"type\": \"scatter\", \"data\": [0.04343067537142846, 0.03795291053041825, 0.12547215334699294, 0.17743482058106302, 0.1937817412428296, 0.3890512361674475, 0.14301667345516758, 0.10670628176368095, 0.18250871134058672, 0.08419845910889781, 0.15307217078653115, 0.09192731482526798, 0.20089448634771462, 0.12675117572418973, 0.18174231271485147, 0.24762196509661677, 0.11088494637559414, 0.18210428941871737, 0.26268628603714, 0.1446159924355964, 0.0881359349439931, 0.17415643363327465, 0.1619573806195473, 0.0934872995143768, 0.06718339177355828, 0.09103544645887554, 0.083650596155558, 0.0988468484022059, 0.17400061565885072, 0.19877359006976975, 0.11055565049540961, 0.039463174112779206]}, {\"categories\": [\"0\", \"1\", \"2\", \"3\", \"4\", \"5\", \"6\", \"7\", \"8\", \"9\", \"10\", \"11\", \"12\", \"13\", \"14\", \"15\", \"16\", \"17\", \"18\", \"19\", \"20\", \"21\", \"22\", \"23\", \"24\", \"25\", \"26\", \"27\", \"28\", \"29\", \"30\", \"31\"], \"mode\": \"lines\", \"name\": \"log_loss_min\", \"stepped\": true, \"type\": \"scatter\", \"data\": [0.04343067537142846, 0.03795291053041825, 0.03795291053041825, 0.03795291053041825, 0.03795291053041825, 0.03795291053041825, 0.03795291053041825, 0.03795291053041825, 0.03795291053041825, 0.03795291053041825, 0.03795291053041825, 0.03795291053041825, 0.03795291053041825, 0.03795291053041825, 0.03795291053041825, 0.03795291053041825, 0.03795291053041825, 0.03795291053041825, 0.03795291053041825, 0.03795291053041825, 0.03795291053041825, 0.03795291053041825, 0.03795291053041825, 0.03795291053041825, 0.03795291053041825, 0.03795291053041825, 0.03795291053041825, 0.03795291053041825, 0.03795291053041825, 0.03795291053041825, 0.03795291053041825, 0.03795291053041825]}], \"accuracy\": [{\"categories\": [\"0\", \"1\", \"2\", \"3\", \"4\", \"5\", \"6\", \"7\", \"8\", \"9\", \"10\", \"11\", \"12\", \"13\", \"14\", \"15\", \"16\", \"17\", \"18\", \"19\", \"20\", \"21\", \"22\", \"23\", \"24\", \"25\", \"26\", \"27\", \"28\", \"29\", \"30\", \"31\"], \"mode\": \"markers\", \"name\": \"accuracy\", \"stepped\": false, \"type\": \"scatter\", \"data\": [0.9882666666666667, 0.9888, 0.9565333333333333, 0.9218666666666667, 0.9522666666666668, 0.8597333333333333, 0.9576, 0.9669333333333334, 0.9042666666666668, 0.9690666666666667, 0.9466666666666667, 0.9712, 0.9042666666666668, 0.9544, 0.9186666666666667, 0.9042666666666668, 0.96, 0.9397333333333334, 0.9653333333333333, 0.9469333333333333, 0.9677333333333333, 0.9360000000000002, 0.9352, 0.9682666666666666, 0.9765333333333335, 0.968, 0.9685333333333332, 0.9648, 0.9373333333333335, 0.9042666666666668, 0.9895999999999999, 0.9880000000000001]}, {\"categories\": [\"0\", \"1\", \"2\", \"3\", \"4\", \"5\", \"6\", \"7\", \"8\", \"9\", \"10\", \"11\", \"12\", \"13\", \"14\", \"15\", \"16\", \"17\", \"18\", \"19\", \"20\", \"21\", \"22\", \"23\", \"24\", \"25\", \"26\", \"27\", \"28\", \"29\", \"30\", \"31\"], \"mode\": \"lines\", \"name\": \"accuracy_max\", \"stepped\": true, \"type\": \"scatter\", \"data\": [0.9882666666666667, 0.9888, 0.9888, 0.9888, 0.9888, 0.9888, 0.9888, 0.9888, 0.9888, 0.9888, 0.9888, 0.9888, 0.9888, 0.9888, 0.9888, 0.9888, 0.9888, 0.9888, 0.9888, 0.9888, 0.9888, 0.9888, 0.9888, 0.9888, 0.9888, 0.9888, 0.9888, 0.9888, 0.9888, 0.9888, 0.9895999999999999, 0.9895999999999999]}], \"f1_score_micro\": [{\"categories\": [\"0\", \"1\", \"2\", \"3\", \"4\", \"5\", \"6\", \"7\", \"8\", \"9\", \"10\", \"11\", \"12\", \"13\", \"14\", \"15\", \"16\", \"17\", \"18\", \"19\", \"20\", \"21\", \"22\", \"23\", \"24\", \"25\", \"26\", \"27\", \"28\", \"29\", \"30\", \"31\"], \"mode\": \"markers\", \"name\": \"f1_score_micro\", \"stepped\": false, \"type\": \"scatter\", \"data\": [0.9882666666666667, 0.9888, 0.9565333333333333, 0.9218666666666667, 0.9522666666666668, 0.8597333333333333, 0.9576, 0.9669333333333334, 0.9042666666666668, 0.9690666666666667, 0.9466666666666667, 0.9712, 0.9042666666666668, 0.9544, 0.9186666666666667, 0.9042666666666668, 0.96, 0.9397333333333334, 0.9653333333333333, 0.9469333333333333, 0.9677333333333333, 0.9360000000000002, 0.9352, 0.9682666666666666, 0.9765333333333335, 0.968, 0.9685333333333332, 0.9648, 0.9373333333333335, 0.9042666666666668, 0.9896, 0.9880000000000001]}, {\"categories\": [\"0\", \"1\", \"2\", \"3\", \"4\", \"5\", \"6\", \"7\", \"8\", \"9\", \"10\", \"11\", \"12\", \"13\", \"14\", \"15\", \"16\", \"17\", \"18\", \"19\", \"20\", \"21\", \"22\", \"23\", \"24\", \"25\", \"26\", \"27\", \"28\", \"29\", \"30\", \"31\"], \"mode\": \"lines\", \"name\": \"f1_score_micro_max\", \"stepped\": true, \"type\": \"scatter\", \"data\": [0.9882666666666667, 0.9888, 0.9888, 0.9888, 0.9888, 0.9888, 0.9888, 0.9888, 0.9888, 0.9888, 0.9888, 0.9888, 0.9888, 0.9888, 0.9888, 0.9888, 0.9888, 0.9888, 0.9888, 0.9888, 0.9888, 0.9888, 0.9888, 0.9888, 0.9888, 0.9888, 0.9888, 0.9888, 0.9888, 0.9888, 0.9896, 0.9896]}], \"AUC_micro\": [{\"categories\": [\"0\", \"1\", \"2\", \"3\", \"4\", \"5\", \"6\", \"7\", \"8\", \"9\", \"10\", \"11\", \"12\", \"13\", \"14\", \"15\", \"16\", \"17\", \"18\", \"19\", \"20\", \"21\", \"22\", \"23\", \"24\", \"25\", \"26\", \"27\", \"28\", \"29\", \"30\", \"31\"], \"mode\": \"markers\", \"name\": \"AUC_micro\", \"stepped\": false, \"type\": \"scatter\", \"data\": [0.9992554666666666, 0.9989724444444444, 0.9933507555555554, 0.9861397333333335, 0.9908305777777778, 0.9543701333333333, 0.9924053333333334, 0.9949265777777777, 0.9865937777777779, 0.9954560000000001, 0.989656888888889, 0.9945322666666667, 0.9892323555555557, 0.9912746666666667, 0.9875416888888889, 0.9814915555555555, 0.9933297777777778, 0.9861952, 0.9966958222222223, 0.9885340444444445, 0.9949230222222223, 0.9824476444444444, 0.9852924444444444, 0.9952181333333332, 0.9972942222222223, 0.9948003555555556, 0.9955150222222222, 0.9940686222222223, 0.9825703111111113, 0.9852255999999999, 0.998864, 0.9988540444444446]}, {\"categories\": [\"0\", \"1\", \"2\", \"3\", \"4\", \"5\", \"6\", \"7\", \"8\", \"9\", \"10\", \"11\", \"12\", \"13\", \"14\", \"15\", \"16\", \"17\", \"18\", \"19\", \"20\", \"21\", \"22\", \"23\", \"24\", \"25\", \"26\", \"27\", \"28\", \"29\", \"30\", \"31\"], \"mode\": \"lines\", \"name\": \"AUC_micro_max\", \"stepped\": true, \"type\": \"scatter\", \"data\": [0.9992554666666666, 0.9992554666666666, 0.9992554666666666, 0.9992554666666666, 0.9992554666666666, 0.9992554666666666, 0.9992554666666666, 0.9992554666666666, 0.9992554666666666, 0.9992554666666666, 0.9992554666666666, 0.9992554666666666, 0.9992554666666666, 0.9992554666666666, 0.9992554666666666, 0.9992554666666666, 0.9992554666666666, 0.9992554666666666, 0.9992554666666666, 0.9992554666666666, 0.9992554666666666, 0.9992554666666666, 0.9992554666666666, 0.9992554666666666, 0.9992554666666666, 0.9992554666666666, 0.9992554666666666, 0.9992554666666666, 0.9992554666666666, 0.9992554666666666, 0.9992554666666666, 0.9992554666666666]}], \"balanced_accuracy\": [{\"categories\": [\"0\", \"1\", \"2\", \"3\", \"4\", \"5\", \"6\", \"7\", \"8\", \"9\", \"10\", \"11\", \"12\", \"13\", \"14\", \"15\", \"16\", \"17\", \"18\", \"19\", \"20\", \"21\", \"22\", \"23\", \"24\", \"25\", \"26\", \"27\", \"28\", \"29\", \"30\", \"31\"], \"mode\": \"markers\", \"name\": \"balanced_accuracy\", \"stepped\": false, \"type\": \"scatter\", \"data\": [0.9506834250573698, 0.9523829918209847, 0.7753476555085264, 0.5940453069859567, 0.9557305259247958, 0.894958804778922, 0.8160828669381572, 0.8330311395018904, 0.5, 0.854858809524119, 0.7232665299432078, 0.8984969686037154, 0.5, 0.7796185248261605, 0.5731997127812145, 0.5, 0.8197678595722883, 0.7105767250671493, 0.8207546253705675, 0.7378403742117613, 0.8492865442917974, 0.9350013574772227, 0.6761846962177429, 0.8679327122472034, 0.9244833624237213, 0.8512326742856914, 0.8585242898328369, 0.8553049444722356, 0.9357438645148116, 0.5, 0.9539452998092951, 0.9550585128031568]}, {\"categories\": [\"0\", \"1\", \"2\", \"3\", \"4\", \"5\", \"6\", \"7\", \"8\", \"9\", \"10\", \"11\", \"12\", \"13\", \"14\", \"15\", \"16\", \"17\", \"18\", \"19\", \"20\", \"21\", \"22\", \"23\", \"24\", \"25\", \"26\", \"27\", \"28\", \"29\", \"30\", \"31\"], \"mode\": \"lines\", \"name\": \"balanced_accuracy_max\", \"stepped\": true, \"type\": \"scatter\", \"data\": [0.9506834250573698, 0.9523829918209847, 0.9523829918209847, 0.9523829918209847, 0.9557305259247958, 0.9557305259247958, 0.9557305259247958, 0.9557305259247958, 0.9557305259247958, 0.9557305259247958, 0.9557305259247958, 0.9557305259247958, 0.9557305259247958, 0.9557305259247958, 0.9557305259247958, 0.9557305259247958, 0.9557305259247958, 0.9557305259247958, 0.9557305259247958, 0.9557305259247958, 0.9557305259247958, 0.9557305259247958, 0.9557305259247958, 0.9557305259247958, 0.9557305259247958, 0.9557305259247958, 0.9557305259247958, 0.9557305259247958, 0.9557305259247958, 0.9557305259247958, 0.9557305259247958, 0.9557305259247958]}], \"AUC_macro\": [{\"categories\": [\"0\", \"1\", \"2\", \"3\", \"4\", \"5\", \"6\", \"7\", \"8\", \"9\", \"10\", \"11\", \"12\", \"13\", \"14\", \"15\", \"16\", \"17\", \"18\", \"19\", \"20\", \"21\", \"22\", \"23\", \"24\", \"25\", \"26\", \"27\", \"28\", \"29\", \"30\", \"31\"], \"mode\": \"markers\", \"name\": \"AUC_macro\", \"stepped\": false, \"type\": \"scatter\", \"data\": [0.9975619041662505, 0.9963192377654442, 0.9855000340450152, 0.9682125795052071, 0.9907815395203159, 0.9660433273647303, 0.9752331127565099, 0.9855097617677437, 0.9753361193728803, 0.9847643521158098, 0.9784831355478509, 0.9777611621979627, 0.9909126157351894, 0.9717109745805491, 0.9768576017722566, 0.9469569090827763, 0.9757708735685565, 0.9525016132751972, 0.9932236368589539, 0.9617925020657514, 0.982428132549259, 0.9774527287197128, 0.9489275928450873, 0.9836107376733612, 0.991444608656475, 0.9823117720875034, 0.9838099806519885, 0.9775068316606289, 0.977401513091986, 0.967004909025389, 0.9954960238676757, 0.9954099627686904]}, {\"categories\": [\"0\", \"1\", \"2\", \"3\", \"4\", \"5\", \"6\", \"7\", \"8\", \"9\", \"10\", \"11\", \"12\", \"13\", \"14\", \"15\", \"16\", \"17\", \"18\", \"19\", \"20\", \"21\", \"22\", \"23\", \"24\", \"25\", \"26\", \"27\", \"28\", \"29\", \"30\", \"31\"], \"mode\": \"lines\", \"name\": \"AUC_macro_max\", \"stepped\": true, \"type\": \"scatter\", \"data\": [0.9975619041662505, 0.9975619041662505, 0.9975619041662505, 0.9975619041662505, 0.9975619041662505, 0.9975619041662505, 0.9975619041662505, 0.9975619041662505, 0.9975619041662505, 0.9975619041662505, 0.9975619041662505, 0.9975619041662505, 0.9975619041662505, 0.9975619041662505, 0.9975619041662505, 0.9975619041662505, 0.9975619041662505, 0.9975619041662505, 0.9975619041662505, 0.9975619041662505, 0.9975619041662505, 0.9975619041662505, 0.9975619041662505, 0.9975619041662505, 0.9975619041662505, 0.9975619041662505, 0.9975619041662505, 0.9975619041662505, 0.9975619041662505, 0.9975619041662505, 0.9975619041662505, 0.9975619041662505]}]}, \"metricName\": null, \"primaryMetricName\": \"accuracy\", \"showLegend\": false}, \"run_metrics\": [{\"name\": \"experiment_status\", \"run_id\": \"AutoML_5f2a6661-d257-4a23-a2bb-fe58030d4ae4\", \"categories\": [0, 1, 2, 3, 4, 5, 6, 7, 8, 9, 10, 11, 12, 13, 14], \"series\": [{\"data\": [\"DatasetEvaluation\", \"FeaturesGeneration\", \"DatasetFeaturization\", \"DatasetFeaturizationCompleted\", \"DatasetBalancing\", \"DatasetCrossValidationSplit\", \"ModelSelection\", \"BestRunExplainModel\", \"ModelExplanationDataSetSetup\", \"PickSurrogateModel\", \"EngineeredFeatureExplanations\", \"EngineeredFeatureExplanations\", \"RawFeaturesExplanations\", \"RawFeaturesExplanations\", \"BestRunExplainModel\"]}]}, {\"name\": \"experiment_status_description\", \"run_id\": \"AutoML_5f2a6661-d257-4a23-a2bb-fe58030d4ae4\", \"categories\": [0, 1, 2, 3, 4, 5, 6, 7, 8, 9, 10, 11, 12, 13, 14], \"series\": [{\"data\": [\"Gathering dataset statistics.\", \"Generating features for the dataset.\", \"Beginning to fit featurizers and featurize the dataset.\", \"Completed fit featurizers and featurizing the dataset.\", \"Performing class balancing sweeping\", \"Generating individually featurized CV splits.\", \"Beginning model selection.\", \"Best run model explanations started\", \"Model explanations data setup completed\", \"Choosing LightGBM as the surrogate model for explanations\", \"Computation of engineered features started\", \"Computation of engineered features completed\", \"Computation of raw features started\", \"Computation of raw features completed\", \"Best run model explanations completed\"]}]}, {\"name\": \"AUC_weighted\", \"run_id\": \"AutoML_5f2a6661-d257-4a23-a2bb-fe58030d4ae4\", \"categories\": [0], \"series\": [{\"data\": [0.9954960238676757]}]}, {\"name\": \"weighted_accuracy\", \"run_id\": \"AutoML_5f2a6661-d257-4a23-a2bb-fe58030d4ae4\", \"categories\": [0], \"series\": [{\"data\": [0.996966489237382]}]}, {\"name\": \"precision_score_weighted\", \"run_id\": \"AutoML_5f2a6661-d257-4a23-a2bb-fe58030d4ae4\", \"categories\": [0], \"series\": [{\"data\": [0.9895262965323658]}]}, {\"name\": \"recall_score_macro\", \"run_id\": \"AutoML_5f2a6661-d257-4a23-a2bb-fe58030d4ae4\", \"categories\": [0], \"series\": [{\"data\": [0.9539452998092951]}]}, {\"name\": \"AUC_macro\", \"run_id\": \"AutoML_5f2a6661-d257-4a23-a2bb-fe58030d4ae4\", \"categories\": [0], \"series\": [{\"data\": [0.9954960238676757]}]}, {\"name\": \"AUC_micro\", \"run_id\": \"AutoML_5f2a6661-d257-4a23-a2bb-fe58030d4ae4\", \"categories\": [0], \"series\": [{\"data\": [0.998864]}]}, {\"name\": \"average_precision_score_weighted\", \"run_id\": \"AutoML_5f2a6661-d257-4a23-a2bb-fe58030d4ae4\", \"categories\": [0], \"series\": [{\"data\": [0.9974436712895167]}]}, {\"name\": \"log_loss\", \"run_id\": \"AutoML_5f2a6661-d257-4a23-a2bb-fe58030d4ae4\", \"categories\": [0], \"series\": [{\"data\": [0.11055565049540961]}]}, {\"name\": \"f1_score_weighted\", \"run_id\": \"AutoML_5f2a6661-d257-4a23-a2bb-fe58030d4ae4\", \"categories\": [0], \"series\": [{\"data\": [0.9893942975796175]}]}, {\"name\": \"average_precision_score_micro\", \"run_id\": \"AutoML_5f2a6661-d257-4a23-a2bb-fe58030d4ae4\", \"categories\": [0], \"series\": [{\"data\": [0.998888613424079]}]}, {\"name\": \"f1_score_micro\", \"run_id\": \"AutoML_5f2a6661-d257-4a23-a2bb-fe58030d4ae4\", \"categories\": [0], \"series\": [{\"data\": [0.9896]}]}, {\"name\": \"recall_score_weighted\", \"run_id\": \"AutoML_5f2a6661-d257-4a23-a2bb-fe58030d4ae4\", \"categories\": [0], \"series\": [{\"data\": [0.9895999999999999]}]}, {\"name\": \"accuracy\", \"run_id\": \"AutoML_5f2a6661-d257-4a23-a2bb-fe58030d4ae4\", \"categories\": [0], \"series\": [{\"data\": [0.9895999999999999]}]}, {\"name\": \"matthews_correlation\", \"run_id\": \"AutoML_5f2a6661-d257-4a23-a2bb-fe58030d4ae4\", \"categories\": [0], \"series\": [{\"data\": [0.938123702601863]}]}, {\"name\": \"precision_score_macro\", \"run_id\": \"AutoML_5f2a6661-d257-4a23-a2bb-fe58030d4ae4\", \"categories\": [0], \"series\": [{\"data\": [0.9848433487475294]}]}, {\"name\": \"average_precision_score_macro\", \"run_id\": \"AutoML_5f2a6661-d257-4a23-a2bb-fe58030d4ae4\", \"categories\": [0], \"series\": [{\"data\": [0.9882266606184498]}]}, {\"name\": \"balanced_accuracy\", \"run_id\": \"AutoML_5f2a6661-d257-4a23-a2bb-fe58030d4ae4\", \"categories\": [0], \"series\": [{\"data\": [0.9539452998092951]}]}, {\"name\": \"precision_score_micro\", \"run_id\": \"AutoML_5f2a6661-d257-4a23-a2bb-fe58030d4ae4\", \"categories\": [0], \"series\": [{\"data\": [0.9895999999999999]}]}, {\"name\": \"recall_score_micro\", \"run_id\": \"AutoML_5f2a6661-d257-4a23-a2bb-fe58030d4ae4\", \"categories\": [0], \"series\": [{\"data\": [0.9895999999999999]}]}, {\"name\": \"norm_macro_recall\", \"run_id\": \"AutoML_5f2a6661-d257-4a23-a2bb-fe58030d4ae4\", \"categories\": [0], \"series\": [{\"data\": [0.9078905996185901]}]}, {\"name\": \"f1_score_macro\", \"run_id\": \"AutoML_5f2a6661-d257-4a23-a2bb-fe58030d4ae4\", \"categories\": [0], \"series\": [{\"data\": [0.9685640921918178]}]}], \"run_logs\": \"\\nRun is completed.\", \"graph\": {}, \"widget_settings\": {\"childWidgetDisplay\": \"popup\", \"send_telemetry\": false, \"log_level\": \"INFO\", \"sdk_version\": \"1.20.0\"}, \"loading\": false}"
          },
          "metadata": {}
        }
      ],
      "execution_count": 17,
      "metadata": {
        "gather": {
          "logged": 1598431121770
        },
        "jupyter": {
          "outputs_hidden": false,
          "source_hidden": false
        },
        "nteract": {
          "transient": {
            "deleting": false
          }
        }
      }
    },
    {
      "cell_type": "markdown",
      "source": [
        "## Best Model\n",
        "\n",
        "TODO: In the cell below, get the best model from the automl experiments and display all the properties of the model.\n",
        "\n"
      ],
      "metadata": {}
    },
    {
      "cell_type": "code",
      "source": [
        "best_run, best_model = remote_run.get_output()\n",
        "best_run, best_model"
      ],
      "outputs": [
        {
          "output_type": "execute_result",
          "execution_count": 20,
          "data": {
            "text/plain": "(Run(Experiment: People_loan_experiment,\n Id: AutoML_5f2a6661-d257-4a23-a2bb-fe58030d4ae4_30,\n Type: azureml.scriptrun,\n Status: Completed),\n Pipeline(memory=None,\n          steps=[('datatransformer',\n                  DataTransformer(enable_dnn=None, enable_feature_sweeping=None,\n                                  feature_sweeping_config=None,\n                                  feature_sweeping_timeout=None,\n                                  featurization_config=None, force_text_dnn=None,\n                                  is_cross_validation=None,\n                                  is_onnx_compatible=None, logger=None,\n                                  observer=None, task=None, working_dir=None)),\n                 ('prefittedsoftvotingclassifier',...\n                                                                                                     min_samples_split=0.2442105263157895,\n                                                                                                     min_weight_fraction_leaf=0.0,\n                                                                                                     n_estimators=10,\n                                                                                                     n_jobs=1,\n                                                                                                     oob_score=False,\n                                                                                                     random_state=None,\n                                                                                                     verbose=0,\n                                                                                                     warm_start=False))],\n                                                                      verbose=False))],\n                                                flatten_transform=None,\n                                                weights=[0.4,\n                                                         0.06666666666666667,\n                                                         0.06666666666666667,\n                                                         0.06666666666666667,\n                                                         0.06666666666666667,\n                                                         0.06666666666666667,\n                                                         0.06666666666666667,\n                                                         0.2]))],\n          verbose=False))"
          },
          "metadata": {}
        }
      ],
      "execution_count": 20,
      "metadata": {
        "gather": {
          "logged": 1598431425670
        },
        "jupyter": {
          "outputs_hidden": false,
          "source_hidden": false
        },
        "nteract": {
          "transient": {
            "deleting": false
          }
        }
      }
    },
    {
      "cell_type": "code",
      "source": [
        "#TODO: Save the best model\n",
        "import joblib\n",
        "joblib.dump(best_model, 'best_automl_model.pkl')"
      ],
      "outputs": [
        {
          "output_type": "execute_result",
          "execution_count": 21,
          "data": {
            "text/plain": "['best_automl_model.pkl']"
          },
          "metadata": {}
        }
      ],
      "execution_count": 21,
      "metadata": {
        "gather": {
          "logged": 1598431426111
        },
        "jupyter": {
          "outputs_hidden": false,
          "source_hidden": false
        },
        "nteract": {
          "transient": {
            "deleting": false
          }
        }
      }
    },
    {
      "cell_type": "markdown",
      "source": [
        "## Model Deployment\n",
        "\n",
        "Remember you have to deploy only one of the two models you trained.. Perform the steps in the rest of this notebook only if you wish to deploy this model.\n",
        "\n",
        "TODO: In the cell below, register the model, create an inference config and deploy the model as a web service."
      ],
      "metadata": {}
    },
    {
      "cell_type": "code",
      "source": [
        "from azureml.core.environment import Environment\n",
        "from azureml.core.conda_dependencies import CondaDependencies\n",
        "\n",
        "# to install required packages\n",
        "env = Environment('vfenv')\n",
        "cd = CondaDependencies.create(pip_packages=['azureml-dataset-runtime[pandas,fuse]', 'azureml-defaults'], conda_packages = ['scikit-learn==0.22.1', 'scikit-learn','sklearn'])\n",
        "\n",
        "env.python.conda_dependencies = cd\n",
        "#cd.add_conda_package(\"scikit-learn\")\n",
        "# Register environment to re-use later\n",
        "env.register(workspace = ws)"
      ],
      "outputs": [
        {
          "output_type": "execute_result",
          "execution_count": 49,
          "data": {
            "text/plain": "{\n    \"databricks\": {\n        \"eggLibraries\": [],\n        \"jarLibraries\": [],\n        \"mavenLibraries\": [],\n        \"pypiLibraries\": [],\n        \"rcranLibraries\": []\n    },\n    \"docker\": {\n        \"arguments\": [],\n        \"baseDockerfile\": null,\n        \"baseImage\": \"mcr.microsoft.com/azureml/intelmpi2018.3-ubuntu16.04:20210104.v1\",\n        \"baseImageRegistry\": {\n            \"address\": null,\n            \"password\": null,\n            \"registryIdentity\": null,\n            \"username\": null\n        },\n        \"enabled\": false,\n        \"platform\": {\n            \"architecture\": \"amd64\",\n            \"os\": \"Linux\"\n        },\n        \"sharedVolumes\": true,\n        \"shmSize\": null\n    },\n    \"environmentVariables\": {\n        \"EXAMPLE_ENV_VAR\": \"EXAMPLE_VALUE\"\n    },\n    \"inferencingStackVersion\": null,\n    \"name\": \"vfenv\",\n    \"python\": {\n        \"baseCondaEnvironment\": null,\n        \"condaDependencies\": {\n            \"channels\": [\n                \"anaconda\",\n                \"conda-forge\"\n            ],\n            \"dependencies\": [\n                \"python=3.6.2\",\n                {\n                    \"pip\": [\n                        \"azureml-dataset-runtime[pandas,fuse]~=1.20.0\",\n                        \"azureml-defaults~=1.20.0\"\n                    ]\n                },\n                \"scikit-learn==0.22.1\",\n                \"scikit-learn\",\n                \"sklearn\"\n            ],\n            \"name\": \"azureml_b0b437d6a5ab9500c23efcd1f304bf9a\"\n        },\n        \"condaDependenciesFile\": null,\n        \"interpreterPath\": \"python\",\n        \"userManagedDependencies\": false\n    },\n    \"r\": null,\n    \"spark\": {\n        \"packages\": [],\n        \"precachePackages\": true,\n        \"repositories\": []\n    },\n    \"version\": \"4\"\n}"
          },
          "metadata": {}
        }
      ],
      "execution_count": 49,
      "metadata": {}
    },
    {
      "cell_type": "code",
      "source": [
        "best_run.register_model(model_name = 'best_automl_model.pkl', model_path = './outputs/')\n"
      ],
      "outputs": [
        {
          "output_type": "execute_result",
          "execution_count": 22,
          "data": {
            "text/plain": "Model(workspace=Workspace.create(name='toria_workspace', subscription_id='784d8740-4c70-4d20-8f45-b2bfecf94029', resource_group='udacityprojects'), name=best_automl_model.pkl, id=best_automl_model.pkl:1, version=1, tags={}, properties={})"
          },
          "metadata": {}
        }
      ],
      "execution_count": 22,
      "metadata": {
        "gather": {
          "logged": 1598431435189
        },
        "jupyter": {
          "outputs_hidden": false,
          "source_hidden": false
        },
        "nteract": {
          "transient": {
            "deleting": false
          }
        }
      }
    },
    {
      "cell_type": "code",
      "source": [
        "from azureml.core.model import Model\n",
        "\n",
        "model = Model.register(model_path=\"./outputs/\",\n",
        "                       model_name=\"best_automl_model.pkl\",\n",
        "                       workspace=ws)"
      ],
      "outputs": [
        {
          "output_type": "stream",
          "name": "stdout",
          "text": [
            "Registering model best_automl_model.pkl\n"
          ]
        }
      ],
      "execution_count": 36,
      "metadata": {}
    },
    {
      "cell_type": "markdown",
      "source": [
        "TODO: In the cell below, send a request to the web service you deployed to test it."
      ],
      "metadata": {
        "collapsed": true,
        "gather": {
          "logged": 1598431657736
        },
        "jupyter": {
          "outputs_hidden": false,
          "source_hidden": false
        },
        "nteract": {
          "transient": {
            "deleting": false
          }
        }
      }
    },
    {
      "cell_type": "code",
      "source": [
        "%%writefile score.py\n",
        "import json\n",
        "import numpy as np\n",
        "import os\n",
        "import pickle\n",
        "import joblib\n",
        "\n",
        "def init():\n",
        "    global model\n",
        "    # AZUREML_MODEL_DIR is an environment variable created during deployment.\n",
        "    # It is the path to the model folder (./azureml-models/$MODEL_NAME/$VERSION)\n",
        "    # For multiple models, it points to the folder containing all deployed models (./azureml-models)\n",
        "    model_path = os.path.join(os.getenv('./outputs/'), 'best_automl_model.pkl')\n",
        "    model = joblib.load(model_path)\n",
        "\n",
        "def run(raw_data):\n",
        "    data = np.array(json.loads(raw_data)['data'])\n",
        "    # make prediction\n",
        "    y_hat = model.predict(data)\n",
        "    # you can return any data type as long as it is JSON-serializable\n",
        "    #return y_hat.tolist()\n",
        "    return json.dumps(y_hat.tolist())"
      ],
      "outputs": [
        {
          "output_type": "stream",
          "name": "stdout",
          "text": [
            "Overwriting score.py\n"
          ]
        }
      ],
      "execution_count": 50,
      "metadata": {
        "gather": {
          "logged": 1598432707604
        },
        "jupyter": {
          "outputs_hidden": false,
          "source_hidden": false
        },
        "nteract": {
          "transient": {
            "deleting": false
          }
        }
      }
    },
    {
      "cell_type": "code",
      "source": [],
      "outputs": [],
      "execution_count": null,
      "metadata": {}
    },
    {
      "cell_type": "markdown",
      "source": [
        "TODO: In the cell below, print the logs of the web service and delete the service"
      ],
      "metadata": {
        "collapsed": true,
        "gather": {
          "logged": 1598432765711
        },
        "jupyter": {
          "outputs_hidden": false,
          "source_hidden": false
        },
        "nteract": {
          "transient": {
            "deleting": false
          }
        }
      }
    },
    {
      "cell_type": "code",
      "source": [
        "from azureml.core.webservice import AciWebservice\n",
        "\n",
        "aciconfig = AciWebservice.deploy_configuration(cpu_cores=1, \n",
        "                                               memory_gb=1,\n",
        "                                               tags={\"data\": \"loans\",  \"method\" : \"sklearn\"},\n",
        "                                               description='Predict loans with sklearn'\n",
        "                                               )"
      ],
      "outputs": [],
      "execution_count": 52,
      "metadata": {}
    },
    {
      "cell_type": "code",
      "source": [
        "\n",
        "#%%time\n",
        "#import uuid\n",
        "from azureml.core.webservice import Webservice\n",
        "from azureml.core.model import InferenceConfig\n",
        "from azureml.core.environment import Environment\n",
        "from azureml.core import Workspace\n",
        "from azureml.core.model import Model\n",
        "\n",
        "ws = Workspace.from_config()\n",
        "model = Model(ws, 'best_automl_model.pkl')\n",
        "\n",
        "\n",
        "myEnv = Environment.get(workspace=ws, name=\"vfenv\", version=\"1\")\n",
        "inference_config = InferenceConfig(entry_script=\"score.py\", environment=myEnv)\n",
        "\n",
        "service_name = 'bestvikrun' #+ str(uuid.uuid4())[:4]\n",
        "service = Model.deploy(workspace=ws, \n",
        "                       name=service_name, \n",
        "                       models=[model], \n",
        "                       inference_config=inference_config, \n",
        "                       deployment_config=aciconfig)\n",
        "\n",
        "service.wait_for_deployment(show_output=True)"
      ],
      "outputs": [
        {
          "output_type": "stream",
          "name": "stdout",
          "text": [
            "Tips: You can try get_logs(): https://aka.ms/debugimage#dockerlog or local deployment: https://aka.ms/debugimage#debug-locally to debug if deployment takes longer than 10 minutes.\n",
            "Running..\n",
            "Failed\n"
          ]
        },
        {
          "output_type": "stream",
          "name": "stderr",
          "text": [
            "ERROR:azureml.core.webservice.webservice:Service deployment polling reached non-successful terminal state, current service state: Transitioning\n",
            "Operation ID: 53868fdc-4ea1-42d3-a336-6fef4aa30b3f\n",
            "More information can be found using '.get_logs()'\n",
            "Error:\n",
            "{\n",
            "  \"code\": \"ContainerGroupQuotaReached\",\n",
            "  \"statusCode\": 400,\n",
            "  \"message\": \"ACI Service request failed. Reason: Resource type 'Microsoft.ContainerInstance/containerGroups' container group quota 'StandardCores' exceeded in region 'eastus'. Limit: '10', Usage: '9' Requested: '1.1'..\"\n",
            "}\n",
            "\n"
          ]
        },
        {
          "output_type": "error",
          "ename": "WebserviceException",
          "evalue": "WebserviceException:\n\tMessage: Service deployment polling reached non-successful terminal state, current service state: Transitioning\nOperation ID: 53868fdc-4ea1-42d3-a336-6fef4aa30b3f\nMore information can be found using '.get_logs()'\nError:\n{\n  \"code\": \"ContainerGroupQuotaReached\",\n  \"statusCode\": 400,\n  \"message\": \"ACI Service request failed. Reason: Resource type 'Microsoft.ContainerInstance/containerGroups' container group quota 'StandardCores' exceeded in region 'eastus'. Limit: '10', Usage: '9' Requested: '1.1'..\"\n}\n\tInnerException None\n\tErrorResponse \n{\n    \"error\": {\n        \"message\": \"Service deployment polling reached non-successful terminal state, current service state: Transitioning\\nOperation ID: 53868fdc-4ea1-42d3-a336-6fef4aa30b3f\\nMore information can be found using '.get_logs()'\\nError:\\n{\\n  \\\"code\\\": \\\"ContainerGroupQuotaReached\\\",\\n  \\\"statusCode\\\": 400,\\n  \\\"message\\\": \\\"ACI Service request failed. Reason: Resource type 'Microsoft.ContainerInstance/containerGroups' container group quota 'StandardCores' exceeded in region 'eastus'. Limit: '10', Usage: '9' Requested: '1.1'..\\\"\\n}\"\n    }\n}",
          "traceback": [
            "\u001b[0;31m---------------------------------------------------------------------------\u001b[0m",
            "\u001b[0;31mWebserviceException\u001b[0m                       Traceback (most recent call last)",
            "\u001b[0;32m<ipython-input-53-c672a98bf274>\u001b[0m in \u001b[0;36m<module>\u001b[0;34m\u001b[0m\n\u001b[1;32m     21\u001b[0m                        deployment_config=aciconfig)\n\u001b[1;32m     22\u001b[0m \u001b[0;34m\u001b[0m\u001b[0m\n\u001b[0;32m---> 23\u001b[0;31m \u001b[0mservice\u001b[0m\u001b[0;34m.\u001b[0m\u001b[0mwait_for_deployment\u001b[0m\u001b[0;34m(\u001b[0m\u001b[0mshow_output\u001b[0m\u001b[0;34m=\u001b[0m\u001b[0;32mTrue\u001b[0m\u001b[0;34m)\u001b[0m\u001b[0;34m\u001b[0m\u001b[0;34m\u001b[0m\u001b[0m\n\u001b[0m",
            "\u001b[0;32m/anaconda/envs/azureml_py36/lib/python3.6/site-packages/azureml/core/webservice/webservice.py\u001b[0m in \u001b[0;36mwait_for_deployment\u001b[0;34m(self, show_output, timeout_sec)\u001b[0m\n\u001b[1;32m    913\u001b[0m                                           \u001b[0;34m'Error:\\n'\u001b[0m\u001b[0;34m\u001b[0m\u001b[0;34m\u001b[0m\u001b[0m\n\u001b[1;32m    914\u001b[0m                                           '{}'.format(self.state, self._operation_endpoint.split('/')[-1],\n\u001b[0;32m--> 915\u001b[0;31m                                                       logs_response, error_response), logger=module_logger)\n\u001b[0m\u001b[1;32m    916\u001b[0m             print('{} service creation operation finished, operation \"{}\"'.format(self._webservice_type,\n\u001b[1;32m    917\u001b[0m                                                                                   operation_state))\n",
            "\u001b[0;31mWebserviceException\u001b[0m: WebserviceException:\n\tMessage: Service deployment polling reached non-successful terminal state, current service state: Transitioning\nOperation ID: 53868fdc-4ea1-42d3-a336-6fef4aa30b3f\nMore information can be found using '.get_logs()'\nError:\n{\n  \"code\": \"ContainerGroupQuotaReached\",\n  \"statusCode\": 400,\n  \"message\": \"ACI Service request failed. Reason: Resource type 'Microsoft.ContainerInstance/containerGroups' container group quota 'StandardCores' exceeded in region 'eastus'. Limit: '10', Usage: '9' Requested: '1.1'..\"\n}\n\tInnerException None\n\tErrorResponse \n{\n    \"error\": {\n        \"message\": \"Service deployment polling reached non-successful terminal state, current service state: Transitioning\\nOperation ID: 53868fdc-4ea1-42d3-a336-6fef4aa30b3f\\nMore information can be found using '.get_logs()'\\nError:\\n{\\n  \\\"code\\\": \\\"ContainerGroupQuotaReached\\\",\\n  \\\"statusCode\\\": 400,\\n  \\\"message\\\": \\\"ACI Service request failed. Reason: Resource type 'Microsoft.ContainerInstance/containerGroups' container group quota 'StandardCores' exceeded in region 'eastus'. Limit: '10', Usage: '9' Requested: '1.1'..\\\"\\n}\"\n    }\n}"
          ]
        }
      ],
      "execution_count": 53,
      "metadata": {
        "jupyter": {
          "outputs_hidden": false,
          "source_hidden": false
        },
        "nteract": {
          "transient": {
            "deleting": false
          }
        }
      }
    },
    {
      "cell_type": "code",
      "source": [],
      "outputs": [],
      "execution_count": null,
      "metadata": {}
    }
  ],
  "metadata": {
    "kernel_info": {
      "name": "python3-azureml"
    },
    "kernelspec": {
      "name": "python3-azureml",
      "language": "python",
      "display_name": "Python 3.6 - AzureML"
    },
    "language_info": {
      "name": "python",
      "version": "3.6.9",
      "mimetype": "text/x-python",
      "codemirror_mode": {
        "name": "ipython",
        "version": 3
      },
      "pygments_lexer": "ipython3",
      "nbconvert_exporter": "python",
      "file_extension": ".py"
    },
    "nteract": {
      "version": "nteract-front-end@1.0.0"
    }
  },
  "nbformat": 4,
  "nbformat_minor": 2
}