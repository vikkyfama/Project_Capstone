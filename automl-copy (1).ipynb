{
  "cells": [
    {
      "cell_type": "markdown",
      "source": [
        "# Automated ML\n",
        "\n",
        "TODO: Import Dependencies. In the cell below, import all the dependencies that you will need to complete the project."
      ],
      "metadata": {}
    },
    {
      "cell_type": "code",
      "source": [
        "!pip install --upgrade --upgrade-strategy eager azureml-sdk"
      ],
      "outputs": [
        {
          "output_type": "stream",
          "name": "stdout",
          "text": [
            "Requirement already up-to-date: azureml-sdk in /anaconda/envs/azureml_py36/lib/python3.6/site-packages (1.20.0)\n",
            "Requirement already up-to-date: azureml-dataset-runtime[fuse]~=1.20.0 in /anaconda/envs/azureml_py36/lib/python3.6/site-packages (from azureml-sdk) (1.20.0)\n",
            "Requirement already up-to-date: azureml-train~=1.20.0 in /anaconda/envs/azureml_py36/lib/python3.6/site-packages (from azureml-sdk) (1.20.0)\n",
            "Requirement already up-to-date: azureml-pipeline~=1.20.0 in /anaconda/envs/azureml_py36/lib/python3.6/site-packages (from azureml-sdk) (1.20.0)\n",
            "Requirement already up-to-date: azureml-train-automl-client~=1.20.0 in /anaconda/envs/azureml_py36/lib/python3.6/site-packages (from azureml-sdk) (1.20.0)\n",
            "Requirement already up-to-date: azureml-core~=1.20.0 in /anaconda/envs/azureml_py36/lib/python3.6/site-packages (from azureml-sdk) (1.20.0)\n",
            "Requirement already up-to-date: azureml-dataprep<2.8.0a,>=2.7.0a in /anaconda/envs/azureml_py36/lib/python3.6/site-packages (from azureml-dataset-runtime[fuse]~=1.20.0->azureml-sdk) (2.7.3)\n",
            "Requirement already up-to-date: pyarrow<2.0.0,>=0.17.0 in /anaconda/envs/azureml_py36/lib/python3.6/site-packages (from azureml-dataset-runtime[fuse]~=1.20.0->azureml-sdk) (1.0.1)\n",
            "Requirement already up-to-date: numpy!=1.19.3; sys_platform == \"linux\" in /anaconda/envs/azureml_py36/lib/python3.6/site-packages (from azureml-dataset-runtime[fuse]~=1.20.0->azureml-sdk) (1.19.5)\n",
            "Requirement already up-to-date: fusepy<4.0.0,>=3.0.1; extra == \"fuse\" in /anaconda/envs/azureml_py36/lib/python3.6/site-packages (from azureml-dataset-runtime[fuse]~=1.20.0->azureml-sdk) (3.0.1)\n",
            "Requirement already up-to-date: azureml-train-core~=1.20.0 in /anaconda/envs/azureml_py36/lib/python3.6/site-packages (from azureml-train~=1.20.0->azureml-sdk) (1.20.0)\n",
            "Requirement already up-to-date: azureml-pipeline-steps~=1.20.0 in /anaconda/envs/azureml_py36/lib/python3.6/site-packages (from azureml-pipeline~=1.20.0->azureml-sdk) (1.20.0)\n",
            "Requirement already up-to-date: azureml-pipeline-core~=1.20.0 in /anaconda/envs/azureml_py36/lib/python3.6/site-packages (from azureml-pipeline~=1.20.0->azureml-sdk) (1.20.0)\n",
            "Requirement already up-to-date: azureml-automl-core~=1.20.0 in /anaconda/envs/azureml_py36/lib/python3.6/site-packages (from azureml-train-automl-client~=1.20.0->azureml-sdk) (1.20.0)\n",
            "Requirement already up-to-date: azureml-telemetry~=1.20.0 in /anaconda/envs/azureml_py36/lib/python3.6/site-packages (from azureml-train-automl-client~=1.20.0->azureml-sdk) (1.20.0)\n",
            "Requirement already up-to-date: pathspec in /anaconda/envs/azureml_py36/lib/python3.6/site-packages (from azureml-core~=1.20.0->azureml-sdk) (0.8.1)\n",
            "Requirement already up-to-date: ndg-httpsclient in /anaconda/envs/azureml_py36/lib/python3.6/site-packages (from azureml-core~=1.20.0->azureml-sdk) (0.5.1)\n",
            "Requirement already up-to-date: docker in /anaconda/envs/azureml_py36/lib/python3.6/site-packages (from azureml-core~=1.20.0->azureml-sdk) (4.4.1)\n",
            "Requirement already up-to-date: jmespath in /anaconda/envs/azureml_py36/lib/python3.6/site-packages (from azureml-core~=1.20.0->azureml-sdk) (0.10.0)\n",
            "Requirement already up-to-date: azure-mgmt-storage<16.0.0,>=1.5.0 in /anaconda/envs/azureml_py36/lib/python3.6/site-packages (from azureml-core~=1.20.0->azureml-sdk) (11.2.0)\n",
            "Requirement already up-to-date: msrest>=0.5.1 in /anaconda/envs/azureml_py36/lib/python3.6/site-packages (from azureml-core~=1.20.0->azureml-sdk) (0.6.19)\n",
            "Requirement already up-to-date: msrestazure>=0.4.33 in /anaconda/envs/azureml_py36/lib/python3.6/site-packages (from azureml-core~=1.20.0->azureml-sdk) (0.6.4)\n",
            "Requirement already up-to-date: azure-mgmt-authorization<1.0.0,>=0.40.0 in /anaconda/envs/azureml_py36/lib/python3.6/site-packages (from azureml-core~=1.20.0->azureml-sdk) (0.61.0)\n",
            "Requirement already up-to-date: azure-common>=1.1.12 in /anaconda/envs/azureml_py36/lib/python3.6/site-packages (from azureml-core~=1.20.0->azureml-sdk) (1.1.26)\n",
            "Requirement already up-to-date: ruamel.yaml>=0.15.35 in /anaconda/envs/azureml_py36/lib/python3.6/site-packages (from azureml-core~=1.20.0->azureml-sdk) (0.16.12)\n",
            "Requirement already up-to-date: azure-mgmt-containerregistry>=2.0.0 in /anaconda/envs/azureml_py36/lib/python3.6/site-packages (from azureml-core~=1.20.0->azureml-sdk) (2.8.0)\n",
            "Requirement already up-to-date: contextlib2 in /anaconda/envs/azureml_py36/lib/python3.6/site-packages (from azureml-core~=1.20.0->azureml-sdk) (0.6.0.post1)\n",
            "Requirement already up-to-date: urllib3>=1.23 in /anaconda/envs/azureml_py36/lib/python3.6/site-packages (from azureml-core~=1.20.0->azureml-sdk) (1.26.2)\n",
            "Requirement already up-to-date: backports.tempfile in /anaconda/envs/azureml_py36/lib/python3.6/site-packages (from azureml-core~=1.20.0->azureml-sdk) (1.0)\n",
            "Requirement already up-to-date: pytz in /anaconda/envs/azureml_py36/lib/python3.6/site-packages (from azureml-core~=1.20.0->azureml-sdk) (2020.5)\n",
            "Requirement already up-to-date: python-dateutil>=2.7.3 in /anaconda/envs/azureml_py36/lib/python3.6/site-packages (from azureml-core~=1.20.0->azureml-sdk) (2.8.1)\n",
            "Requirement already up-to-date: jsonpickle in /anaconda/envs/azureml_py36/lib/python3.6/site-packages (from azureml-core~=1.20.0->azureml-sdk) (1.5.0)\n",
            "Requirement already up-to-date: azure-mgmt-resource<15.0.0,>=1.2.1 in /anaconda/envs/azureml_py36/lib/python3.6/site-packages (from azureml-core~=1.20.0->azureml-sdk) (12.0.0)\n",
            "Requirement already up-to-date: cryptography!=1.9,!=2.0.*,!=2.1.*,!=2.2.* in /anaconda/envs/azureml_py36/lib/python3.6/site-packages (from azureml-core~=1.20.0->azureml-sdk) (3.3.1)\n",
            "Requirement already up-to-date: requests>=2.19.1 in /anaconda/envs/azureml_py36/lib/python3.6/site-packages (from azureml-core~=1.20.0->azureml-sdk) (2.25.1)\n",
            "Requirement already up-to-date: pyopenssl<20.0.0 in /anaconda/envs/azureml_py36/lib/python3.6/site-packages (from azureml-core~=1.20.0->azureml-sdk) (19.1.0)\n",
            "Requirement already up-to-date: SecretStorage in /anaconda/envs/azureml_py36/lib/python3.6/site-packages (from azureml-core~=1.20.0->azureml-sdk) (3.3.0)\n",
            "Requirement already up-to-date: azure-mgmt-keyvault<7.0.0,>=0.40.0 in /anaconda/envs/azureml_py36/lib/python3.6/site-packages (from azureml-core~=1.20.0->azureml-sdk) (2.2.0)\n",
            "Requirement already up-to-date: azure-graphrbac<1.0.0,>=0.40.0 in /anaconda/envs/azureml_py36/lib/python3.6/site-packages (from azureml-core~=1.20.0->azureml-sdk) (0.61.1)\n",
            "Requirement already up-to-date: adal>=1.2.0 in /anaconda/envs/azureml_py36/lib/python3.6/site-packages (from azureml-core~=1.20.0->azureml-sdk) (1.2.5)\n",
            "Requirement already up-to-date: PyJWT<2.0.0 in /anaconda/envs/azureml_py36/lib/python3.6/site-packages (from azureml-core~=1.20.0->azureml-sdk) (1.7.1)\n",
            "Requirement already up-to-date: dotnetcore2<3.0.0,>=2.1.14 in /anaconda/envs/azureml_py36/lib/python3.6/site-packages (from azureml-dataprep<2.8.0a,>=2.7.0a->azureml-dataset-runtime[fuse]~=1.20.0->azureml-sdk) (2.1.20)\n",
            "Requirement already up-to-date: azureml-dataprep-rslex<1.6.0a,>=1.5.0dev0 in /anaconda/envs/azureml_py36/lib/python3.6/site-packages (from azureml-dataprep<2.8.0a,>=2.7.0a->azureml-dataset-runtime[fuse]~=1.20.0->azureml-sdk) (1.5.0)\n",
            "Requirement already up-to-date: azureml-dataprep-native<28.0.0,>=27.0.0 in /anaconda/envs/azureml_py36/lib/python3.6/site-packages (from azureml-dataprep<2.8.0a,>=2.7.0a->azureml-dataset-runtime[fuse]~=1.20.0->azureml-sdk) (27.0.0)\n",
            "Requirement already up-to-date: azure-identity<1.5.0,>=1.2.0 in /anaconda/envs/azureml_py36/lib/python3.6/site-packages (from azureml-dataprep<2.8.0a,>=2.7.0a->azureml-dataset-runtime[fuse]~=1.20.0->azureml-sdk) (1.4.1)\n",
            "Requirement already up-to-date: cloudpickle<2.0.0,>=1.1.0 in /anaconda/envs/azureml_py36/lib/python3.6/site-packages (from azureml-dataprep<2.8.0a,>=2.7.0a->azureml-dataset-runtime[fuse]~=1.20.0->azureml-sdk) (1.6.0)\n",
            "Requirement already up-to-date: azureml-train-restclients-hyperdrive~=1.20.0 in /anaconda/envs/azureml_py36/lib/python3.6/site-packages (from azureml-train-core~=1.20.0->azureml-train~=1.20.0->azureml-sdk) (1.20.0)\n",
            "Requirement already up-to-date: applicationinsights in /anaconda/envs/azureml_py36/lib/python3.6/site-packages (from azureml-telemetry~=1.20.0->azureml-train-automl-client~=1.20.0->azureml-sdk) (0.11.9)\n",
            "Requirement already up-to-date: pyasn1>=0.1.1 in /anaconda/envs/azureml_py36/lib/python3.6/site-packages (from ndg-httpsclient->azureml-core~=1.20.0->azureml-sdk) (0.4.8)\n",
            "Requirement already up-to-date: websocket-client>=0.32.0 in /anaconda/envs/azureml_py36/lib/python3.6/site-packages (from docker->azureml-core~=1.20.0->azureml-sdk) (0.57.0)\n",
            "Requirement already up-to-date: six>=1.4.0 in /anaconda/envs/azureml_py36/lib/python3.6/site-packages (from docker->azureml-core~=1.20.0->azureml-sdk) (1.15.0)\n",
            "Requirement already up-to-date: isodate>=0.6.0 in /anaconda/envs/azureml_py36/lib/python3.6/site-packages (from msrest>=0.5.1->azureml-core~=1.20.0->azureml-sdk) (0.6.0)\n",
            "Requirement already up-to-date: requests-oauthlib>=0.5.0 in /anaconda/envs/azureml_py36/lib/python3.6/site-packages (from msrest>=0.5.1->azureml-core~=1.20.0->azureml-sdk) (1.3.0)\n",
            "Requirement already up-to-date: certifi>=2017.4.17 in /anaconda/envs/azureml_py36/lib/python3.6/site-packages (from msrest>=0.5.1->azureml-core~=1.20.0->azureml-sdk) (2020.12.5)\n",
            "Requirement already up-to-date: ruamel.yaml.clib>=0.1.2; platform_python_implementation == \"CPython\" and python_version < \"3.9\" in /anaconda/envs/azureml_py36/lib/python3.6/site-packages (from ruamel.yaml>=0.15.35->azureml-core~=1.20.0->azureml-sdk) (0.2.2)\n",
            "Requirement already up-to-date: backports.weakref in /anaconda/envs/azureml_py36/lib/python3.6/site-packages (from backports.tempfile->azureml-core~=1.20.0->azureml-sdk) (1.0.post1)\n",
            "Requirement already up-to-date: importlib-metadata; python_version < \"3.8\" in /anaconda/envs/azureml_py36/lib/python3.6/site-packages (from jsonpickle->azureml-core~=1.20.0->azureml-sdk) (3.4.0)\n",
            "Requirement already up-to-date: cffi>=1.12 in /anaconda/envs/azureml_py36/lib/python3.6/site-packages (from cryptography!=1.9,!=2.0.*,!=2.1.*,!=2.2.*->azureml-core~=1.20.0->azureml-sdk) (1.14.4)\n",
            "Requirement already up-to-date: chardet<5,>=3.0.2 in /anaconda/envs/azureml_py36/lib/python3.6/site-packages (from requests>=2.19.1->azureml-core~=1.20.0->azureml-sdk) (4.0.0)\n",
            "Requirement already up-to-date: idna<3,>=2.5 in /anaconda/envs/azureml_py36/lib/python3.6/site-packages (from requests>=2.19.1->azureml-core~=1.20.0->azureml-sdk) (2.10)\n",
            "Requirement already up-to-date: jeepney>=0.6 in /anaconda/envs/azureml_py36/lib/python3.6/site-packages (from SecretStorage->azureml-core~=1.20.0->azureml-sdk) (0.6.0)\n",
            "Requirement already up-to-date: distro>=1.2.0 in /anaconda/envs/azureml_py36/lib/python3.6/site-packages (from dotnetcore2<3.0.0,>=2.1.14->azureml-dataprep<2.8.0a,>=2.7.0a->azureml-dataset-runtime[fuse]~=1.20.0->azureml-sdk) (1.5.0)\n",
            "Requirement already up-to-date: azure-core<2.0.0,>=1.0.0 in /anaconda/envs/azureml_py36/lib/python3.6/site-packages (from azure-identity<1.5.0,>=1.2.0->azureml-dataprep<2.8.0a,>=2.7.0a->azureml-dataset-runtime[fuse]~=1.20.0->azureml-sdk) (1.10.0)\n",
            "Requirement already up-to-date: msal-extensions~=0.2.2 in /anaconda/envs/azureml_py36/lib/python3.6/site-packages (from azure-identity<1.5.0,>=1.2.0->azureml-dataprep<2.8.0a,>=2.7.0a->azureml-dataset-runtime[fuse]~=1.20.0->azureml-sdk) (0.2.2)\n",
            "Requirement already up-to-date: msal<2.0.0,>=1.3.0 in /anaconda/envs/azureml_py36/lib/python3.6/site-packages (from azure-identity<1.5.0,>=1.2.0->azureml-dataprep<2.8.0a,>=2.7.0a->azureml-dataset-runtime[fuse]~=1.20.0->azureml-sdk) (1.8.0)\n",
            "Requirement already up-to-date: oauthlib>=3.0.0 in /anaconda/envs/azureml_py36/lib/python3.6/site-packages (from requests-oauthlib>=0.5.0->msrest>=0.5.1->azureml-core~=1.20.0->azureml-sdk) (3.1.0)\n",
            "Requirement already up-to-date: typing-extensions>=3.6.4; python_version < \"3.8\" in /anaconda/envs/azureml_py36/lib/python3.6/site-packages (from importlib-metadata; python_version < \"3.8\"->jsonpickle->azureml-core~=1.20.0->azureml-sdk) (3.7.4.3)\n",
            "Requirement already up-to-date: zipp>=0.5 in /anaconda/envs/azureml_py36/lib/python3.6/site-packages (from importlib-metadata; python_version < \"3.8\"->jsonpickle->azureml-core~=1.20.0->azureml-sdk) (3.4.0)\n",
            "Requirement already up-to-date: pycparser in /anaconda/envs/azureml_py36/lib/python3.6/site-packages (from cffi>=1.12->cryptography!=1.9,!=2.0.*,!=2.1.*,!=2.2.*->azureml-core~=1.20.0->azureml-sdk) (2.20)\n",
            "Requirement already up-to-date: portalocker~=1.0; platform_system != \"Windows\" in /anaconda/envs/azureml_py36/lib/python3.6/site-packages (from msal-extensions~=0.2.2->azure-identity<1.5.0,>=1.2.0->azureml-dataprep<2.8.0a,>=2.7.0a->azureml-dataset-runtime[fuse]~=1.20.0->azureml-sdk) (1.7.1)\n"
          ]
        }
      ],
      "execution_count": 2,
      "metadata": {
        "collapsed": true,
        "jupyter": {
          "source_hidden": false,
          "outputs_hidden": false
        },
        "nteract": {
          "transient": {
            "deleting": false
          }
        }
      }
    },
    {
      "cell_type": "code",
      "source": [
        "!pip install --upgrade azureml-sdk[automl]"
      ],
      "outputs": [
        {
          "output_type": "stream",
          "name": "stdout",
          "text": [
            "Requirement already up-to-date: azureml-sdk[automl] in /anaconda/envs/azureml_py36/lib/python3.6/site-packages (1.20.0)\n",
            "Requirement already satisfied, skipping upgrade: azureml-dataset-runtime[fuse]~=1.20.0 in /anaconda/envs/azureml_py36/lib/python3.6/site-packages (from azureml-sdk[automl]) (1.20.0)\n",
            "Requirement already satisfied, skipping upgrade: azureml-pipeline~=1.20.0 in /anaconda/envs/azureml_py36/lib/python3.6/site-packages (from azureml-sdk[automl]) (1.20.0)\n",
            "Requirement already satisfied, skipping upgrade: azureml-train~=1.20.0 in /anaconda/envs/azureml_py36/lib/python3.6/site-packages (from azureml-sdk[automl]) (1.20.0)\n",
            "Requirement already satisfied, skipping upgrade: azureml-core~=1.20.0 in /anaconda/envs/azureml_py36/lib/python3.6/site-packages (from azureml-sdk[automl]) (1.20.0)\n",
            "Requirement already satisfied, skipping upgrade: azureml-train-automl-client~=1.20.0 in /anaconda/envs/azureml_py36/lib/python3.6/site-packages (from azureml-sdk[automl]) (1.20.0)\n",
            "Requirement already satisfied, skipping upgrade: azureml-train-automl~=1.20.0; extra == \"automl\" in /anaconda/envs/azureml_py36/lib/python3.6/site-packages (from azureml-sdk[automl]) (1.20.0)\n",
            "Requirement already satisfied, skipping upgrade: numpy!=1.19.3; sys_platform == \"linux\" in /anaconda/envs/azureml_py36/lib/python3.6/site-packages (from azureml-dataset-runtime[fuse]~=1.20.0->azureml-sdk[automl]) (1.19.5)\n",
            "Requirement already satisfied, skipping upgrade: azureml-dataprep<2.8.0a,>=2.7.0a in /anaconda/envs/azureml_py36/lib/python3.6/site-packages (from azureml-dataset-runtime[fuse]~=1.20.0->azureml-sdk[automl]) (2.7.3)\n",
            "Requirement already satisfied, skipping upgrade: pyarrow<2.0.0,>=0.17.0 in /anaconda/envs/azureml_py36/lib/python3.6/site-packages (from azureml-dataset-runtime[fuse]~=1.20.0->azureml-sdk[automl]) (1.0.1)\n",
            "Requirement already satisfied, skipping upgrade: fusepy<4.0.0,>=3.0.1; extra == \"fuse\" in /anaconda/envs/azureml_py36/lib/python3.6/site-packages (from azureml-dataset-runtime[fuse]~=1.20.0->azureml-sdk[automl]) (3.0.1)\n",
            "Requirement already satisfied, skipping upgrade: azureml-pipeline-steps~=1.20.0 in /anaconda/envs/azureml_py36/lib/python3.6/site-packages (from azureml-pipeline~=1.20.0->azureml-sdk[automl]) (1.20.0)\n",
            "Requirement already satisfied, skipping upgrade: azureml-pipeline-core~=1.20.0 in /anaconda/envs/azureml_py36/lib/python3.6/site-packages (from azureml-pipeline~=1.20.0->azureml-sdk[automl]) (1.20.0)\n",
            "Requirement already satisfied, skipping upgrade: azureml-train-core~=1.20.0 in /anaconda/envs/azureml_py36/lib/python3.6/site-packages (from azureml-train~=1.20.0->azureml-sdk[automl]) (1.20.0)\n",
            "Requirement already satisfied, skipping upgrade: msrestazure>=0.4.33 in /anaconda/envs/azureml_py36/lib/python3.6/site-packages (from azureml-core~=1.20.0->azureml-sdk[automl]) (0.6.4)\n",
            "Requirement already satisfied, skipping upgrade: docker in /anaconda/envs/azureml_py36/lib/python3.6/site-packages (from azureml-core~=1.20.0->azureml-sdk[automl]) (4.4.1)\n",
            "Requirement already satisfied, skipping upgrade: azure-mgmt-storage<16.0.0,>=1.5.0 in /anaconda/envs/azureml_py36/lib/python3.6/site-packages (from azureml-core~=1.20.0->azureml-sdk[automl]) (11.2.0)\n",
            "Requirement already satisfied, skipping upgrade: azure-mgmt-authorization<1.0.0,>=0.40.0 in /anaconda/envs/azureml_py36/lib/python3.6/site-packages (from azureml-core~=1.20.0->azureml-sdk[automl]) (0.61.0)\n",
            "Requirement already satisfied, skipping upgrade: backports.tempfile in /anaconda/envs/azureml_py36/lib/python3.6/site-packages (from azureml-core~=1.20.0->azureml-sdk[automl]) (1.0)\n",
            "Requirement already satisfied, skipping upgrade: jsonpickle in /anaconda/envs/azureml_py36/lib/python3.6/site-packages (from azureml-core~=1.20.0->azureml-sdk[automl]) (1.5.0)\n",
            "Requirement already satisfied, skipping upgrade: ruamel.yaml>=0.15.35 in /anaconda/envs/azureml_py36/lib/python3.6/site-packages (from azureml-core~=1.20.0->azureml-sdk[automl]) (0.16.12)\n",
            "Requirement already satisfied, skipping upgrade: pathspec in /anaconda/envs/azureml_py36/lib/python3.6/site-packages (from azureml-core~=1.20.0->azureml-sdk[automl]) (0.8.1)\n",
            "Requirement already satisfied, skipping upgrade: azure-mgmt-resource<15.0.0,>=1.2.1 in /anaconda/envs/azureml_py36/lib/python3.6/site-packages (from azureml-core~=1.20.0->azureml-sdk[automl]) (12.0.0)\n",
            "Requirement already satisfied, skipping upgrade: python-dateutil>=2.7.3 in /anaconda/envs/azureml_py36/lib/python3.6/site-packages (from azureml-core~=1.20.0->azureml-sdk[automl]) (2.8.1)\n",
            "Requirement already satisfied, skipping upgrade: contextlib2 in /anaconda/envs/azureml_py36/lib/python3.6/site-packages (from azureml-core~=1.20.0->azureml-sdk[automl]) (0.6.0.post1)\n",
            "Requirement already satisfied, skipping upgrade: msrest>=0.5.1 in /anaconda/envs/azureml_py36/lib/python3.6/site-packages (from azureml-core~=1.20.0->azureml-sdk[automl]) (0.6.19)\n",
            "Requirement already satisfied, skipping upgrade: requests>=2.19.1 in /anaconda/envs/azureml_py36/lib/python3.6/site-packages (from azureml-core~=1.20.0->azureml-sdk[automl]) (2.25.1)\n",
            "Requirement already satisfied, skipping upgrade: pytz in /anaconda/envs/azureml_py36/lib/python3.6/site-packages (from azureml-core~=1.20.0->azureml-sdk[automl]) (2020.5)\n",
            "Requirement already satisfied, skipping upgrade: azure-graphrbac<1.0.0,>=0.40.0 in /anaconda/envs/azureml_py36/lib/python3.6/site-packages (from azureml-core~=1.20.0->azureml-sdk[automl]) (0.61.1)\n",
            "Requirement already satisfied, skipping upgrade: adal>=1.2.0 in /anaconda/envs/azureml_py36/lib/python3.6/site-packages (from azureml-core~=1.20.0->azureml-sdk[automl]) (1.2.5)\n",
            "Requirement already satisfied, skipping upgrade: cryptography!=1.9,!=2.0.*,!=2.1.*,!=2.2.* in /anaconda/envs/azureml_py36/lib/python3.6/site-packages (from azureml-core~=1.20.0->azureml-sdk[automl]) (3.3.1)\n",
            "Requirement already satisfied, skipping upgrade: SecretStorage in /anaconda/envs/azureml_py36/lib/python3.6/site-packages (from azureml-core~=1.20.0->azureml-sdk[automl]) (3.3.0)\n",
            "Requirement already satisfied, skipping upgrade: azure-mgmt-containerregistry>=2.0.0 in /anaconda/envs/azureml_py36/lib/python3.6/site-packages (from azureml-core~=1.20.0->azureml-sdk[automl]) (2.8.0)\n",
            "Requirement already satisfied, skipping upgrade: pyopenssl<20.0.0 in /anaconda/envs/azureml_py36/lib/python3.6/site-packages (from azureml-core~=1.20.0->azureml-sdk[automl]) (19.1.0)\n",
            "Requirement already satisfied, skipping upgrade: azure-mgmt-keyvault<7.0.0,>=0.40.0 in /anaconda/envs/azureml_py36/lib/python3.6/site-packages (from azureml-core~=1.20.0->azureml-sdk[automl]) (2.2.0)\n",
            "Requirement already satisfied, skipping upgrade: azure-common>=1.1.12 in /anaconda/envs/azureml_py36/lib/python3.6/site-packages (from azureml-core~=1.20.0->azureml-sdk[automl]) (1.1.26)\n",
            "Requirement already satisfied, skipping upgrade: ndg-httpsclient in /anaconda/envs/azureml_py36/lib/python3.6/site-packages (from azureml-core~=1.20.0->azureml-sdk[automl]) (0.5.1)\n",
            "Requirement already satisfied, skipping upgrade: urllib3>=1.23 in /anaconda/envs/azureml_py36/lib/python3.6/site-packages (from azureml-core~=1.20.0->azureml-sdk[automl]) (1.26.2)\n",
            "Requirement already satisfied, skipping upgrade: jmespath in /anaconda/envs/azureml_py36/lib/python3.6/site-packages (from azureml-core~=1.20.0->azureml-sdk[automl]) (0.10.0)\n",
            "Requirement already satisfied, skipping upgrade: PyJWT<2.0.0 in /anaconda/envs/azureml_py36/lib/python3.6/site-packages (from azureml-core~=1.20.0->azureml-sdk[automl]) (1.7.1)\n",
            "Requirement already satisfied, skipping upgrade: azureml-automl-core~=1.20.0 in /anaconda/envs/azureml_py36/lib/python3.6/site-packages (from azureml-train-automl-client~=1.20.0->azureml-sdk[automl]) (1.20.0)\n",
            "Requirement already satisfied, skipping upgrade: azureml-telemetry~=1.20.0 in /anaconda/envs/azureml_py36/lib/python3.6/site-packages (from azureml-train-automl-client~=1.20.0->azureml-sdk[automl]) (1.20.0)\n",
            "Requirement already satisfied, skipping upgrade: azureml-automl-runtime~=1.20.0 in /anaconda/envs/azureml_py36/lib/python3.6/site-packages (from azureml-train-automl~=1.20.0; extra == \"automl\"->azureml-sdk[automl]) (1.20.0)\n",
            "Requirement already satisfied, skipping upgrade: azureml-train-automl-runtime~=1.20.0 in /anaconda/envs/azureml_py36/lib/python3.6/site-packages (from azureml-train-automl~=1.20.0; extra == \"automl\"->azureml-sdk[automl]) (1.20.0.post1)\n",
            "Requirement already satisfied, skipping upgrade: cloudpickle<2.0.0,>=1.1.0 in /anaconda/envs/azureml_py36/lib/python3.6/site-packages (from azureml-dataprep<2.8.0a,>=2.7.0a->azureml-dataset-runtime[fuse]~=1.20.0->azureml-sdk[automl]) (1.6.0)\n",
            "Requirement already satisfied, skipping upgrade: azure-identity<1.5.0,>=1.2.0 in /anaconda/envs/azureml_py36/lib/python3.6/site-packages (from azureml-dataprep<2.8.0a,>=2.7.0a->azureml-dataset-runtime[fuse]~=1.20.0->azureml-sdk[automl]) (1.4.1)\n",
            "Requirement already satisfied, skipping upgrade: azureml-dataprep-native<28.0.0,>=27.0.0 in /anaconda/envs/azureml_py36/lib/python3.6/site-packages (from azureml-dataprep<2.8.0a,>=2.7.0a->azureml-dataset-runtime[fuse]~=1.20.0->azureml-sdk[automl]) (27.0.0)\n",
            "Requirement already satisfied, skipping upgrade: azureml-dataprep-rslex<1.6.0a,>=1.5.0dev0 in /anaconda/envs/azureml_py36/lib/python3.6/site-packages (from azureml-dataprep<2.8.0a,>=2.7.0a->azureml-dataset-runtime[fuse]~=1.20.0->azureml-sdk[automl]) (1.5.0)\n",
            "Requirement already satisfied, skipping upgrade: dotnetcore2<3.0.0,>=2.1.14 in /anaconda/envs/azureml_py36/lib/python3.6/site-packages (from azureml-dataprep<2.8.0a,>=2.7.0a->azureml-dataset-runtime[fuse]~=1.20.0->azureml-sdk[automl]) (2.1.20)\n",
            "Requirement already satisfied, skipping upgrade: azureml-train-restclients-hyperdrive~=1.20.0 in /anaconda/envs/azureml_py36/lib/python3.6/site-packages (from azureml-train-core~=1.20.0->azureml-train~=1.20.0->azureml-sdk[automl]) (1.20.0)\n",
            "Requirement already satisfied, skipping upgrade: six in /anaconda/envs/azureml_py36/lib/python3.6/site-packages (from msrestazure>=0.4.33->azureml-core~=1.20.0->azureml-sdk[automl]) (1.15.0)\n",
            "Requirement already satisfied, skipping upgrade: websocket-client>=0.32.0 in /anaconda/envs/azureml_py36/lib/python3.6/site-packages (from docker->azureml-core~=1.20.0->azureml-sdk[automl]) (0.57.0)\n",
            "Requirement already satisfied, skipping upgrade: backports.weakref in /anaconda/envs/azureml_py36/lib/python3.6/site-packages (from backports.tempfile->azureml-core~=1.20.0->azureml-sdk[automl]) (1.0.post1)\n",
            "Requirement already satisfied, skipping upgrade: importlib-metadata; python_version < \"3.8\" in /anaconda/envs/azureml_py36/lib/python3.6/site-packages (from jsonpickle->azureml-core~=1.20.0->azureml-sdk[automl]) (3.4.0)\n",
            "Requirement already satisfied, skipping upgrade: ruamel.yaml.clib>=0.1.2; platform_python_implementation == \"CPython\" and python_version < \"3.9\" in /anaconda/envs/azureml_py36/lib/python3.6/site-packages (from ruamel.yaml>=0.15.35->azureml-core~=1.20.0->azureml-sdk[automl]) (0.2.2)\n",
            "Requirement already satisfied, skipping upgrade: requests-oauthlib>=0.5.0 in /anaconda/envs/azureml_py36/lib/python3.6/site-packages (from msrest>=0.5.1->azureml-core~=1.20.0->azureml-sdk[automl]) (1.3.0)\n",
            "Requirement already satisfied, skipping upgrade: isodate>=0.6.0 in /anaconda/envs/azureml_py36/lib/python3.6/site-packages (from msrest>=0.5.1->azureml-core~=1.20.0->azureml-sdk[automl]) (0.6.0)\n",
            "Requirement already satisfied, skipping upgrade: certifi>=2017.4.17 in /anaconda/envs/azureml_py36/lib/python3.6/site-packages (from msrest>=0.5.1->azureml-core~=1.20.0->azureml-sdk[automl]) (2020.12.5)\n",
            "Requirement already satisfied, skipping upgrade: idna<3,>=2.5 in /anaconda/envs/azureml_py36/lib/python3.6/site-packages (from requests>=2.19.1->azureml-core~=1.20.0->azureml-sdk[automl]) (2.10)\n",
            "Requirement already satisfied, skipping upgrade: chardet<5,>=3.0.2 in /anaconda/envs/azureml_py36/lib/python3.6/site-packages (from requests>=2.19.1->azureml-core~=1.20.0->azureml-sdk[automl]) (4.0.0)\n",
            "Requirement already satisfied, skipping upgrade: cffi>=1.12 in /anaconda/envs/azureml_py36/lib/python3.6/site-packages (from cryptography!=1.9,!=2.0.*,!=2.1.*,!=2.2.*->azureml-core~=1.20.0->azureml-sdk[automl]) (1.14.4)\n",
            "Requirement already satisfied, skipping upgrade: jeepney>=0.6 in /anaconda/envs/azureml_py36/lib/python3.6/site-packages (from SecretStorage->azureml-core~=1.20.0->azureml-sdk[automl]) (0.6.0)\n",
            "Requirement already satisfied, skipping upgrade: pyasn1>=0.1.1 in /anaconda/envs/azureml_py36/lib/python3.6/site-packages (from ndg-httpsclient->azureml-core~=1.20.0->azureml-sdk[automl]) (0.4.8)\n",
            "Requirement already satisfied, skipping upgrade: applicationinsights in /anaconda/envs/azureml_py36/lib/python3.6/site-packages (from azureml-telemetry~=1.20.0->azureml-train-automl-client~=1.20.0->azureml-sdk[automl]) (0.11.9)\n",
            "Requirement already satisfied, skipping upgrade: lightgbm<=2.3.0,>=2.0.11 in /anaconda/envs/azureml_py36/lib/python3.6/site-packages (from azureml-automl-runtime~=1.20.0->azureml-train-automl~=1.20.0; extra == \"automl\"->azureml-sdk[automl]) (2.3.0)\n",
            "Requirement already satisfied, skipping upgrade: sklearn-pandas<=1.7.0,>=1.4.0 in /anaconda/envs/azureml_py36/lib/python3.6/site-packages (from azureml-automl-runtime~=1.20.0->azureml-train-automl~=1.20.0; extra == \"automl\"->azureml-sdk[automl]) (1.7.0)\n",
            "Requirement already satisfied, skipping upgrade: psutil<6.0.0,>=5.2.2 in /anaconda/envs/azureml_py36/lib/python3.6/site-packages (from azureml-automl-runtime~=1.20.0->azureml-train-automl~=1.20.0; extra == \"automl\"->azureml-sdk[automl]) (5.7.3)\n",
            "Requirement already satisfied, skipping upgrade: scipy<=1.5.2,>=1.0.0 in /anaconda/envs/azureml_py36/lib/python3.6/site-packages (from azureml-automl-runtime~=1.20.0->azureml-train-automl~=1.20.0; extra == \"automl\"->azureml-sdk[automl]) (1.5.2)\n",
            "Requirement already satisfied, skipping upgrade: nimbusml<=1.8.0,>=1.7.1 in /anaconda/envs/azureml_py36/lib/python3.6/site-packages (from azureml-automl-runtime~=1.20.0->azureml-train-automl~=1.20.0; extra == \"automl\"->azureml-sdk[automl]) (1.8.0)\n",
            "Requirement already satisfied, skipping upgrade: statsmodels<=0.10.2,>=0.9.0 in /anaconda/envs/azureml_py36/lib/python3.6/site-packages (from azureml-automl-runtime~=1.20.0->azureml-train-automl~=1.20.0; extra == \"automl\"->azureml-sdk[automl]) (0.10.2)\n",
            "Requirement already satisfied, skipping upgrade: boto3<=1.15.18 in /anaconda/envs/azureml_py36/lib/python3.6/site-packages (from azureml-automl-runtime~=1.20.0->azureml-train-automl~=1.20.0; extra == \"automl\"->azureml-sdk[automl]) (1.15.18)\n",
            "Requirement already satisfied, skipping upgrade: onnxmltools==1.4.1 in /anaconda/envs/azureml_py36/lib/python3.6/site-packages (from azureml-automl-runtime~=1.20.0->azureml-train-automl~=1.20.0; extra == \"automl\"->azureml-sdk[automl]) (1.4.1)\n",
            "Requirement already satisfied, skipping upgrade: onnxconverter-common<=1.6.0,>=1.4.2 in /anaconda/envs/azureml_py36/lib/python3.6/site-packages (from azureml-automl-runtime~=1.20.0->azureml-train-automl~=1.20.0; extra == \"automl\"->azureml-sdk[automl]) (1.6.0)\n",
            "Requirement already satisfied, skipping upgrade: onnx<=1.7.0,>=1.5.0 in /anaconda/envs/azureml_py36/lib/python3.6/site-packages (from azureml-automl-runtime~=1.20.0->azureml-train-automl~=1.20.0; extra == \"automl\"->azureml-sdk[automl]) (1.7.0)\n",
            "Requirement already satisfied, skipping upgrade: botocore<=1.18.18 in /anaconda/envs/azureml_py36/lib/python3.6/site-packages (from azureml-automl-runtime~=1.20.0->azureml-train-automl~=1.20.0; extra == \"automl\"->azureml-sdk[automl]) (1.18.18)\n",
            "Requirement already satisfied, skipping upgrade: gensim<3.9.0 in /anaconda/envs/azureml_py36/lib/python3.6/site-packages (from azureml-automl-runtime~=1.20.0->azureml-train-automl~=1.20.0; extra == \"automl\"->azureml-sdk[automl]) (3.8.3)\n",
            "Requirement already satisfied, skipping upgrade: keras2onnx<=1.6.0,>=1.4.0 in /anaconda/envs/azureml_py36/lib/python3.6/site-packages (from azureml-automl-runtime~=1.20.0->azureml-train-automl~=1.20.0; extra == \"automl\"->azureml-sdk[automl]) (1.6.0)\n",
            "Requirement already satisfied, skipping upgrade: pmdarima==1.1.1 in /anaconda/envs/azureml_py36/lib/python3.6/site-packages (from azureml-automl-runtime~=1.20.0->azureml-train-automl~=1.20.0; extra == \"automl\"->azureml-sdk[automl]) (1.1.1)\n",
            "Requirement already satisfied, skipping upgrade: dill<0.4.0,>=0.2.8 in /anaconda/envs/azureml_py36/lib/python3.6/site-packages (from azureml-automl-runtime~=1.20.0->azureml-train-automl~=1.20.0; extra == \"automl\"->azureml-sdk[automl]) (0.3.3)\n",
            "Requirement already satisfied, skipping upgrade: py-cpuinfo==5.0.0 in /anaconda/envs/azureml_py36/lib/python3.6/site-packages (from azureml-automl-runtime~=1.20.0->azureml-train-automl~=1.20.0; extra == \"automl\"->azureml-sdk[automl]) (5.0.0)\n",
            "Requirement already satisfied, skipping upgrade: pandas<1.0.0,>=0.21.0 in /anaconda/envs/azureml_py36/lib/python3.6/site-packages (from azureml-automl-runtime~=1.20.0->azureml-train-automl~=1.20.0; extra == \"automl\"->azureml-sdk[automl]) (0.25.3)\n",
            "Requirement already satisfied, skipping upgrade: scikit-learn<0.23.0,>=0.19.0 in /anaconda/envs/azureml_py36/lib/python3.6/site-packages (from azureml-automl-runtime~=1.20.0->azureml-train-automl~=1.20.0; extra == \"automl\"->azureml-sdk[automl]) (0.22.2.post1)\n",
            "Requirement already satisfied, skipping upgrade: onnxruntime==1.3.0 in /anaconda/envs/azureml_py36/lib/python3.6/site-packages (from azureml-automl-runtime~=1.20.0->azureml-train-automl~=1.20.0; extra == \"automl\"->azureml-sdk[automl]) (1.3.0)\n",
            "Requirement already satisfied, skipping upgrade: smart-open<=1.9.0 in /anaconda/envs/azureml_py36/lib/python3.6/site-packages (from azureml-automl-runtime~=1.20.0->azureml-train-automl~=1.20.0; extra == \"automl\"->azureml-sdk[automl]) (1.9.0)\n",
            "Requirement already satisfied, skipping upgrade: joblib==0.14.1 in /anaconda/envs/azureml_py36/lib/python3.6/site-packages (from azureml-automl-runtime~=1.20.0->azureml-train-automl~=1.20.0; extra == \"automl\"->azureml-sdk[automl]) (0.14.1)\n",
            "Requirement already satisfied, skipping upgrade: skl2onnx==1.4.9 in /anaconda/envs/azureml_py36/lib/python3.6/site-packages (from azureml-automl-runtime~=1.20.0->azureml-train-automl~=1.20.0; extra == \"automl\"->azureml-sdk[automl]) (1.4.9)\n",
            "Requirement already satisfied, skipping upgrade: azure-storage-queue~=12.1 in /anaconda/envs/azureml_py36/lib/python3.6/site-packages (from azureml-train-automl-runtime~=1.20.0->azureml-train-automl~=1.20.0; extra == \"automl\"->azureml-sdk[automl]) (12.1.4)\n",
            "Requirement already satisfied, skipping upgrade: azureml-defaults~=1.20.0 in /anaconda/envs/azureml_py36/lib/python3.6/site-packages (from azureml-train-automl-runtime~=1.20.0->azureml-train-automl~=1.20.0; extra == \"automl\"->azureml-sdk[automl]) (1.20.0)\n",
            "Requirement already satisfied, skipping upgrade: azureml-interpret~=1.20.0 in /anaconda/envs/azureml_py36/lib/python3.6/site-packages (from azureml-train-automl-runtime~=1.20.0->azureml-train-automl~=1.20.0; extra == \"automl\"->azureml-sdk[automl]) (1.20.0)\n",
            "Requirement already satisfied, skipping upgrade: jinja2<=2.11.2 in /anaconda/envs/azureml_py36/lib/python3.6/site-packages (from azureml-train-automl-runtime~=1.20.0->azureml-train-automl~=1.20.0; extra == \"automl\"->azureml-sdk[automl]) (2.11.2)\n",
            "Requirement already satisfied, skipping upgrade: msal<2.0.0,>=1.3.0 in /anaconda/envs/azureml_py36/lib/python3.6/site-packages (from azure-identity<1.5.0,>=1.2.0->azureml-dataprep<2.8.0a,>=2.7.0a->azureml-dataset-runtime[fuse]~=1.20.0->azureml-sdk[automl]) (1.8.0)\n",
            "Requirement already satisfied, skipping upgrade: azure-core<2.0.0,>=1.0.0 in /anaconda/envs/azureml_py36/lib/python3.6/site-packages (from azure-identity<1.5.0,>=1.2.0->azureml-dataprep<2.8.0a,>=2.7.0a->azureml-dataset-runtime[fuse]~=1.20.0->azureml-sdk[automl]) (1.10.0)\n",
            "Requirement already satisfied, skipping upgrade: msal-extensions~=0.2.2 in /anaconda/envs/azureml_py36/lib/python3.6/site-packages (from azure-identity<1.5.0,>=1.2.0->azureml-dataprep<2.8.0a,>=2.7.0a->azureml-dataset-runtime[fuse]~=1.20.0->azureml-sdk[automl]) (0.2.2)\n",
            "Requirement already satisfied, skipping upgrade: distro>=1.2.0 in /anaconda/envs/azureml_py36/lib/python3.6/site-packages (from dotnetcore2<3.0.0,>=2.1.14->azureml-dataprep<2.8.0a,>=2.7.0a->azureml-dataset-runtime[fuse]~=1.20.0->azureml-sdk[automl]) (1.5.0)\n",
            "Requirement already satisfied, skipping upgrade: zipp>=0.5 in /anaconda/envs/azureml_py36/lib/python3.6/site-packages (from importlib-metadata; python_version < \"3.8\"->jsonpickle->azureml-core~=1.20.0->azureml-sdk[automl]) (3.4.0)\n",
            "Requirement already satisfied, skipping upgrade: typing-extensions>=3.6.4; python_version < \"3.8\" in /anaconda/envs/azureml_py36/lib/python3.6/site-packages (from importlib-metadata; python_version < \"3.8\"->jsonpickle->azureml-core~=1.20.0->azureml-sdk[automl]) (3.7.4.3)\n",
            "Requirement already satisfied, skipping upgrade: oauthlib>=3.0.0 in /anaconda/envs/azureml_py36/lib/python3.6/site-packages (from requests-oauthlib>=0.5.0->msrest>=0.5.1->azureml-core~=1.20.0->azureml-sdk[automl]) (3.1.0)\n",
            "Requirement already satisfied, skipping upgrade: pycparser in /anaconda/envs/azureml_py36/lib/python3.6/site-packages (from cffi>=1.12->cryptography!=1.9,!=2.0.*,!=2.1.*,!=2.2.*->azureml-core~=1.20.0->azureml-sdk[automl]) (2.20)\n",
            "Requirement already satisfied, skipping upgrade: patsy>=0.4.0 in /anaconda/envs/azureml_py36/lib/python3.6/site-packages (from statsmodels<=0.10.2,>=0.9.0->azureml-automl-runtime~=1.20.0->azureml-train-automl~=1.20.0; extra == \"automl\"->azureml-sdk[automl]) (0.5.1)\n",
            "Requirement already satisfied, skipping upgrade: s3transfer<0.4.0,>=0.3.0 in /anaconda/envs/azureml_py36/lib/python3.6/site-packages (from boto3<=1.15.18->azureml-automl-runtime~=1.20.0->azureml-train-automl~=1.20.0; extra == \"automl\"->azureml-sdk[automl]) (0.3.3)\n",
            "Requirement already satisfied, skipping upgrade: protobuf in /anaconda/envs/azureml_py36/lib/python3.6/site-packages (from onnxmltools==1.4.1->azureml-automl-runtime~=1.20.0->azureml-train-automl~=1.20.0; extra == \"automl\"->azureml-sdk[automl]) (3.14.0)\n",
            "Requirement already satisfied, skipping upgrade: fire in /anaconda/envs/azureml_py36/lib/python3.6/site-packages (from keras2onnx<=1.6.0,>=1.4.0->azureml-automl-runtime~=1.20.0->azureml-train-automl~=1.20.0; extra == \"automl\"->azureml-sdk[automl]) (0.3.1)\n",
            "Requirement already satisfied, skipping upgrade: Cython>=0.29 in /anaconda/envs/azureml_py36/lib/python3.6/site-packages (from pmdarima==1.1.1->azureml-automl-runtime~=1.20.0->azureml-train-automl~=1.20.0; extra == \"automl\"->azureml-sdk[automl]) (0.29.21)\n",
            "Requirement already satisfied, skipping upgrade: boto>=2.32 in /anaconda/envs/azureml_py36/lib/python3.6/site-packages (from smart-open<=1.9.0->azureml-automl-runtime~=1.20.0->azureml-train-automl~=1.20.0; extra == \"automl\"->azureml-sdk[automl]) (2.49.0)\n",
            "Requirement already satisfied, skipping upgrade: gunicorn==19.9.0 in /anaconda/envs/azureml_py36/lib/python3.6/site-packages (from azureml-defaults~=1.20.0->azureml-train-automl-runtime~=1.20.0->azureml-train-automl~=1.20.0; extra == \"automl\"->azureml-sdk[automl]) (19.9.0)\n",
            "Requirement already satisfied, skipping upgrade: flask==1.0.3 in /anaconda/envs/azureml_py36/lib/python3.6/site-packages (from azureml-defaults~=1.20.0->azureml-train-automl-runtime~=1.20.0->azureml-train-automl~=1.20.0; extra == \"automl\"->azureml-sdk[automl]) (1.0.3)\n",
            "Requirement already satisfied, skipping upgrade: configparser==3.7.4 in /anaconda/envs/azureml_py36/lib/python3.6/site-packages (from azureml-defaults~=1.20.0->azureml-train-automl-runtime~=1.20.0->azureml-train-automl~=1.20.0; extra == \"automl\"->azureml-sdk[automl]) (3.7.4)\n",
            "Requirement already satisfied, skipping upgrade: werkzeug<=1.0.1,>=0.16.1 in /anaconda/envs/azureml_py36/lib/python3.6/site-packages (from azureml-defaults~=1.20.0->azureml-train-automl-runtime~=1.20.0->azureml-train-automl~=1.20.0; extra == \"automl\"->azureml-sdk[automl]) (1.0.1)\n",
            "Requirement already satisfied, skipping upgrade: azureml-model-management-sdk==1.0.1b6.post1 in /anaconda/envs/azureml_py36/lib/python3.6/site-packages (from azureml-defaults~=1.20.0->azureml-train-automl-runtime~=1.20.0->azureml-train-automl~=1.20.0; extra == \"automl\"->azureml-sdk[automl]) (1.0.1b6.post1)\n",
            "Requirement already satisfied, skipping upgrade: json-logging-py==0.2 in /anaconda/envs/azureml_py36/lib/python3.6/site-packages (from azureml-defaults~=1.20.0->azureml-train-automl-runtime~=1.20.0->azureml-train-automl~=1.20.0; extra == \"automl\"->azureml-sdk[automl]) (0.2)\n",
            "Requirement already satisfied, skipping upgrade: interpret-community==0.15.* in /anaconda/envs/azureml_py36/lib/python3.6/site-packages (from azureml-interpret~=1.20.0->azureml-train-automl-runtime~=1.20.0->azureml-train-automl~=1.20.0; extra == \"automl\"->azureml-sdk[automl]) (0.15.4)\n",
            "Requirement already satisfied, skipping upgrade: MarkupSafe>=0.23 in /anaconda/envs/azureml_py36/lib/python3.6/site-packages (from jinja2<=2.11.2->azureml-train-automl-runtime~=1.20.0->azureml-train-automl~=1.20.0; extra == \"automl\"->azureml-sdk[automl]) (1.1.1)\n",
            "Requirement already satisfied, skipping upgrade: portalocker~=1.0; platform_system != \"Windows\" in /anaconda/envs/azureml_py36/lib/python3.6/site-packages (from msal-extensions~=0.2.2->azure-identity<1.5.0,>=1.2.0->azureml-dataprep<2.8.0a,>=2.7.0a->azureml-dataset-runtime[fuse]~=1.20.0->azureml-sdk[automl]) (1.7.1)\n",
            "Requirement already satisfied, skipping upgrade: termcolor in /anaconda/envs/azureml_py36/lib/python3.6/site-packages (from fire->keras2onnx<=1.6.0,>=1.4.0->azureml-automl-runtime~=1.20.0->azureml-train-automl~=1.20.0; extra == \"automl\"->azureml-sdk[automl]) (1.1.0)\n",
            "Requirement already satisfied, skipping upgrade: click>=5.1 in /anaconda/envs/azureml_py36/lib/python3.6/site-packages (from flask==1.0.3->azureml-defaults~=1.20.0->azureml-train-automl-runtime~=1.20.0->azureml-train-automl~=1.20.0; extra == \"automl\"->azureml-sdk[automl]) (7.1.2)\n",
            "Requirement already satisfied, skipping upgrade: itsdangerous>=0.24 in /anaconda/envs/azureml_py36/lib/python3.6/site-packages (from flask==1.0.3->azureml-defaults~=1.20.0->azureml-train-automl-runtime~=1.20.0->azureml-train-automl~=1.20.0; extra == \"automl\"->azureml-sdk[automl]) (1.1.0)\n",
            "Requirement already satisfied, skipping upgrade: liac-arff>=2.1.1 in /anaconda/envs/azureml_py36/lib/python3.6/site-packages (from azureml-model-management-sdk==1.0.1b6.post1->azureml-defaults~=1.20.0->azureml-train-automl-runtime~=1.20.0->azureml-train-automl~=1.20.0; extra == \"automl\"->azureml-sdk[automl]) (2.5.0)\n",
            "Requirement already satisfied, skipping upgrade: shap<=0.34.0,>=0.20.0 in /anaconda/envs/azureml_py36/lib/python3.6/site-packages (from interpret-community==0.15.*->azureml-interpret~=1.20.0->azureml-train-automl-runtime~=1.20.0->azureml-train-automl~=1.20.0; extra == \"automl\"->azureml-sdk[automl]) (0.34.0)\n",
            "Requirement already satisfied, skipping upgrade: interpret-core[required]<=0.2.1,>=0.1.20 in /anaconda/envs/azureml_py36/lib/python3.6/site-packages (from interpret-community==0.15.*->azureml-interpret~=1.20.0->azureml-train-automl-runtime~=1.20.0->azureml-train-automl~=1.20.0; extra == \"automl\"->azureml-sdk[automl]) (0.2.1)\n",
            "Requirement already satisfied, skipping upgrade: packaging in /anaconda/envs/azureml_py36/lib/python3.6/site-packages (from interpret-community==0.15.*->azureml-interpret~=1.20.0->azureml-train-automl-runtime~=1.20.0->azureml-train-automl~=1.20.0; extra == \"automl\"->azureml-sdk[automl]) (20.7)\n",
            "Requirement already satisfied, skipping upgrade: tqdm>4.25.0 in /anaconda/envs/azureml_py36/lib/python3.6/site-packages (from shap<=0.34.0,>=0.20.0->interpret-community==0.15.*->azureml-interpret~=1.20.0->azureml-train-automl-runtime~=1.20.0->azureml-train-automl~=1.20.0; extra == \"automl\"->azureml-sdk[automl]) (4.54.0)\n",
            "Requirement already satisfied, skipping upgrade: pyparsing>=2.0.2 in /anaconda/envs/azureml_py36/lib/python3.6/site-packages (from packaging->interpret-community==0.15.*->azureml-interpret~=1.20.0->azureml-train-automl-runtime~=1.20.0->azureml-train-automl~=1.20.0; extra == \"automl\"->azureml-sdk[automl]) (2.4.7)\n"
          ]
        }
      ],
      "execution_count": 3,
      "metadata": {
        "collapsed": true,
        "jupyter": {
          "source_hidden": false,
          "outputs_hidden": false
        },
        "nteract": {
          "transient": {
            "deleting": false
          }
        }
      }
    },
    {
      "cell_type": "code",
      "source": [
        "import azureml.core\r\n",
        "print(azureml.core.VERSION)"
      ],
      "outputs": [
        {
          "output_type": "stream",
          "name": "stdout",
          "text": [
            "1.19.0\n"
          ]
        }
      ],
      "execution_count": 3,
      "metadata": {
        "collapsed": true,
        "jupyter": {
          "source_hidden": false,
          "outputs_hidden": false
        },
        "nteract": {
          "transient": {
            "deleting": false
          }
        },
        "gather": {
          "logged": 1610985435862
        }
      }
    },
    {
      "cell_type": "code",
      "source": [
        "from azureml.core import Workspace, Experiment\r\n",
        "\r\n",
        "ws = Workspace.get(name=\"quick-starts-ws-135226\")\r\n",
        "exp = Experiment(workspace=ws, name=\"quick-starts-ws-135226\")\r\n",
        "\r\n",
        "print('Workspace name: ' + ws.name, \r\n",
        "      'Azure region: ' + ws.location, \r\n",
        "      'Subscription id: ' + ws.subscription_id, \r\n",
        "      'Resource group: ' + ws.resource_group, sep = '\\n')\r\n",
        "\r\n",
        "run = exp.start_logging()"
      ],
      "outputs": [
        {
          "output_type": "stream",
          "name": "stdout",
          "text": [
            "Workspace name: quick-starts-ws-135226\n",
            "Azure region: southcentralus\n",
            "Subscription id: b968fb36-f06a-4c76-a15f-afab68ae7667\n",
            "Resource group: aml-quickstarts-135226\n"
          ]
        }
      ],
      "execution_count": 2,
      "metadata": {
        "gather": {
          "logged": 1610985423771
        },
        "jupyter": {
          "outputs_hidden": false,
          "source_hidden": false
        },
        "nteract": {
          "transient": {
            "deleting": false
          }
        }
      }
    },
    {
      "cell_type": "code",
      "source": [
        "from azureml.core.compute import ComputeTarget, AmlCompute\r\n",
        "\r\n",
        "# TODO: Create compute cluster\r\n",
        "# Use vm_size = \"Standard_D2_V2\" in your provisioning configuration.\r\n",
        "# max_nodes should be no greater than 4.\r\n",
        "compute_target_name = \"vpcompute\"\r\n",
        "compute_cluster = AmlCompute.provisioning_configuration(vm_size = \"Standard_D2_V2\", max_nodes = 4)\r\n",
        "my_target =  ComputeTarget.create(ws, compute_target_name, compute_cluster)\r\n",
        "### YOUR CODE HERE ###"
      ],
      "outputs": [],
      "execution_count": 4,
      "metadata": {
        "collapsed": true,
        "jupyter": {
          "source_hidden": false,
          "outputs_hidden": false
        },
        "nteract": {
          "transient": {
            "deleting": false
          }
        },
        "gather": {
          "logged": 1610985460585
        }
      }
    },
    {
      "cell_type": "code",
      "source": [
        "import logging\r\n",
        "import os\r\n",
        "import csv\r\n",
        "\r\n",
        "from matplotlib import pyplot as plt\r\n",
        "import numpy as np\r\n",
        "import pandas as pd\r\n",
        "from sklearn import datasets\r\n",
        "import pkg_resources\r\n",
        "\r\n",
        "import azureml.core\r\n",
        "from azureml.core.experiment import Experiment\r\n",
        "from azureml.core.workspace import Workspace\r\n",
        "from azureml.train.automl import AutoMLConfig\r\n",
        "from azureml.core.dataset import Dataset\r\n",
        "\r\n",
        "from azureml.pipeline.steps import AutoMLStep\r\n",
        "\r\n",
        "\r\n",
        "\r\n",
        "# Check core SDK version number\r\n",
        "print(\"SDK version:\", azureml.core.VERSION)"
      ],
      "outputs": [
        {
          "output_type": "stream",
          "name": "stdout",
          "text": [
            "SDK version: 1.19.0\n"
          ]
        }
      ],
      "execution_count": 5,
      "metadata": {
        "collapsed": true,
        "jupyter": {
          "source_hidden": false,
          "outputs_hidden": false
        },
        "nteract": {
          "transient": {
            "deleting": false
          }
        },
        "gather": {
          "logged": 1610985483484
        }
      }
    },
    {
      "cell_type": "code",
      "source": [
        "#importing the libraries that we use\r\n",
        "import pandas as pd \r\n",
        "import numpy as np\r\n",
        "import matplotlib.pyplot as plt\r\n",
        "#import seaborn as sns\r\n",
        "from sklearn.model_selection import train_test_split\r\n",
        "from sklearn import metrics\r\n",
        "from sklearn.linear_model import LogisticRegression\r\n",
        "from sklearn.preprocessing import StandardScaler\r\n",
        "#from imblearn.over_sampling import SMOTE\r\n",
        "#from imblearn.under_sampling import RandomUnderSampler\r\n",
        "from sklearn.neighbors import KNeighborsClassifier\r\n",
        "#from sklearn.naive_bayes import GaussianNB\r\n",
        "#from sklearn.svm import SVC\r\n",
        "#sns.set(color_codes=True) # adds a nice background to the graphs\r\n",
        "%matplotlib inline"
      ],
      "outputs": [],
      "execution_count": 7,
      "metadata": {
        "collapsed": true,
        "jupyter": {
          "source_hidden": false,
          "outputs_hidden": false
        },
        "nteract": {
          "transient": {
            "deleting": false
          }
        },
        "gather": {
          "logged": 1610985501670
        }
      }
    },
    {
      "cell_type": "markdown",
      "source": [
        "## Dataset\n",
        "\n",
        "### Overview\n",
        "TODO: In this markdown cell, give an overview of the dataset you are using. Also mention the task you will be performing.\n",
        "\n",
        "\n",
        "TODO: Get data. In the cell below, write code to access the data you will be using in this project. Remember that the dataset needs to be external."
      ],
      "metadata": {}
    },
    {
      "cell_type": "code",
      "source": [
        "from azureml.core.dataset import Dataset\r\n",
        "import pandas as pd\r\n",
        "\r\n",
        "dataset = Dataset.get_by_name(ws, name = 'Personal_loan')\r\n",
        "P_loan = dataset.to_pandas_dataframe()\r\n",
        "P_loan"
      ],
      "outputs": [
        {
          "output_type": "execute_result",
          "execution_count": 8,
          "data": {
            "text/plain": "        ID  Age  Experience  Income  ZIP Code  Family  CCAvg  Education  \\\n0        1   25           1      49     91107       4    1.6          1   \n1        2   45          19      34     90089       3    1.5          1   \n2        3   39          15      11     94720       1    1.0          1   \n3        4   35           9     100     94112       1    2.7          2   \n4        5   35           8      45     91330       4    1.0          2   \n...    ...  ...         ...     ...       ...     ...    ...        ...   \n4995  4996   29           3      40     92697       1    1.9          3   \n4996  4997   30           4      15     92037       4    0.4          1   \n4997  4998   63          39      24     93023       2    0.3          3   \n4998  4999   65          40      49     90034       3    0.5          2   \n4999  5000   28           4      83     92612       3    0.8          1   \n\n      Mortgage  Personal Loan  Securities Account  CD Account  Online  \\\n0            0              0                   1           0       0   \n1            0              0                   1           0       0   \n2            0              0                   0           0       0   \n3            0              0                   0           0       0   \n4            0              0                   0           0       0   \n...        ...            ...                 ...         ...     ...   \n4995         0              0                   0           0       1   \n4996        85              0                   0           0       1   \n4997         0              0                   0           0       0   \n4998         0              0                   0           0       1   \n4999         0              0                   0           0       1   \n\n      CreditCard  \n0              0  \n1              0  \n2              0  \n3              0  \n4              1  \n...          ...  \n4995           0  \n4996           0  \n4997           0  \n4998           0  \n4999           1  \n\n[5000 rows x 14 columns]",
            "text/html": "<div>\n<style scoped>\n    .dataframe tbody tr th:only-of-type {\n        vertical-align: middle;\n    }\n\n    .dataframe tbody tr th {\n        vertical-align: top;\n    }\n\n    .dataframe thead th {\n        text-align: right;\n    }\n</style>\n<table border=\"1\" class=\"dataframe\">\n  <thead>\n    <tr style=\"text-align: right;\">\n      <th></th>\n      <th>ID</th>\n      <th>Age</th>\n      <th>Experience</th>\n      <th>Income</th>\n      <th>ZIP Code</th>\n      <th>Family</th>\n      <th>CCAvg</th>\n      <th>Education</th>\n      <th>Mortgage</th>\n      <th>Personal Loan</th>\n      <th>Securities Account</th>\n      <th>CD Account</th>\n      <th>Online</th>\n      <th>CreditCard</th>\n    </tr>\n  </thead>\n  <tbody>\n    <tr>\n      <th>0</th>\n      <td>1</td>\n      <td>25</td>\n      <td>1</td>\n      <td>49</td>\n      <td>91107</td>\n      <td>4</td>\n      <td>1.6</td>\n      <td>1</td>\n      <td>0</td>\n      <td>0</td>\n      <td>1</td>\n      <td>0</td>\n      <td>0</td>\n      <td>0</td>\n    </tr>\n    <tr>\n      <th>1</th>\n      <td>2</td>\n      <td>45</td>\n      <td>19</td>\n      <td>34</td>\n      <td>90089</td>\n      <td>3</td>\n      <td>1.5</td>\n      <td>1</td>\n      <td>0</td>\n      <td>0</td>\n      <td>1</td>\n      <td>0</td>\n      <td>0</td>\n      <td>0</td>\n    </tr>\n    <tr>\n      <th>2</th>\n      <td>3</td>\n      <td>39</td>\n      <td>15</td>\n      <td>11</td>\n      <td>94720</td>\n      <td>1</td>\n      <td>1.0</td>\n      <td>1</td>\n      <td>0</td>\n      <td>0</td>\n      <td>0</td>\n      <td>0</td>\n      <td>0</td>\n      <td>0</td>\n    </tr>\n    <tr>\n      <th>3</th>\n      <td>4</td>\n      <td>35</td>\n      <td>9</td>\n      <td>100</td>\n      <td>94112</td>\n      <td>1</td>\n      <td>2.7</td>\n      <td>2</td>\n      <td>0</td>\n      <td>0</td>\n      <td>0</td>\n      <td>0</td>\n      <td>0</td>\n      <td>0</td>\n    </tr>\n    <tr>\n      <th>4</th>\n      <td>5</td>\n      <td>35</td>\n      <td>8</td>\n      <td>45</td>\n      <td>91330</td>\n      <td>4</td>\n      <td>1.0</td>\n      <td>2</td>\n      <td>0</td>\n      <td>0</td>\n      <td>0</td>\n      <td>0</td>\n      <td>0</td>\n      <td>1</td>\n    </tr>\n    <tr>\n      <th>...</th>\n      <td>...</td>\n      <td>...</td>\n      <td>...</td>\n      <td>...</td>\n      <td>...</td>\n      <td>...</td>\n      <td>...</td>\n      <td>...</td>\n      <td>...</td>\n      <td>...</td>\n      <td>...</td>\n      <td>...</td>\n      <td>...</td>\n      <td>...</td>\n    </tr>\n    <tr>\n      <th>4995</th>\n      <td>4996</td>\n      <td>29</td>\n      <td>3</td>\n      <td>40</td>\n      <td>92697</td>\n      <td>1</td>\n      <td>1.9</td>\n      <td>3</td>\n      <td>0</td>\n      <td>0</td>\n      <td>0</td>\n      <td>0</td>\n      <td>1</td>\n      <td>0</td>\n    </tr>\n    <tr>\n      <th>4996</th>\n      <td>4997</td>\n      <td>30</td>\n      <td>4</td>\n      <td>15</td>\n      <td>92037</td>\n      <td>4</td>\n      <td>0.4</td>\n      <td>1</td>\n      <td>85</td>\n      <td>0</td>\n      <td>0</td>\n      <td>0</td>\n      <td>1</td>\n      <td>0</td>\n    </tr>\n    <tr>\n      <th>4997</th>\n      <td>4998</td>\n      <td>63</td>\n      <td>39</td>\n      <td>24</td>\n      <td>93023</td>\n      <td>2</td>\n      <td>0.3</td>\n      <td>3</td>\n      <td>0</td>\n      <td>0</td>\n      <td>0</td>\n      <td>0</td>\n      <td>0</td>\n      <td>0</td>\n    </tr>\n    <tr>\n      <th>4998</th>\n      <td>4999</td>\n      <td>65</td>\n      <td>40</td>\n      <td>49</td>\n      <td>90034</td>\n      <td>3</td>\n      <td>0.5</td>\n      <td>2</td>\n      <td>0</td>\n      <td>0</td>\n      <td>0</td>\n      <td>0</td>\n      <td>1</td>\n      <td>0</td>\n    </tr>\n    <tr>\n      <th>4999</th>\n      <td>5000</td>\n      <td>28</td>\n      <td>4</td>\n      <td>83</td>\n      <td>92612</td>\n      <td>3</td>\n      <td>0.8</td>\n      <td>1</td>\n      <td>0</td>\n      <td>0</td>\n      <td>0</td>\n      <td>0</td>\n      <td>1</td>\n      <td>1</td>\n    </tr>\n  </tbody>\n</table>\n<p>5000 rows × 14 columns</p>\n</div>"
          },
          "metadata": {}
        }
      ],
      "execution_count": 8,
      "metadata": {
        "collapsed": true,
        "jupyter": {
          "source_hidden": false,
          "outputs_hidden": false
        },
        "nteract": {
          "transient": {
            "deleting": false
          }
        },
        "gather": {
          "logged": 1610985517083
        }
      }
    },
    {
      "cell_type": "code",
      "source": [
        "avg_Experience = P_loan[\"Experience\"].mean()\r\n",
        "print(f\"Average Experience {avg_Experience}\")\r\n",
        "P_loan[\"Experience\"] = P_loan[\"Experience\"].apply(lambda x : avg_Experience if x<0 else x)"
      ],
      "outputs": [
        {
          "output_type": "stream",
          "name": "stdout",
          "text": [
            "Average Experience 20.1046\n"
          ]
        }
      ],
      "execution_count": 9,
      "metadata": {
        "collapsed": true,
        "jupyter": {
          "source_hidden": false,
          "outputs_hidden": false
        },
        "nteract": {
          "transient": {
            "deleting": false
          }
        },
        "gather": {
          "logged": 1610985527680
        }
      }
    },
    {
      "cell_type": "code",
      "source": [
        "q1 = P_loan[\"Income\"].quantile(0.25)\r\n",
        "q3 = P_loan[\"Income\"].quantile(0.75)\r\n",
        "iqr = q3 - q1\r\n",
        "border = q1 + 1.5 * iqr\r\n",
        "P_inc = P_loan[\"Income\"].apply(lambda x : border if x>border else x)\r\n",
        "P_inc\r\n",
        "\r\n",
        "q1 = P_loan[\"Mortgage\"].quantile(0.25)\r\n",
        "q3 = P_loan[\"Mortgage\"].quantile(0.75)\r\n",
        "iqr = q3 - q1\r\n",
        "border = q1 + 1.5 * iqr\r\n",
        "P_mortgage = P_loan[\"Mortgage\"].apply(lambda x : border if x>border else x)\r\n",
        "P_mortgage"
      ],
      "outputs": [
        {
          "output_type": "execute_result",
          "execution_count": 10,
          "data": {
            "text/plain": "0        0.0\n1        0.0\n2        0.0\n3        0.0\n4        0.0\n        ... \n4995     0.0\n4996    85.0\n4997     0.0\n4998     0.0\n4999     0.0\nName: Mortgage, Length: 5000, dtype: float64"
          },
          "metadata": {}
        }
      ],
      "execution_count": 10,
      "metadata": {
        "collapsed": true,
        "jupyter": {
          "source_hidden": false,
          "outputs_hidden": false
        },
        "nteract": {
          "transient": {
            "deleting": false
          }
        },
        "gather": {
          "logged": 1610985535129
        }
      }
    },
    {
      "cell_type": "code",
      "source": [
        "P_loan[\"Income\"]=P_inc\r\n",
        "P_loan[\"Mortgage\"]=P_mortgage\r\n",
        "P_loan.head()"
      ],
      "outputs": [
        {
          "output_type": "execute_result",
          "execution_count": 11,
          "data": {
            "text/plain": "   ID  Age  Experience  Income  ZIP Code  Family  CCAvg  Education  Mortgage  \\\n0   1   25         1.0    49.0     91107       4    1.6          1       0.0   \n1   2   45        19.0    34.0     90089       3    1.5          1       0.0   \n2   3   39        15.0    11.0     94720       1    1.0          1       0.0   \n3   4   35         9.0   100.0     94112       1    2.7          2       0.0   \n4   5   35         8.0    45.0     91330       4    1.0          2       0.0   \n\n   Personal Loan  Securities Account  CD Account  Online  CreditCard  \n0              0                   1           0       0           0  \n1              0                   1           0       0           0  \n2              0                   0           0       0           0  \n3              0                   0           0       0           0  \n4              0                   0           0       0           1  ",
            "text/html": "<div>\n<style scoped>\n    .dataframe tbody tr th:only-of-type {\n        vertical-align: middle;\n    }\n\n    .dataframe tbody tr th {\n        vertical-align: top;\n    }\n\n    .dataframe thead th {\n        text-align: right;\n    }\n</style>\n<table border=\"1\" class=\"dataframe\">\n  <thead>\n    <tr style=\"text-align: right;\">\n      <th></th>\n      <th>ID</th>\n      <th>Age</th>\n      <th>Experience</th>\n      <th>Income</th>\n      <th>ZIP Code</th>\n      <th>Family</th>\n      <th>CCAvg</th>\n      <th>Education</th>\n      <th>Mortgage</th>\n      <th>Personal Loan</th>\n      <th>Securities Account</th>\n      <th>CD Account</th>\n      <th>Online</th>\n      <th>CreditCard</th>\n    </tr>\n  </thead>\n  <tbody>\n    <tr>\n      <th>0</th>\n      <td>1</td>\n      <td>25</td>\n      <td>1.0</td>\n      <td>49.0</td>\n      <td>91107</td>\n      <td>4</td>\n      <td>1.6</td>\n      <td>1</td>\n      <td>0.0</td>\n      <td>0</td>\n      <td>1</td>\n      <td>0</td>\n      <td>0</td>\n      <td>0</td>\n    </tr>\n    <tr>\n      <th>1</th>\n      <td>2</td>\n      <td>45</td>\n      <td>19.0</td>\n      <td>34.0</td>\n      <td>90089</td>\n      <td>3</td>\n      <td>1.5</td>\n      <td>1</td>\n      <td>0.0</td>\n      <td>0</td>\n      <td>1</td>\n      <td>0</td>\n      <td>0</td>\n      <td>0</td>\n    </tr>\n    <tr>\n      <th>2</th>\n      <td>3</td>\n      <td>39</td>\n      <td>15.0</td>\n      <td>11.0</td>\n      <td>94720</td>\n      <td>1</td>\n      <td>1.0</td>\n      <td>1</td>\n      <td>0.0</td>\n      <td>0</td>\n      <td>0</td>\n      <td>0</td>\n      <td>0</td>\n      <td>0</td>\n    </tr>\n    <tr>\n      <th>3</th>\n      <td>4</td>\n      <td>35</td>\n      <td>9.0</td>\n      <td>100.0</td>\n      <td>94112</td>\n      <td>1</td>\n      <td>2.7</td>\n      <td>2</td>\n      <td>0.0</td>\n      <td>0</td>\n      <td>0</td>\n      <td>0</td>\n      <td>0</td>\n      <td>0</td>\n    </tr>\n    <tr>\n      <th>4</th>\n      <td>5</td>\n      <td>35</td>\n      <td>8.0</td>\n      <td>45.0</td>\n      <td>91330</td>\n      <td>4</td>\n      <td>1.0</td>\n      <td>2</td>\n      <td>0.0</td>\n      <td>0</td>\n      <td>0</td>\n      <td>0</td>\n      <td>0</td>\n      <td>1</td>\n    </tr>\n  </tbody>\n</table>\n</div>"
          },
          "metadata": {}
        }
      ],
      "execution_count": 11,
      "metadata": {
        "collapsed": true,
        "jupyter": {
          "source_hidden": false,
          "outputs_hidden": false
        },
        "nteract": {
          "transient": {
            "deleting": false
          }
        },
        "gather": {
          "logged": 1610985542529
        }
      }
    },
    {
      "cell_type": "code",
      "source": [
        "P_loan[\"Mortgage\"]= np.log1p(P_loan[\"Mortgage\"])"
      ],
      "outputs": [],
      "execution_count": 12,
      "metadata": {
        "collapsed": true,
        "jupyter": {
          "source_hidden": false,
          "outputs_hidden": false
        },
        "nteract": {
          "transient": {
            "deleting": false
          }
        },
        "gather": {
          "logged": 1610985549536
        }
      }
    },
    {
      "cell_type": "code",
      "source": [
        "scalar = StandardScaler()\r\n",
        "P_loan[\"Experience\"]=scalar.fit_transform(P_loan[[\"Experience\"]])\r\n",
        "P_loan[\"Income\"]=scalar.fit_transform(P_loan[[\"Income\"]])\r\n",
        "P_loan[\"CCAvg\"]=scalar.fit_transform(P_loan[[\"CCAvg\"]])\r\n",
        "P_loan[\"Mortgage\"]=scalar.fit_transform(P_loan[[\"Mortgage\"]])"
      ],
      "outputs": [],
      "execution_count": 13,
      "metadata": {
        "collapsed": true,
        "jupyter": {
          "source_hidden": false,
          "outputs_hidden": false
        },
        "nteract": {
          "transient": {
            "deleting": false
          }
        },
        "gather": {
          "logged": 1610985553592
        }
      }
    },
    {
      "cell_type": "code",
      "source": [
        "ws = Workspace.from_config()\n",
        "\n",
        "# choose a name for experiment\n",
        "experiment_name = 'Personal_loan_experiment'\n",
        "\n",
        "experiment=Experiment(ws, experiment_name)"
      ],
      "outputs": [],
      "execution_count": 14,
      "metadata": {
        "gather": {
          "logged": 1610985564049
        },
        "jupyter": {
          "outputs_hidden": false,
          "source_hidden": false
        },
        "nteract": {
          "transient": {
            "deleting": false
          }
        }
      }
    },
    {
      "cell_type": "code",
      "source": [
        "import pandas as pd\r\n",
        "from scipy import sparse\r\n",
        "from sklearn.model_selection import train_test_split\r\n",
        "from sklearn import datasets\r\n",
        "from azureml.core.dataset import Dataset\r\n",
        "import numpy as np\r\n",
        "\r\n",
        "#X = P_loan.drop(['Personal Loan'],axis=1)     # Predictor feature columns \r\n",
        "\r\n",
        "Target = P_loan[\"Personal Loan\"]\r\n",
        "#Y = Target   # Predicted class (1, 0) \r\n",
        "\r\n",
        "X = P_loan.drop([\"Personal Loan\",\"Age\",\"ZIP Code\",\"CreditCard\",\"ID\",\"Online\"],axis=1)     # Predictor feature columns \r\n",
        "Y = Target   # Predicted class (1, 0) \r\n",
        "\r\n",
        "x_train, x_test, y_train, y_test = train_test_split(X, Y, test_size=0.3, random_state=1)\r\n",
        "# 1 is just any random seed number\r\n",
        "\r\n",
        "x_train.head()"
      ],
      "outputs": [
        {
          "output_type": "execute_result",
          "execution_count": 15,
          "data": {
            "text/plain": "      Experience    Income  Family     CCAvg  Education  Mortgage  \\\n1334    0.148536 -0.919844       2 -0.365061          1 -0.665573   \n4768   -0.562456 -0.811719       1  0.035515          2 -0.665573   \n65      1.303898  1.580547       1  1.065567          1 -0.665573   \n177    -1.540070 -0.108906       4 -0.078935          2  1.571955   \n4489   -0.651330 -1.298281       3 -0.994537          2 -0.665573   \n\n      Securities Account  CD Account  \n1334                   0           0  \n4768                   0           0  \n65                     0           0  \n177                    0           0  \n4489                   0           0  ",
            "text/html": "<div>\n<style scoped>\n    .dataframe tbody tr th:only-of-type {\n        vertical-align: middle;\n    }\n\n    .dataframe tbody tr th {\n        vertical-align: top;\n    }\n\n    .dataframe thead th {\n        text-align: right;\n    }\n</style>\n<table border=\"1\" class=\"dataframe\">\n  <thead>\n    <tr style=\"text-align: right;\">\n      <th></th>\n      <th>Experience</th>\n      <th>Income</th>\n      <th>Family</th>\n      <th>CCAvg</th>\n      <th>Education</th>\n      <th>Mortgage</th>\n      <th>Securities Account</th>\n      <th>CD Account</th>\n    </tr>\n  </thead>\n  <tbody>\n    <tr>\n      <th>1334</th>\n      <td>0.148536</td>\n      <td>-0.919844</td>\n      <td>2</td>\n      <td>-0.365061</td>\n      <td>1</td>\n      <td>-0.665573</td>\n      <td>0</td>\n      <td>0</td>\n    </tr>\n    <tr>\n      <th>4768</th>\n      <td>-0.562456</td>\n      <td>-0.811719</td>\n      <td>1</td>\n      <td>0.035515</td>\n      <td>2</td>\n      <td>-0.665573</td>\n      <td>0</td>\n      <td>0</td>\n    </tr>\n    <tr>\n      <th>65</th>\n      <td>1.303898</td>\n      <td>1.580547</td>\n      <td>1</td>\n      <td>1.065567</td>\n      <td>1</td>\n      <td>-0.665573</td>\n      <td>0</td>\n      <td>0</td>\n    </tr>\n    <tr>\n      <th>177</th>\n      <td>-1.540070</td>\n      <td>-0.108906</td>\n      <td>4</td>\n      <td>-0.078935</td>\n      <td>2</td>\n      <td>1.571955</td>\n      <td>0</td>\n      <td>0</td>\n    </tr>\n    <tr>\n      <th>4489</th>\n      <td>-0.651330</td>\n      <td>-1.298281</td>\n      <td>3</td>\n      <td>-0.994537</td>\n      <td>2</td>\n      <td>-0.665573</td>\n      <td>0</td>\n      <td>0</td>\n    </tr>\n  </tbody>\n</table>\n</div>"
          },
          "metadata": {}
        }
      ],
      "execution_count": 15,
      "metadata": {
        "collapsed": true,
        "jupyter": {
          "source_hidden": false,
          "outputs_hidden": false
        },
        "nteract": {
          "transient": {
            "deleting": false
          }
        },
        "gather": {
          "logged": 1610985578449
        }
      }
    },
    {
      "cell_type": "code",
      "source": [
        "def logistReg(x_train,y_train,solver=\"liblinear\"):\r\n",
        "    # Fit the model on train\r\n",
        "    model = LogisticRegression(solver=solver)\r\n",
        "    model.fit(x_train, y_train)\r\n",
        "    #predict on test\r\n",
        "    y_predict = model.predict(x_test)\r\n",
        "    y_predictprob = model.predict_proba(x_test)\r\n",
        "\r\n",
        "    coef_df = pd.DataFrame(model.coef_,columns=list(x_train.columns))\r\n",
        "    coef_df['intercept'] = model.intercept_\r\n",
        "    model_score = model.score(x_train, y_train)\r\n",
        "    print(f\"Accuracy of Training Data: {model_score}\")\r\n",
        "    model_score = model.score(x_test, y_test)\r\n",
        "    print(f\"Accuracy of Test Data: {model_score}\")\r\n",
        "    print(coef_df)\r\n",
        "    print(metrics.classification_report(y_test,y_predict))\r\n",
        "    return y_predictprob,y_predict"
      ],
      "outputs": [],
      "execution_count": 16,
      "metadata": {
        "collapsed": true,
        "jupyter": {
          "source_hidden": false,
          "outputs_hidden": false
        },
        "nteract": {
          "transient": {
            "deleting": false
          }
        },
        "gather": {
          "logged": 1610985588613
        }
      }
    },
    {
      "cell_type": "code",
      "source": [
        "y_predProb,y_pred = logistReg(x_train,y_train)"
      ],
      "outputs": [
        {
          "output_type": "stream",
          "name": "stdout",
          "text": [
            "Accuracy of Training Data: 0.9608571428571429\n",
            "Accuracy of Test Data: 0.9573333333333334\n",
            "   Experience    Income    Family    CCAvg  Education  Mortgage  \\\n",
            "0   -0.006157  3.334318  0.574265  0.23325    1.37247  0.121981   \n",
            "\n",
            "   Securities Account  CD Account  intercept  \n",
            "0           -0.717196    2.162063  -9.369101  \n",
            "              precision    recall  f1-score   support\n",
            "\n",
            "           0       0.96      0.99      0.98      1351\n",
            "           1       0.90      0.64      0.75       149\n",
            "\n",
            "    accuracy                           0.96      1500\n",
            "   macro avg       0.93      0.82      0.86      1500\n",
            "weighted avg       0.96      0.96      0.95      1500\n",
            "\n"
          ]
        }
      ],
      "execution_count": 17,
      "metadata": {
        "collapsed": true,
        "jupyter": {
          "source_hidden": false,
          "outputs_hidden": false
        },
        "nteract": {
          "transient": {
            "deleting": false
          }
        },
        "gather": {
          "logged": 1610985599780
        }
      }
    },
    {
      "cell_type": "code",
      "source": [
        "import pandas as pd\r\n",
        "from scipy import sparse\r\n",
        "from sklearn.model_selection import train_test_split\r\n",
        "from sklearn import datasets\r\n",
        "from azureml.core.dataset import Dataset\r\n",
        "import numpy as np\r\n",
        "#from train import clean_data\r\n",
        "#from azureml.data.dataset_factory import TabularDatasetFactory\r\n",
        "from sklearn import preprocessing\r\n",
        "import os\r\n",
        "\r\n",
        "\r\n",
        "#x_train, x_test, y_train, y_test = train_test_split(P_loan, test_size = 0.3, random_state = 0)\r\n",
        "#x_train, x_test, y_train, y_test\r\n",
        "training_data = pd.concat([x_train, y_train], axis = 1)\r\n",
        "\r\n",
        "if not os.path.isdir('data'):\r\n",
        "    os.mkdir('data')\r\n",
        "\r\n",
        "\r\n",
        "training_data.to_csv('data/loan.csv')\r\n",
        "ds = ws.get_default_datastore()\r\n",
        "ds.upload(src_dir='./data', target_path='loandata', overwrite=True, show_progress=True)\r\n",
        "\r\n",
        "training_data = Dataset.Tabular.from_delimited_files(path=ds.path('loandata/loan.csv'))\r\n",
        "training_data"
      ],
      "outputs": [
        {
          "output_type": "stream",
          "name": "stdout",
          "text": [
            "Uploading an estimated of 1 files\n",
            "Uploading ./data/loan.csv\n",
            "Uploaded ./data/loan.csv, 1 files out of an estimated total of 1\n",
            "Uploaded 1 files\n"
          ]
        },
        {
          "output_type": "execute_result",
          "execution_count": 18,
          "data": {
            "text/plain": "{\n  \"source\": [\n    \"('workspaceblobstore', 'loandata/loan.csv')\"\n  ],\n  \"definition\": [\n    \"GetDatastoreFiles\",\n    \"ParseDelimited\",\n    \"DropColumns\",\n    \"SetColumnTypes\"\n  ]\n}"
          },
          "metadata": {}
        }
      ],
      "execution_count": 18,
      "metadata": {
        "collapsed": true,
        "jupyter": {
          "source_hidden": false,
          "outputs_hidden": false
        },
        "nteract": {
          "transient": {
            "deleting": false
          }
        },
        "gather": {
          "logged": 1610985612951
        }
      }
    },
    {
      "cell_type": "markdown",
      "source": [
        "## AutoML Configuration\n",
        "\n",
        "TODO: Explain why you chose the automl settings and cofiguration you used below."
      ],
      "metadata": {}
    },
    {
      "cell_type": "code",
      "source": [
        "# TODO: Put your automl settings here\n",
        "automl_settings = {\n",
        "     \"experiment_timeout_hours\" : 0.3,\n",
        "    \"enable_early_stopping\" : True,\n",
        "    \"iteration_timeout_minutes\": 5,\n",
        "    \"max_concurrent_iterations\": 4,\n",
        "    \"primary_metric\": 'AUC_weighted',\n",
        "    \"featurization\": 'auto',\n",
        "}\n",
        "\n",
        "# TODO: Put your automl config here\n",
        "automl_config = AutoMLConfig(\n",
        "    compute_target = 'vpcompute',\n",
        "    task=\"classification\",\n",
        "    training_data= training_data,\n",
        "    label_column_name= \"Personal Loan\",\n",
        "    n_cross_validations=5\n",
        ")"
      ],
      "outputs": [],
      "execution_count": 19,
      "metadata": {
        "gather": {
          "logged": 1610985636174
        },
        "jupyter": {
          "outputs_hidden": false,
          "source_hidden": false
        },
        "nteract": {
          "transient": {
            "deleting": false
          }
        }
      }
    },
    {
      "cell_type": "code",
      "source": [
        "# TODO: Submit your experiment\n",
        "#remote_run = experiment.submit(automl_config)\n",
        "remote_run = experiment.submit(automl_config, show_output = True)\n",
        "remote_run"
      ],
      "outputs": [
        {
          "output_type": "stream",
          "name": "stdout",
          "text": [
            "Running on remote.\n",
            "No run_configuration provided, running on vpcompute with default configuration\n",
            "Running on remote compute: vpcompute\n",
            "Parent Run ID: AutoML_04a76343-05bc-433f-b65c-cbe126eaf4d6\n",
            "\n",
            "Current status: FeaturesGeneration. Generating features for the dataset.\n",
            "Current status: DatasetCrossValidationSplit. Generating individually featurized CV splits.\n",
            "Current status: ModelSelection. Beginning model selection.\n",
            "\n",
            "****************************************************************************************************\n",
            "DATA GUARDRAILS: \n",
            "\n",
            "TYPE:         Class balancing detection\n",
            "STATUS:       ALERTED\n",
            "DESCRIPTION:  To decrease model bias, please cancel the current run and fix balancing problem.\n",
            "              Learn more about imbalanced data: https://aka.ms/AutomatedMLImbalancedData\n",
            "DETAILS:      Imbalanced data can lead to a falsely perceived positive effect of a model's accuracy because the input data has bias towards one class.\n",
            "+---------------------------------+---------------------------------+--------------------------------------+\n",
            "|Size of the smallest class       |Name/Label of the smallest class |Number of samples in the training data|\n",
            "+=================================+=================================+======================================+\n",
            "|331                              |1                                |3500                                  |\n",
            "+---------------------------------+---------------------------------+--------------------------------------+\n",
            "\n",
            "****************************************************************************************************\n",
            "\n",
            "TYPE:         Missing feature values imputation\n",
            "STATUS:       PASSED\n",
            "DESCRIPTION:  No feature missing values were detected in the training data.\n",
            "              Learn more about missing value imputation: https://aka.ms/AutomatedMLFeaturization\n",
            "\n",
            "****************************************************************************************************\n",
            "\n",
            "TYPE:         High cardinality feature detection\n",
            "STATUS:       PASSED\n",
            "DESCRIPTION:  Your inputs were analyzed, and no high cardinality features were detected.\n",
            "              Learn more about high cardinality feature handling: https://aka.ms/AutomatedMLFeaturization\n",
            "\n",
            "****************************************************************************************************\n",
            "\n",
            "****************************************************************************************************\n",
            "ITERATION: The iteration being evaluated.\n",
            "PIPELINE: A summary description of the pipeline being evaluated.\n",
            "DURATION: Time taken for the current iteration.\n",
            "METRIC: The result of computing score on the fitted pipeline.\n",
            "BEST: The best observed score thus far.\n",
            "****************************************************************************************************\n",
            "\n",
            " ITERATION   PIPELINE                                       DURATION      METRIC      BEST\n",
            "         0   MaxAbsScaler LightGBM                          0:00:46       0.9883    0.9883\n",
            "         1   MaxAbsScaler XGBoostClassifier                 0:00:50       0.9857    0.9883\n",
            "         2   MinMaxScaler RandomForest                      0:00:43       0.9614    0.9883\n",
            "         3   MinMaxScaler RandomForest                      0:00:43       0.9314    0.9883\n",
            "         4   MinMaxScaler RandomForest                      0:00:48       0.9654    0.9883\n",
            "         5   MinMaxScaler SVM                               0:01:07       0.9771    0.9883\n",
            "         6   MaxAbsScaler GradientBoosting                  0:01:33       0.9626    0.9883\n",
            "         7   StandardScalerWrapper RandomForest             0:00:38       0.9194    0.9883\n",
            "         8   SparseNormalizer LightGBM                      0:00:46       0.9271    0.9883\n",
            "         9   SparseNormalizer XGBoostClassifier             0:00:48       0.9600    0.9883\n",
            "        10   StandardScalerWrapper LogisticRegression       0:00:44       0.9629    0.9883\n",
            "        11   MaxAbsScaler LightGBM                          0:00:43       0.9437    0.9883\n",
            "        12   SparseNormalizer XGBoostClassifier             0:00:43       0.9551    0.9883\n",
            "        13   RobustScaler RandomForest                      0:00:49       0.9623    0.9883\n",
            "        14   RobustScaler ExtremeRandomTrees                0:00:45       0.9083    0.9883\n",
            "        15   RobustScaler LightGBM                          0:00:40       0.9871    0.9883\n",
            "        16   MaxAbsScaler LightGBM                          0:00:35       0.9103    0.9883\n",
            "        17   StandardScalerWrapper ExtremeRandomTrees       0:00:45       0.9054    0.9883\n",
            "        18   StandardScalerWrapper LightGBM                 0:00:47       0.9854    0.9883\n",
            "        19   RobustScaler LightGBM                          0:00:40       0.9714    0.9883\n",
            "        20   SparseNormalizer ExtremeRandomTrees            0:00:49       0.8360    0.9883\n",
            "        21   SparseNormalizer XGBoostClassifier             0:00:41       0.9577    0.9883\n",
            "        22   MaxAbsScaler ExtremeRandomTrees                0:00:42       0.9063    0.9883\n",
            "        23   RobustScaler LightGBM                          0:00:40       0.9866    0.9883\n",
            "        24   StandardScalerWrapper LogisticRegression       0:00:50       0.9629    0.9883\n",
            "        25   RobustScaler LightGBM                          0:00:52       0.9217    0.9883\n",
            "        26   SparseNormalizer XGBoostClassifier             0:00:53       0.9603    0.9883\n",
            "        27   StandardScalerWrapper LogisticRegression       0:00:46       0.9629    0.9883\n",
            "        28   SparseNormalizer XGBoostClassifier             0:00:43       0.9574    0.9883\n",
            "        29   StandardScalerWrapper XGBoostClassifier        0:00:43       0.9809    0.9883\n",
            "        30    VotingEnsemble                                0:01:18       0.9894    0.9894\n",
            "        31    StackEnsemble                                 0:01:18       0.9866    0.9894\n"
          ]
        },
        {
          "output_type": "execute_result",
          "execution_count": 20,
          "data": {
            "text/plain": "Run(Experiment: Personal_loan_experiment,\nId: AutoML_04a76343-05bc-433f-b65c-cbe126eaf4d6,\nType: automl,\nStatus: Completed)",
            "text/html": "<table style=\"width:100%\"><tr><th>Experiment</th><th>Id</th><th>Type</th><th>Status</th><th>Details Page</th><th>Docs Page</th></tr><tr><td>Personal_loan_experiment</td><td>AutoML_04a76343-05bc-433f-b65c-cbe126eaf4d6</td><td>automl</td><td>Completed</td><td><a href=\"https://ml.azure.com/experiments/Personal_loan_experiment/runs/AutoML_04a76343-05bc-433f-b65c-cbe126eaf4d6?wsid=/subscriptions/b968fb36-f06a-4c76-a15f-afab68ae7667/resourcegroups/aml-quickstarts-135226/workspaces/quick-starts-ws-135226\" target=\"_blank\" rel=\"noopener\">Link to Azure Machine Learning studio</a></td><td><a href=\"https://docs.microsoft.com/en-us/python/api/overview/azure/ml/intro?view=azure-ml-py\" target=\"_blank\" rel=\"noopener\">Link to Documentation</a></td></tr></table>"
          },
          "metadata": {}
        }
      ],
      "execution_count": 20,
      "metadata": {
        "gather": {
          "logged": 1610988053512
        },
        "jupyter": {
          "outputs_hidden": false,
          "source_hidden": false
        },
        "nteract": {
          "transient": {
            "deleting": false
          }
        }
      }
    },
    {
      "cell_type": "markdown",
      "source": [
        "## Run Details\n",
        "\n",
        "OPTIONAL: Write about the different models trained and their performance. Why do you think some models did better than others?\n",
        "\n",
        "TODO: In the cell below, use the `RunDetails` widget to show the different experiments."
      ],
      "metadata": {}
    },
    {
      "cell_type": "code",
      "source": [
        "from azureml.widgets import RunDetails\r\n",
        "\r\n",
        "RunDetails(remote_run).show()"
      ],
      "outputs": [
        {
          "output_type": "display_data",
          "data": {
            "text/plain": "_AutoMLWidget(widget_settings={'childWidgetDisplay': 'popup', 'send_telemetry': False, 'log_level': 'INFO', 's…",
            "application/vnd.jupyter.widget-view+json": {
              "version_major": 2,
              "version_minor": 0,
              "model_id": "cd59e6dd49c247779dcf3215c44a8d46"
            }
          },
          "metadata": {}
        },
        {
          "output_type": "display_data",
          "data": {
            "application/aml.mini.widget.v1": "{\"status\": \"Completed\", \"workbench_run_details_uri\": \"https://ml.azure.com/experiments/Personal_loan_experiment/runs/AutoML_04a76343-05bc-433f-b65c-cbe126eaf4d6?wsid=/subscriptions/b968fb36-f06a-4c76-a15f-afab68ae7667/resourcegroups/aml-quickstarts-135226/workspaces/quick-starts-ws-135226\", \"run_id\": \"AutoML_04a76343-05bc-433f-b65c-cbe126eaf4d6\", \"run_properties\": {\"run_id\": \"AutoML_04a76343-05bc-433f-b65c-cbe126eaf4d6\", \"created_utc\": \"2021-01-18T16:00:47.117323Z\", \"properties\": {\"num_iterations\": \"1000\", \"training_type\": \"TrainFull\", \"acquisition_function\": \"EI\", \"primary_metric\": \"accuracy\", \"train_split\": \"0\", \"acquisition_parameter\": \"0\", \"num_cross_validation\": \"5\", \"target\": \"vpcompute\", \"AMLSettingsJsonString\": \"{\\\"path\\\":null,\\\"name\\\":\\\"Personal_loan_experiment\\\",\\\"subscription_id\\\":\\\"b968fb36-f06a-4c76-a15f-afab68ae7667\\\",\\\"resource_group\\\":\\\"aml-quickstarts-135226\\\",\\\"workspace_name\\\":\\\"quick-starts-ws-135226\\\",\\\"region\\\":\\\"southcentralus\\\",\\\"compute_target\\\":\\\"vpcompute\\\",\\\"spark_service\\\":null,\\\"azure_service\\\":\\\"remote\\\",\\\"many_models\\\":false,\\\"pipeline_fetch_max_batch_size\\\":1,\\\"iterations\\\":1000,\\\"primary_metric\\\":\\\"accuracy\\\",\\\"task_type\\\":\\\"classification\\\",\\\"data_script\\\":null,\\\"validation_size\\\":0.0,\\\"n_cross_validations\\\":5,\\\"y_min\\\":null,\\\"y_max\\\":null,\\\"num_classes\\\":null,\\\"featurization\\\":\\\"auto\\\",\\\"_ignore_package_version_incompatibilities\\\":false,\\\"is_timeseries\\\":false,\\\"max_cores_per_iteration\\\":1,\\\"max_concurrent_iterations\\\":1,\\\"iteration_timeout_minutes\\\":null,\\\"mem_in_mb\\\":null,\\\"enforce_time_on_windows\\\":false,\\\"experiment_timeout_minutes\\\":8640,\\\"experiment_exit_score\\\":null,\\\"whitelist_models\\\":null,\\\"blacklist_algos\\\":[\\\"TensorFlowLinearClassifier\\\",\\\"TensorFlowDNN\\\"],\\\"supported_models\\\":[\\\"MultinomialNaiveBayes\\\",\\\"LightGBM\\\",\\\"KNN\\\",\\\"TensorFlowLinearClassifier\\\",\\\"GradientBoosting\\\",\\\"ExtremeRandomTrees\\\",\\\"SVM\\\",\\\"BernoulliNaiveBayes\\\",\\\"XGBoostClassifier\\\",\\\"AveragedPerceptronClassifier\\\",\\\"LogisticRegression\\\",\\\"SGD\\\",\\\"TensorFlowDNN\\\",\\\"RandomForest\\\",\\\"LinearSVM\\\",\\\"DecisionTree\\\"],\\\"auto_blacklist\\\":true,\\\"blacklist_samples_reached\\\":false,\\\"exclude_nan_labels\\\":true,\\\"verbosity\\\":20,\\\"_debug_log\\\":\\\"azureml_automl.log\\\",\\\"show_warnings\\\":false,\\\"model_explainability\\\":true,\\\"service_url\\\":null,\\\"sdk_url\\\":null,\\\"sdk_packages\\\":null,\\\"enable_onnx_compatible_models\\\":false,\\\"enable_split_onnx_featurizer_estimator_models\\\":false,\\\"vm_type\\\":\\\"STANDARD_DS3_V2\\\",\\\"telemetry_verbosity\\\":20,\\\"send_telemetry\\\":true,\\\"enable_dnn\\\":false,\\\"scenario\\\":\\\"SDK-1.13.0\\\",\\\"environment_label\\\":null,\\\"force_text_dnn\\\":false,\\\"enable_feature_sweeping\\\":true,\\\"enable_early_stopping\\\":true,\\\"early_stopping_n_iters\\\":10,\\\"metrics\\\":null,\\\"enable_ensembling\\\":true,\\\"enable_stack_ensembling\\\":true,\\\"ensemble_iterations\\\":15,\\\"enable_tf\\\":false,\\\"enable_subsampling\\\":null,\\\"subsample_seed\\\":null,\\\"enable_nimbusml\\\":false,\\\"enable_streaming\\\":false,\\\"force_streaming\\\":false,\\\"track_child_runs\\\":true,\\\"allowed_private_models\\\":[],\\\"label_column_name\\\":\\\"Personal Loan\\\",\\\"weight_column_name\\\":null,\\\"cv_split_column_names\\\":null,\\\"enable_local_managed\\\":false,\\\"_local_managed_run_id\\\":null,\\\"cost_mode\\\":1,\\\"lag_length\\\":0,\\\"metric_operation\\\":\\\"maximize\\\",\\\"preprocess\\\":true}\", \"DataPrepJsonString\": \"{\\\\\\\"training_data\\\\\\\": \\\\\\\"{\\\\\\\\\\\\\\\"blocks\\\\\\\\\\\\\\\": [{\\\\\\\\\\\\\\\"id\\\\\\\\\\\\\\\": \\\\\\\\\\\\\\\"5ef11ee7-7df2-46ce-a1fd-3daa10c65070\\\\\\\\\\\\\\\", \\\\\\\\\\\\\\\"type\\\\\\\\\\\\\\\": \\\\\\\\\\\\\\\"Microsoft.DPrep.GetDatastoreFilesBlock\\\\\\\\\\\\\\\", \\\\\\\\\\\\\\\"arguments\\\\\\\\\\\\\\\": {\\\\\\\\\\\\\\\"datastores\\\\\\\\\\\\\\\": [{\\\\\\\\\\\\\\\"datastoreName\\\\\\\\\\\\\\\": \\\\\\\\\\\\\\\"workspaceblobstore\\\\\\\\\\\\\\\", \\\\\\\\\\\\\\\"path\\\\\\\\\\\\\\\": \\\\\\\\\\\\\\\"loandata/loan.csv\\\\\\\\\\\\\\\", \\\\\\\\\\\\\\\"resourceGroup\\\\\\\\\\\\\\\": \\\\\\\\\\\\\\\"aml-quickstarts-135226\\\\\\\\\\\\\\\", \\\\\\\\\\\\\\\"subscription\\\\\\\\\\\\\\\": \\\\\\\\\\\\\\\"b968fb36-f06a-4c76-a15f-afab68ae7667\\\\\\\\\\\\\\\", \\\\\\\\\\\\\\\"workspaceName\\\\\\\\\\\\\\\": \\\\\\\\\\\\\\\"quick-starts-ws-135226\\\\\\\\\\\\\\\"}]}, \\\\\\\\\\\\\\\"localData\\\\\\\\\\\\\\\": {}, \\\\\\\\\\\\\\\"isEnabled\\\\\\\\\\\\\\\": true, \\\\\\\\\\\\\\\"name\\\\\\\\\\\\\\\": null, \\\\\\\\\\\\\\\"annotation\\\\\\\\\\\\\\\": null}, {\\\\\\\\\\\\\\\"id\\\\\\\\\\\\\\\": \\\\\\\\\\\\\\\"9eb923e8-f915-4b00-acd2-73f2187f1b46\\\\\\\\\\\\\\\", \\\\\\\\\\\\\\\"type\\\\\\\\\\\\\\\": \\\\\\\\\\\\\\\"Microsoft.DPrep.ParseDelimitedBlock\\\\\\\\\\\\\\\", \\\\\\\\\\\\\\\"arguments\\\\\\\\\\\\\\\": {\\\\\\\\\\\\\\\"columnHeadersMode\\\\\\\\\\\\\\\": 3, \\\\\\\\\\\\\\\"fileEncoding\\\\\\\\\\\\\\\": 0, \\\\\\\\\\\\\\\"handleQuotedLineBreaks\\\\\\\\\\\\\\\": false, \\\\\\\\\\\\\\\"preview\\\\\\\\\\\\\\\": false, \\\\\\\\\\\\\\\"separator\\\\\\\\\\\\\\\": \\\\\\\\\\\\\\\",\\\\\\\\\\\\\\\", \\\\\\\\\\\\\\\"skipRows\\\\\\\\\\\\\\\": 0, \\\\\\\\\\\\\\\"skipRowsMode\\\\\\\\\\\\\\\": 0}, \\\\\\\\\\\\\\\"localData\\\\\\\\\\\\\\\": {}, \\\\\\\\\\\\\\\"isEnabled\\\\\\\\\\\\\\\": true, \\\\\\\\\\\\\\\"name\\\\\\\\\\\\\\\": null, \\\\\\\\\\\\\\\"annotation\\\\\\\\\\\\\\\": null}, {\\\\\\\\\\\\\\\"id\\\\\\\\\\\\\\\": \\\\\\\\\\\\\\\"e36639f6-eae2-4dfe-9845-22c94e8c2b6a\\\\\\\\\\\\\\\", \\\\\\\\\\\\\\\"type\\\\\\\\\\\\\\\": \\\\\\\\\\\\\\\"Microsoft.DPrep.DropColumnsBlock\\\\\\\\\\\\\\\", \\\\\\\\\\\\\\\"arguments\\\\\\\\\\\\\\\": {\\\\\\\\\\\\\\\"columns\\\\\\\\\\\\\\\": {\\\\\\\\\\\\\\\"type\\\\\\\\\\\\\\\": 0, \\\\\\\\\\\\\\\"details\\\\\\\\\\\\\\\": {\\\\\\\\\\\\\\\"selectedColumns\\\\\\\\\\\\\\\": [\\\\\\\\\\\\\\\"Path\\\\\\\\\\\\\\\"]}}}, \\\\\\\\\\\\\\\"localData\\\\\\\\\\\\\\\": {}, \\\\\\\\\\\\\\\"isEnabled\\\\\\\\\\\\\\\": true, \\\\\\\\\\\\\\\"name\\\\\\\\\\\\\\\": null, \\\\\\\\\\\\\\\"annotation\\\\\\\\\\\\\\\": null}, {\\\\\\\\\\\\\\\"id\\\\\\\\\\\\\\\": \\\\\\\\\\\\\\\"4b4350eb-374f-43df-ac78-1435b609a0be\\\\\\\\\\\\\\\", \\\\\\\\\\\\\\\"type\\\\\\\\\\\\\\\": \\\\\\\\\\\\\\\"Microsoft.DPrep.SetColumnTypesBlock\\\\\\\\\\\\\\\", \\\\\\\\\\\\\\\"arguments\\\\\\\\\\\\\\\": {\\\\\\\\\\\\\\\"columnConversion\\\\\\\\\\\\\\\": [{\\\\\\\\\\\\\\\"column\\\\\\\\\\\\\\\": {\\\\\\\\\\\\\\\"type\\\\\\\\\\\\\\\": 2, \\\\\\\\\\\\\\\"details\\\\\\\\\\\\\\\": {\\\\\\\\\\\\\\\"selectedColumn\\\\\\\\\\\\\\\": \\\\\\\\\\\\\\\"Column1\\\\\\\\\\\\\\\"}}, \\\\\\\\\\\\\\\"typeProperty\\\\\\\\\\\\\\\": 2}, {\\\\\\\\\\\\\\\"column\\\\\\\\\\\\\\\": {\\\\\\\\\\\\\\\"type\\\\\\\\\\\\\\\": 2, \\\\\\\\\\\\\\\"details\\\\\\\\\\\\\\\": {\\\\\\\\\\\\\\\"selectedColumn\\\\\\\\\\\\\\\": \\\\\\\\\\\\\\\"Experience\\\\\\\\\\\\\\\"}}, \\\\\\\\\\\\\\\"typeProperty\\\\\\\\\\\\\\\": 3}, {\\\\\\\\\\\\\\\"column\\\\\\\\\\\\\\\": {\\\\\\\\\\\\\\\"type\\\\\\\\\\\\\\\": 2, \\\\\\\\\\\\\\\"details\\\\\\\\\\\\\\\": {\\\\\\\\\\\\\\\"selectedColumn\\\\\\\\\\\\\\\": \\\\\\\\\\\\\\\"Income\\\\\\\\\\\\\\\"}}, \\\\\\\\\\\\\\\"typeProperty\\\\\\\\\\\\\\\": 3}, {\\\\\\\\\\\\\\\"column\\\\\\\\\\\\\\\": {\\\\\\\\\\\\\\\"type\\\\\\\\\\\\\\\": 2, \\\\\\\\\\\\\\\"details\\\\\\\\\\\\\\\": {\\\\\\\\\\\\\\\"selectedColumn\\\\\\\\\\\\\\\": \\\\\\\\\\\\\\\"Family\\\\\\\\\\\\\\\"}}, \\\\\\\\\\\\\\\"typeProperty\\\\\\\\\\\\\\\": 2}, {\\\\\\\\\\\\\\\"column\\\\\\\\\\\\\\\": {\\\\\\\\\\\\\\\"type\\\\\\\\\\\\\\\": 2, \\\\\\\\\\\\\\\"details\\\\\\\\\\\\\\\": {\\\\\\\\\\\\\\\"selectedColumn\\\\\\\\\\\\\\\": \\\\\\\\\\\\\\\"CCAvg\\\\\\\\\\\\\\\"}}, \\\\\\\\\\\\\\\"typeProperty\\\\\\\\\\\\\\\": 3}, {\\\\\\\\\\\\\\\"column\\\\\\\\\\\\\\\": {\\\\\\\\\\\\\\\"type\\\\\\\\\\\\\\\": 2, \\\\\\\\\\\\\\\"details\\\\\\\\\\\\\\\": {\\\\\\\\\\\\\\\"selectedColumn\\\\\\\\\\\\\\\": \\\\\\\\\\\\\\\"Education\\\\\\\\\\\\\\\"}}, \\\\\\\\\\\\\\\"typeProperty\\\\\\\\\\\\\\\": 2}, {\\\\\\\\\\\\\\\"column\\\\\\\\\\\\\\\": {\\\\\\\\\\\\\\\"type\\\\\\\\\\\\\\\": 2, \\\\\\\\\\\\\\\"details\\\\\\\\\\\\\\\": {\\\\\\\\\\\\\\\"selectedColumn\\\\\\\\\\\\\\\": \\\\\\\\\\\\\\\"Mortgage\\\\\\\\\\\\\\\"}}, \\\\\\\\\\\\\\\"typeProperty\\\\\\\\\\\\\\\": 3}, {\\\\\\\\\\\\\\\"column\\\\\\\\\\\\\\\": {\\\\\\\\\\\\\\\"type\\\\\\\\\\\\\\\": 2, \\\\\\\\\\\\\\\"details\\\\\\\\\\\\\\\": {\\\\\\\\\\\\\\\"selectedColumn\\\\\\\\\\\\\\\": \\\\\\\\\\\\\\\"Securities Account\\\\\\\\\\\\\\\"}}, \\\\\\\\\\\\\\\"typeProperty\\\\\\\\\\\\\\\": 2}, {\\\\\\\\\\\\\\\"column\\\\\\\\\\\\\\\": {\\\\\\\\\\\\\\\"type\\\\\\\\\\\\\\\": 2, \\\\\\\\\\\\\\\"details\\\\\\\\\\\\\\\": {\\\\\\\\\\\\\\\"selectedColumn\\\\\\\\\\\\\\\": \\\\\\\\\\\\\\\"CD Account\\\\\\\\\\\\\\\"}}, \\\\\\\\\\\\\\\"typeProperty\\\\\\\\\\\\\\\": 2}, {\\\\\\\\\\\\\\\"column\\\\\\\\\\\\\\\": {\\\\\\\\\\\\\\\"type\\\\\\\\\\\\\\\": 2, \\\\\\\\\\\\\\\"details\\\\\\\\\\\\\\\": {\\\\\\\\\\\\\\\"selectedColumn\\\\\\\\\\\\\\\": \\\\\\\\\\\\\\\"Personal Loan\\\\\\\\\\\\\\\"}}, \\\\\\\\\\\\\\\"typeProperty\\\\\\\\\\\\\\\": 2}]}, \\\\\\\\\\\\\\\"localData\\\\\\\\\\\\\\\": {}, \\\\\\\\\\\\\\\"isEnabled\\\\\\\\\\\\\\\": true, \\\\\\\\\\\\\\\"name\\\\\\\\\\\\\\\": null, \\\\\\\\\\\\\\\"annotation\\\\\\\\\\\\\\\": null}], \\\\\\\\\\\\\\\"inspectors\\\\\\\\\\\\\\\": [], \\\\\\\\\\\\\\\"meta\\\\\\\\\\\\\\\": {\\\\\\\\\\\\\\\"savedDatasetId\\\\\\\\\\\\\\\": \\\\\\\\\\\\\\\"c89eddea-4856-4e60-80fd-2417965b1911\\\\\\\\\\\\\\\", \\\\\\\\\\\\\\\"datasetType\\\\\\\\\\\\\\\": \\\\\\\\\\\\\\\"tabular\\\\\\\\\\\\\\\", \\\\\\\\\\\\\\\"subscriptionId\\\\\\\\\\\\\\\": \\\\\\\\\\\\\\\"b968fb36-f06a-4c76-a15f-afab68ae7667\\\\\\\\\\\\\\\", \\\\\\\\\\\\\\\"workspaceId\\\\\\\\\\\\\\\": \\\\\\\\\\\\\\\"7a485a9d-ed55-4e80-a6de-55b436e769c8\\\\\\\\\\\\\\\", \\\\\\\\\\\\\\\"workspaceLocation\\\\\\\\\\\\\\\": \\\\\\\\\\\\\\\"southcentralus\\\\\\\\\\\\\\\"}}\\\\\\\", \\\\\\\"activities\\\\\\\": 0}\", \"EnableSubsampling\": null, \"runTemplate\": \"AutoML\", \"azureml.runsource\": \"automl\", \"display_task_type\": \"classification\", \"dependencies_versions\": \"{\\\"azureml-widgets\\\": \\\"1.19.0\\\", \\\"azureml-train\\\": \\\"1.19.0\\\", \\\"azureml-train-restclients-hyperdrive\\\": \\\"1.19.0\\\", \\\"azureml-train-core\\\": \\\"1.19.0\\\", \\\"azureml-train-automl\\\": \\\"1.19.0\\\", \\\"azureml-train-automl-runtime\\\": \\\"1.19.0\\\", \\\"azureml-train-automl-client\\\": \\\"1.19.0\\\", \\\"azureml-tensorboard\\\": \\\"1.19.0\\\", \\\"azureml-telemetry\\\": \\\"1.19.0\\\", \\\"azureml-sdk\\\": \\\"1.19.0\\\", \\\"azureml-samples\\\": \\\"0+unknown\\\", \\\"azureml-pipeline\\\": \\\"1.19.0\\\", \\\"azureml-pipeline-steps\\\": \\\"1.19.0\\\", \\\"azureml-pipeline-core\\\": \\\"1.19.0\\\", \\\"azureml-opendatasets\\\": \\\"1.19.0\\\", \\\"azureml-model-management-sdk\\\": \\\"1.0.1b6.post1\\\", \\\"azureml-mlflow\\\": \\\"1.19.0\\\", \\\"azureml-interpret\\\": \\\"1.19.0\\\", \\\"azureml-explain-model\\\": \\\"1.19.0\\\", \\\"azureml-defaults\\\": \\\"1.19.0\\\", \\\"azureml-dataset-runtime\\\": \\\"1.19.0.post1\\\", \\\"azureml-dataprep\\\": \\\"2.6.1\\\", \\\"azureml-dataprep-rslex\\\": \\\"1.4.0\\\", \\\"azureml-dataprep-native\\\": \\\"26.0.0\\\", \\\"azureml-datadrift\\\": \\\"1.19.0\\\", \\\"azureml-core\\\": \\\"1.19.0\\\", \\\"azureml-contrib-services\\\": \\\"1.19.0\\\", \\\"azureml-contrib-server\\\": \\\"1.19.0\\\", \\\"azureml-contrib-reinforcementlearning\\\": \\\"1.19.0\\\", \\\"azureml-contrib-pipeline-steps\\\": \\\"1.19.0\\\", \\\"azureml-contrib-notebook\\\": \\\"1.19.0\\\", \\\"azureml-contrib-interpret\\\": \\\"1.19.0\\\", \\\"azureml-contrib-gbdt\\\": \\\"1.19.0\\\", \\\"azureml-contrib-fairness\\\": \\\"1.19.0\\\", \\\"azureml-contrib-dataset\\\": \\\"1.19.0\\\", \\\"azureml-cli-common\\\": \\\"1.19.0\\\", \\\"azureml-automl-runtime\\\": \\\"1.19.0\\\", \\\"azureml-automl-core\\\": \\\"1.19.0\\\", \\\"azureml-accel-models\\\": \\\"1.19.0\\\"}\", \"_aml_system_scenario_identification\": \"Remote.Parent\", \"ClientType\": \"SDK\", \"environment_cpu_name\": \"AzureML-AutoML\", \"environment_cpu_label\": \"prod\", \"environment_gpu_name\": \"AzureML-AutoML-GPU\", \"environment_gpu_label\": \"prod\", \"root_attribution\": \"automl\", \"attribution\": \"AutoML\", \"Orchestrator\": \"AutoML\", \"CancelUri\": \"https://southcentralus.experiments.azureml.net/jasmine/v1.0/subscriptions/b968fb36-f06a-4c76-a15f-afab68ae7667/resourceGroups/aml-quickstarts-135226/providers/Microsoft.MachineLearningServices/workspaces/quick-starts-ws-135226/experimentids/dd4725d3-b457-4656-a81e-807f7b2582b1/cancel/AutoML_04a76343-05bc-433f-b65c-cbe126eaf4d6\", \"ClientSdkVersion\": \"1.19.0\", \"snapshotId\": \"00000000-0000-0000-0000-000000000000\", \"SetupRunId\": \"AutoML_04a76343-05bc-433f-b65c-cbe126eaf4d6_setup\", \"SetupRunContainerId\": \"dcid.AutoML_04a76343-05bc-433f-b65c-cbe126eaf4d6_setup\", \"FeaturizationRunJsonPath\": \"featurizer_container.json\", \"FeaturizationRunId\": \"AutoML_04a76343-05bc-433f-b65c-cbe126eaf4d6_featurize\", \"ProblemInfoJsonString\": \"{\\\"dataset_num_categorical\\\": 0, \\\"is_sparse\\\": false, \\\"subsampling\\\": false, \\\"dataset_classes\\\": 2, \\\"dataset_features\\\": 9, \\\"dataset_samples\\\": 3500, \\\"single_frequency_class_detected\\\": false}\", \"ModelExplainRunId\": \"AutoML_04a76343-05bc-433f-b65c-cbe126eaf4d6_ModelExplain\"}, \"tags\": {\"model_explain_run\": \"best_run\", \"_aml_system_azureml.automlComponent\": \"AutoML\", \"pipeline_id\": \"\", \"score\": \"\", \"predicted_cost\": \"\", \"fit_time\": \"\", \"training_percent\": \"\", \"iteration\": \"\", \"run_preprocessor\": \"\", \"run_algorithm\": \"\", \"dynamic_whitelisting_iterations\": \"<25>;\", \"automl_best_child_run_id\": \"AutoML_04a76343-05bc-433f-b65c-cbe126eaf4d6_30\", \"model_explain_best_run_child_id\": \"AutoML_04a76343-05bc-433f-b65c-cbe126eaf4d6_30\"}, \"end_time_utc\": \"2021-01-18T16:40:48.153413Z\", \"status\": \"Completed\", \"log_files\": {}, \"log_groups\": [], \"run_duration\": \"0:40:01\"}, \"child_runs\": [{\"run_id\": \"AutoML_04a76343-05bc-433f-b65c-cbe126eaf4d6_0\", \"run_number\": 5, \"metric\": null, \"status\": \"Completed\", \"run_type\": \"azureml.scriptrun\", \"training_percent\": \"100\", \"start_time\": \"2021-01-18T16:05:38.598428Z\", \"end_time\": \"2021-01-18T16:06:24.675443Z\", \"created_time\": \"2021-01-18T16:05:21.304605Z\", \"created_time_dt\": \"2021-01-18T16:05:21.304605Z\", \"duration\": \"0:01:03\", \"iteration\": \"0\", \"goal\": \"accuracy_max\", \"run_name\": \"MaxAbsScaler, LightGBM\", \"run_properties\": \"copy=True\", \"primary_metric\": 0.98828571, \"best_metric\": 0.98828571}, {\"run_id\": \"AutoML_04a76343-05bc-433f-b65c-cbe126eaf4d6_1\", \"run_number\": 6, \"metric\": null, \"status\": \"Completed\", \"run_type\": \"azureml.scriptrun\", \"training_percent\": \"100\", \"start_time\": \"2021-01-18T16:06:38.342212Z\", \"end_time\": \"2021-01-18T16:07:28.200061Z\", \"created_time\": \"2021-01-18T16:06:25.542458Z\", \"created_time_dt\": \"2021-01-18T16:06:25.542458Z\", \"duration\": \"0:01:02\", \"iteration\": \"1\", \"goal\": \"accuracy_max\", \"run_name\": \"MaxAbsScaler, XGBoostClassifier\", \"run_properties\": \"copy=True\", \"primary_metric\": 0.98571429, \"best_metric\": 0.98828571}, {\"run_id\": \"AutoML_04a76343-05bc-433f-b65c-cbe126eaf4d6_2\", \"run_number\": 7, \"metric\": null, \"status\": \"Completed\", \"run_type\": \"azureml.scriptrun\", \"training_percent\": \"100\", \"start_time\": \"2021-01-18T16:07:45.317668Z\", \"end_time\": \"2021-01-18T16:08:27.866033Z\", \"created_time\": \"2021-01-18T16:07:29.390844Z\", \"created_time_dt\": \"2021-01-18T16:07:29.390844Z\", \"duration\": \"0:00:58\", \"iteration\": \"2\", \"goal\": \"accuracy_max\", \"run_name\": \"MinMaxScaler, RandomForest\", \"run_properties\": \"copy=True, feature_range=(0, 1\", \"primary_metric\": 0.96142857, \"best_metric\": 0.98828571}, {\"run_id\": \"AutoML_04a76343-05bc-433f-b65c-cbe126eaf4d6_3\", \"run_number\": 8, \"metric\": null, \"status\": \"Completed\", \"run_type\": \"azureml.scriptrun\", \"training_percent\": \"100\", \"start_time\": \"2021-01-18T16:08:43.864189Z\", \"end_time\": \"2021-01-18T16:09:27.125957Z\", \"created_time\": \"2021-01-18T16:08:30.027489Z\", \"created_time_dt\": \"2021-01-18T16:08:30.027489Z\", \"duration\": \"0:00:57\", \"iteration\": \"3\", \"goal\": \"accuracy_max\", \"run_name\": \"MinMaxScaler, RandomForest\", \"run_properties\": \"copy=True, feature_range=(0, 1\", \"primary_metric\": 0.93142857, \"best_metric\": 0.98828571}, {\"run_id\": \"AutoML_04a76343-05bc-433f-b65c-cbe126eaf4d6_4\", \"run_number\": 9, \"metric\": null, \"status\": \"Completed\", \"run_type\": \"azureml.scriptrun\", \"training_percent\": \"100\", \"start_time\": \"2021-01-18T16:09:45.003547Z\", \"end_time\": \"2021-01-18T16:10:32.65584Z\", \"created_time\": \"2021-01-18T16:09:29.512532Z\", \"created_time_dt\": \"2021-01-18T16:09:29.512532Z\", \"duration\": \"0:01:03\", \"iteration\": \"4\", \"goal\": \"accuracy_max\", \"run_name\": \"MinMaxScaler, RandomForest\", \"run_properties\": \"copy=True, feature_range=(0, 1\", \"primary_metric\": 0.96542857, \"best_metric\": 0.98828571}, {\"run_id\": \"AutoML_04a76343-05bc-433f-b65c-cbe126eaf4d6_5\", \"run_number\": 10, \"metric\": null, \"status\": \"Completed\", \"run_type\": \"azureml.scriptrun\", \"training_percent\": \"100\", \"start_time\": \"2021-01-18T16:10:48.112466Z\", \"end_time\": \"2021-01-18T16:11:55.124324Z\", \"created_time\": \"2021-01-18T16:10:34.342549Z\", \"created_time_dt\": \"2021-01-18T16:10:34.342549Z\", \"duration\": \"0:01:20\", \"iteration\": \"5\", \"goal\": \"accuracy_max\", \"run_name\": \"MinMaxScaler, SVM\", \"run_properties\": \"copy=True, feature_range=(0, 1\", \"primary_metric\": 0.97714286, \"best_metric\": 0.98828571}, {\"run_id\": \"AutoML_04a76343-05bc-433f-b65c-cbe126eaf4d6_6\", \"run_number\": 11, \"metric\": null, \"status\": \"Completed\", \"run_type\": \"azureml.scriptrun\", \"training_percent\": \"100\", \"start_time\": \"2021-01-18T16:12:09.870875Z\", \"end_time\": \"2021-01-18T16:13:43.026498Z\", \"created_time\": \"2021-01-18T16:11:56.943595Z\", \"created_time_dt\": \"2021-01-18T16:11:56.943595Z\", \"duration\": \"0:01:46\", \"iteration\": \"6\", \"goal\": \"accuracy_max\", \"run_name\": \"MaxAbsScaler, GradientBoosting\", \"run_properties\": \"copy=True\", \"primary_metric\": 0.96257143, \"best_metric\": 0.98828571}, {\"run_id\": \"AutoML_04a76343-05bc-433f-b65c-cbe126eaf4d6_7\", \"run_number\": 12, \"metric\": null, \"status\": \"Completed\", \"run_type\": \"azureml.scriptrun\", \"training_percent\": \"100\", \"start_time\": \"2021-01-18T16:13:59.576497Z\", \"end_time\": \"2021-01-18T16:14:37.159831Z\", \"created_time\": \"2021-01-18T16:13:45.256438Z\", \"created_time_dt\": \"2021-01-18T16:13:45.256438Z\", \"duration\": \"0:00:51\", \"iteration\": \"7\", \"goal\": \"accuracy_max\", \"run_name\": \"StandardScalerWrapper, RandomForest\", \"run_properties\": \"<azureml.automl.runtime.shared.model_wrappers.StandardScalerWrapper object at 0x7f44c8dad7f0\", \"primary_metric\": 0.91942857, \"best_metric\": 0.98828571}, {\"run_id\": \"AutoML_04a76343-05bc-433f-b65c-cbe126eaf4d6_8\", \"run_number\": 13, \"metric\": null, \"status\": \"Completed\", \"run_type\": \"azureml.scriptrun\", \"training_percent\": \"100\", \"start_time\": \"2021-01-18T16:14:50.420943Z\", \"end_time\": \"2021-01-18T16:15:36.779752Z\", \"created_time\": \"2021-01-18T16:14:39.114116Z\", \"created_time_dt\": \"2021-01-18T16:14:39.114116Z\", \"duration\": \"0:00:57\", \"iteration\": \"8\", \"goal\": \"accuracy_max\", \"run_name\": \"SparseNormalizer, LightGBM\", \"run_properties\": \"<azureml.automl.runtime.shared.model_wrappers.SparseNormalizer object at 0x7f8c6bfeb5f8\", \"primary_metric\": 0.92714286, \"best_metric\": 0.98828571}, {\"run_id\": \"AutoML_04a76343-05bc-433f-b65c-cbe126eaf4d6_9\", \"run_number\": 14, \"metric\": null, \"status\": \"Completed\", \"run_type\": \"azureml.scriptrun\", \"training_percent\": \"100\", \"start_time\": \"2021-01-18T16:15:52.08153Z\", \"end_time\": \"2021-01-18T16:16:40.538091Z\", \"created_time\": \"2021-01-18T16:15:38.75617Z\", \"created_time_dt\": \"2021-01-18T16:15:38.75617Z\", \"duration\": \"0:01:01\", \"iteration\": \"9\", \"goal\": \"accuracy_max\", \"run_name\": \"SparseNormalizer, XGBoostClassifier\", \"run_properties\": \"<azureml.automl.runtime.shared.model_wrappers.SparseNormalizer object at 0x7ff2be99f940\", \"primary_metric\": 0.96, \"best_metric\": 0.98828571}, {\"run_id\": \"AutoML_04a76343-05bc-433f-b65c-cbe126eaf4d6_10\", \"run_number\": 15, \"metric\": null, \"status\": \"Completed\", \"run_type\": \"azureml.scriptrun\", \"training_percent\": \"100\", \"start_time\": \"2021-01-18T16:16:57.661867Z\", \"end_time\": \"2021-01-18T16:17:41.187736Z\", \"created_time\": \"2021-01-18T16:16:42.194302Z\", \"created_time_dt\": \"2021-01-18T16:16:42.194302Z\", \"duration\": \"0:00:58\", \"iteration\": \"10\", \"goal\": \"accuracy_max\", \"run_name\": \"StandardScalerWrapper, LogisticRegression\", \"run_properties\": \"<azureml.automl.runtime.shared.model_wrappers.StandardScalerWrapper object at 0x7f43a40d1ac8\", \"primary_metric\": 0.96285714, \"best_metric\": 0.98828571}, {\"run_id\": \"AutoML_04a76343-05bc-433f-b65c-cbe126eaf4d6_11\", \"run_number\": 16, \"metric\": null, \"status\": \"Completed\", \"run_type\": \"azureml.scriptrun\", \"training_percent\": \"100\", \"start_time\": \"2021-01-18T16:17:59.370921Z\", \"end_time\": \"2021-01-18T16:18:42.341754Z\", \"created_time\": \"2021-01-18T16:17:43.124847Z\", \"created_time_dt\": \"2021-01-18T16:17:43.124847Z\", \"duration\": \"0:00:59\", \"iteration\": \"11\", \"goal\": \"accuracy_max\", \"run_name\": \"MaxAbsScaler, LightGBM\", \"run_properties\": \"copy=True\", \"primary_metric\": 0.94371429, \"best_metric\": 0.98828571}, {\"run_id\": \"AutoML_04a76343-05bc-433f-b65c-cbe126eaf4d6_12\", \"run_number\": 17, \"metric\": null, \"status\": \"Completed\", \"run_type\": \"azureml.scriptrun\", \"training_percent\": \"100\", \"start_time\": \"2021-01-18T16:18:59.864305Z\", \"end_time\": \"2021-01-18T16:19:42.954557Z\", \"created_time\": \"2021-01-18T16:18:44.205254Z\", \"created_time_dt\": \"2021-01-18T16:18:44.205254Z\", \"duration\": \"0:00:58\", \"iteration\": \"12\", \"goal\": \"accuracy_max\", \"run_name\": \"SparseNormalizer, XGBoostClassifier\", \"run_properties\": \"<azureml.automl.runtime.shared.model_wrappers.SparseNormalizer object at 0x7f10e270a7b8\", \"primary_metric\": 0.95514286, \"best_metric\": 0.98828571}, {\"run_id\": \"AutoML_04a76343-05bc-433f-b65c-cbe126eaf4d6_13\", \"run_number\": 18, \"metric\": null, \"status\": \"Completed\", \"run_type\": \"azureml.scriptrun\", \"training_percent\": \"100\", \"start_time\": \"2021-01-18T16:19:58.172578Z\", \"end_time\": \"2021-01-18T16:20:46.987936Z\", \"created_time\": \"2021-01-18T16:19:44.592402Z\", \"created_time_dt\": \"2021-01-18T16:19:44.592402Z\", \"duration\": \"0:01:02\", \"iteration\": \"13\", \"goal\": \"accuracy_max\", \"run_name\": \"RobustScaler, RandomForest\", \"run_properties\": \"copy=True, quantile_range=[10, 90], with_centering=True,\\n             with_scaling=True\", \"primary_metric\": 0.96228571, \"best_metric\": 0.98828571}, {\"run_id\": \"AutoML_04a76343-05bc-433f-b65c-cbe126eaf4d6_14\", \"run_number\": 19, \"metric\": null, \"status\": \"Completed\", \"run_type\": \"azureml.scriptrun\", \"training_percent\": \"100\", \"start_time\": \"2021-01-18T16:21:06.44234Z\", \"end_time\": \"2021-01-18T16:21:51.896066Z\", \"created_time\": \"2021-01-18T16:20:49.764865Z\", \"created_time_dt\": \"2021-01-18T16:20:49.764865Z\", \"duration\": \"0:01:02\", \"iteration\": \"14\", \"goal\": \"accuracy_max\", \"run_name\": \"RobustScaler, ExtremeRandomTrees\", \"run_properties\": \"copy=True, quantile_range=[25, 75], with_centering=True,\\n             with_scaling=False\", \"primary_metric\": 0.90828571, \"best_metric\": 0.98828571}, {\"run_id\": \"AutoML_04a76343-05bc-433f-b65c-cbe126eaf4d6_15\", \"run_number\": 20, \"metric\": null, \"status\": \"Completed\", \"run_type\": \"azureml.scriptrun\", \"training_percent\": \"100\", \"start_time\": \"2021-01-18T16:22:05.80869Z\", \"end_time\": \"2021-01-18T16:22:45.40231Z\", \"created_time\": \"2021-01-18T16:21:54.340306Z\", \"created_time_dt\": \"2021-01-18T16:21:54.340306Z\", \"duration\": \"0:00:51\", \"iteration\": \"15\", \"goal\": \"accuracy_max\", \"run_name\": \"RobustScaler, LightGBM\", \"run_properties\": \"copy=True, quantile_range=[25, 75], with_centering=False,\\n             with_scaling=False\", \"primary_metric\": 0.98714286, \"best_metric\": 0.98828571}, {\"run_id\": \"AutoML_04a76343-05bc-433f-b65c-cbe126eaf4d6_16\", \"run_number\": 21, \"metric\": null, \"status\": \"Completed\", \"run_type\": \"azureml.scriptrun\", \"training_percent\": \"100\", \"start_time\": \"2021-01-18T16:23:00.208621Z\", \"end_time\": \"2021-01-18T16:23:35.491449Z\", \"created_time\": \"2021-01-18T16:22:48.212922Z\", \"created_time_dt\": \"2021-01-18T16:22:48.212922Z\", \"duration\": \"0:00:47\", \"iteration\": \"16\", \"goal\": \"accuracy_max\", \"run_name\": \"MaxAbsScaler, LightGBM\", \"run_properties\": \"copy=True\", \"primary_metric\": 0.91028571, \"best_metric\": 0.98828571}, {\"run_id\": \"AutoML_04a76343-05bc-433f-b65c-cbe126eaf4d6_17\", \"run_number\": 22, \"metric\": null, \"status\": \"Completed\", \"run_type\": \"azureml.scriptrun\", \"training_percent\": \"100\", \"start_time\": \"2021-01-18T16:23:49.795907Z\", \"end_time\": \"2021-01-18T16:24:34.349673Z\", \"created_time\": \"2021-01-18T16:23:37.674098Z\", \"created_time_dt\": \"2021-01-18T16:23:37.674098Z\", \"duration\": \"0:00:56\", \"iteration\": \"17\", \"goal\": \"accuracy_max\", \"run_name\": \"StandardScalerWrapper, ExtremeRandomTrees\", \"run_properties\": \"<azureml.automl.runtime.shared.model_wrappers.StandardScalerWrapper object at 0x7f1f19e15160\", \"primary_metric\": 0.90542857, \"best_metric\": 0.98828571}, {\"run_id\": \"AutoML_04a76343-05bc-433f-b65c-cbe126eaf4d6_18\", \"run_number\": 23, \"metric\": null, \"status\": \"Completed\", \"run_type\": \"azureml.scriptrun\", \"training_percent\": \"100\", \"start_time\": \"2021-01-18T16:24:55.231693Z\", \"end_time\": \"2021-01-18T16:25:41.887401Z\", \"created_time\": \"2021-01-18T16:24:36.990958Z\", \"created_time_dt\": \"2021-01-18T16:24:36.990958Z\", \"duration\": \"0:01:04\", \"iteration\": \"18\", \"goal\": \"accuracy_max\", \"run_name\": \"StandardScalerWrapper, LightGBM\", \"run_properties\": \"<azureml.automl.runtime.shared.model_wrappers.StandardScalerWrapper object at 0x7fa92254efd0\", \"primary_metric\": 0.98542857, \"best_metric\": 0.98828571}, {\"run_id\": \"AutoML_04a76343-05bc-433f-b65c-cbe126eaf4d6_19\", \"run_number\": 24, \"metric\": null, \"status\": \"Completed\", \"run_type\": \"azureml.scriptrun\", \"training_percent\": \"100\", \"start_time\": \"2021-01-18T16:25:58.759068Z\", \"end_time\": \"2021-01-18T16:26:38.795651Z\", \"created_time\": \"2021-01-18T16:25:45.038805Z\", \"created_time_dt\": \"2021-01-18T16:25:45.038805Z\", \"duration\": \"0:00:53\", \"iteration\": \"19\", \"goal\": \"accuracy_max\", \"run_name\": \"RobustScaler, LightGBM\", \"run_properties\": \"copy=True, quantile_range=[10, 90], with_centering=False,\\n             with_scaling=False\", \"primary_metric\": 0.97142857, \"best_metric\": 0.98828571}, {\"run_id\": \"AutoML_04a76343-05bc-433f-b65c-cbe126eaf4d6_20\", \"run_number\": 25, \"metric\": null, \"status\": \"Completed\", \"run_type\": \"azureml.scriptrun\", \"training_percent\": \"100\", \"start_time\": \"2021-01-18T16:26:55.127805Z\", \"end_time\": \"2021-01-18T16:27:43.737906Z\", \"created_time\": \"2021-01-18T16:26:41.76556Z\", \"created_time_dt\": \"2021-01-18T16:26:41.76556Z\", \"duration\": \"0:01:01\", \"iteration\": \"20\", \"goal\": \"accuracy_max\", \"run_name\": \"SparseNormalizer, ExtremeRandomTrees\", \"run_properties\": \"<azureml.automl.runtime.shared.model_wrappers.SparseNormalizer object at 0x7f26bcadfc50\", \"primary_metric\": 0.836, \"best_metric\": 0.98828571}, {\"run_id\": \"AutoML_04a76343-05bc-433f-b65c-cbe126eaf4d6_21\", \"run_number\": 26, \"metric\": null, \"status\": \"Completed\", \"run_type\": \"azureml.scriptrun\", \"training_percent\": \"100\", \"start_time\": \"2021-01-18T16:28:04.735417Z\", \"end_time\": \"2021-01-18T16:28:45.851773Z\", \"created_time\": \"2021-01-18T16:27:46.578944Z\", \"created_time_dt\": \"2021-01-18T16:27:46.578944Z\", \"duration\": \"0:00:59\", \"iteration\": \"21\", \"goal\": \"accuracy_max\", \"run_name\": \"SparseNormalizer, XGBoostClassifier\", \"run_properties\": \"<azureml.automl.runtime.shared.model_wrappers.SparseNormalizer object at 0x7efe582f8a90\", \"primary_metric\": 0.95771429, \"best_metric\": 0.98828571}, {\"run_id\": \"AutoML_04a76343-05bc-433f-b65c-cbe126eaf4d6_22\", \"run_number\": 27, \"metric\": null, \"status\": \"Completed\", \"run_type\": \"azureml.scriptrun\", \"training_percent\": \"100\", \"start_time\": \"2021-01-18T16:29:06.452439Z\", \"end_time\": \"2021-01-18T16:29:48.123779Z\", \"created_time\": \"2021-01-18T16:28:48.273768Z\", \"created_time_dt\": \"2021-01-18T16:28:48.273768Z\", \"duration\": \"0:00:59\", \"iteration\": \"22\", \"goal\": \"accuracy_max\", \"run_name\": \"MaxAbsScaler, ExtremeRandomTrees\", \"run_properties\": \"copy=True\", \"primary_metric\": 0.90628571, \"best_metric\": 0.98828571}, {\"run_id\": \"AutoML_04a76343-05bc-433f-b65c-cbe126eaf4d6_23\", \"run_number\": 28, \"metric\": null, \"status\": \"Completed\", \"run_type\": \"azureml.scriptrun\", \"training_percent\": \"100\", \"start_time\": \"2021-01-18T16:30:05.727404Z\", \"end_time\": \"2021-01-18T16:30:45.818758Z\", \"created_time\": \"2021-01-18T16:29:51.423598Z\", \"created_time_dt\": \"2021-01-18T16:29:51.423598Z\", \"duration\": \"0:00:54\", \"iteration\": \"23\", \"goal\": \"accuracy_max\", \"run_name\": \"RobustScaler, LightGBM\", \"run_properties\": \"copy=True, quantile_range=[10, 90], with_centering=False,\\n             with_scaling=False\", \"primary_metric\": 0.98657143, \"best_metric\": 0.98828571}, {\"run_id\": \"AutoML_04a76343-05bc-433f-b65c-cbe126eaf4d6_24\", \"run_number\": 29, \"metric\": null, \"status\": \"Completed\", \"run_type\": \"azureml.scriptrun\", \"training_percent\": \"100\", \"start_time\": \"2021-01-18T16:31:06.289757Z\", \"end_time\": \"2021-01-18T16:31:56.440137Z\", \"created_time\": \"2021-01-18T16:30:48.64081Z\", \"created_time_dt\": \"2021-01-18T16:30:48.64081Z\", \"duration\": \"0:01:07\", \"iteration\": \"24\", \"goal\": \"accuracy_max\", \"run_name\": \"StandardScalerWrapper, LogisticRegression\", \"run_properties\": \"<azureml.automl.runtime.shared.model_wrappers.StandardScalerWrapper object at 0x7fe370f4e6a0\", \"primary_metric\": 0.96285714, \"best_metric\": 0.98828571}, {\"run_id\": \"AutoML_04a76343-05bc-433f-b65c-cbe126eaf4d6_25\", \"run_number\": 30, \"metric\": null, \"status\": \"Completed\", \"run_type\": \"azureml.scriptrun\", \"training_percent\": \"100\", \"start_time\": \"2021-01-18T16:32:16.887687Z\", \"end_time\": \"2021-01-18T16:33:09.280411Z\", \"created_time\": \"2021-01-18T16:31:59.627009Z\", \"created_time_dt\": \"2021-01-18T16:31:59.627009Z\", \"duration\": \"0:01:09\", \"iteration\": \"25\", \"goal\": \"accuracy_max\", \"run_name\": \"RobustScaler, LightGBM\", \"run_properties\": \"copy=True, quantile_range=[10, 90], with_centering=True,\\n             with_scaling=False\", \"primary_metric\": 0.92171429, \"best_metric\": 0.98828571}, {\"run_id\": \"AutoML_04a76343-05bc-433f-b65c-cbe126eaf4d6_26\", \"run_number\": 31, \"metric\": null, \"status\": \"Completed\", \"run_type\": \"azureml.scriptrun\", \"training_percent\": \"100\", \"start_time\": \"2021-01-18T16:33:33.605851Z\", \"end_time\": \"2021-01-18T16:34:27.078745Z\", \"created_time\": \"2021-01-18T16:33:12.683975Z\", \"created_time_dt\": \"2021-01-18T16:33:12.683975Z\", \"duration\": \"0:01:14\", \"iteration\": \"26\", \"goal\": \"accuracy_max\", \"run_name\": \"SparseNormalizer, XGBoostClassifier\", \"run_properties\": \"<azureml.automl.runtime.shared.model_wrappers.SparseNormalizer object at 0x7f828da12550\", \"primary_metric\": 0.96028571, \"best_metric\": 0.98828571}, {\"run_id\": \"AutoML_04a76343-05bc-433f-b65c-cbe126eaf4d6_27\", \"run_number\": 32, \"metric\": null, \"status\": \"Completed\", \"run_type\": \"azureml.scriptrun\", \"training_percent\": \"100\", \"start_time\": \"2021-01-18T16:34:43.605187Z\", \"end_time\": \"2021-01-18T16:35:29.599467Z\", \"created_time\": \"2021-01-18T16:34:29.500747Z\", \"created_time_dt\": \"2021-01-18T16:34:29.500747Z\", \"duration\": \"0:01:00\", \"iteration\": \"27\", \"goal\": \"accuracy_max\", \"run_name\": \"StandardScalerWrapper, LogisticRegression\", \"run_properties\": \"<azureml.automl.runtime.shared.model_wrappers.StandardScalerWrapper object at 0x7fd17e6a2b38\", \"primary_metric\": 0.96285714, \"best_metric\": 0.98828571}, {\"run_id\": \"AutoML_04a76343-05bc-433f-b65c-cbe126eaf4d6_28\", \"run_number\": 33, \"metric\": null, \"status\": \"Completed\", \"run_type\": \"azureml.scriptrun\", \"training_percent\": \"100\", \"start_time\": \"2021-01-18T16:35:51.386585Z\", \"end_time\": \"2021-01-18T16:36:34.449219Z\", \"created_time\": \"2021-01-18T16:35:35.983775Z\", \"created_time_dt\": \"2021-01-18T16:35:35.983775Z\", \"duration\": \"0:00:58\", \"iteration\": \"28\", \"goal\": \"accuracy_max\", \"run_name\": \"SparseNormalizer, XGBoostClassifier\", \"run_properties\": \"<azureml.automl.runtime.shared.model_wrappers.SparseNormalizer object at 0x7f2c6f32cf28\", \"primary_metric\": 0.95742857, \"best_metric\": 0.98828571}, {\"run_id\": \"AutoML_04a76343-05bc-433f-b65c-cbe126eaf4d6_29\", \"run_number\": 34, \"metric\": null, \"status\": \"Completed\", \"run_type\": \"azureml.scriptrun\", \"training_percent\": \"100\", \"start_time\": \"2021-01-18T16:36:49.289651Z\", \"end_time\": \"2021-01-18T16:37:31.806742Z\", \"created_time\": \"2021-01-18T16:36:36.539302Z\", \"created_time_dt\": \"2021-01-18T16:36:36.539302Z\", \"duration\": \"0:00:55\", \"iteration\": \"29\", \"goal\": \"accuracy_max\", \"run_name\": \"StandardScalerWrapper, XGBoostClassifier\", \"run_properties\": \"<azureml.automl.runtime.shared.model_wrappers.StandardScalerWrapper object at 0x7f3b6b5bc080\", \"primary_metric\": 0.98085714, \"best_metric\": 0.98828571}, {\"run_id\": \"AutoML_04a76343-05bc-433f-b65c-cbe126eaf4d6_30\", \"run_number\": 35, \"metric\": null, \"status\": \"Completed\", \"run_type\": \"azureml.scriptrun\", \"training_percent\": \"100\", \"start_time\": \"2021-01-18T16:37:47.26097Z\", \"end_time\": \"2021-01-18T16:39:04.761443Z\", \"created_time\": \"2021-01-18T16:37:33.036417Z\", \"created_time_dt\": \"2021-01-18T16:37:33.036417Z\", \"duration\": \"0:01:31\", \"iteration\": \"30\", \"goal\": \"accuracy_max\", \"run_name\": \"VotingEnsemble\", \"run_properties\": \"classification_labels=None,\\n                              estimators=[('0',\\n                                           Pipeline(memory=None,\\n                                                    steps=[('maxabsscaler',\\n                                                            MaxAbsScaler(copy=True\", \"primary_metric\": 0.98942857, \"best_metric\": 0.98942857}, {\"run_id\": \"AutoML_04a76343-05bc-433f-b65c-cbe126eaf4d6_31\", \"run_number\": 36, \"metric\": null, \"status\": \"Completed\", \"run_type\": \"azureml.scriptrun\", \"training_percent\": \"100\", \"start_time\": \"2021-01-18T16:39:18.820771Z\", \"end_time\": \"2021-01-18T16:40:36.80933Z\", \"created_time\": \"2021-01-18T16:39:06.574292Z\", \"created_time_dt\": \"2021-01-18T16:39:06.574292Z\", \"duration\": \"0:01:30\", \"iteration\": \"31\", \"goal\": \"accuracy_max\", \"run_name\": \"StackEnsemble\", \"run_properties\": \"base_learners=[('0',\\n                                        Pipeline(memory=None,\\n                                                 steps=[('maxabsscaler',\\n                                                         MaxAbsScaler(copy=True\", \"primary_metric\": 0.98657143, \"best_metric\": 0.98942857}], \"children_metrics\": {\"categories\": [0], \"series\": {\"average_precision_score_macro\": [{\"categories\": [\"0\", \"1\", \"2\", \"3\", \"4\", \"5\", \"6\", \"7\", \"8\", \"9\", \"10\", \"11\", \"12\", \"13\", \"14\", \"15\", \"16\", \"17\", \"18\", \"19\", \"20\", \"21\", \"22\", \"23\", \"24\", \"25\", \"26\", \"27\", \"28\", \"29\", \"30\", \"31\"], \"mode\": \"markers\", \"name\": \"average_precision_score_macro\", \"stepped\": false, \"type\": \"scatter\", \"data\": [0.9903293771140772, 0.9901637604952189, 0.9683384292864675, 0.9284830398523187, 0.9768325428126952, 0.966240519204851, 0.967350480455224, 0.9359127604553198, 0.8249929094306474, 0.9419970889633807, 0.9382891462856244, 0.9667062634227479, 0.9272383203478727, 0.9505665498556513, 0.9257773615031611, 0.9865845317384544, 0.8932957534428623, 0.9485473482293469, 0.9760557489592172, 0.9757930418582543, 0.7431114236357099, 0.9248969157859562, 0.9550168543103718, 0.9793564579265668, 0.9383469344069566, 0.8983544779693837, 0.9359368149793212, 0.9375716765683519, 0.9408190612072899, 0.9830489734497189, 0.9871024291246122, 0.9876616909577296]}, {\"categories\": [\"0\", \"1\", \"2\", \"3\", \"4\", \"5\", \"6\", \"7\", \"8\", \"9\", \"10\", \"11\", \"12\", \"13\", \"14\", \"15\", \"16\", \"17\", \"18\", \"19\", \"20\", \"21\", \"22\", \"23\", \"24\", \"25\", \"26\", \"27\", \"28\", \"29\", \"30\", \"31\"], \"mode\": \"lines\", \"name\": \"average_precision_score_macro_max\", \"stepped\": true, \"type\": \"scatter\", \"data\": [0.9903293771140772, 0.9903293771140772, 0.9903293771140772, 0.9903293771140772, 0.9903293771140772, 0.9903293771140772, 0.9903293771140772, 0.9903293771140772, 0.9903293771140772, 0.9903293771140772, 0.9903293771140772, 0.9903293771140772, 0.9903293771140772, 0.9903293771140772, 0.9903293771140772, 0.9903293771140772, 0.9903293771140772, 0.9903293771140772, 0.9903293771140772, 0.9903293771140772, 0.9903293771140772, 0.9903293771140772, 0.9903293771140772, 0.9903293771140772, 0.9903293771140772, 0.9903293771140772, 0.9903293771140772, 0.9903293771140772, 0.9903293771140772, 0.9903293771140772, 0.9903293771140772, 0.9903293771140772]}], \"log_loss\": [{\"categories\": [\"0\", \"1\", \"2\", \"3\", \"4\", \"5\", \"6\", \"7\", \"8\", \"9\", \"10\", \"11\", \"12\", \"13\", \"14\", \"15\", \"16\", \"17\", \"18\", \"19\", \"20\", \"21\", \"22\", \"23\", \"24\", \"25\", \"26\", \"27\", \"28\", \"29\", \"30\", \"31\"], \"mode\": \"markers\", \"name\": \"log_loss\", \"stepped\": false, \"type\": \"scatter\", \"data\": [0.04604580319695345, 0.0388242714698825, 0.11022537092752986, 0.1518164151854937, 0.13744073663558126, 0.0746711099631686, 0.10876874277155482, 0.16365361875934956, 0.1693939781441502, 0.09795603597914022, 0.10646301380263826, 0.1402101934514682, 0.11442342483756249, 0.126299341807603, 0.16500155952046514, 0.04556850995285082, 0.21038919228489542, 0.1807467157735315, 0.06008188240898754, 0.08767081519353458, 0.6727346365100095, 0.1411566567491544, 0.1743495259011788, 0.06147057111206346, 0.10626734357925957, 0.18441267195973016, 0.13100532406241178, 0.10631785669936322, 0.0971021028122591, 0.11196968555103166, 0.05819255361885702, 0.053402994186155614]}, {\"categories\": [\"0\", \"1\", \"2\", \"3\", \"4\", \"5\", \"6\", \"7\", \"8\", \"9\", \"10\", \"11\", \"12\", \"13\", \"14\", \"15\", \"16\", \"17\", \"18\", \"19\", \"20\", \"21\", \"22\", \"23\", \"24\", \"25\", \"26\", \"27\", \"28\", \"29\", \"30\", \"31\"], \"mode\": \"lines\", \"name\": \"log_loss_min\", \"stepped\": true, \"type\": \"scatter\", \"data\": [0.04604580319695345, 0.0388242714698825, 0.0388242714698825, 0.0388242714698825, 0.0388242714698825, 0.0388242714698825, 0.0388242714698825, 0.0388242714698825, 0.0388242714698825, 0.0388242714698825, 0.0388242714698825, 0.0388242714698825, 0.0388242714698825, 0.0388242714698825, 0.0388242714698825, 0.0388242714698825, 0.0388242714698825, 0.0388242714698825, 0.0388242714698825, 0.0388242714698825, 0.0388242714698825, 0.0388242714698825, 0.0388242714698825, 0.0388242714698825, 0.0388242714698825, 0.0388242714698825, 0.0388242714698825, 0.0388242714698825, 0.0388242714698825, 0.0388242714698825, 0.0388242714698825, 0.0388242714698825]}], \"recall_score_weighted\": [{\"categories\": [\"0\", \"1\", \"2\", \"3\", \"4\", \"5\", \"6\", \"7\", \"8\", \"9\", \"10\", \"11\", \"12\", \"13\", \"14\", \"15\", \"16\", \"17\", \"18\", \"19\", \"20\", \"21\", \"22\", \"23\", \"24\", \"25\", \"26\", \"27\", \"28\", \"29\", \"30\", \"31\"], \"mode\": \"markers\", \"name\": \"recall_score_weighted\", \"stepped\": false, \"type\": \"scatter\", \"data\": [0.9882857142857142, 0.9857142857142858, 0.9614285714285714, 0.9314285714285715, 0.9654285714285715, 0.9771428571428572, 0.9625714285714286, 0.9194285714285714, 0.927142857142857, 0.96, 0.962857142857143, 0.9437142857142857, 0.9551428571428572, 0.9622857142857143, 0.9082857142857144, 0.9871428571428572, 0.9102857142857144, 0.9054285714285714, 0.9854285714285714, 0.9714285714285715, 0.8360000000000001, 0.9577142857142859, 0.9062857142857143, 0.9865714285714287, 0.962857142857143, 0.9217142857142857, 0.9602857142857143, 0.962857142857143, 0.9574285714285715, 0.9808571428571428, 0.9894285714285715, 0.9865714285714287]}, {\"categories\": [\"0\", \"1\", \"2\", \"3\", \"4\", \"5\", \"6\", \"7\", \"8\", \"9\", \"10\", \"11\", \"12\", \"13\", \"14\", \"15\", \"16\", \"17\", \"18\", \"19\", \"20\", \"21\", \"22\", \"23\", \"24\", \"25\", \"26\", \"27\", \"28\", \"29\", \"30\", \"31\"], \"mode\": \"lines\", \"name\": \"recall_score_weighted_max\", \"stepped\": true, \"type\": \"scatter\", \"data\": [0.9882857142857142, 0.9882857142857142, 0.9882857142857142, 0.9882857142857142, 0.9882857142857142, 0.9882857142857142, 0.9882857142857142, 0.9882857142857142, 0.9882857142857142, 0.9882857142857142, 0.9882857142857142, 0.9882857142857142, 0.9882857142857142, 0.9882857142857142, 0.9882857142857142, 0.9882857142857142, 0.9882857142857142, 0.9882857142857142, 0.9882857142857142, 0.9882857142857142, 0.9882857142857142, 0.9882857142857142, 0.9882857142857142, 0.9882857142857142, 0.9882857142857142, 0.9882857142857142, 0.9882857142857142, 0.9882857142857142, 0.9882857142857142, 0.9882857142857142, 0.9894285714285715, 0.9894285714285715]}], \"weighted_accuracy\": [{\"categories\": [\"0\", \"1\", \"2\", \"3\", \"4\", \"5\", \"6\", \"7\", \"8\", \"9\", \"10\", \"11\", \"12\", \"13\", \"14\", \"15\", \"16\", \"17\", \"18\", \"19\", \"20\", \"21\", \"22\", \"23\", \"24\", \"25\", \"26\", \"27\", \"28\", \"29\", \"30\", \"31\"], \"mode\": \"markers\", \"name\": \"weighted_accuracy\", \"stepped\": false, \"type\": \"scatter\", \"data\": [0.996135173527853, 0.993880072352507, 0.9947220528759331, 0.9916391045070986, 0.9661666035656451, 0.990672196360911, 0.9943061198248536, 0.9907842907517976, 0.9782491757813718, 0.987028453016635, 0.9856715461120544, 0.9935606872209017, 0.9850811198906516, 0.9909283717534109, 0.9895229033685291, 0.9957209744160587, 0.9897497831202381, 0.9891980298722995, 0.9958070842084691, 0.9944845681795655, 0.8314398741623104, 0.9836978368222706, 0.9892902839468546, 0.9959357274549492, 0.9856715461120544, 0.9907698740541523, 0.9851107988901331, 0.9859494046270246, 0.9833806730548478, 0.9964059275862768, 0.997661078197827, 0.9959368759636391]}, {\"categories\": [\"0\", \"1\", \"2\", \"3\", \"4\", \"5\", \"6\", \"7\", \"8\", \"9\", \"10\", \"11\", \"12\", \"13\", \"14\", \"15\", \"16\", \"17\", \"18\", \"19\", \"20\", \"21\", \"22\", \"23\", \"24\", \"25\", \"26\", \"27\", \"28\", \"29\", \"30\", \"31\"], \"mode\": \"lines\", \"name\": \"weighted_accuracy_max\", \"stepped\": true, \"type\": \"scatter\", \"data\": [0.996135173527853, 0.996135173527853, 0.996135173527853, 0.996135173527853, 0.996135173527853, 0.996135173527853, 0.996135173527853, 0.996135173527853, 0.996135173527853, 0.996135173527853, 0.996135173527853, 0.996135173527853, 0.996135173527853, 0.996135173527853, 0.996135173527853, 0.996135173527853, 0.996135173527853, 0.996135173527853, 0.996135173527853, 0.996135173527853, 0.996135173527853, 0.996135173527853, 0.996135173527853, 0.996135173527853, 0.996135173527853, 0.996135173527853, 0.996135173527853, 0.996135173527853, 0.996135173527853, 0.9964059275862768, 0.997661078197827, 0.997661078197827]}], \"accuracy\": [{\"categories\": [\"0\", \"1\", \"2\", \"3\", \"4\", \"5\", \"6\", \"7\", \"8\", \"9\", \"10\", \"11\", \"12\", \"13\", \"14\", \"15\", \"16\", \"17\", \"18\", \"19\", \"20\", \"21\", \"22\", \"23\", \"24\", \"25\", \"26\", \"27\", \"28\", \"29\", \"30\", \"31\"], \"mode\": \"markers\", \"name\": \"accuracy\", \"stepped\": false, \"type\": \"scatter\", \"data\": [0.9882857142857142, 0.9857142857142858, 0.9614285714285714, 0.9314285714285715, 0.9654285714285715, 0.9771428571428572, 0.9625714285714286, 0.9194285714285714, 0.927142857142857, 0.96, 0.962857142857143, 0.9437142857142857, 0.9551428571428572, 0.9622857142857143, 0.9082857142857144, 0.9871428571428572, 0.9102857142857144, 0.9054285714285714, 0.9854285714285714, 0.9714285714285715, 0.8360000000000001, 0.9577142857142859, 0.9062857142857143, 0.9865714285714287, 0.962857142857143, 0.9217142857142857, 0.9602857142857143, 0.962857142857143, 0.9574285714285715, 0.9808571428571428, 0.9894285714285715, 0.9865714285714287]}, {\"categories\": [\"0\", \"1\", \"2\", \"3\", \"4\", \"5\", \"6\", \"7\", \"8\", \"9\", \"10\", \"11\", \"12\", \"13\", \"14\", \"15\", \"16\", \"17\", \"18\", \"19\", \"20\", \"21\", \"22\", \"23\", \"24\", \"25\", \"26\", \"27\", \"28\", \"29\", \"30\", \"31\"], \"mode\": \"lines\", \"name\": \"accuracy_max\", \"stepped\": true, \"type\": \"scatter\", \"data\": [0.9882857142857142, 0.9882857142857142, 0.9882857142857142, 0.9882857142857142, 0.9882857142857142, 0.9882857142857142, 0.9882857142857142, 0.9882857142857142, 0.9882857142857142, 0.9882857142857142, 0.9882857142857142, 0.9882857142857142, 0.9882857142857142, 0.9882857142857142, 0.9882857142857142, 0.9882857142857142, 0.9882857142857142, 0.9882857142857142, 0.9882857142857142, 0.9882857142857142, 0.9882857142857142, 0.9882857142857142, 0.9882857142857142, 0.9882857142857142, 0.9882857142857142, 0.9882857142857142, 0.9882857142857142, 0.9882857142857142, 0.9882857142857142, 0.9882857142857142, 0.9894285714285715, 0.9894285714285715]}], \"precision_score_macro\": [{\"categories\": [\"0\", \"1\", \"2\", \"3\", \"4\", \"5\", \"6\", \"7\", \"8\", \"9\", \"10\", \"11\", \"12\", \"13\", \"14\", \"15\", \"16\", \"17\", \"18\", \"19\", \"20\", \"21\", \"22\", \"23\", \"24\", \"25\", \"26\", \"27\", \"28\", \"29\", \"30\", \"31\"], \"mode\": \"markers\", \"name\": \"precision_score_macro\", \"stepped\": false, \"type\": \"scatter\", \"data\": [0.9805107571002827, 0.9692914754827454, 0.973052365832437, 0.7604340104946721, 0.8754963618754988, 0.9526531588142488, 0.9683239417065526, 0.9591666093959763, 0.8353962783303418, 0.9230828547346146, 0.9194878411983634, 0.9707432854672765, 0.9098184648108912, 0.9476470448302343, 0.5540269151138716, 0.9782525782748998, 0.8549287869886666, 0.4527142857142857, 0.9782911427541963, 0.9688825105643604, 0.6696658152486089, 0.9069039702237337, 0.5531059643369544, 0.9794226929902397, 0.9194878411983634, 0.9555926417155245, 0.9151102591716622, 0.920509313923945, 0.9043722254334028, 0.9810045728827645, 0.9882001631079598, 0.9795478840887487]}, {\"categories\": [\"0\", \"1\", \"2\", \"3\", \"4\", \"5\", \"6\", \"7\", \"8\", \"9\", \"10\", \"11\", \"12\", \"13\", \"14\", \"15\", \"16\", \"17\", \"18\", \"19\", \"20\", \"21\", \"22\", \"23\", \"24\", \"25\", \"26\", \"27\", \"28\", \"29\", \"30\", \"31\"], \"mode\": \"lines\", \"name\": \"precision_score_macro_max\", \"stepped\": true, \"type\": \"scatter\", \"data\": [0.9805107571002827, 0.9805107571002827, 0.9805107571002827, 0.9805107571002827, 0.9805107571002827, 0.9805107571002827, 0.9805107571002827, 0.9805107571002827, 0.9805107571002827, 0.9805107571002827, 0.9805107571002827, 0.9805107571002827, 0.9805107571002827, 0.9805107571002827, 0.9805107571002827, 0.9805107571002827, 0.9805107571002827, 0.9805107571002827, 0.9805107571002827, 0.9805107571002827, 0.9805107571002827, 0.9805107571002827, 0.9805107571002827, 0.9805107571002827, 0.9805107571002827, 0.9805107571002827, 0.9805107571002827, 0.9805107571002827, 0.9805107571002827, 0.9810045728827645, 0.9882001631079598, 0.9882001631079598]}], \"f1_score_macro\": [{\"categories\": [\"0\", \"1\", \"2\", \"3\", \"4\", \"5\", \"6\", \"7\", \"8\", \"9\", \"10\", \"11\", \"12\", \"13\", \"14\", \"15\", \"16\", \"17\", \"18\", \"19\", \"20\", \"21\", \"22\", \"23\", \"24\", \"25\", \"26\", \"27\", \"28\", \"29\", \"30\", \"31\"], \"mode\": \"markers\", \"name\": \"f1_score_macro\", \"stepped\": false, \"type\": \"scatter\", \"data\": [0.9647736745238371, 0.957425787095698, 0.8593206900616371, 0.6679066287584677, 0.9112352638633625, 0.9299720971014743, 0.8680961821306006, 0.6050762198615334, 0.7264446428205306, 0.8687522995375948, 0.8815242682679413, 0.7730035390782402, 0.8513923003252358, 0.8717106849422047, 0.502216522104725, 0.9613059673804548, 0.5246162599252104, 0.4751828136449145, 0.9553956654838224, 0.9047812297776512, 0.7034210141601314, 0.8635621668302308, 0.4844880134962025, 0.9592366714019771, 0.8815242682679413, 0.6256494769549822, 0.8727677591019113, 0.8811892608425111, 0.863557202120721, 0.9387069403651006, 0.9679060512840602, 0.9591891670946829]}, {\"categories\": [\"0\", \"1\", \"2\", \"3\", \"4\", \"5\", \"6\", \"7\", \"8\", \"9\", \"10\", \"11\", \"12\", \"13\", \"14\", \"15\", \"16\", \"17\", \"18\", \"19\", \"20\", \"21\", \"22\", \"23\", \"24\", \"25\", \"26\", \"27\", \"28\", \"29\", \"30\", \"31\"], \"mode\": \"lines\", \"name\": \"f1_score_macro_max\", \"stepped\": true, \"type\": \"scatter\", \"data\": [0.9647736745238371, 0.9647736745238371, 0.9647736745238371, 0.9647736745238371, 0.9647736745238371, 0.9647736745238371, 0.9647736745238371, 0.9647736745238371, 0.9647736745238371, 0.9647736745238371, 0.9647736745238371, 0.9647736745238371, 0.9647736745238371, 0.9647736745238371, 0.9647736745238371, 0.9647736745238371, 0.9647736745238371, 0.9647736745238371, 0.9647736745238371, 0.9647736745238371, 0.9647736745238371, 0.9647736745238371, 0.9647736745238371, 0.9647736745238371, 0.9647736745238371, 0.9647736745238371, 0.9647736745238371, 0.9647736745238371, 0.9647736745238371, 0.9647736745238371, 0.9679060512840602, 0.9679060512840602]}], \"f1_score_micro\": [{\"categories\": [\"0\", \"1\", \"2\", \"3\", \"4\", \"5\", \"6\", \"7\", \"8\", \"9\", \"10\", \"11\", \"12\", \"13\", \"14\", \"15\", \"16\", \"17\", \"18\", \"19\", \"20\", \"21\", \"22\", \"23\", \"24\", \"25\", \"26\", \"27\", \"28\", \"29\", \"30\", \"31\"], \"mode\": \"markers\", \"name\": \"f1_score_micro\", \"stepped\": false, \"type\": \"scatter\", \"data\": [0.9882857142857142, 0.9857142857142858, 0.9614285714285714, 0.9314285714285715, 0.9654285714285715, 0.9771428571428572, 0.9625714285714286, 0.9194285714285714, 0.927142857142857, 0.96, 0.9628571428571429, 0.9437142857142857, 0.955142857142857, 0.9622857142857143, 0.9082857142857144, 0.9871428571428572, 0.9102857142857144, 0.9054285714285714, 0.9854285714285714, 0.9714285714285715, 0.8360000000000001, 0.9577142857142859, 0.9062857142857143, 0.9865714285714287, 0.9628571428571429, 0.9217142857142857, 0.9602857142857143, 0.9628571428571429, 0.9574285714285715, 0.9808571428571428, 0.9894285714285715, 0.9865714285714287]}, {\"categories\": [\"0\", \"1\", \"2\", \"3\", \"4\", \"5\", \"6\", \"7\", \"8\", \"9\", \"10\", \"11\", \"12\", \"13\", \"14\", \"15\", \"16\", \"17\", \"18\", \"19\", \"20\", \"21\", \"22\", \"23\", \"24\", \"25\", \"26\", \"27\", \"28\", \"29\", \"30\", \"31\"], \"mode\": \"lines\", \"name\": \"f1_score_micro_max\", \"stepped\": true, \"type\": \"scatter\", \"data\": [0.9882857142857142, 0.9882857142857142, 0.9882857142857142, 0.9882857142857142, 0.9882857142857142, 0.9882857142857142, 0.9882857142857142, 0.9882857142857142, 0.9882857142857142, 0.9882857142857142, 0.9882857142857142, 0.9882857142857142, 0.9882857142857142, 0.9882857142857142, 0.9882857142857142, 0.9882857142857142, 0.9882857142857142, 0.9882857142857142, 0.9882857142857142, 0.9882857142857142, 0.9882857142857142, 0.9882857142857142, 0.9882857142857142, 0.9882857142857142, 0.9882857142857142, 0.9882857142857142, 0.9882857142857142, 0.9882857142857142, 0.9882857142857142, 0.9882857142857142, 0.9894285714285715, 0.9894285714285715]}], \"precision_score_weighted\": [{\"categories\": [\"0\", \"1\", \"2\", \"3\", \"4\", \"5\", \"6\", \"7\", \"8\", \"9\", \"10\", \"11\", \"12\", \"13\", \"14\", \"15\", \"16\", \"17\", \"18\", \"19\", \"20\", \"21\", \"22\", \"23\", \"24\", \"25\", \"26\", \"27\", \"28\", \"29\", \"30\", \"31\"], \"mode\": \"markers\", \"name\": \"precision_score_weighted\", \"stepped\": false, \"type\": \"scatter\", \"data\": [0.9881543693852837, 0.985498892444436, 0.9626128908221709, 0.8991068775110163, 0.9729531212079999, 0.9769617506870251, 0.9629946805781252, 0.9260701925472663, 0.9184143263553111, 0.9579963404514633, 0.9612236891551774, 0.9470312772940511, 0.9525395836489567, 0.9616122242978463, 0.8410418160307602, 0.9869707586560266, 0.8989615932311132, 0.8198069387755101, 0.9852831623371419, 0.9712154288623918, 0.9260068950787641, 0.9556984845071229, 0.838519793868767, 0.9864743715148109, 0.9612236891551774, 0.9273207277849229, 0.9583990413151092, 0.9611648412162207, 0.9550865960740019, 0.9808597726146056, 0.9894027282845036, 0.986500506586405]}, {\"categories\": [\"0\", \"1\", \"2\", \"3\", \"4\", \"5\", \"6\", \"7\", \"8\", \"9\", \"10\", \"11\", \"12\", \"13\", \"14\", \"15\", \"16\", \"17\", \"18\", \"19\", \"20\", \"21\", \"22\", \"23\", \"24\", \"25\", \"26\", \"27\", \"28\", \"29\", \"30\", \"31\"], \"mode\": \"lines\", \"name\": \"precision_score_weighted_max\", \"stepped\": true, \"type\": \"scatter\", \"data\": [0.9881543693852837, 0.9881543693852837, 0.9881543693852837, 0.9881543693852837, 0.9881543693852837, 0.9881543693852837, 0.9881543693852837, 0.9881543693852837, 0.9881543693852837, 0.9881543693852837, 0.9881543693852837, 0.9881543693852837, 0.9881543693852837, 0.9881543693852837, 0.9881543693852837, 0.9881543693852837, 0.9881543693852837, 0.9881543693852837, 0.9881543693852837, 0.9881543693852837, 0.9881543693852837, 0.9881543693852837, 0.9881543693852837, 0.9881543693852837, 0.9881543693852837, 0.9881543693852837, 0.9881543693852837, 0.9881543693852837, 0.9881543693852837, 0.9881543693852837, 0.9894027282845036, 0.9894027282845036]}], \"recall_score_micro\": [{\"categories\": [\"0\", \"1\", \"2\", \"3\", \"4\", \"5\", \"6\", \"7\", \"8\", \"9\", \"10\", \"11\", \"12\", \"13\", \"14\", \"15\", \"16\", \"17\", \"18\", \"19\", \"20\", \"21\", \"22\", \"23\", \"24\", \"25\", \"26\", \"27\", \"28\", \"29\", \"30\", \"31\"], \"mode\": \"markers\", \"name\": \"recall_score_micro\", \"stepped\": false, \"type\": \"scatter\", \"data\": [0.9882857142857142, 0.9857142857142858, 0.9614285714285714, 0.9314285714285715, 0.9654285714285715, 0.9771428571428572, 0.9625714285714286, 0.9194285714285714, 0.927142857142857, 0.96, 0.962857142857143, 0.9437142857142857, 0.9551428571428572, 0.9622857142857143, 0.9082857142857144, 0.9871428571428572, 0.9102857142857144, 0.9054285714285714, 0.9854285714285714, 0.9714285714285715, 0.8360000000000001, 0.9577142857142859, 0.9062857142857143, 0.9865714285714287, 0.962857142857143, 0.9217142857142857, 0.9602857142857143, 0.962857142857143, 0.9574285714285715, 0.9808571428571428, 0.9894285714285715, 0.9865714285714287]}, {\"categories\": [\"0\", \"1\", \"2\", \"3\", \"4\", \"5\", \"6\", \"7\", \"8\", \"9\", \"10\", \"11\", \"12\", \"13\", \"14\", \"15\", \"16\", \"17\", \"18\", \"19\", \"20\", \"21\", \"22\", \"23\", \"24\", \"25\", \"26\", \"27\", \"28\", \"29\", \"30\", \"31\"], \"mode\": \"lines\", \"name\": \"recall_score_micro_max\", \"stepped\": true, \"type\": \"scatter\", \"data\": [0.9882857142857142, 0.9882857142857142, 0.9882857142857142, 0.9882857142857142, 0.9882857142857142, 0.9882857142857142, 0.9882857142857142, 0.9882857142857142, 0.9882857142857142, 0.9882857142857142, 0.9882857142857142, 0.9882857142857142, 0.9882857142857142, 0.9882857142857142, 0.9882857142857142, 0.9882857142857142, 0.9882857142857142, 0.9882857142857142, 0.9882857142857142, 0.9882857142857142, 0.9882857142857142, 0.9882857142857142, 0.9882857142857142, 0.9882857142857142, 0.9882857142857142, 0.9882857142857142, 0.9882857142857142, 0.9882857142857142, 0.9882857142857142, 0.9882857142857142, 0.9894285714285715, 0.9894285714285715]}], \"balanced_accuracy\": [{\"categories\": [\"0\", \"1\", \"2\", \"3\", \"4\", \"5\", \"6\", \"7\", \"8\", \"9\", \"10\", \"11\", \"12\", \"13\", \"14\", \"15\", \"16\", \"17\", \"18\", \"19\", \"20\", \"21\", \"22\", \"23\", \"24\", \"25\", \"26\", \"27\", \"28\", \"29\", \"30\", \"31\"], \"mode\": \"markers\", \"name\": \"balanced_accuracy\", \"stepped\": false, \"type\": \"scatter\", \"data\": [0.9505432010689446, 0.9465690762297141, 0.8014656533196526, 0.6389115359621199, 0.962159820791123, 0.9121668889119219, 0.8097031860032271, 0.5745235814814393, 0.6801205221552145, 0.8297368828074936, 0.8533275735074131, 0.7028326346368489, 0.8105908031355815, 0.8240735308658117, 0.5151515151515151, 0.946024573774029, 0.5257931123602765, 0.5, 0.9356635449209731, 0.8603478951977784, 0.8580396897299666, 0.8326732875874828, 0.5047619047619047, 0.9417052736647333, 0.8533275735074131, 0.58780134909003, 0.84057656141003, 0.8519920220652519, 0.8323949649633487, 0.9059195196646883, 0.9500079682355554, 0.9416550726707221]}, {\"categories\": [\"0\", \"1\", \"2\", \"3\", \"4\", \"5\", \"6\", \"7\", \"8\", \"9\", \"10\", \"11\", \"12\", \"13\", \"14\", \"15\", \"16\", \"17\", \"18\", \"19\", \"20\", \"21\", \"22\", \"23\", \"24\", \"25\", \"26\", \"27\", \"28\", \"29\", \"30\", \"31\"], \"mode\": \"lines\", \"name\": \"balanced_accuracy_max\", \"stepped\": true, \"type\": \"scatter\", \"data\": [0.9505432010689446, 0.9505432010689446, 0.9505432010689446, 0.9505432010689446, 0.962159820791123, 0.962159820791123, 0.962159820791123, 0.962159820791123, 0.962159820791123, 0.962159820791123, 0.962159820791123, 0.962159820791123, 0.962159820791123, 0.962159820791123, 0.962159820791123, 0.962159820791123, 0.962159820791123, 0.962159820791123, 0.962159820791123, 0.962159820791123, 0.962159820791123, 0.962159820791123, 0.962159820791123, 0.962159820791123, 0.962159820791123, 0.962159820791123, 0.962159820791123, 0.962159820791123, 0.962159820791123, 0.962159820791123, 0.962159820791123, 0.962159820791123]}], \"AUC_micro\": [{\"categories\": [\"0\", \"1\", \"2\", \"3\", \"4\", \"5\", \"6\", \"7\", \"8\", \"9\", \"10\", \"11\", \"12\", \"13\", \"14\", \"15\", \"16\", \"17\", \"18\", \"19\", \"20\", \"21\", \"22\", \"23\", \"24\", \"25\", \"26\", \"27\", \"28\", \"29\", \"30\", \"31\"], \"mode\": \"markers\", \"name\": \"AUC_micro\", \"stepped\": false, \"type\": \"scatter\", \"data\": [0.9991285714285715, 0.9991608163265306, 0.9950061224489796, 0.9886791836734694, 0.9936697959183673, 0.9957020408163266, 0.9949297959183674, 0.9884514285714285, 0.982913469387755, 0.9943110204081632, 0.9929453061224489, 0.9921975510204082, 0.9929057142857143, 0.9930273469387755, 0.9869212244897959, 0.9987048979591837, 0.9852069387755101, 0.9875416326530612, 0.9970861224489795, 0.996722857142857, 0.9105436734693878, 0.992473469387755, 0.9882555102040816, 0.9976163265306122, 0.9929608163265307, 0.9861036734693878, 0.9936942857142856, 0.9929469387755102, 0.9943497959183674, 0.9975428571428573, 0.9982518367346938, 0.9984044897959183]}, {\"categories\": [\"0\", \"1\", \"2\", \"3\", \"4\", \"5\", \"6\", \"7\", \"8\", \"9\", \"10\", \"11\", \"12\", \"13\", \"14\", \"15\", \"16\", \"17\", \"18\", \"19\", \"20\", \"21\", \"22\", \"23\", \"24\", \"25\", \"26\", \"27\", \"28\", \"29\", \"30\", \"31\"], \"mode\": \"lines\", \"name\": \"AUC_micro_max\", \"stepped\": true, \"type\": \"scatter\", \"data\": [0.9991285714285715, 0.9991608163265306, 0.9991608163265306, 0.9991608163265306, 0.9991608163265306, 0.9991608163265306, 0.9991608163265306, 0.9991608163265306, 0.9991608163265306, 0.9991608163265306, 0.9991608163265306, 0.9991608163265306, 0.9991608163265306, 0.9991608163265306, 0.9991608163265306, 0.9991608163265306, 0.9991608163265306, 0.9991608163265306, 0.9991608163265306, 0.9991608163265306, 0.9991608163265306, 0.9991608163265306, 0.9991608163265306, 0.9991608163265306, 0.9991608163265306, 0.9991608163265306, 0.9991608163265306, 0.9991608163265306, 0.9991608163265306, 0.9991608163265306, 0.9991608163265306, 0.9991608163265306]}], \"matthews_correlation\": [{\"categories\": [\"0\", \"1\", \"2\", \"3\", \"4\", \"5\", \"6\", \"7\", \"8\", \"9\", \"10\", \"11\", \"12\", \"13\", \"14\", \"15\", \"16\", \"17\", \"18\", \"19\", \"20\", \"21\", \"22\", \"23\", \"24\", \"25\", \"26\", \"27\", \"28\", \"29\", \"30\", \"31\"], \"mode\": \"markers\", \"name\": \"matthews_correlation\", \"stepped\": false, \"type\": \"scatter\", \"data\": [0.9304548879874412, 0.9154617689498521, 0.7506540297793716, 0.39025366974253883, 0.8320635660105982, 0.862863537130206, 0.7606640190606535, 0.35830305785293554, 0.48925756144162297, 0.7466858700486889, 0.7689168355719549, 0.6173992015154416, 0.7133460762783616, 0.760048133499119, 0.0746239290450596, 0.9236162629120811, 0.19183234316883696, 0.0, 0.9126936292791541, 0.8212141181576232, 0.49290097870732763, 0.7346111812270895, 0.04172282203455347, 0.9200683415163702, 0.7689168355719549, 0.39311169430508663, 0.7516478098037871, 0.7684607174254425, 0.7329485953445131, 0.8830775307594448, 0.9372529089085292, 0.9200731927787013]}, {\"categories\": [\"0\", \"1\", \"2\", \"3\", \"4\", \"5\", \"6\", \"7\", \"8\", \"9\", \"10\", \"11\", \"12\", \"13\", \"14\", \"15\", \"16\", \"17\", \"18\", \"19\", \"20\", \"21\", \"22\", \"23\", \"24\", \"25\", \"26\", \"27\", \"28\", \"29\", \"30\", \"31\"], \"mode\": \"lines\", \"name\": \"matthews_correlation_max\", \"stepped\": true, \"type\": \"scatter\", \"data\": [0.9304548879874412, 0.9304548879874412, 0.9304548879874412, 0.9304548879874412, 0.9304548879874412, 0.9304548879874412, 0.9304548879874412, 0.9304548879874412, 0.9304548879874412, 0.9304548879874412, 0.9304548879874412, 0.9304548879874412, 0.9304548879874412, 0.9304548879874412, 0.9304548879874412, 0.9304548879874412, 0.9304548879874412, 0.9304548879874412, 0.9304548879874412, 0.9304548879874412, 0.9304548879874412, 0.9304548879874412, 0.9304548879874412, 0.9304548879874412, 0.9304548879874412, 0.9304548879874412, 0.9304548879874412, 0.9304548879874412, 0.9304548879874412, 0.9304548879874412, 0.9372529089085292, 0.9372529089085292]}], \"AUC_weighted\": [{\"categories\": [\"0\", \"1\", \"2\", \"3\", \"4\", \"5\", \"6\", \"7\", \"8\", \"9\", \"10\", \"11\", \"12\", \"13\", \"14\", \"15\", \"16\", \"17\", \"18\", \"19\", \"20\", \"21\", \"22\", \"23\", \"24\", \"25\", \"26\", \"27\", \"28\", \"29\", \"30\", \"31\"], \"mode\": \"markers\", \"name\": \"AUC_weighted\", \"stepped\": false, \"type\": \"scatter\", \"data\": [0.9970478898888426, 0.9974585342631693, 0.9887060249095418, 0.9766513536572621, 0.994110041770815, 0.9829907990103871, 0.9872999176454849, 0.9818107526066295, 0.9409220280489589, 0.9818480202102343, 0.9742853871323363, 0.9871546963643109, 0.9768932326093488, 0.9836357270025818, 0.9757424021868394, 0.9958950824166649, 0.965661354665229, 0.9795889565597392, 0.988813711490716, 0.9914437636906778, 0.918887031869683, 0.9744842402374501, 0.9837338354700076, 0.9920681497836604, 0.974303762698673, 0.9676839818291946, 0.9787870022919323, 0.9742959100151225, 0.9816253959074182, 0.9939385234833551, 0.9949242479542975, 0.9953598628658655]}, {\"categories\": [\"0\", \"1\", \"2\", \"3\", \"4\", \"5\", \"6\", \"7\", \"8\", \"9\", \"10\", \"11\", \"12\", \"13\", \"14\", \"15\", \"16\", \"17\", \"18\", \"19\", \"20\", \"21\", \"22\", \"23\", \"24\", \"25\", \"26\", \"27\", \"28\", \"29\", \"30\", \"31\"], \"mode\": \"lines\", \"name\": \"AUC_weighted_max\", \"stepped\": true, \"type\": \"scatter\", \"data\": [0.9970478898888426, 0.9974585342631693, 0.9974585342631693, 0.9974585342631693, 0.9974585342631693, 0.9974585342631693, 0.9974585342631693, 0.9974585342631693, 0.9974585342631693, 0.9974585342631693, 0.9974585342631693, 0.9974585342631693, 0.9974585342631693, 0.9974585342631693, 0.9974585342631693, 0.9974585342631693, 0.9974585342631693, 0.9974585342631693, 0.9974585342631693, 0.9974585342631693, 0.9974585342631693, 0.9974585342631693, 0.9974585342631693, 0.9974585342631693, 0.9974585342631693, 0.9974585342631693, 0.9974585342631693, 0.9974585342631693, 0.9974585342631693, 0.9974585342631693, 0.9974585342631693, 0.9974585342631693]}], \"f1_score_weighted\": [{\"categories\": [\"0\", \"1\", \"2\", \"3\", \"4\", \"5\", \"6\", \"7\", \"8\", \"9\", \"10\", \"11\", \"12\", \"13\", \"14\", \"15\", \"16\", \"17\", \"18\", \"19\", \"20\", \"21\", \"22\", \"23\", \"24\", \"25\", \"26\", \"27\", \"28\", \"29\", \"30\", \"31\"], \"mode\": \"markers\", \"name\": \"f1_score_weighted\", \"stepped\": false, \"type\": \"scatter\", \"data\": [0.988063566661366, 0.9855006435820928, 0.9563065550846058, 0.9080450240324816, 0.9675551560246427, 0.9765436952977471, 0.9585027293686877, 0.8906281373623198, 0.9163556028655755, 0.9574083031721929, 0.9610147315568701, 0.9325491923772656, 0.9520191456080628, 0.9590539648882566, 0.8667543805457916, 0.9868827023092338, 0.8717723734189102, 0.8604915155673138, 0.985024559497497, 0.9693021013949984, 0.8641939941297156, 0.955404891916689, 0.8625178883875672, 0.9862448686362141, 0.9610147315568701, 0.895499757455337, 0.9582824934146779, 0.9609485142094736, 0.9552479190544831, 0.9798761877858769, 0.9891653028837771, 0.9862405350937458]}, {\"categories\": [\"0\", \"1\", \"2\", \"3\", \"4\", \"5\", \"6\", \"7\", \"8\", \"9\", \"10\", \"11\", \"12\", \"13\", \"14\", \"15\", \"16\", \"17\", \"18\", \"19\", \"20\", \"21\", \"22\", \"23\", \"24\", \"25\", \"26\", \"27\", \"28\", \"29\", \"30\", \"31\"], \"mode\": \"lines\", \"name\": \"f1_score_weighted_max\", \"stepped\": true, \"type\": \"scatter\", \"data\": [0.988063566661366, 0.988063566661366, 0.988063566661366, 0.988063566661366, 0.988063566661366, 0.988063566661366, 0.988063566661366, 0.988063566661366, 0.988063566661366, 0.988063566661366, 0.988063566661366, 0.988063566661366, 0.988063566661366, 0.988063566661366, 0.988063566661366, 0.988063566661366, 0.988063566661366, 0.988063566661366, 0.988063566661366, 0.988063566661366, 0.988063566661366, 0.988063566661366, 0.988063566661366, 0.988063566661366, 0.988063566661366, 0.988063566661366, 0.988063566661366, 0.988063566661366, 0.988063566661366, 0.988063566661366, 0.9891653028837771, 0.9891653028837771]}], \"AUC_macro\": [{\"categories\": [\"0\", \"1\", \"2\", \"3\", \"4\", \"5\", \"6\", \"7\", \"8\", \"9\", \"10\", \"11\", \"12\", \"13\", \"14\", \"15\", \"16\", \"17\", \"18\", \"19\", \"20\", \"21\", \"22\", \"23\", \"24\", \"25\", \"26\", \"27\", \"28\", \"29\", \"30\", \"31\"], \"mode\": \"markers\", \"name\": \"AUC_macro\", \"stepped\": false, \"type\": \"scatter\", \"data\": [0.9970478898888426, 0.9974585342631693, 0.9887060249095418, 0.9766513536572621, 0.994110041770815, 0.9829907990103873, 0.9872999176454849, 0.9818107526066295, 0.9409220280489589, 0.9818480202102344, 0.9742853871323363, 0.9871546963643109, 0.9768932326093488, 0.9836357270025818, 0.9757424021868395, 0.9958950824166649, 0.9656613546652292, 0.9795889565597392, 0.988813711490716, 0.9914437636906778, 0.9188870318696829, 0.9744842402374498, 0.9837338354700076, 0.9920681497836604, 0.974303762698673, 0.9676839818291946, 0.9787870022919323, 0.9742959100151225, 0.9816253959074182, 0.9939385234833551, 0.9949242479542975, 0.9953598628658655]}, {\"categories\": [\"0\", \"1\", \"2\", \"3\", \"4\", \"5\", \"6\", \"7\", \"8\", \"9\", \"10\", \"11\", \"12\", \"13\", \"14\", \"15\", \"16\", \"17\", \"18\", \"19\", \"20\", \"21\", \"22\", \"23\", \"24\", \"25\", \"26\", \"27\", \"28\", \"29\", \"30\", \"31\"], \"mode\": \"lines\", \"name\": \"AUC_macro_max\", \"stepped\": true, \"type\": \"scatter\", \"data\": [0.9970478898888426, 0.9974585342631693, 0.9974585342631693, 0.9974585342631693, 0.9974585342631693, 0.9974585342631693, 0.9974585342631693, 0.9974585342631693, 0.9974585342631693, 0.9974585342631693, 0.9974585342631693, 0.9974585342631693, 0.9974585342631693, 0.9974585342631693, 0.9974585342631693, 0.9974585342631693, 0.9974585342631693, 0.9974585342631693, 0.9974585342631693, 0.9974585342631693, 0.9974585342631693, 0.9974585342631693, 0.9974585342631693, 0.9974585342631693, 0.9974585342631693, 0.9974585342631693, 0.9974585342631693, 0.9974585342631693, 0.9974585342631693, 0.9974585342631693, 0.9974585342631693, 0.9974585342631693]}], \"average_precision_score_micro\": [{\"categories\": [\"0\", \"1\", \"2\", \"3\", \"4\", \"5\", \"6\", \"7\", \"8\", \"9\", \"10\", \"11\", \"12\", \"13\", \"14\", \"15\", \"16\", \"17\", \"18\", \"19\", \"20\", \"21\", \"22\", \"23\", \"24\", \"25\", \"26\", \"27\", \"28\", \"29\", \"30\", \"31\"], \"mode\": \"markers\", \"name\": \"average_precision_score_micro\", \"stepped\": false, \"type\": \"scatter\", \"data\": [0.9991455285533533, 0.9991752019523895, 0.9951512013156941, 0.9891313269994013, 0.9938678844794678, 0.9956930168697011, 0.9950786136459048, 0.9889432079978822, 0.9835605069461678, 0.9944648536829893, 0.9930622416355959, 0.9924590127970226, 0.9931140005740915, 0.9932512060198159, 0.9874945498473962, 0.9987326037745087, 0.9858761400292435, 0.988052150065751, 0.9971310314270664, 0.9968024279472028, 0.8937424871884854, 0.9921597726418006, 0.9887372172727791, 0.9976734725836846, 0.9930766437085424, 0.986714598560323, 0.9936850049841605, 0.9930629445628254, 0.9945084085637556, 0.9975887557575431, 0.9982931763159886, 0.9984415533372054]}, {\"categories\": [\"0\", \"1\", \"2\", \"3\", \"4\", \"5\", \"6\", \"7\", \"8\", \"9\", \"10\", \"11\", \"12\", \"13\", \"14\", \"15\", \"16\", \"17\", \"18\", \"19\", \"20\", \"21\", \"22\", \"23\", \"24\", \"25\", \"26\", \"27\", \"28\", \"29\", \"30\", \"31\"], \"mode\": \"lines\", \"name\": \"average_precision_score_micro_max\", \"stepped\": true, \"type\": \"scatter\", \"data\": [0.9991455285533533, 0.9991752019523895, 0.9991752019523895, 0.9991752019523895, 0.9991752019523895, 0.9991752019523895, 0.9991752019523895, 0.9991752019523895, 0.9991752019523895, 0.9991752019523895, 0.9991752019523895, 0.9991752019523895, 0.9991752019523895, 0.9991752019523895, 0.9991752019523895, 0.9991752019523895, 0.9991752019523895, 0.9991752019523895, 0.9991752019523895, 0.9991752019523895, 0.9991752019523895, 0.9991752019523895, 0.9991752019523895, 0.9991752019523895, 0.9991752019523895, 0.9991752019523895, 0.9991752019523895, 0.9991752019523895, 0.9991752019523895, 0.9991752019523895, 0.9991752019523895, 0.9991752019523895]}], \"precision_score_micro\": [{\"categories\": [\"0\", \"1\", \"2\", \"3\", \"4\", \"5\", \"6\", \"7\", \"8\", \"9\", \"10\", \"11\", \"12\", \"13\", \"14\", \"15\", \"16\", \"17\", \"18\", \"19\", \"20\", \"21\", \"22\", \"23\", \"24\", \"25\", \"26\", \"27\", \"28\", \"29\", \"30\", \"31\"], \"mode\": \"markers\", \"name\": \"precision_score_micro\", \"stepped\": false, \"type\": \"scatter\", \"data\": [0.9882857142857142, 0.9857142857142858, 0.9614285714285714, 0.9314285714285715, 0.9654285714285715, 0.9771428571428572, 0.9625714285714286, 0.9194285714285714, 0.927142857142857, 0.96, 0.962857142857143, 0.9437142857142857, 0.9551428571428572, 0.9622857142857143, 0.9082857142857144, 0.9871428571428572, 0.9102857142857144, 0.9054285714285714, 0.9854285714285714, 0.9714285714285715, 0.8360000000000001, 0.9577142857142859, 0.9062857142857143, 0.9865714285714287, 0.962857142857143, 0.9217142857142857, 0.9602857142857143, 0.962857142857143, 0.9574285714285715, 0.9808571428571428, 0.9894285714285715, 0.9865714285714287]}, {\"categories\": [\"0\", \"1\", \"2\", \"3\", \"4\", \"5\", \"6\", \"7\", \"8\", \"9\", \"10\", \"11\", \"12\", \"13\", \"14\", \"15\", \"16\", \"17\", \"18\", \"19\", \"20\", \"21\", \"22\", \"23\", \"24\", \"25\", \"26\", \"27\", \"28\", \"29\", \"30\", \"31\"], \"mode\": \"lines\", \"name\": \"precision_score_micro_max\", \"stepped\": true, \"type\": \"scatter\", \"data\": [0.9882857142857142, 0.9882857142857142, 0.9882857142857142, 0.9882857142857142, 0.9882857142857142, 0.9882857142857142, 0.9882857142857142, 0.9882857142857142, 0.9882857142857142, 0.9882857142857142, 0.9882857142857142, 0.9882857142857142, 0.9882857142857142, 0.9882857142857142, 0.9882857142857142, 0.9882857142857142, 0.9882857142857142, 0.9882857142857142, 0.9882857142857142, 0.9882857142857142, 0.9882857142857142, 0.9882857142857142, 0.9882857142857142, 0.9882857142857142, 0.9882857142857142, 0.9882857142857142, 0.9882857142857142, 0.9882857142857142, 0.9882857142857142, 0.9882857142857142, 0.9894285714285715, 0.9894285714285715]}], \"average_precision_score_weighted\": [{\"categories\": [\"0\", \"1\", \"2\", \"3\", \"4\", \"5\", \"6\", \"7\", \"8\", \"9\", \"10\", \"11\", \"12\", \"13\", \"14\", \"15\", \"16\", \"17\", \"18\", \"19\", \"20\", \"21\", \"22\", \"23\", \"24\", \"25\", \"26\", \"27\", \"28\", \"29\", \"30\", \"31\"], \"mode\": \"markers\", \"name\": \"average_precision_score_weighted\", \"stepped\": false, \"type\": \"scatter\", \"data\": [0.9979013188328258, 0.9979046442296322, 0.9929766289516895, 0.9843637401000546, 0.9950923902177345, 0.9918158655312199, 0.9926198230924518, 0.9863062910811093, 0.9616166065341234, 0.9873887798783997, 0.9857780722383221, 0.9924892732186226, 0.9841464329459919, 0.9891406200981019, 0.9837157439380022, 0.9970849284023423, 0.9767382484824966, 0.9883421181746129, 0.9943551388146151, 0.9946170844504012, 0.9442146908682332, 0.9830083857568237, 0.9899189257415586, 0.9953491176491214, 0.9857910499571169, 0.977883181552454, 0.9857958387458187, 0.9856456160148804, 0.9871583008900859, 0.9962201346695754, 0.9970832287057252, 0.9972301975940138]}, {\"categories\": [\"0\", \"1\", \"2\", \"3\", \"4\", \"5\", \"6\", \"7\", \"8\", \"9\", \"10\", \"11\", \"12\", \"13\", \"14\", \"15\", \"16\", \"17\", \"18\", \"19\", \"20\", \"21\", \"22\", \"23\", \"24\", \"25\", \"26\", \"27\", \"28\", \"29\", \"30\", \"31\"], \"mode\": \"lines\", \"name\": \"average_precision_score_weighted_max\", \"stepped\": true, \"type\": \"scatter\", \"data\": [0.9979013188328258, 0.9979046442296322, 0.9979046442296322, 0.9979046442296322, 0.9979046442296322, 0.9979046442296322, 0.9979046442296322, 0.9979046442296322, 0.9979046442296322, 0.9979046442296322, 0.9979046442296322, 0.9979046442296322, 0.9979046442296322, 0.9979046442296322, 0.9979046442296322, 0.9979046442296322, 0.9979046442296322, 0.9979046442296322, 0.9979046442296322, 0.9979046442296322, 0.9979046442296322, 0.9979046442296322, 0.9979046442296322, 0.9979046442296322, 0.9979046442296322, 0.9979046442296322, 0.9979046442296322, 0.9979046442296322, 0.9979046442296322, 0.9979046442296322, 0.9979046442296322, 0.9979046442296322]}], \"recall_score_macro\": [{\"categories\": [\"0\", \"1\", \"2\", \"3\", \"4\", \"5\", \"6\", \"7\", \"8\", \"9\", \"10\", \"11\", \"12\", \"13\", \"14\", \"15\", \"16\", \"17\", \"18\", \"19\", \"20\", \"21\", \"22\", \"23\", \"24\", \"25\", \"26\", \"27\", \"28\", \"29\", \"30\", \"31\"], \"mode\": \"markers\", \"name\": \"recall_score_macro\", \"stepped\": false, \"type\": \"scatter\", \"data\": [0.9505432010689446, 0.9465690762297141, 0.8014656533196526, 0.6389115359621199, 0.962159820791123, 0.9121668889119219, 0.8097031860032271, 0.5745235814814393, 0.6801205221552145, 0.8297368828074936, 0.8533275735074131, 0.7028326346368489, 0.8105908031355815, 0.8240735308658117, 0.5151515151515151, 0.946024573774029, 0.5257931123602765, 0.5, 0.9356635449209731, 0.8603478951977784, 0.8580396897299666, 0.8326732875874828, 0.5047619047619047, 0.9417052736647333, 0.8533275735074131, 0.58780134909003, 0.84057656141003, 0.8519920220652519, 0.8323949649633487, 0.9059195196646883, 0.9500079682355554, 0.9416550726707221]}, {\"categories\": [\"0\", \"1\", \"2\", \"3\", \"4\", \"5\", \"6\", \"7\", \"8\", \"9\", \"10\", \"11\", \"12\", \"13\", \"14\", \"15\", \"16\", \"17\", \"18\", \"19\", \"20\", \"21\", \"22\", \"23\", \"24\", \"25\", \"26\", \"27\", \"28\", \"29\", \"30\", \"31\"], \"mode\": \"lines\", \"name\": \"recall_score_macro_max\", \"stepped\": true, \"type\": \"scatter\", \"data\": [0.9505432010689446, 0.9505432010689446, 0.9505432010689446, 0.9505432010689446, 0.962159820791123, 0.962159820791123, 0.962159820791123, 0.962159820791123, 0.962159820791123, 0.962159820791123, 0.962159820791123, 0.962159820791123, 0.962159820791123, 0.962159820791123, 0.962159820791123, 0.962159820791123, 0.962159820791123, 0.962159820791123, 0.962159820791123, 0.962159820791123, 0.962159820791123, 0.962159820791123, 0.962159820791123, 0.962159820791123, 0.962159820791123, 0.962159820791123, 0.962159820791123, 0.962159820791123, 0.962159820791123, 0.962159820791123, 0.962159820791123, 0.962159820791123]}], \"norm_macro_recall\": [{\"categories\": [\"0\", \"1\", \"2\", \"3\", \"4\", \"5\", \"6\", \"7\", \"8\", \"9\", \"10\", \"11\", \"12\", \"13\", \"14\", \"15\", \"16\", \"17\", \"18\", \"19\", \"20\", \"21\", \"22\", \"23\", \"24\", \"25\", \"26\", \"27\", \"28\", \"29\", \"30\", \"31\"], \"mode\": \"markers\", \"name\": \"norm_macro_recall\", \"stepped\": false, \"type\": \"scatter\", \"data\": [0.9010864021378895, 0.8931381524594283, 0.6029313066393052, 0.27782307192423983, 0.924319641582246, 0.824333777823844, 0.6194063720064543, 0.1490471629628785, 0.36024104431042875, 0.6594737656149869, 0.7066551470148263, 0.40566526927369767, 0.6211816062711631, 0.6481470617316236, 0.03030303030303032, 0.8920491475480581, 0.051586224720553055, 0.0, 0.8713270898419463, 0.720695790395557, 0.7160793794599332, 0.6653465751749658, 0.009523809523809535, 0.8834105473294669, 0.7066551470148263, 0.17560269818005997, 0.6811531228200598, 0.7039840441305037, 0.6647899299266976, 0.8118390393293764, 0.9000159364711109, 0.8833101453414441]}, {\"categories\": [\"0\", \"1\", \"2\", \"3\", \"4\", \"5\", \"6\", \"7\", \"8\", \"9\", \"10\", \"11\", \"12\", \"13\", \"14\", \"15\", \"16\", \"17\", \"18\", \"19\", \"20\", \"21\", \"22\", \"23\", \"24\", \"25\", \"26\", \"27\", \"28\", \"29\", \"30\", \"31\"], \"mode\": \"lines\", \"name\": \"norm_macro_recall_max\", \"stepped\": true, \"type\": \"scatter\", \"data\": [0.9010864021378895, 0.9010864021378895, 0.9010864021378895, 0.9010864021378895, 0.924319641582246, 0.924319641582246, 0.924319641582246, 0.924319641582246, 0.924319641582246, 0.924319641582246, 0.924319641582246, 0.924319641582246, 0.924319641582246, 0.924319641582246, 0.924319641582246, 0.924319641582246, 0.924319641582246, 0.924319641582246, 0.924319641582246, 0.924319641582246, 0.924319641582246, 0.924319641582246, 0.924319641582246, 0.924319641582246, 0.924319641582246, 0.924319641582246, 0.924319641582246, 0.924319641582246, 0.924319641582246, 0.924319641582246, 0.924319641582246, 0.924319641582246]}]}, \"metricName\": null, \"primaryMetricName\": \"accuracy\", \"showLegend\": false}, \"run_metrics\": [{\"name\": \"experiment_status\", \"run_id\": \"AutoML_04a76343-05bc-433f-b65c-cbe126eaf4d6\", \"categories\": [0, 1, 2, 3, 4, 5, 6, 7, 8, 9, 10, 11, 12, 13, 14], \"series\": [{\"data\": [\"DatasetEvaluation\", \"FeaturesGeneration\", \"DatasetFeaturization\", \"DatasetFeaturizationCompleted\", \"DatasetBalancing\", \"DatasetCrossValidationSplit\", \"ModelSelection\", \"BestRunExplainModel\", \"ModelExplanationDataSetSetup\", \"PickSurrogateModel\", \"EngineeredFeatureExplanations\", \"EngineeredFeatureExplanations\", \"RawFeaturesExplanations\", \"RawFeaturesExplanations\", \"BestRunExplainModel\"]}]}, {\"name\": \"experiment_status_description\", \"run_id\": \"AutoML_04a76343-05bc-433f-b65c-cbe126eaf4d6\", \"categories\": [0, 1, 2, 3, 4, 5, 6, 7, 8, 9, 10, 11, 12, 13, 14], \"series\": [{\"data\": [\"Gathering dataset statistics.\", \"Generating features for the dataset.\", \"Beginning to fit featurizers and featurize the dataset.\", \"Completed fit featurizers and featurizing the dataset.\", \"Performing class balancing sweeping\", \"Generating individually featurized CV splits.\", \"Beginning model selection.\", \"Best run model explanations started\", \"Model explanations data setup completed\", \"Choosing LightGBM as the surrogate model for explanations\", \"Computation of engineered features started\", \"Computation of engineered features completed\", \"Computation of raw features started\", \"Computation of raw features completed\", \"Best run model explanations completed\"]}]}, {\"name\": \"AUC_macro\", \"run_id\": \"AutoML_04a76343-05bc-433f-b65c-cbe126eaf4d6\", \"categories\": [0], \"series\": [{\"data\": [0.9949242479542975]}]}, {\"name\": \"matthews_correlation\", \"run_id\": \"AutoML_04a76343-05bc-433f-b65c-cbe126eaf4d6\", \"categories\": [0], \"series\": [{\"data\": [0.9372529089085292]}]}, {\"name\": \"precision_score_micro\", \"run_id\": \"AutoML_04a76343-05bc-433f-b65c-cbe126eaf4d6\", \"categories\": [0], \"series\": [{\"data\": [0.9894285714285715]}]}, {\"name\": \"log_loss\", \"run_id\": \"AutoML_04a76343-05bc-433f-b65c-cbe126eaf4d6\", \"categories\": [0], \"series\": [{\"data\": [0.05819255361885702]}]}, {\"name\": \"f1_score_weighted\", \"run_id\": \"AutoML_04a76343-05bc-433f-b65c-cbe126eaf4d6\", \"categories\": [0], \"series\": [{\"data\": [0.9891653028837771]}]}, {\"name\": \"precision_score_macro\", \"run_id\": \"AutoML_04a76343-05bc-433f-b65c-cbe126eaf4d6\", \"categories\": [0], \"series\": [{\"data\": [0.9882001631079598]}]}, {\"name\": \"AUC_micro\", \"run_id\": \"AutoML_04a76343-05bc-433f-b65c-cbe126eaf4d6\", \"categories\": [0], \"series\": [{\"data\": [0.9982518367346938]}]}, {\"name\": \"recall_score_micro\", \"run_id\": \"AutoML_04a76343-05bc-433f-b65c-cbe126eaf4d6\", \"categories\": [0], \"series\": [{\"data\": [0.9894285714285715]}]}, {\"name\": \"precision_score_weighted\", \"run_id\": \"AutoML_04a76343-05bc-433f-b65c-cbe126eaf4d6\", \"categories\": [0], \"series\": [{\"data\": [0.9894027282845036]}]}, {\"name\": \"recall_score_weighted\", \"run_id\": \"AutoML_04a76343-05bc-433f-b65c-cbe126eaf4d6\", \"categories\": [0], \"series\": [{\"data\": [0.9894285714285715]}]}, {\"name\": \"weighted_accuracy\", \"run_id\": \"AutoML_04a76343-05bc-433f-b65c-cbe126eaf4d6\", \"categories\": [0], \"series\": [{\"data\": [0.997661078197827]}]}, {\"name\": \"balanced_accuracy\", \"run_id\": \"AutoML_04a76343-05bc-433f-b65c-cbe126eaf4d6\", \"categories\": [0], \"series\": [{\"data\": [0.9500079682355554]}]}, {\"name\": \"average_precision_score_macro\", \"run_id\": \"AutoML_04a76343-05bc-433f-b65c-cbe126eaf4d6\", \"categories\": [0], \"series\": [{\"data\": [0.9871024291246122]}]}, {\"name\": \"f1_score_macro\", \"run_id\": \"AutoML_04a76343-05bc-433f-b65c-cbe126eaf4d6\", \"categories\": [0], \"series\": [{\"data\": [0.9679060512840602]}]}, {\"name\": \"recall_score_macro\", \"run_id\": \"AutoML_04a76343-05bc-433f-b65c-cbe126eaf4d6\", \"categories\": [0], \"series\": [{\"data\": [0.9500079682355554]}]}, {\"name\": \"average_precision_score_micro\", \"run_id\": \"AutoML_04a76343-05bc-433f-b65c-cbe126eaf4d6\", \"categories\": [0], \"series\": [{\"data\": [0.9982931763159886]}]}, {\"name\": \"average_precision_score_weighted\", \"run_id\": \"AutoML_04a76343-05bc-433f-b65c-cbe126eaf4d6\", \"categories\": [0], \"series\": [{\"data\": [0.9970832287057252]}]}, {\"name\": \"f1_score_micro\", \"run_id\": \"AutoML_04a76343-05bc-433f-b65c-cbe126eaf4d6\", \"categories\": [0], \"series\": [{\"data\": [0.9894285714285715]}]}, {\"name\": \"accuracy\", \"run_id\": \"AutoML_04a76343-05bc-433f-b65c-cbe126eaf4d6\", \"categories\": [0], \"series\": [{\"data\": [0.9894285714285715]}]}, {\"name\": \"AUC_weighted\", \"run_id\": \"AutoML_04a76343-05bc-433f-b65c-cbe126eaf4d6\", \"categories\": [0], \"series\": [{\"data\": [0.9949242479542975]}]}, {\"name\": \"norm_macro_recall\", \"run_id\": \"AutoML_04a76343-05bc-433f-b65c-cbe126eaf4d6\", \"categories\": [0], \"series\": [{\"data\": [0.9000159364711109]}]}], \"run_logs\": \"\\nRun is completed.\", \"graph\": {}, \"widget_settings\": {\"childWidgetDisplay\": \"popup\", \"send_telemetry\": false, \"log_level\": \"INFO\", \"sdk_version\": \"1.19.0\"}, \"loading\": false}"
          },
          "metadata": {}
        }
      ],
      "execution_count": 21,
      "metadata": {
        "gather": {
          "logged": 1610988053973
        },
        "jupyter": {
          "outputs_hidden": false,
          "source_hidden": false
        },
        "nteract": {
          "transient": {
            "deleting": false
          }
        }
      }
    },
    {
      "cell_type": "markdown",
      "source": [
        "## Best Model\n",
        "\n",
        "TODO: In the cell below, get the best model from the automl experiments and display all the properties of the model.\n",
        "\n"
      ],
      "metadata": {}
    },
    {
      "cell_type": "code",
      "source": [],
      "outputs": [],
      "execution_count": null,
      "metadata": {
        "collapsed": true,
        "jupyter": {
          "source_hidden": false,
          "outputs_hidden": false
        },
        "nteract": {
          "transient": {
            "deleting": false
          }
        }
      }
    },
    {
      "cell_type": "code",
      "source": [
        "best_run, best_model = remote_run.get_output()"
      ],
      "outputs": [],
      "execution_count": 22,
      "metadata": {
        "gather": {
          "logged": 1610988920173
        },
        "jupyter": {
          "outputs_hidden": false,
          "source_hidden": false
        },
        "nteract": {
          "transient": {
            "deleting": false
          }
        }
      }
    },
    {
      "cell_type": "code",
      "source": [
        "#TODO: Save the best model\r\n",
        "best_run.register_model(model_name = 'ml_best_model.pkl', model_path = './outputs/')"
      ],
      "outputs": [
        {
          "output_type": "execute_result",
          "execution_count": 23,
          "data": {
            "text/plain": "Model(workspace=Workspace.create(name='quick-starts-ws-135226', subscription_id='b968fb36-f06a-4c76-a15f-afab68ae7667', resource_group='aml-quickstarts-135226'), name=ml_best_model.pkl, id=ml_best_model.pkl:1, version=1, tags={}, properties={})"
          },
          "metadata": {}
        }
      ],
      "execution_count": 23,
      "metadata": {
        "gather": {
          "logged": 1610989511378
        },
        "jupyter": {
          "outputs_hidden": false,
          "source_hidden": false
        },
        "nteract": {
          "transient": {
            "deleting": false
          }
        }
      }
    },
    {
      "cell_type": "markdown",
      "source": [
        "## Model Deployment\n",
        "\n",
        "Remember you have to deploy only one of the two models you trained.. Perform the steps in the rest of this notebook only if you wish to deploy this model.\n",
        "\n",
        "TODO: In the cell below, register the model, create an inference config and deploy the model as a web service."
      ],
      "metadata": {}
    },
    {
      "cell_type": "code",
      "source": [],
      "outputs": [],
      "execution_count": null,
      "metadata": {
        "gather": {
          "logged": 1598431435189
        },
        "jupyter": {
          "outputs_hidden": false,
          "source_hidden": false
        },
        "nteract": {
          "transient": {
            "deleting": false
          }
        }
      }
    },
    {
      "cell_type": "markdown",
      "source": [
        "TODO: In the cell below, send a request to the web service you deployed to test it."
      ],
      "metadata": {
        "collapsed": true,
        "gather": {
          "logged": 1598431657736
        },
        "jupyter": {
          "outputs_hidden": false,
          "source_hidden": false
        },
        "nteract": {
          "transient": {
            "deleting": false
          }
        }
      }
    },
    {
      "cell_type": "code",
      "source": [],
      "outputs": [],
      "execution_count": null,
      "metadata": {
        "gather": {
          "logged": 1598432707604
        },
        "jupyter": {
          "outputs_hidden": false,
          "source_hidden": false
        },
        "nteract": {
          "transient": {
            "deleting": false
          }
        }
      }
    },
    {
      "cell_type": "markdown",
      "source": [
        "TODO: In the cell below, print the logs of the web service and delete the service"
      ],
      "metadata": {
        "collapsed": true,
        "gather": {
          "logged": 1598432765711
        },
        "jupyter": {
          "outputs_hidden": false,
          "source_hidden": false
        },
        "nteract": {
          "transient": {
            "deleting": false
          }
        }
      }
    },
    {
      "cell_type": "code",
      "source": [],
      "outputs": [],
      "execution_count": null,
      "metadata": {
        "jupyter": {
          "outputs_hidden": false,
          "source_hidden": false
        },
        "nteract": {
          "transient": {
            "deleting": false
          }
        }
      }
    }
  ],
  "metadata": {
    "kernel_info": {
      "name": "python3-azureml"
    },
    "kernelspec": {
      "name": "python3-azureml",
      "language": "python",
      "display_name": "Python 3.6 - AzureML"
    },
    "language_info": {
      "name": "python",
      "version": "3.6.9",
      "mimetype": "text/x-python",
      "codemirror_mode": {
        "name": "ipython",
        "version": 3
      },
      "pygments_lexer": "ipython3",
      "nbconvert_exporter": "python",
      "file_extension": ".py"
    },
    "nteract": {
      "version": "nteract-front-end@1.0.0"
    }
  },
  "nbformat": 4,
  "nbformat_minor": 2
}